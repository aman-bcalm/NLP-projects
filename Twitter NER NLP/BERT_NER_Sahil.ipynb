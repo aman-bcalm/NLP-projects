{
  "nbformat": 4,
  "nbformat_minor": 0,
  "metadata": {
    "colab": {
      "provenance": []
    },
    "kernelspec": {
      "name": "python3",
      "display_name": "Python 3"
    },
    "language_info": {
      "name": "python"
    },
    "widgets": {
      "application/vnd.jupyter.widget-state+json": {
        "90434547b6db44dcb1f6b9f282584281": {
          "model_module": "@jupyter-widgets/controls",
          "model_name": "HBoxModel",
          "model_module_version": "1.5.0",
          "state": {
            "_dom_classes": [],
            "_model_module": "@jupyter-widgets/controls",
            "_model_module_version": "1.5.0",
            "_model_name": "HBoxModel",
            "_view_count": null,
            "_view_module": "@jupyter-widgets/controls",
            "_view_module_version": "1.5.0",
            "_view_name": "HBoxView",
            "box_style": "",
            "children": [
              "IPY_MODEL_7642b0956de846f58fd4d46b78a25bb4",
              "IPY_MODEL_8b1c4805e67d48c1bef88ce128cfc35b",
              "IPY_MODEL_59f9f7fb91e841828f666616512db226"
            ],
            "layout": "IPY_MODEL_73a87c1713654dd7aa8afe478f5a5f0c"
          }
        },
        "7642b0956de846f58fd4d46b78a25bb4": {
          "model_module": "@jupyter-widgets/controls",
          "model_name": "HTMLModel",
          "model_module_version": "1.5.0",
          "state": {
            "_dom_classes": [],
            "_model_module": "@jupyter-widgets/controls",
            "_model_module_version": "1.5.0",
            "_model_name": "HTMLModel",
            "_view_count": null,
            "_view_module": "@jupyter-widgets/controls",
            "_view_module_version": "1.5.0",
            "_view_name": "HTMLView",
            "description": "",
            "description_tooltip": null,
            "layout": "IPY_MODEL_9e917a61bc9d4b93855792a10e298144",
            "placeholder": "​",
            "style": "IPY_MODEL_818e49cf81a942a5a792edb762612c92",
            "value": "Downloading: 100%"
          }
        },
        "8b1c4805e67d48c1bef88ce128cfc35b": {
          "model_module": "@jupyter-widgets/controls",
          "model_name": "FloatProgressModel",
          "model_module_version": "1.5.0",
          "state": {
            "_dom_classes": [],
            "_model_module": "@jupyter-widgets/controls",
            "_model_module_version": "1.5.0",
            "_model_name": "FloatProgressModel",
            "_view_count": null,
            "_view_module": "@jupyter-widgets/controls",
            "_view_module_version": "1.5.0",
            "_view_name": "ProgressView",
            "bar_style": "success",
            "description": "",
            "description_tooltip": null,
            "layout": "IPY_MODEL_087536f168084a4aac46f22cbe51293a",
            "max": 231508,
            "min": 0,
            "orientation": "horizontal",
            "style": "IPY_MODEL_3d5aef5b46ea49eebd246e3c6053563d",
            "value": 231508
          }
        },
        "59f9f7fb91e841828f666616512db226": {
          "model_module": "@jupyter-widgets/controls",
          "model_name": "HTMLModel",
          "model_module_version": "1.5.0",
          "state": {
            "_dom_classes": [],
            "_model_module": "@jupyter-widgets/controls",
            "_model_module_version": "1.5.0",
            "_model_name": "HTMLModel",
            "_view_count": null,
            "_view_module": "@jupyter-widgets/controls",
            "_view_module_version": "1.5.0",
            "_view_name": "HTMLView",
            "description": "",
            "description_tooltip": null,
            "layout": "IPY_MODEL_235149e41ace4fe4850ab4492c9111a7",
            "placeholder": "​",
            "style": "IPY_MODEL_a242e5fb7cd24c208a3691f2f6162d2c",
            "value": " 232k/232k [00:00&lt;00:00, 258kB/s]"
          }
        },
        "73a87c1713654dd7aa8afe478f5a5f0c": {
          "model_module": "@jupyter-widgets/base",
          "model_name": "LayoutModel",
          "model_module_version": "1.2.0",
          "state": {
            "_model_module": "@jupyter-widgets/base",
            "_model_module_version": "1.2.0",
            "_model_name": "LayoutModel",
            "_view_count": null,
            "_view_module": "@jupyter-widgets/base",
            "_view_module_version": "1.2.0",
            "_view_name": "LayoutView",
            "align_content": null,
            "align_items": null,
            "align_self": null,
            "border": null,
            "bottom": null,
            "display": null,
            "flex": null,
            "flex_flow": null,
            "grid_area": null,
            "grid_auto_columns": null,
            "grid_auto_flow": null,
            "grid_auto_rows": null,
            "grid_column": null,
            "grid_gap": null,
            "grid_row": null,
            "grid_template_areas": null,
            "grid_template_columns": null,
            "grid_template_rows": null,
            "height": null,
            "justify_content": null,
            "justify_items": null,
            "left": null,
            "margin": null,
            "max_height": null,
            "max_width": null,
            "min_height": null,
            "min_width": null,
            "object_fit": null,
            "object_position": null,
            "order": null,
            "overflow": null,
            "overflow_x": null,
            "overflow_y": null,
            "padding": null,
            "right": null,
            "top": null,
            "visibility": null,
            "width": null
          }
        },
        "9e917a61bc9d4b93855792a10e298144": {
          "model_module": "@jupyter-widgets/base",
          "model_name": "LayoutModel",
          "model_module_version": "1.2.0",
          "state": {
            "_model_module": "@jupyter-widgets/base",
            "_model_module_version": "1.2.0",
            "_model_name": "LayoutModel",
            "_view_count": null,
            "_view_module": "@jupyter-widgets/base",
            "_view_module_version": "1.2.0",
            "_view_name": "LayoutView",
            "align_content": null,
            "align_items": null,
            "align_self": null,
            "border": null,
            "bottom": null,
            "display": null,
            "flex": null,
            "flex_flow": null,
            "grid_area": null,
            "grid_auto_columns": null,
            "grid_auto_flow": null,
            "grid_auto_rows": null,
            "grid_column": null,
            "grid_gap": null,
            "grid_row": null,
            "grid_template_areas": null,
            "grid_template_columns": null,
            "grid_template_rows": null,
            "height": null,
            "justify_content": null,
            "justify_items": null,
            "left": null,
            "margin": null,
            "max_height": null,
            "max_width": null,
            "min_height": null,
            "min_width": null,
            "object_fit": null,
            "object_position": null,
            "order": null,
            "overflow": null,
            "overflow_x": null,
            "overflow_y": null,
            "padding": null,
            "right": null,
            "top": null,
            "visibility": null,
            "width": null
          }
        },
        "818e49cf81a942a5a792edb762612c92": {
          "model_module": "@jupyter-widgets/controls",
          "model_name": "DescriptionStyleModel",
          "model_module_version": "1.5.0",
          "state": {
            "_model_module": "@jupyter-widgets/controls",
            "_model_module_version": "1.5.0",
            "_model_name": "DescriptionStyleModel",
            "_view_count": null,
            "_view_module": "@jupyter-widgets/base",
            "_view_module_version": "1.2.0",
            "_view_name": "StyleView",
            "description_width": ""
          }
        },
        "087536f168084a4aac46f22cbe51293a": {
          "model_module": "@jupyter-widgets/base",
          "model_name": "LayoutModel",
          "model_module_version": "1.2.0",
          "state": {
            "_model_module": "@jupyter-widgets/base",
            "_model_module_version": "1.2.0",
            "_model_name": "LayoutModel",
            "_view_count": null,
            "_view_module": "@jupyter-widgets/base",
            "_view_module_version": "1.2.0",
            "_view_name": "LayoutView",
            "align_content": null,
            "align_items": null,
            "align_self": null,
            "border": null,
            "bottom": null,
            "display": null,
            "flex": null,
            "flex_flow": null,
            "grid_area": null,
            "grid_auto_columns": null,
            "grid_auto_flow": null,
            "grid_auto_rows": null,
            "grid_column": null,
            "grid_gap": null,
            "grid_row": null,
            "grid_template_areas": null,
            "grid_template_columns": null,
            "grid_template_rows": null,
            "height": null,
            "justify_content": null,
            "justify_items": null,
            "left": null,
            "margin": null,
            "max_height": null,
            "max_width": null,
            "min_height": null,
            "min_width": null,
            "object_fit": null,
            "object_position": null,
            "order": null,
            "overflow": null,
            "overflow_x": null,
            "overflow_y": null,
            "padding": null,
            "right": null,
            "top": null,
            "visibility": null,
            "width": null
          }
        },
        "3d5aef5b46ea49eebd246e3c6053563d": {
          "model_module": "@jupyter-widgets/controls",
          "model_name": "ProgressStyleModel",
          "model_module_version": "1.5.0",
          "state": {
            "_model_module": "@jupyter-widgets/controls",
            "_model_module_version": "1.5.0",
            "_model_name": "ProgressStyleModel",
            "_view_count": null,
            "_view_module": "@jupyter-widgets/base",
            "_view_module_version": "1.2.0",
            "_view_name": "StyleView",
            "bar_color": null,
            "description_width": ""
          }
        },
        "235149e41ace4fe4850ab4492c9111a7": {
          "model_module": "@jupyter-widgets/base",
          "model_name": "LayoutModel",
          "model_module_version": "1.2.0",
          "state": {
            "_model_module": "@jupyter-widgets/base",
            "_model_module_version": "1.2.0",
            "_model_name": "LayoutModel",
            "_view_count": null,
            "_view_module": "@jupyter-widgets/base",
            "_view_module_version": "1.2.0",
            "_view_name": "LayoutView",
            "align_content": null,
            "align_items": null,
            "align_self": null,
            "border": null,
            "bottom": null,
            "display": null,
            "flex": null,
            "flex_flow": null,
            "grid_area": null,
            "grid_auto_columns": null,
            "grid_auto_flow": null,
            "grid_auto_rows": null,
            "grid_column": null,
            "grid_gap": null,
            "grid_row": null,
            "grid_template_areas": null,
            "grid_template_columns": null,
            "grid_template_rows": null,
            "height": null,
            "justify_content": null,
            "justify_items": null,
            "left": null,
            "margin": null,
            "max_height": null,
            "max_width": null,
            "min_height": null,
            "min_width": null,
            "object_fit": null,
            "object_position": null,
            "order": null,
            "overflow": null,
            "overflow_x": null,
            "overflow_y": null,
            "padding": null,
            "right": null,
            "top": null,
            "visibility": null,
            "width": null
          }
        },
        "a242e5fb7cd24c208a3691f2f6162d2c": {
          "model_module": "@jupyter-widgets/controls",
          "model_name": "DescriptionStyleModel",
          "model_module_version": "1.5.0",
          "state": {
            "_model_module": "@jupyter-widgets/controls",
            "_model_module_version": "1.5.0",
            "_model_name": "DescriptionStyleModel",
            "_view_count": null,
            "_view_module": "@jupyter-widgets/base",
            "_view_module_version": "1.2.0",
            "_view_name": "StyleView",
            "description_width": ""
          }
        },
        "5b24c2b8e7e64f0c99cc36b6c9efb4a5": {
          "model_module": "@jupyter-widgets/controls",
          "model_name": "HBoxModel",
          "model_module_version": "1.5.0",
          "state": {
            "_dom_classes": [],
            "_model_module": "@jupyter-widgets/controls",
            "_model_module_version": "1.5.0",
            "_model_name": "HBoxModel",
            "_view_count": null,
            "_view_module": "@jupyter-widgets/controls",
            "_view_module_version": "1.5.0",
            "_view_name": "HBoxView",
            "box_style": "",
            "children": [
              "IPY_MODEL_ce3efcfca5904cdb879eeda8b9da9642",
              "IPY_MODEL_80a9ba70bf9e49e79d5b33dd75ff2af6",
              "IPY_MODEL_61cc25282a644ebebdb6e1a15f201d0c"
            ],
            "layout": "IPY_MODEL_1eda75b5437a4921a309c8f6371e25f2"
          }
        },
        "ce3efcfca5904cdb879eeda8b9da9642": {
          "model_module": "@jupyter-widgets/controls",
          "model_name": "HTMLModel",
          "model_module_version": "1.5.0",
          "state": {
            "_dom_classes": [],
            "_model_module": "@jupyter-widgets/controls",
            "_model_module_version": "1.5.0",
            "_model_name": "HTMLModel",
            "_view_count": null,
            "_view_module": "@jupyter-widgets/controls",
            "_view_module_version": "1.5.0",
            "_view_name": "HTMLView",
            "description": "",
            "description_tooltip": null,
            "layout": "IPY_MODEL_141ccc304cbe4d4384b33dd7dc23aedc",
            "placeholder": "​",
            "style": "IPY_MODEL_596dd7ea4a5741819814a83f4f58b32c",
            "value": "Downloading: 100%"
          }
        },
        "80a9ba70bf9e49e79d5b33dd75ff2af6": {
          "model_module": "@jupyter-widgets/controls",
          "model_name": "FloatProgressModel",
          "model_module_version": "1.5.0",
          "state": {
            "_dom_classes": [],
            "_model_module": "@jupyter-widgets/controls",
            "_model_module_version": "1.5.0",
            "_model_name": "FloatProgressModel",
            "_view_count": null,
            "_view_module": "@jupyter-widgets/controls",
            "_view_module_version": "1.5.0",
            "_view_name": "ProgressView",
            "bar_style": "success",
            "description": "",
            "description_tooltip": null,
            "layout": "IPY_MODEL_064648bf0e0e411aa06d5d66041043ad",
            "max": 28,
            "min": 0,
            "orientation": "horizontal",
            "style": "IPY_MODEL_7949c30f49ec4032a59841ae8973e7f2",
            "value": 28
          }
        },
        "61cc25282a644ebebdb6e1a15f201d0c": {
          "model_module": "@jupyter-widgets/controls",
          "model_name": "HTMLModel",
          "model_module_version": "1.5.0",
          "state": {
            "_dom_classes": [],
            "_model_module": "@jupyter-widgets/controls",
            "_model_module_version": "1.5.0",
            "_model_name": "HTMLModel",
            "_view_count": null,
            "_view_module": "@jupyter-widgets/controls",
            "_view_module_version": "1.5.0",
            "_view_name": "HTMLView",
            "description": "",
            "description_tooltip": null,
            "layout": "IPY_MODEL_bed9dcf5c9b74598a41e3ed732b40346",
            "placeholder": "​",
            "style": "IPY_MODEL_e61cbb50d61648109bb88404dd15e477",
            "value": " 28.0/28.0 [00:00&lt;00:00, 1.17kB/s]"
          }
        },
        "1eda75b5437a4921a309c8f6371e25f2": {
          "model_module": "@jupyter-widgets/base",
          "model_name": "LayoutModel",
          "model_module_version": "1.2.0",
          "state": {
            "_model_module": "@jupyter-widgets/base",
            "_model_module_version": "1.2.0",
            "_model_name": "LayoutModel",
            "_view_count": null,
            "_view_module": "@jupyter-widgets/base",
            "_view_module_version": "1.2.0",
            "_view_name": "LayoutView",
            "align_content": null,
            "align_items": null,
            "align_self": null,
            "border": null,
            "bottom": null,
            "display": null,
            "flex": null,
            "flex_flow": null,
            "grid_area": null,
            "grid_auto_columns": null,
            "grid_auto_flow": null,
            "grid_auto_rows": null,
            "grid_column": null,
            "grid_gap": null,
            "grid_row": null,
            "grid_template_areas": null,
            "grid_template_columns": null,
            "grid_template_rows": null,
            "height": null,
            "justify_content": null,
            "justify_items": null,
            "left": null,
            "margin": null,
            "max_height": null,
            "max_width": null,
            "min_height": null,
            "min_width": null,
            "object_fit": null,
            "object_position": null,
            "order": null,
            "overflow": null,
            "overflow_x": null,
            "overflow_y": null,
            "padding": null,
            "right": null,
            "top": null,
            "visibility": null,
            "width": null
          }
        },
        "141ccc304cbe4d4384b33dd7dc23aedc": {
          "model_module": "@jupyter-widgets/base",
          "model_name": "LayoutModel",
          "model_module_version": "1.2.0",
          "state": {
            "_model_module": "@jupyter-widgets/base",
            "_model_module_version": "1.2.0",
            "_model_name": "LayoutModel",
            "_view_count": null,
            "_view_module": "@jupyter-widgets/base",
            "_view_module_version": "1.2.0",
            "_view_name": "LayoutView",
            "align_content": null,
            "align_items": null,
            "align_self": null,
            "border": null,
            "bottom": null,
            "display": null,
            "flex": null,
            "flex_flow": null,
            "grid_area": null,
            "grid_auto_columns": null,
            "grid_auto_flow": null,
            "grid_auto_rows": null,
            "grid_column": null,
            "grid_gap": null,
            "grid_row": null,
            "grid_template_areas": null,
            "grid_template_columns": null,
            "grid_template_rows": null,
            "height": null,
            "justify_content": null,
            "justify_items": null,
            "left": null,
            "margin": null,
            "max_height": null,
            "max_width": null,
            "min_height": null,
            "min_width": null,
            "object_fit": null,
            "object_position": null,
            "order": null,
            "overflow": null,
            "overflow_x": null,
            "overflow_y": null,
            "padding": null,
            "right": null,
            "top": null,
            "visibility": null,
            "width": null
          }
        },
        "596dd7ea4a5741819814a83f4f58b32c": {
          "model_module": "@jupyter-widgets/controls",
          "model_name": "DescriptionStyleModel",
          "model_module_version": "1.5.0",
          "state": {
            "_model_module": "@jupyter-widgets/controls",
            "_model_module_version": "1.5.0",
            "_model_name": "DescriptionStyleModel",
            "_view_count": null,
            "_view_module": "@jupyter-widgets/base",
            "_view_module_version": "1.2.0",
            "_view_name": "StyleView",
            "description_width": ""
          }
        },
        "064648bf0e0e411aa06d5d66041043ad": {
          "model_module": "@jupyter-widgets/base",
          "model_name": "LayoutModel",
          "model_module_version": "1.2.0",
          "state": {
            "_model_module": "@jupyter-widgets/base",
            "_model_module_version": "1.2.0",
            "_model_name": "LayoutModel",
            "_view_count": null,
            "_view_module": "@jupyter-widgets/base",
            "_view_module_version": "1.2.0",
            "_view_name": "LayoutView",
            "align_content": null,
            "align_items": null,
            "align_self": null,
            "border": null,
            "bottom": null,
            "display": null,
            "flex": null,
            "flex_flow": null,
            "grid_area": null,
            "grid_auto_columns": null,
            "grid_auto_flow": null,
            "grid_auto_rows": null,
            "grid_column": null,
            "grid_gap": null,
            "grid_row": null,
            "grid_template_areas": null,
            "grid_template_columns": null,
            "grid_template_rows": null,
            "height": null,
            "justify_content": null,
            "justify_items": null,
            "left": null,
            "margin": null,
            "max_height": null,
            "max_width": null,
            "min_height": null,
            "min_width": null,
            "object_fit": null,
            "object_position": null,
            "order": null,
            "overflow": null,
            "overflow_x": null,
            "overflow_y": null,
            "padding": null,
            "right": null,
            "top": null,
            "visibility": null,
            "width": null
          }
        },
        "7949c30f49ec4032a59841ae8973e7f2": {
          "model_module": "@jupyter-widgets/controls",
          "model_name": "ProgressStyleModel",
          "model_module_version": "1.5.0",
          "state": {
            "_model_module": "@jupyter-widgets/controls",
            "_model_module_version": "1.5.0",
            "_model_name": "ProgressStyleModel",
            "_view_count": null,
            "_view_module": "@jupyter-widgets/base",
            "_view_module_version": "1.2.0",
            "_view_name": "StyleView",
            "bar_color": null,
            "description_width": ""
          }
        },
        "bed9dcf5c9b74598a41e3ed732b40346": {
          "model_module": "@jupyter-widgets/base",
          "model_name": "LayoutModel",
          "model_module_version": "1.2.0",
          "state": {
            "_model_module": "@jupyter-widgets/base",
            "_model_module_version": "1.2.0",
            "_model_name": "LayoutModel",
            "_view_count": null,
            "_view_module": "@jupyter-widgets/base",
            "_view_module_version": "1.2.0",
            "_view_name": "LayoutView",
            "align_content": null,
            "align_items": null,
            "align_self": null,
            "border": null,
            "bottom": null,
            "display": null,
            "flex": null,
            "flex_flow": null,
            "grid_area": null,
            "grid_auto_columns": null,
            "grid_auto_flow": null,
            "grid_auto_rows": null,
            "grid_column": null,
            "grid_gap": null,
            "grid_row": null,
            "grid_template_areas": null,
            "grid_template_columns": null,
            "grid_template_rows": null,
            "height": null,
            "justify_content": null,
            "justify_items": null,
            "left": null,
            "margin": null,
            "max_height": null,
            "max_width": null,
            "min_height": null,
            "min_width": null,
            "object_fit": null,
            "object_position": null,
            "order": null,
            "overflow": null,
            "overflow_x": null,
            "overflow_y": null,
            "padding": null,
            "right": null,
            "top": null,
            "visibility": null,
            "width": null
          }
        },
        "e61cbb50d61648109bb88404dd15e477": {
          "model_module": "@jupyter-widgets/controls",
          "model_name": "DescriptionStyleModel",
          "model_module_version": "1.5.0",
          "state": {
            "_model_module": "@jupyter-widgets/controls",
            "_model_module_version": "1.5.0",
            "_model_name": "DescriptionStyleModel",
            "_view_count": null,
            "_view_module": "@jupyter-widgets/base",
            "_view_module_version": "1.2.0",
            "_view_name": "StyleView",
            "description_width": ""
          }
        },
        "cafbafea81a545699e755b7d5594c508": {
          "model_module": "@jupyter-widgets/controls",
          "model_name": "HBoxModel",
          "model_module_version": "1.5.0",
          "state": {
            "_dom_classes": [],
            "_model_module": "@jupyter-widgets/controls",
            "_model_module_version": "1.5.0",
            "_model_name": "HBoxModel",
            "_view_count": null,
            "_view_module": "@jupyter-widgets/controls",
            "_view_module_version": "1.5.0",
            "_view_name": "HBoxView",
            "box_style": "",
            "children": [
              "IPY_MODEL_92e87d140d184fa28de253e7f2978975",
              "IPY_MODEL_2259893856a246a185c5ce1864ecb103",
              "IPY_MODEL_026d6a667a0c48db810afa8465ba3895"
            ],
            "layout": "IPY_MODEL_c07327deed2a466d910a6a4976b33b8b"
          }
        },
        "92e87d140d184fa28de253e7f2978975": {
          "model_module": "@jupyter-widgets/controls",
          "model_name": "HTMLModel",
          "model_module_version": "1.5.0",
          "state": {
            "_dom_classes": [],
            "_model_module": "@jupyter-widgets/controls",
            "_model_module_version": "1.5.0",
            "_model_name": "HTMLModel",
            "_view_count": null,
            "_view_module": "@jupyter-widgets/controls",
            "_view_module_version": "1.5.0",
            "_view_name": "HTMLView",
            "description": "",
            "description_tooltip": null,
            "layout": "IPY_MODEL_5463f6bb9d6e45a5a8de8eef7d728fa3",
            "placeholder": "​",
            "style": "IPY_MODEL_a9f6356a64784db39a54e8512b693da4",
            "value": "Downloading: 100%"
          }
        },
        "2259893856a246a185c5ce1864ecb103": {
          "model_module": "@jupyter-widgets/controls",
          "model_name": "FloatProgressModel",
          "model_module_version": "1.5.0",
          "state": {
            "_dom_classes": [],
            "_model_module": "@jupyter-widgets/controls",
            "_model_module_version": "1.5.0",
            "_model_name": "FloatProgressModel",
            "_view_count": null,
            "_view_module": "@jupyter-widgets/controls",
            "_view_module_version": "1.5.0",
            "_view_name": "ProgressView",
            "bar_style": "success",
            "description": "",
            "description_tooltip": null,
            "layout": "IPY_MODEL_79bc7797bdb94a2fa70dc5eea8e33176",
            "max": 570,
            "min": 0,
            "orientation": "horizontal",
            "style": "IPY_MODEL_1f948f9197794a5e8714d4c6f0c1f6af",
            "value": 570
          }
        },
        "026d6a667a0c48db810afa8465ba3895": {
          "model_module": "@jupyter-widgets/controls",
          "model_name": "HTMLModel",
          "model_module_version": "1.5.0",
          "state": {
            "_dom_classes": [],
            "_model_module": "@jupyter-widgets/controls",
            "_model_module_version": "1.5.0",
            "_model_name": "HTMLModel",
            "_view_count": null,
            "_view_module": "@jupyter-widgets/controls",
            "_view_module_version": "1.5.0",
            "_view_name": "HTMLView",
            "description": "",
            "description_tooltip": null,
            "layout": "IPY_MODEL_d6544481cbf547acb84505c84dce6ab2",
            "placeholder": "​",
            "style": "IPY_MODEL_9288acfba09d47078c0f6b1388289798",
            "value": " 570/570 [00:00&lt;00:00, 13.6kB/s]"
          }
        },
        "c07327deed2a466d910a6a4976b33b8b": {
          "model_module": "@jupyter-widgets/base",
          "model_name": "LayoutModel",
          "model_module_version": "1.2.0",
          "state": {
            "_model_module": "@jupyter-widgets/base",
            "_model_module_version": "1.2.0",
            "_model_name": "LayoutModel",
            "_view_count": null,
            "_view_module": "@jupyter-widgets/base",
            "_view_module_version": "1.2.0",
            "_view_name": "LayoutView",
            "align_content": null,
            "align_items": null,
            "align_self": null,
            "border": null,
            "bottom": null,
            "display": null,
            "flex": null,
            "flex_flow": null,
            "grid_area": null,
            "grid_auto_columns": null,
            "grid_auto_flow": null,
            "grid_auto_rows": null,
            "grid_column": null,
            "grid_gap": null,
            "grid_row": null,
            "grid_template_areas": null,
            "grid_template_columns": null,
            "grid_template_rows": null,
            "height": null,
            "justify_content": null,
            "justify_items": null,
            "left": null,
            "margin": null,
            "max_height": null,
            "max_width": null,
            "min_height": null,
            "min_width": null,
            "object_fit": null,
            "object_position": null,
            "order": null,
            "overflow": null,
            "overflow_x": null,
            "overflow_y": null,
            "padding": null,
            "right": null,
            "top": null,
            "visibility": null,
            "width": null
          }
        },
        "5463f6bb9d6e45a5a8de8eef7d728fa3": {
          "model_module": "@jupyter-widgets/base",
          "model_name": "LayoutModel",
          "model_module_version": "1.2.0",
          "state": {
            "_model_module": "@jupyter-widgets/base",
            "_model_module_version": "1.2.0",
            "_model_name": "LayoutModel",
            "_view_count": null,
            "_view_module": "@jupyter-widgets/base",
            "_view_module_version": "1.2.0",
            "_view_name": "LayoutView",
            "align_content": null,
            "align_items": null,
            "align_self": null,
            "border": null,
            "bottom": null,
            "display": null,
            "flex": null,
            "flex_flow": null,
            "grid_area": null,
            "grid_auto_columns": null,
            "grid_auto_flow": null,
            "grid_auto_rows": null,
            "grid_column": null,
            "grid_gap": null,
            "grid_row": null,
            "grid_template_areas": null,
            "grid_template_columns": null,
            "grid_template_rows": null,
            "height": null,
            "justify_content": null,
            "justify_items": null,
            "left": null,
            "margin": null,
            "max_height": null,
            "max_width": null,
            "min_height": null,
            "min_width": null,
            "object_fit": null,
            "object_position": null,
            "order": null,
            "overflow": null,
            "overflow_x": null,
            "overflow_y": null,
            "padding": null,
            "right": null,
            "top": null,
            "visibility": null,
            "width": null
          }
        },
        "a9f6356a64784db39a54e8512b693da4": {
          "model_module": "@jupyter-widgets/controls",
          "model_name": "DescriptionStyleModel",
          "model_module_version": "1.5.0",
          "state": {
            "_model_module": "@jupyter-widgets/controls",
            "_model_module_version": "1.5.0",
            "_model_name": "DescriptionStyleModel",
            "_view_count": null,
            "_view_module": "@jupyter-widgets/base",
            "_view_module_version": "1.2.0",
            "_view_name": "StyleView",
            "description_width": ""
          }
        },
        "79bc7797bdb94a2fa70dc5eea8e33176": {
          "model_module": "@jupyter-widgets/base",
          "model_name": "LayoutModel",
          "model_module_version": "1.2.0",
          "state": {
            "_model_module": "@jupyter-widgets/base",
            "_model_module_version": "1.2.0",
            "_model_name": "LayoutModel",
            "_view_count": null,
            "_view_module": "@jupyter-widgets/base",
            "_view_module_version": "1.2.0",
            "_view_name": "LayoutView",
            "align_content": null,
            "align_items": null,
            "align_self": null,
            "border": null,
            "bottom": null,
            "display": null,
            "flex": null,
            "flex_flow": null,
            "grid_area": null,
            "grid_auto_columns": null,
            "grid_auto_flow": null,
            "grid_auto_rows": null,
            "grid_column": null,
            "grid_gap": null,
            "grid_row": null,
            "grid_template_areas": null,
            "grid_template_columns": null,
            "grid_template_rows": null,
            "height": null,
            "justify_content": null,
            "justify_items": null,
            "left": null,
            "margin": null,
            "max_height": null,
            "max_width": null,
            "min_height": null,
            "min_width": null,
            "object_fit": null,
            "object_position": null,
            "order": null,
            "overflow": null,
            "overflow_x": null,
            "overflow_y": null,
            "padding": null,
            "right": null,
            "top": null,
            "visibility": null,
            "width": null
          }
        },
        "1f948f9197794a5e8714d4c6f0c1f6af": {
          "model_module": "@jupyter-widgets/controls",
          "model_name": "ProgressStyleModel",
          "model_module_version": "1.5.0",
          "state": {
            "_model_module": "@jupyter-widgets/controls",
            "_model_module_version": "1.5.0",
            "_model_name": "ProgressStyleModel",
            "_view_count": null,
            "_view_module": "@jupyter-widgets/base",
            "_view_module_version": "1.2.0",
            "_view_name": "StyleView",
            "bar_color": null,
            "description_width": ""
          }
        },
        "d6544481cbf547acb84505c84dce6ab2": {
          "model_module": "@jupyter-widgets/base",
          "model_name": "LayoutModel",
          "model_module_version": "1.2.0",
          "state": {
            "_model_module": "@jupyter-widgets/base",
            "_model_module_version": "1.2.0",
            "_model_name": "LayoutModel",
            "_view_count": null,
            "_view_module": "@jupyter-widgets/base",
            "_view_module_version": "1.2.0",
            "_view_name": "LayoutView",
            "align_content": null,
            "align_items": null,
            "align_self": null,
            "border": null,
            "bottom": null,
            "display": null,
            "flex": null,
            "flex_flow": null,
            "grid_area": null,
            "grid_auto_columns": null,
            "grid_auto_flow": null,
            "grid_auto_rows": null,
            "grid_column": null,
            "grid_gap": null,
            "grid_row": null,
            "grid_template_areas": null,
            "grid_template_columns": null,
            "grid_template_rows": null,
            "height": null,
            "justify_content": null,
            "justify_items": null,
            "left": null,
            "margin": null,
            "max_height": null,
            "max_width": null,
            "min_height": null,
            "min_width": null,
            "object_fit": null,
            "object_position": null,
            "order": null,
            "overflow": null,
            "overflow_x": null,
            "overflow_y": null,
            "padding": null,
            "right": null,
            "top": null,
            "visibility": null,
            "width": null
          }
        },
        "9288acfba09d47078c0f6b1388289798": {
          "model_module": "@jupyter-widgets/controls",
          "model_name": "DescriptionStyleModel",
          "model_module_version": "1.5.0",
          "state": {
            "_model_module": "@jupyter-widgets/controls",
            "_model_module_version": "1.5.0",
            "_model_name": "DescriptionStyleModel",
            "_view_count": null,
            "_view_module": "@jupyter-widgets/base",
            "_view_module_version": "1.2.0",
            "_view_name": "StyleView",
            "description_width": ""
          }
        },
        "8283b801374549abada8ec90b971d7d3": {
          "model_module": "@jupyter-widgets/controls",
          "model_name": "HBoxModel",
          "model_module_version": "1.5.0",
          "state": {
            "_dom_classes": [],
            "_model_module": "@jupyter-widgets/controls",
            "_model_module_version": "1.5.0",
            "_model_name": "HBoxModel",
            "_view_count": null,
            "_view_module": "@jupyter-widgets/controls",
            "_view_module_version": "1.5.0",
            "_view_name": "HBoxView",
            "box_style": "",
            "children": [
              "IPY_MODEL_9016e38963c14a289901d487401d2974",
              "IPY_MODEL_68b5577f720a4011a5a8113d943532c1",
              "IPY_MODEL_25e6e05b2ec14bd4a2df970dc5f8f078"
            ],
            "layout": "IPY_MODEL_f774632e9fec4347ad84496b4d383af8"
          }
        },
        "9016e38963c14a289901d487401d2974": {
          "model_module": "@jupyter-widgets/controls",
          "model_name": "HTMLModel",
          "model_module_version": "1.5.0",
          "state": {
            "_dom_classes": [],
            "_model_module": "@jupyter-widgets/controls",
            "_model_module_version": "1.5.0",
            "_model_name": "HTMLModel",
            "_view_count": null,
            "_view_module": "@jupyter-widgets/controls",
            "_view_module_version": "1.5.0",
            "_view_name": "HTMLView",
            "description": "",
            "description_tooltip": null,
            "layout": "IPY_MODEL_bf415d347844417d875c852dcb74e760",
            "placeholder": "​",
            "style": "IPY_MODEL_48b280e569354497b923f8e5f93dbef6",
            "value": "Downloading: 100%"
          }
        },
        "68b5577f720a4011a5a8113d943532c1": {
          "model_module": "@jupyter-widgets/controls",
          "model_name": "FloatProgressModel",
          "model_module_version": "1.5.0",
          "state": {
            "_dom_classes": [],
            "_model_module": "@jupyter-widgets/controls",
            "_model_module_version": "1.5.0",
            "_model_name": "FloatProgressModel",
            "_view_count": null,
            "_view_module": "@jupyter-widgets/controls",
            "_view_module_version": "1.5.0",
            "_view_name": "ProgressView",
            "bar_style": "success",
            "description": "",
            "description_tooltip": null,
            "layout": "IPY_MODEL_b56e19d572394fcaacb6200902d44a95",
            "max": 536063208,
            "min": 0,
            "orientation": "horizontal",
            "style": "IPY_MODEL_a0291459f9634491b43134e46353924a",
            "value": 536063208
          }
        },
        "25e6e05b2ec14bd4a2df970dc5f8f078": {
          "model_module": "@jupyter-widgets/controls",
          "model_name": "HTMLModel",
          "model_module_version": "1.5.0",
          "state": {
            "_dom_classes": [],
            "_model_module": "@jupyter-widgets/controls",
            "_model_module_version": "1.5.0",
            "_model_name": "HTMLModel",
            "_view_count": null,
            "_view_module": "@jupyter-widgets/controls",
            "_view_module_version": "1.5.0",
            "_view_name": "HTMLView",
            "description": "",
            "description_tooltip": null,
            "layout": "IPY_MODEL_3dfb8587d48d41149846947e12fe45d9",
            "placeholder": "​",
            "style": "IPY_MODEL_77269f0f86c7457e89b23473ecbd61c3",
            "value": " 536M/536M [00:15&lt;00:00, 30.7MB/s]"
          }
        },
        "f774632e9fec4347ad84496b4d383af8": {
          "model_module": "@jupyter-widgets/base",
          "model_name": "LayoutModel",
          "model_module_version": "1.2.0",
          "state": {
            "_model_module": "@jupyter-widgets/base",
            "_model_module_version": "1.2.0",
            "_model_name": "LayoutModel",
            "_view_count": null,
            "_view_module": "@jupyter-widgets/base",
            "_view_module_version": "1.2.0",
            "_view_name": "LayoutView",
            "align_content": null,
            "align_items": null,
            "align_self": null,
            "border": null,
            "bottom": null,
            "display": null,
            "flex": null,
            "flex_flow": null,
            "grid_area": null,
            "grid_auto_columns": null,
            "grid_auto_flow": null,
            "grid_auto_rows": null,
            "grid_column": null,
            "grid_gap": null,
            "grid_row": null,
            "grid_template_areas": null,
            "grid_template_columns": null,
            "grid_template_rows": null,
            "height": null,
            "justify_content": null,
            "justify_items": null,
            "left": null,
            "margin": null,
            "max_height": null,
            "max_width": null,
            "min_height": null,
            "min_width": null,
            "object_fit": null,
            "object_position": null,
            "order": null,
            "overflow": null,
            "overflow_x": null,
            "overflow_y": null,
            "padding": null,
            "right": null,
            "top": null,
            "visibility": null,
            "width": null
          }
        },
        "bf415d347844417d875c852dcb74e760": {
          "model_module": "@jupyter-widgets/base",
          "model_name": "LayoutModel",
          "model_module_version": "1.2.0",
          "state": {
            "_model_module": "@jupyter-widgets/base",
            "_model_module_version": "1.2.0",
            "_model_name": "LayoutModel",
            "_view_count": null,
            "_view_module": "@jupyter-widgets/base",
            "_view_module_version": "1.2.0",
            "_view_name": "LayoutView",
            "align_content": null,
            "align_items": null,
            "align_self": null,
            "border": null,
            "bottom": null,
            "display": null,
            "flex": null,
            "flex_flow": null,
            "grid_area": null,
            "grid_auto_columns": null,
            "grid_auto_flow": null,
            "grid_auto_rows": null,
            "grid_column": null,
            "grid_gap": null,
            "grid_row": null,
            "grid_template_areas": null,
            "grid_template_columns": null,
            "grid_template_rows": null,
            "height": null,
            "justify_content": null,
            "justify_items": null,
            "left": null,
            "margin": null,
            "max_height": null,
            "max_width": null,
            "min_height": null,
            "min_width": null,
            "object_fit": null,
            "object_position": null,
            "order": null,
            "overflow": null,
            "overflow_x": null,
            "overflow_y": null,
            "padding": null,
            "right": null,
            "top": null,
            "visibility": null,
            "width": null
          }
        },
        "48b280e569354497b923f8e5f93dbef6": {
          "model_module": "@jupyter-widgets/controls",
          "model_name": "DescriptionStyleModel",
          "model_module_version": "1.5.0",
          "state": {
            "_model_module": "@jupyter-widgets/controls",
            "_model_module_version": "1.5.0",
            "_model_name": "DescriptionStyleModel",
            "_view_count": null,
            "_view_module": "@jupyter-widgets/base",
            "_view_module_version": "1.2.0",
            "_view_name": "StyleView",
            "description_width": ""
          }
        },
        "b56e19d572394fcaacb6200902d44a95": {
          "model_module": "@jupyter-widgets/base",
          "model_name": "LayoutModel",
          "model_module_version": "1.2.0",
          "state": {
            "_model_module": "@jupyter-widgets/base",
            "_model_module_version": "1.2.0",
            "_model_name": "LayoutModel",
            "_view_count": null,
            "_view_module": "@jupyter-widgets/base",
            "_view_module_version": "1.2.0",
            "_view_name": "LayoutView",
            "align_content": null,
            "align_items": null,
            "align_self": null,
            "border": null,
            "bottom": null,
            "display": null,
            "flex": null,
            "flex_flow": null,
            "grid_area": null,
            "grid_auto_columns": null,
            "grid_auto_flow": null,
            "grid_auto_rows": null,
            "grid_column": null,
            "grid_gap": null,
            "grid_row": null,
            "grid_template_areas": null,
            "grid_template_columns": null,
            "grid_template_rows": null,
            "height": null,
            "justify_content": null,
            "justify_items": null,
            "left": null,
            "margin": null,
            "max_height": null,
            "max_width": null,
            "min_height": null,
            "min_width": null,
            "object_fit": null,
            "object_position": null,
            "order": null,
            "overflow": null,
            "overflow_x": null,
            "overflow_y": null,
            "padding": null,
            "right": null,
            "top": null,
            "visibility": null,
            "width": null
          }
        },
        "a0291459f9634491b43134e46353924a": {
          "model_module": "@jupyter-widgets/controls",
          "model_name": "ProgressStyleModel",
          "model_module_version": "1.5.0",
          "state": {
            "_model_module": "@jupyter-widgets/controls",
            "_model_module_version": "1.5.0",
            "_model_name": "ProgressStyleModel",
            "_view_count": null,
            "_view_module": "@jupyter-widgets/base",
            "_view_module_version": "1.2.0",
            "_view_name": "StyleView",
            "bar_color": null,
            "description_width": ""
          }
        },
        "3dfb8587d48d41149846947e12fe45d9": {
          "model_module": "@jupyter-widgets/base",
          "model_name": "LayoutModel",
          "model_module_version": "1.2.0",
          "state": {
            "_model_module": "@jupyter-widgets/base",
            "_model_module_version": "1.2.0",
            "_model_name": "LayoutModel",
            "_view_count": null,
            "_view_module": "@jupyter-widgets/base",
            "_view_module_version": "1.2.0",
            "_view_name": "LayoutView",
            "align_content": null,
            "align_items": null,
            "align_self": null,
            "border": null,
            "bottom": null,
            "display": null,
            "flex": null,
            "flex_flow": null,
            "grid_area": null,
            "grid_auto_columns": null,
            "grid_auto_flow": null,
            "grid_auto_rows": null,
            "grid_column": null,
            "grid_gap": null,
            "grid_row": null,
            "grid_template_areas": null,
            "grid_template_columns": null,
            "grid_template_rows": null,
            "height": null,
            "justify_content": null,
            "justify_items": null,
            "left": null,
            "margin": null,
            "max_height": null,
            "max_width": null,
            "min_height": null,
            "min_width": null,
            "object_fit": null,
            "object_position": null,
            "order": null,
            "overflow": null,
            "overflow_x": null,
            "overflow_y": null,
            "padding": null,
            "right": null,
            "top": null,
            "visibility": null,
            "width": null
          }
        },
        "77269f0f86c7457e89b23473ecbd61c3": {
          "model_module": "@jupyter-widgets/controls",
          "model_name": "DescriptionStyleModel",
          "model_module_version": "1.5.0",
          "state": {
            "_model_module": "@jupyter-widgets/controls",
            "_model_module_version": "1.5.0",
            "_model_name": "DescriptionStyleModel",
            "_view_count": null,
            "_view_module": "@jupyter-widgets/base",
            "_view_module_version": "1.2.0",
            "_view_name": "StyleView",
            "description_width": ""
          }
        }
      }
    },
    "accelerator": "GPU",
    "gpuClass": "standard"
  },
  "cells": [
    {
      "cell_type": "code",
      "execution_count": null,
      "metadata": {
        "colab": {
          "base_uri": "https://localhost:8080/"
        },
        "id": "GXBE6Y7lmXIa",
        "outputId": "01a0ecd6-d255-4894-b788-90082655b278"
      },
      "outputs": [
        {
          "output_type": "stream",
          "name": "stdout",
          "text": [
            "Looking in indexes: https://pypi.org/simple, https://us-python.pkg.dev/colab-wheels/public/simple/\n",
            "Collecting conllu\n",
            "  Downloading conllu-4.5.2-py2.py3-none-any.whl (16 kB)\n",
            "Installing collected packages: conllu\n",
            "Successfully installed conllu-4.5.2\n"
          ]
        }
      ],
      "source": [
        "!pip install conllu"
      ]
    },
    {
      "cell_type": "code",
      "source": [
        "import tensorflow as tf\n"
      ],
      "metadata": {
        "id": "ueWASmSyrYbg"
      },
      "execution_count": null,
      "outputs": []
    },
    {
      "cell_type": "code",
      "source": [
        "def readfile(filename, type_=None):\n",
        "    '''\n",
        "    read file\n",
        "    '''\n",
        "    f = open(filename)\n",
        "    data = []\n",
        "    sentence = []\n",
        "    label= []\n",
        "    for line in f:\n",
        "        if len(line)==0 or line.startswith('-DOCSTART') or line[0]==\"\\n\":\n",
        "            if len(sentence) > 0:\n",
        "                assert len(sentence) == len(label)\n",
        "                data.append((sentence,label))\n",
        "                sentence = []\n",
        "                label = []\n",
        "            continue\n",
        "\n",
        "        #TODO\n",
        "        if type_!='predict':\n",
        "            splits = line.split()\n",
        "            #print(splits)\n",
        "            sentence.append(splits[0])\n",
        "            label.append(splits[-1])\n",
        "            #domain_l = eval(splits[2])\n",
        "\n",
        "        else:\n",
        "            splits = line.strip().split()\n",
        "            sentence.append(splits[0])\n",
        "            label.append('O')\n",
        "\n",
        "\n",
        "    if len(sentence) >0:\n",
        "        data.append((sentence,label))\n",
        "        assert len(sentence) == len(label)\n",
        "        sentence = []\n",
        "        label = []\n",
        "    return data\n",
        "\n",
        "def readfile_label(train_file, test_file):\n",
        "    '''\n",
        "    read file\n",
        "    '''\n",
        "    label_dict = {}\n",
        "    f_train = open(train_file)\n",
        "    f_test = open(test_file)\n",
        "\n",
        "    for line in f_train:\n",
        "          temp = line.strip()\n",
        "          if temp!='':\n",
        "\n",
        "              splits = line.strip().split()\n",
        "              if splits[-1] != 'O':\n",
        "                  label_dict[splits[-1]] = 0\n",
        "\n",
        "    for line in f_test:\n",
        "          temp = line.strip()\n",
        "          if temp!='':\n",
        "\n",
        "              splits = line.strip().split()\n",
        "              if splits[-1] != 'O':\n",
        "                  label_dict[splits[-1]] = 0\n",
        "\n",
        "    return label_dict"
      ],
      "metadata": {
        "id": "W6H_PZVlsoW2"
      },
      "execution_count": null,
      "outputs": []
    },
    {
      "cell_type": "code",
      "source": [
        "tt = readfile('/content/wnut 16test.txt.conll')\n",
        "ss = readfile('/content/wnut 16.txt.conll')\n",
        "print(len(tt))\n",
        "print(len(ss))"
      ],
      "metadata": {
        "colab": {
          "base_uri": "https://localhost:8080/"
        },
        "id": "Fjk3TqfNLhu9",
        "outputId": "e366bd64-47f4-45a9-f643-e14af9906725"
      },
      "execution_count": null,
      "outputs": [
        {
          "output_type": "stream",
          "name": "stdout",
          "text": [
            "3850\n",
            "2394\n"
          ]
        }
      ]
    },
    {
      "cell_type": "code",
      "source": [
        "ss = readfile('/content/wnut 16test.txt.conll')\n",
        "ss[0]"
      ],
      "metadata": {
        "colab": {
          "base_uri": "https://localhost:8080/"
        },
        "id": "iErlTU-ussCc",
        "outputId": "e8187af1-df0c-4830-b373-15983cdcf09d"
      },
      "execution_count": null,
      "outputs": [
        {
          "output_type": "execute_result",
          "data": {
            "text/plain": [
              "(['New',\n",
              "  'Orleans',\n",
              "  'Mother',\n",
              "  \"'s\",\n",
              "  'Day',\n",
              "  'Parade',\n",
              "  'shooting',\n",
              "  '.',\n",
              "  'One',\n",
              "  'of',\n",
              "  'the',\n",
              "  'people',\n",
              "  'hurt',\n",
              "  'was',\n",
              "  'a',\n",
              "  '10-year-old',\n",
              "  'girl',\n",
              "  '.',\n",
              "  'WHAT',\n",
              "  'THE',\n",
              "  'HELL',\n",
              "  'IS',\n",
              "  'WRONG',\n",
              "  'WITH',\n",
              "  'PEOPLE',\n",
              "  '?'],\n",
              " ['B-other',\n",
              "  'I-other',\n",
              "  'I-other',\n",
              "  'I-other',\n",
              "  'I-other',\n",
              "  'I-other',\n",
              "  'O',\n",
              "  'O',\n",
              "  'O',\n",
              "  'O',\n",
              "  'O',\n",
              "  'O',\n",
              "  'O',\n",
              "  'O',\n",
              "  'O',\n",
              "  'O',\n",
              "  'O',\n",
              "  'O',\n",
              "  'O',\n",
              "  'O',\n",
              "  'O',\n",
              "  'O',\n",
              "  'O',\n",
              "  'O',\n",
              "  'O',\n",
              "  'O'])"
            ]
          },
          "metadata": {},
          "execution_count": 3
        }
      ]
    },
    {
      "cell_type": "code",
      "source": [
        "len(ss)"
      ],
      "metadata": {
        "colab": {
          "base_uri": "https://localhost:8080/"
        },
        "id": "2nJ6_oZJyIGR",
        "outputId": "2cea0985-04e5-47b2-8e6a-91353ec9d3e4"
      },
      "execution_count": null,
      "outputs": [
        {
          "output_type": "execute_result",
          "data": {
            "text/plain": [
              "3850"
            ]
          },
          "metadata": {},
          "execution_count": 4
        }
      ]
    },
    {
      "cell_type": "code",
      "source": [
        "import pandas as pd\n",
        "\n",
        "# create an Empty DataFrame object\n",
        "df = pd.DataFrame()\n",
        "\n",
        "print(df)"
      ],
      "metadata": {
        "colab": {
          "base_uri": "https://localhost:8080/"
        },
        "id": "zcb_KYGBtLKK",
        "outputId": "ed940028-f185-4ed4-e549-c0c3602fde8b"
      },
      "execution_count": null,
      "outputs": [
        {
          "output_type": "stream",
          "name": "stdout",
          "text": [
            "Empty DataFrame\n",
            "Columns: []\n",
            "Index: []\n"
          ]
        }
      ]
    },
    {
      "cell_type": "code",
      "source": [
        "df = pd.DataFrame(columns=['Sentences','Tags'])"
      ],
      "metadata": {
        "id": "9NlSq_HxuX25"
      },
      "execution_count": null,
      "outputs": []
    },
    {
      "cell_type": "code",
      "source": [
        "for i in range(0,len(ss)):\n",
        "  df = df.append({'Sentences': ss[i][0], 'Tags': ss[i][1]}, ignore_index=True)"
      ],
      "metadata": {
        "id": "b01_2X1uvYYn"
      },
      "execution_count": null,
      "outputs": []
    },
    {
      "cell_type": "code",
      "source": [
        "df"
      ],
      "metadata": {
        "colab": {
          "base_uri": "https://localhost:8080/",
          "height": 424
        },
        "id": "PYNBfYkix-Yw",
        "outputId": "d5e9acc6-26f8-474e-daa3-b37b09d22913"
      },
      "execution_count": null,
      "outputs": [
        {
          "output_type": "execute_result",
          "data": {
            "text/plain": [
              "                                              Sentences  \\\n",
              "0     [New, Orleans, Mother, 's, Day, Parade, shooti...   \n",
              "1     [RT, @hxranspizza, :, Going, into, school, tom...   \n",
              "2     [May, e, just, a, smile, in, your, heart, EILY...   \n",
              "3        [I, could, so, do, Thursday, Club, right, now]   \n",
              "4     [@therealdaftbear, Albert, Nobbs, (, Glenn, Cl...   \n",
              "...                                                 ...   \n",
              "3845  [Priest, killed, ,, another, injured, in, US, ...   \n",
              "3846  [Michael__Myerz, :, |LIVE, NOW|, Yes, #meerkat...   \n",
              "3847  [http://t.co/MoMmuSaDKE, Daily, Fantasy, Baske...   \n",
              "3848  [@Toniakins, no, man, alive, has, it, all, ., ...   \n",
              "3849  [RT, @NaddictsOfc, :, She, 's, living, with, h...   \n",
              "\n",
              "                                                   Tags  \n",
              "0     [B-other, I-other, I-other, I-other, I-other, ...  \n",
              "1                     [O, O, O, O, O, O, O, O, O, O, O]  \n",
              "2               [O, O, O, O, O, O, O, O, B-movie, O, O]  \n",
              "3                              [O, O, O, O, O, O, O, O]  \n",
              "4     [O, B-person, I-person, O, B-person, O, O, O, ...  \n",
              "...                                                 ...  \n",
              "3845  [O, O, O, O, O, O, B-geo-loc, O, O, B-geo-loc,...  \n",
              "3846         [O, O, O, O, O, O, O, O, O, O, O, O, O, O]  \n",
              "3847  [O, O, O, O, O, O, O, B-other, O, B-company, O...  \n",
              "3848  [O, O, O, O, O, O, O, O, O, O, O, O, O, O, O, ...  \n",
              "3849               [O, O, O, O, O, O, O, O, O, O, O, O]  \n",
              "\n",
              "[3850 rows x 2 columns]"
            ],
            "text/html": [
              "\n",
              "  <div id=\"df-5f1de9b2-ebf9-4da4-9234-ef5632ecaad3\">\n",
              "    <div class=\"colab-df-container\">\n",
              "      <div>\n",
              "<style scoped>\n",
              "    .dataframe tbody tr th:only-of-type {\n",
              "        vertical-align: middle;\n",
              "    }\n",
              "\n",
              "    .dataframe tbody tr th {\n",
              "        vertical-align: top;\n",
              "    }\n",
              "\n",
              "    .dataframe thead th {\n",
              "        text-align: right;\n",
              "    }\n",
              "</style>\n",
              "<table border=\"1\" class=\"dataframe\">\n",
              "  <thead>\n",
              "    <tr style=\"text-align: right;\">\n",
              "      <th></th>\n",
              "      <th>Sentences</th>\n",
              "      <th>Tags</th>\n",
              "    </tr>\n",
              "  </thead>\n",
              "  <tbody>\n",
              "    <tr>\n",
              "      <th>0</th>\n",
              "      <td>[New, Orleans, Mother, 's, Day, Parade, shooti...</td>\n",
              "      <td>[B-other, I-other, I-other, I-other, I-other, ...</td>\n",
              "    </tr>\n",
              "    <tr>\n",
              "      <th>1</th>\n",
              "      <td>[RT, @hxranspizza, :, Going, into, school, tom...</td>\n",
              "      <td>[O, O, O, O, O, O, O, O, O, O, O]</td>\n",
              "    </tr>\n",
              "    <tr>\n",
              "      <th>2</th>\n",
              "      <td>[May, e, just, a, smile, in, your, heart, EILY...</td>\n",
              "      <td>[O, O, O, O, O, O, O, O, B-movie, O, O]</td>\n",
              "    </tr>\n",
              "    <tr>\n",
              "      <th>3</th>\n",
              "      <td>[I, could, so, do, Thursday, Club, right, now]</td>\n",
              "      <td>[O, O, O, O, O, O, O, O]</td>\n",
              "    </tr>\n",
              "    <tr>\n",
              "      <th>4</th>\n",
              "      <td>[@therealdaftbear, Albert, Nobbs, (, Glenn, Cl...</td>\n",
              "      <td>[O, B-person, I-person, O, B-person, O, O, O, ...</td>\n",
              "    </tr>\n",
              "    <tr>\n",
              "      <th>...</th>\n",
              "      <td>...</td>\n",
              "      <td>...</td>\n",
              "    </tr>\n",
              "    <tr>\n",
              "      <th>3845</th>\n",
              "      <td>[Priest, killed, ,, another, injured, in, US, ...</td>\n",
              "      <td>[O, O, O, O, O, O, B-geo-loc, O, O, B-geo-loc,...</td>\n",
              "    </tr>\n",
              "    <tr>\n",
              "      <th>3846</th>\n",
              "      <td>[Michael__Myerz, :, |LIVE, NOW|, Yes, #meerkat...</td>\n",
              "      <td>[O, O, O, O, O, O, O, O, O, O, O, O, O, O]</td>\n",
              "    </tr>\n",
              "    <tr>\n",
              "      <th>3847</th>\n",
              "      <td>[http://t.co/MoMmuSaDKE, Daily, Fantasy, Baske...</td>\n",
              "      <td>[O, O, O, O, O, O, O, B-other, O, B-company, O...</td>\n",
              "    </tr>\n",
              "    <tr>\n",
              "      <th>3848</th>\n",
              "      <td>[@Toniakins, no, man, alive, has, it, all, ., ...</td>\n",
              "      <td>[O, O, O, O, O, O, O, O, O, O, O, O, O, O, O, ...</td>\n",
              "    </tr>\n",
              "    <tr>\n",
              "      <th>3849</th>\n",
              "      <td>[RT, @NaddictsOfc, :, She, 's, living, with, h...</td>\n",
              "      <td>[O, O, O, O, O, O, O, O, O, O, O, O]</td>\n",
              "    </tr>\n",
              "  </tbody>\n",
              "</table>\n",
              "<p>3850 rows × 2 columns</p>\n",
              "</div>\n",
              "      <button class=\"colab-df-convert\" onclick=\"convertToInteractive('df-5f1de9b2-ebf9-4da4-9234-ef5632ecaad3')\"\n",
              "              title=\"Convert this dataframe to an interactive table.\"\n",
              "              style=\"display:none;\">\n",
              "        \n",
              "  <svg xmlns=\"http://www.w3.org/2000/svg\" height=\"24px\"viewBox=\"0 0 24 24\"\n",
              "       width=\"24px\">\n",
              "    <path d=\"M0 0h24v24H0V0z\" fill=\"none\"/>\n",
              "    <path d=\"M18.56 5.44l.94 2.06.94-2.06 2.06-.94-2.06-.94-.94-2.06-.94 2.06-2.06.94zm-11 1L8.5 8.5l.94-2.06 2.06-.94-2.06-.94L8.5 2.5l-.94 2.06-2.06.94zm10 10l.94 2.06.94-2.06 2.06-.94-2.06-.94-.94-2.06-.94 2.06-2.06.94z\"/><path d=\"M17.41 7.96l-1.37-1.37c-.4-.4-.92-.59-1.43-.59-.52 0-1.04.2-1.43.59L10.3 9.45l-7.72 7.72c-.78.78-.78 2.05 0 2.83L4 21.41c.39.39.9.59 1.41.59.51 0 1.02-.2 1.41-.59l7.78-7.78 2.81-2.81c.8-.78.8-2.07 0-2.86zM5.41 20L4 18.59l7.72-7.72 1.47 1.35L5.41 20z\"/>\n",
              "  </svg>\n",
              "      </button>\n",
              "      \n",
              "  <style>\n",
              "    .colab-df-container {\n",
              "      display:flex;\n",
              "      flex-wrap:wrap;\n",
              "      gap: 12px;\n",
              "    }\n",
              "\n",
              "    .colab-df-convert {\n",
              "      background-color: #E8F0FE;\n",
              "      border: none;\n",
              "      border-radius: 50%;\n",
              "      cursor: pointer;\n",
              "      display: none;\n",
              "      fill: #1967D2;\n",
              "      height: 32px;\n",
              "      padding: 0 0 0 0;\n",
              "      width: 32px;\n",
              "    }\n",
              "\n",
              "    .colab-df-convert:hover {\n",
              "      background-color: #E2EBFA;\n",
              "      box-shadow: 0px 1px 2px rgba(60, 64, 67, 0.3), 0px 1px 3px 1px rgba(60, 64, 67, 0.15);\n",
              "      fill: #174EA6;\n",
              "    }\n",
              "\n",
              "    [theme=dark] .colab-df-convert {\n",
              "      background-color: #3B4455;\n",
              "      fill: #D2E3FC;\n",
              "    }\n",
              "\n",
              "    [theme=dark] .colab-df-convert:hover {\n",
              "      background-color: #434B5C;\n",
              "      box-shadow: 0px 1px 3px 1px rgba(0, 0, 0, 0.15);\n",
              "      filter: drop-shadow(0px 1px 2px rgba(0, 0, 0, 0.3));\n",
              "      fill: #FFFFFF;\n",
              "    }\n",
              "  </style>\n",
              "\n",
              "      <script>\n",
              "        const buttonEl =\n",
              "          document.querySelector('#df-5f1de9b2-ebf9-4da4-9234-ef5632ecaad3 button.colab-df-convert');\n",
              "        buttonEl.style.display =\n",
              "          google.colab.kernel.accessAllowed ? 'block' : 'none';\n",
              "\n",
              "        async function convertToInteractive(key) {\n",
              "          const element = document.querySelector('#df-5f1de9b2-ebf9-4da4-9234-ef5632ecaad3');\n",
              "          const dataTable =\n",
              "            await google.colab.kernel.invokeFunction('convertToInteractive',\n",
              "                                                     [key], {});\n",
              "          if (!dataTable) return;\n",
              "\n",
              "          const docLinkHtml = 'Like what you see? Visit the ' +\n",
              "            '<a target=\"_blank\" href=https://colab.research.google.com/notebooks/data_table.ipynb>data table notebook</a>'\n",
              "            + ' to learn more about interactive tables.';\n",
              "          element.innerHTML = '';\n",
              "          dataTable['output_type'] = 'display_data';\n",
              "          await google.colab.output.renderOutput(dataTable, element);\n",
              "          const docLink = document.createElement('div');\n",
              "          docLink.innerHTML = docLinkHtml;\n",
              "          element.appendChild(docLink);\n",
              "        }\n",
              "      </script>\n",
              "    </div>\n",
              "  </div>\n",
              "  "
            ]
          },
          "metadata": {},
          "execution_count": 8
        }
      ]
    },
    {
      "cell_type": "code",
      "source": [
        "df['length'] = ''\n",
        "for i in range(0,len(df)):\n",
        "  df['length'][i] = len(df['Sentences'][i])"
      ],
      "metadata": {
        "id": "7XGGNkXCyUZb"
      },
      "execution_count": null,
      "outputs": []
    },
    {
      "cell_type": "code",
      "source": [
        "df"
      ],
      "metadata": {
        "colab": {
          "base_uri": "https://localhost:8080/",
          "height": 424
        },
        "id": "m0hYV4JMzHTf",
        "outputId": "12e4143e-8c76-4e9b-a17d-d3a760d79157"
      },
      "execution_count": null,
      "outputs": [
        {
          "output_type": "execute_result",
          "data": {
            "text/plain": [
              "                                              Sentences  \\\n",
              "0     [New, Orleans, Mother, 's, Day, Parade, shooti...   \n",
              "1     [RT, @hxranspizza, :, Going, into, school, tom...   \n",
              "2     [May, e, just, a, smile, in, your, heart, EILY...   \n",
              "3        [I, could, so, do, Thursday, Club, right, now]   \n",
              "4     [@therealdaftbear, Albert, Nobbs, (, Glenn, Cl...   \n",
              "...                                                 ...   \n",
              "3845  [Priest, killed, ,, another, injured, in, US, ...   \n",
              "3846  [Michael__Myerz, :, |LIVE, NOW|, Yes, #meerkat...   \n",
              "3847  [http://t.co/MoMmuSaDKE, Daily, Fantasy, Baske...   \n",
              "3848  [@Toniakins, no, man, alive, has, it, all, ., ...   \n",
              "3849  [RT, @NaddictsOfc, :, She, 's, living, with, h...   \n",
              "\n",
              "                                                   Tags length  \n",
              "0     [B-other, I-other, I-other, I-other, I-other, ...     26  \n",
              "1                     [O, O, O, O, O, O, O, O, O, O, O]     11  \n",
              "2               [O, O, O, O, O, O, O, O, B-movie, O, O]     11  \n",
              "3                              [O, O, O, O, O, O, O, O]      8  \n",
              "4     [O, B-person, I-person, O, B-person, O, O, O, ...     24  \n",
              "...                                                 ...    ...  \n",
              "3845  [O, O, O, O, O, O, B-geo-loc, O, O, B-geo-loc,...     23  \n",
              "3846         [O, O, O, O, O, O, O, O, O, O, O, O, O, O]     14  \n",
              "3847  [O, O, O, O, O, O, O, B-other, O, B-company, O...     16  \n",
              "3848  [O, O, O, O, O, O, O, O, O, O, O, O, O, O, O, ...     27  \n",
              "3849               [O, O, O, O, O, O, O, O, O, O, O, O]     12  \n",
              "\n",
              "[3850 rows x 3 columns]"
            ],
            "text/html": [
              "\n",
              "  <div id=\"df-061aacb5-d9e0-473d-93d2-2986b22d3e92\">\n",
              "    <div class=\"colab-df-container\">\n",
              "      <div>\n",
              "<style scoped>\n",
              "    .dataframe tbody tr th:only-of-type {\n",
              "        vertical-align: middle;\n",
              "    }\n",
              "\n",
              "    .dataframe tbody tr th {\n",
              "        vertical-align: top;\n",
              "    }\n",
              "\n",
              "    .dataframe thead th {\n",
              "        text-align: right;\n",
              "    }\n",
              "</style>\n",
              "<table border=\"1\" class=\"dataframe\">\n",
              "  <thead>\n",
              "    <tr style=\"text-align: right;\">\n",
              "      <th></th>\n",
              "      <th>Sentences</th>\n",
              "      <th>Tags</th>\n",
              "      <th>length</th>\n",
              "    </tr>\n",
              "  </thead>\n",
              "  <tbody>\n",
              "    <tr>\n",
              "      <th>0</th>\n",
              "      <td>[New, Orleans, Mother, 's, Day, Parade, shooti...</td>\n",
              "      <td>[B-other, I-other, I-other, I-other, I-other, ...</td>\n",
              "      <td>26</td>\n",
              "    </tr>\n",
              "    <tr>\n",
              "      <th>1</th>\n",
              "      <td>[RT, @hxranspizza, :, Going, into, school, tom...</td>\n",
              "      <td>[O, O, O, O, O, O, O, O, O, O, O]</td>\n",
              "      <td>11</td>\n",
              "    </tr>\n",
              "    <tr>\n",
              "      <th>2</th>\n",
              "      <td>[May, e, just, a, smile, in, your, heart, EILY...</td>\n",
              "      <td>[O, O, O, O, O, O, O, O, B-movie, O, O]</td>\n",
              "      <td>11</td>\n",
              "    </tr>\n",
              "    <tr>\n",
              "      <th>3</th>\n",
              "      <td>[I, could, so, do, Thursday, Club, right, now]</td>\n",
              "      <td>[O, O, O, O, O, O, O, O]</td>\n",
              "      <td>8</td>\n",
              "    </tr>\n",
              "    <tr>\n",
              "      <th>4</th>\n",
              "      <td>[@therealdaftbear, Albert, Nobbs, (, Glenn, Cl...</td>\n",
              "      <td>[O, B-person, I-person, O, B-person, O, O, O, ...</td>\n",
              "      <td>24</td>\n",
              "    </tr>\n",
              "    <tr>\n",
              "      <th>...</th>\n",
              "      <td>...</td>\n",
              "      <td>...</td>\n",
              "      <td>...</td>\n",
              "    </tr>\n",
              "    <tr>\n",
              "      <th>3845</th>\n",
              "      <td>[Priest, killed, ,, another, injured, in, US, ...</td>\n",
              "      <td>[O, O, O, O, O, O, B-geo-loc, O, O, B-geo-loc,...</td>\n",
              "      <td>23</td>\n",
              "    </tr>\n",
              "    <tr>\n",
              "      <th>3846</th>\n",
              "      <td>[Michael__Myerz, :, |LIVE, NOW|, Yes, #meerkat...</td>\n",
              "      <td>[O, O, O, O, O, O, O, O, O, O, O, O, O, O]</td>\n",
              "      <td>14</td>\n",
              "    </tr>\n",
              "    <tr>\n",
              "      <th>3847</th>\n",
              "      <td>[http://t.co/MoMmuSaDKE, Daily, Fantasy, Baske...</td>\n",
              "      <td>[O, O, O, O, O, O, O, B-other, O, B-company, O...</td>\n",
              "      <td>16</td>\n",
              "    </tr>\n",
              "    <tr>\n",
              "      <th>3848</th>\n",
              "      <td>[@Toniakins, no, man, alive, has, it, all, ., ...</td>\n",
              "      <td>[O, O, O, O, O, O, O, O, O, O, O, O, O, O, O, ...</td>\n",
              "      <td>27</td>\n",
              "    </tr>\n",
              "    <tr>\n",
              "      <th>3849</th>\n",
              "      <td>[RT, @NaddictsOfc, :, She, 's, living, with, h...</td>\n",
              "      <td>[O, O, O, O, O, O, O, O, O, O, O, O]</td>\n",
              "      <td>12</td>\n",
              "    </tr>\n",
              "  </tbody>\n",
              "</table>\n",
              "<p>3850 rows × 3 columns</p>\n",
              "</div>\n",
              "      <button class=\"colab-df-convert\" onclick=\"convertToInteractive('df-061aacb5-d9e0-473d-93d2-2986b22d3e92')\"\n",
              "              title=\"Convert this dataframe to an interactive table.\"\n",
              "              style=\"display:none;\">\n",
              "        \n",
              "  <svg xmlns=\"http://www.w3.org/2000/svg\" height=\"24px\"viewBox=\"0 0 24 24\"\n",
              "       width=\"24px\">\n",
              "    <path d=\"M0 0h24v24H0V0z\" fill=\"none\"/>\n",
              "    <path d=\"M18.56 5.44l.94 2.06.94-2.06 2.06-.94-2.06-.94-.94-2.06-.94 2.06-2.06.94zm-11 1L8.5 8.5l.94-2.06 2.06-.94-2.06-.94L8.5 2.5l-.94 2.06-2.06.94zm10 10l.94 2.06.94-2.06 2.06-.94-2.06-.94-.94-2.06-.94 2.06-2.06.94z\"/><path d=\"M17.41 7.96l-1.37-1.37c-.4-.4-.92-.59-1.43-.59-.52 0-1.04.2-1.43.59L10.3 9.45l-7.72 7.72c-.78.78-.78 2.05 0 2.83L4 21.41c.39.39.9.59 1.41.59.51 0 1.02-.2 1.41-.59l7.78-7.78 2.81-2.81c.8-.78.8-2.07 0-2.86zM5.41 20L4 18.59l7.72-7.72 1.47 1.35L5.41 20z\"/>\n",
              "  </svg>\n",
              "      </button>\n",
              "      \n",
              "  <style>\n",
              "    .colab-df-container {\n",
              "      display:flex;\n",
              "      flex-wrap:wrap;\n",
              "      gap: 12px;\n",
              "    }\n",
              "\n",
              "    .colab-df-convert {\n",
              "      background-color: #E8F0FE;\n",
              "      border: none;\n",
              "      border-radius: 50%;\n",
              "      cursor: pointer;\n",
              "      display: none;\n",
              "      fill: #1967D2;\n",
              "      height: 32px;\n",
              "      padding: 0 0 0 0;\n",
              "      width: 32px;\n",
              "    }\n",
              "\n",
              "    .colab-df-convert:hover {\n",
              "      background-color: #E2EBFA;\n",
              "      box-shadow: 0px 1px 2px rgba(60, 64, 67, 0.3), 0px 1px 3px 1px rgba(60, 64, 67, 0.15);\n",
              "      fill: #174EA6;\n",
              "    }\n",
              "\n",
              "    [theme=dark] .colab-df-convert {\n",
              "      background-color: #3B4455;\n",
              "      fill: #D2E3FC;\n",
              "    }\n",
              "\n",
              "    [theme=dark] .colab-df-convert:hover {\n",
              "      background-color: #434B5C;\n",
              "      box-shadow: 0px 1px 3px 1px rgba(0, 0, 0, 0.15);\n",
              "      filter: drop-shadow(0px 1px 2px rgba(0, 0, 0, 0.3));\n",
              "      fill: #FFFFFF;\n",
              "    }\n",
              "  </style>\n",
              "\n",
              "      <script>\n",
              "        const buttonEl =\n",
              "          document.querySelector('#df-061aacb5-d9e0-473d-93d2-2986b22d3e92 button.colab-df-convert');\n",
              "        buttonEl.style.display =\n",
              "          google.colab.kernel.accessAllowed ? 'block' : 'none';\n",
              "\n",
              "        async function convertToInteractive(key) {\n",
              "          const element = document.querySelector('#df-061aacb5-d9e0-473d-93d2-2986b22d3e92');\n",
              "          const dataTable =\n",
              "            await google.colab.kernel.invokeFunction('convertToInteractive',\n",
              "                                                     [key], {});\n",
              "          if (!dataTable) return;\n",
              "\n",
              "          const docLinkHtml = 'Like what you see? Visit the ' +\n",
              "            '<a target=\"_blank\" href=https://colab.research.google.com/notebooks/data_table.ipynb>data table notebook</a>'\n",
              "            + ' to learn more about interactive tables.';\n",
              "          element.innerHTML = '';\n",
              "          dataTable['output_type'] = 'display_data';\n",
              "          await google.colab.output.renderOutput(dataTable, element);\n",
              "          const docLink = document.createElement('div');\n",
              "          docLink.innerHTML = docLinkHtml;\n",
              "          element.appendChild(docLink);\n",
              "        }\n",
              "      </script>\n",
              "    </div>\n",
              "  </div>\n",
              "  "
            ]
          },
          "metadata": {},
          "execution_count": 10
        }
      ]
    },
    {
      "cell_type": "code",
      "source": [
        "df.shape"
      ],
      "metadata": {
        "colab": {
          "base_uri": "https://localhost:8080/"
        },
        "id": "3CqZkZwlzI0c",
        "outputId": "b4990efb-c571-41df-bf67-6874b12122a8"
      },
      "execution_count": null,
      "outputs": [
        {
          "output_type": "execute_result",
          "data": {
            "text/plain": [
              "(3850, 3)"
            ]
          },
          "metadata": {},
          "execution_count": 11
        }
      ]
    },
    {
      "cell_type": "code",
      "source": [
        "df.info()"
      ],
      "metadata": {
        "colab": {
          "base_uri": "https://localhost:8080/"
        },
        "id": "jw2JCCIQzQ1F",
        "outputId": "cc18135e-69d3-4b66-995e-8b41d810d70a"
      },
      "execution_count": null,
      "outputs": [
        {
          "output_type": "stream",
          "name": "stdout",
          "text": [
            "<class 'pandas.core.frame.DataFrame'>\n",
            "RangeIndex: 3850 entries, 0 to 3849\n",
            "Data columns (total 3 columns):\n",
            " #   Column     Non-Null Count  Dtype \n",
            "---  ------     --------------  ----- \n",
            " 0   Sentences  3850 non-null   object\n",
            " 1   Tags       3850 non-null   object\n",
            " 2   length     3850 non-null   object\n",
            "dtypes: object(3)\n",
            "memory usage: 90.4+ KB\n"
          ]
        }
      ]
    },
    {
      "cell_type": "code",
      "source": [
        "df['length'].value_counts().plot(kind='bar',figsize=(15,5))"
      ],
      "metadata": {
        "colab": {
          "base_uri": "https://localhost:8080/",
          "height": 339
        },
        "id": "eqe3szAIzS38",
        "outputId": "a085e4f1-7785-444d-d1d9-7619e3ec1173"
      },
      "execution_count": null,
      "outputs": [
        {
          "output_type": "execute_result",
          "data": {
            "text/plain": [
              "<matplotlib.axes._subplots.AxesSubplot at 0x7ff4d4d5d5e0>"
            ]
          },
          "metadata": {},
          "execution_count": 13
        },
        {
          "output_type": "display_data",
          "data": {
            "text/plain": [
              "<Figure size 1080x360 with 1 Axes>"
            ],
            "image/png": "[encoded data removed]"
          },
          "metadata": {
            "needs_background": "light"
          }
        }
      ]
    },
    {
      "cell_type": "code",
      "source": [
        "dfNER = pd.DataFrame(columns=['Sentence','Word','Tag'])"
      ],
      "metadata": {
        "id": "_OgtzK9NJco5"
      },
      "execution_count": null,
      "outputs": []
    },
    {
      "cell_type": "code",
      "source": [
        "for i in range(0, len(df)):\n",
        "  for j in range(0,len(df['Sentences'][i])):\n",
        "    dfNER = dfNER.append({'Sentence': 'Sentence:'+ str(i),'Word': df['Sentences'][i][j], 'Tag': df['Tags'][i][j]}, ignore_index=True)"
      ],
      "metadata": {
        "id": "Phmp9fqv7YQ4"
      },
      "execution_count": null,
      "outputs": []
    },
    {
      "cell_type": "code",
      "source": [
        "dfNER['Tag'].value_counts()"
      ],
      "metadata": {
        "colab": {
          "base_uri": "https://localhost:8080/"
        },
        "id": "BWoMCXP4DfNZ",
        "outputId": "507baed1-5867-457a-cdde-c6a8a12513b7"
      },
      "execution_count": null,
      "outputs": [
        {
          "output_type": "execute_result",
          "data": {
            "text/plain": [
              "O                55953\n",
              "B-geo-loc          882\n",
              "B-company          621\n",
              "B-other            584\n",
              "I-other            556\n",
              "I-product          500\n",
              "B-person           482\n",
              "I-facility         366\n",
              "I-person           300\n",
              "I-company          265\n",
              "B-facility         253\n",
              "B-product          246\n",
              "I-geo-loc          219\n",
              "B-musicartist      191\n",
              "B-sportsteam       147\n",
              "I-musicartist      140\n",
              "I-movie             48\n",
              "I-sportsteam        48\n",
              "I-tvshow            40\n",
              "B-movie             34\n",
              "B-tvshow            33\n",
              "Name: Tag, dtype: int64"
            ]
          },
          "metadata": {},
          "execution_count": 16
        }
      ]
    },
    {
      "cell_type": "code",
      "source": [
        "dfNER['Tag'].value_counts().plot(kind='bar',figsize=(15,5))"
      ],
      "metadata": {
        "colab": {
          "base_uri": "https://localhost:8080/",
          "height": 394
        },
        "id": "P10BzZjuE2G9",
        "outputId": "03ef1632-de8b-4c64-ef10-cd55926c829b"
      },
      "execution_count": null,
      "outputs": [
        {
          "output_type": "execute_result",
          "data": {
            "text/plain": [
              "<matplotlib.axes._subplots.AxesSubplot at 0x7ff4d4c28670>"
            ]
          },
          "metadata": {},
          "execution_count": 17
        },
        {
          "output_type": "display_data",
          "data": {
            "text/plain": [
              "<Figure size 1080x360 with 1 Axes>"
            ],
            "image/png": "[encoded data removed]"
          },
          "metadata": {
            "needs_background": "light"
          }
        }
      ]
    },
    {
      "cell_type": "code",
      "source": [
        "dfNER[dfNER[\"Tag\"]!=\"O\"][\"Tag\"].value_counts().plot(kind=\"bar\", figsize=(15,5))\n"
      ],
      "metadata": {
        "colab": {
          "base_uri": "https://localhost:8080/",
          "height": 394
        },
        "id": "JkoM5tokfHnu",
        "outputId": "c01d488f-cd4c-4bb1-b47e-15b02c5368b9"
      },
      "execution_count": null,
      "outputs": [
        {
          "output_type": "execute_result",
          "data": {
            "text/plain": [
              "<matplotlib.axes._subplots.AxesSubplot at 0x7ff4d4300a00>"
            ]
          },
          "metadata": {},
          "execution_count": 18
        },
        {
          "output_type": "display_data",
          "data": {
            "text/plain": [
              "<Figure size 1080x360 with 1 Axes>"
            ],
            "image/png": "[encoded data removed]"
          },
          "metadata": {
            "needs_background": "light"
          }
        }
      ]
    },
    {
      "cell_type": "code",
      "source": [
        "dfNER"
      ],
      "metadata": {
        "colab": {
          "base_uri": "https://localhost:8080/",
          "height": 424
        },
        "id": "_uF2wgyXGUqV",
        "outputId": "0276a65e-530d-48ab-a41b-58dd96052ed8"
      },
      "execution_count": null,
      "outputs": [
        {
          "output_type": "execute_result",
          "data": {
            "text/plain": [
              "            Sentence                     Word      Tag\n",
              "0         Sentence:0                      New  B-other\n",
              "1         Sentence:0                  Orleans  I-other\n",
              "2         Sentence:0                   Mother  I-other\n",
              "3         Sentence:0                       's  I-other\n",
              "4         Sentence:0                      Day  I-other\n",
              "...              ...                      ...      ...\n",
              "61903  Sentence:3849                      her        O\n",
              "61904  Sentence:3849                   family        O\n",
              "61905  Sentence:3849                      :-)        O\n",
              "61906  Sentence:3849       #OTWOLManilaInLove        O\n",
              "61907  Sentence:3849  https://t.co/Q0oOu093lJ        O\n",
              "\n",
              "[61908 rows x 3 columns]"
            ],
            "text/html": [
              "\n",
              "  <div id=\"df-777f4506-3cab-4e4f-ac2f-280fb0d75a57\">\n",
              "    <div class=\"colab-df-container\">\n",
              "      <div>\n",
              "<style scoped>\n",
              "    .dataframe tbody tr th:only-of-type {\n",
              "        vertical-align: middle;\n",
              "    }\n",
              "\n",
              "    .dataframe tbody tr th {\n",
              "        vertical-align: top;\n",
              "    }\n",
              "\n",
              "    .dataframe thead th {\n",
              "        text-align: right;\n",
              "    }\n",
              "</style>\n",
              "<table border=\"1\" class=\"dataframe\">\n",
              "  <thead>\n",
              "    <tr style=\"text-align: right;\">\n",
              "      <th></th>\n",
              "      <th>Sentence</th>\n",
              "      <th>Word</th>\n",
              "      <th>Tag</th>\n",
              "    </tr>\n",
              "  </thead>\n",
              "  <tbody>\n",
              "    <tr>\n",
              "      <th>0</th>\n",
              "      <td>Sentence:0</td>\n",
              "      <td>New</td>\n",
              "      <td>B-other</td>\n",
              "    </tr>\n",
              "    <tr>\n",
              "      <th>1</th>\n",
              "      <td>Sentence:0</td>\n",
              "      <td>Orleans</td>\n",
              "      <td>I-other</td>\n",
              "    </tr>\n",
              "    <tr>\n",
              "      <th>2</th>\n",
              "      <td>Sentence:0</td>\n",
              "      <td>Mother</td>\n",
              "      <td>I-other</td>\n",
              "    </tr>\n",
              "    <tr>\n",
              "      <th>3</th>\n",
              "      <td>Sentence:0</td>\n",
              "      <td>'s</td>\n",
              "      <td>I-other</td>\n",
              "    </tr>\n",
              "    <tr>\n",
              "      <th>4</th>\n",
              "      <td>Sentence:0</td>\n",
              "      <td>Day</td>\n",
              "      <td>I-other</td>\n",
              "    </tr>\n",
              "    <tr>\n",
              "      <th>...</th>\n",
              "      <td>...</td>\n",
              "      <td>...</td>\n",
              "      <td>...</td>\n",
              "    </tr>\n",
              "    <tr>\n",
              "      <th>61903</th>\n",
              "      <td>Sentence:3849</td>\n",
              "      <td>her</td>\n",
              "      <td>O</td>\n",
              "    </tr>\n",
              "    <tr>\n",
              "      <th>61904</th>\n",
              "      <td>Sentence:3849</td>\n",
              "      <td>family</td>\n",
              "      <td>O</td>\n",
              "    </tr>\n",
              "    <tr>\n",
              "      <th>61905</th>\n",
              "      <td>Sentence:3849</td>\n",
              "      <td>:-)</td>\n",
              "      <td>O</td>\n",
              "    </tr>\n",
              "    <tr>\n",
              "      <th>61906</th>\n",
              "      <td>Sentence:3849</td>\n",
              "      <td>#OTWOLManilaInLove</td>\n",
              "      <td>O</td>\n",
              "    </tr>\n",
              "    <tr>\n",
              "      <th>61907</th>\n",
              "      <td>Sentence:3849</td>\n",
              "      <td>https://t.co/Q0oOu093lJ</td>\n",
              "      <td>O</td>\n",
              "    </tr>\n",
              "  </tbody>\n",
              "</table>\n",
              "<p>61908 rows × 3 columns</p>\n",
              "</div>\n",
              "      <button class=\"colab-df-convert\" onclick=\"convertToInteractive('df-777f4506-3cab-4e4f-ac2f-280fb0d75a57')\"\n",
              "              title=\"Convert this dataframe to an interactive table.\"\n",
              "              style=\"display:none;\">\n",
              "        \n",
              "  <svg xmlns=\"http://www.w3.org/2000/svg\" height=\"24px\"viewBox=\"0 0 24 24\"\n",
              "       width=\"24px\">\n",
              "    <path d=\"M0 0h24v24H0V0z\" fill=\"none\"/>\n",
              "    <path d=\"M18.56 5.44l.94 2.06.94-2.06 2.06-.94-2.06-.94-.94-2.06-.94 2.06-2.06.94zm-11 1L8.5 8.5l.94-2.06 2.06-.94-2.06-.94L8.5 2.5l-.94 2.06-2.06.94zm10 10l.94 2.06.94-2.06 2.06-.94-2.06-.94-.94-2.06-.94 2.06-2.06.94z\"/><path d=\"M17.41 7.96l-1.37-1.37c-.4-.4-.92-.59-1.43-.59-.52 0-1.04.2-1.43.59L10.3 9.45l-7.72 7.72c-.78.78-.78 2.05 0 2.83L4 21.41c.39.39.9.59 1.41.59.51 0 1.02-.2 1.41-.59l7.78-7.78 2.81-2.81c.8-.78.8-2.07 0-2.86zM5.41 20L4 18.59l7.72-7.72 1.47 1.35L5.41 20z\"/>\n",
              "  </svg>\n",
              "      </button>\n",
              "      \n",
              "  <style>\n",
              "    .colab-df-container {\n",
              "      display:flex;\n",
              "      flex-wrap:wrap;\n",
              "      gap: 12px;\n",
              "    }\n",
              "\n",
              "    .colab-df-convert {\n",
              "      background-color: #E8F0FE;\n",
              "      border: none;\n",
              "      border-radius: 50%;\n",
              "      cursor: pointer;\n",
              "      display: none;\n",
              "      fill: #1967D2;\n",
              "      height: 32px;\n",
              "      padding: 0 0 0 0;\n",
              "      width: 32px;\n",
              "    }\n",
              "\n",
              "    .colab-df-convert:hover {\n",
              "      background-color: #E2EBFA;\n",
              "      box-shadow: 0px 1px 2px rgba(60, 64, 67, 0.3), 0px 1px 3px 1px rgba(60, 64, 67, 0.15);\n",
              "      fill: #174EA6;\n",
              "    }\n",
              "\n",
              "    [theme=dark] .colab-df-convert {\n",
              "      background-color: #3B4455;\n",
              "      fill: #D2E3FC;\n",
              "    }\n",
              "\n",
              "    [theme=dark] .colab-df-convert:hover {\n",
              "      background-color: #434B5C;\n",
              "      box-shadow: 0px 1px 3px 1px rgba(0, 0, 0, 0.15);\n",
              "      filter: drop-shadow(0px 1px 2px rgba(0, 0, 0, 0.3));\n",
              "      fill: #FFFFFF;\n",
              "    }\n",
              "  </style>\n",
              "\n",
              "      <script>\n",
              "        const buttonEl =\n",
              "          document.querySelector('#df-777f4506-3cab-4e4f-ac2f-280fb0d75a57 button.colab-df-convert');\n",
              "        buttonEl.style.display =\n",
              "          google.colab.kernel.accessAllowed ? 'block' : 'none';\n",
              "\n",
              "        async function convertToInteractive(key) {\n",
              "          const element = document.querySelector('#df-777f4506-3cab-4e4f-ac2f-280fb0d75a57');\n",
              "          const dataTable =\n",
              "            await google.colab.kernel.invokeFunction('convertToInteractive',\n",
              "                                                     [key], {});\n",
              "          if (!dataTable) return;\n",
              "\n",
              "          const docLinkHtml = 'Like what you see? Visit the ' +\n",
              "            '<a target=\"_blank\" href=https://colab.research.google.com/notebooks/data_table.ipynb>data table notebook</a>'\n",
              "            + ' to learn more about interactive tables.';\n",
              "          element.innerHTML = '';\n",
              "          dataTable['output_type'] = 'display_data';\n",
              "          await google.colab.output.renderOutput(dataTable, element);\n",
              "          const docLink = document.createElement('div');\n",
              "          docLink.innerHTML = docLinkHtml;\n",
              "          element.appendChild(docLink);\n",
              "        }\n",
              "      </script>\n",
              "    </div>\n",
              "  </div>\n",
              "  "
            ]
          },
          "metadata": {},
          "execution_count": 19
        }
      ]
    },
    {
      "cell_type": "code",
      "source": [
        "from itertools import chain\n",
        "def get_dict_map(data, token_or_tag):\n",
        "    tok2idx = {}\n",
        "    idx2tok = {}\n",
        "\n",
        "    if token_or_tag == 'token':\n",
        "        vocab = list(set(dfNER['Word'].to_list()))\n",
        "    else:\n",
        "        vocab = list(set(dfNER['Tag'].to_list()))\n",
        "\n",
        "    idx2tok = {idx:tok for  idx, tok in enumerate(vocab)}\n",
        "    tok2idx = {tok:idx for  idx, tok in enumerate(vocab)}\n",
        "    return tok2idx, idx2tok\n",
        "\n",
        "\n",
        "token2idx, idx2token = get_dict_map(dfNER, 'token')\n",
        "tag2idx, idx2tag = get_dict_map(dfNER, 'tag')"
      ],
      "metadata": {
        "id": "Jl6hW5hIGUsr"
      },
      "execution_count": null,
      "outputs": []
    },
    {
      "cell_type": "code",
      "source": [
        "print(\"The word India is identified by the index: {}\".format(token2idx[\"India\"]))\n",
        "print(\"The label B-org for the organization is identified by the index: {}\".format(tag2idx[\"B-other\"]))\n"
      ],
      "metadata": {
        "colab": {
          "base_uri": "https://localhost:8080/"
        },
        "id": "tHbgx7c2plk_",
        "outputId": "f9fe4d2f-76e6-4d0d-c1a8-8da5a4741193"
      },
      "execution_count": null,
      "outputs": [
        {
          "output_type": "stream",
          "name": "stdout",
          "text": [
            "The word India is identified by the index: 3570\n",
            "The label B-org for the organization is identified by the index: 13\n"
          ]
        }
      ]
    },
    {
      "cell_type": "code",
      "source": [
        "dfNER['Word_idx'] = dfNER['Word'].map(token2idx)\n",
        "dfNER['Tag_idx'] = dfNER['Tag'].map(tag2idx)\n",
        "dfNER.head()"
      ],
      "metadata": {
        "colab": {
          "base_uri": "https://localhost:8080/",
          "height": 206
        },
        "id": "iHz_m_wvGUvQ",
        "outputId": "9539c1cd-a7d4-4156-8498-cb2b15907611"
      },
      "execution_count": null,
      "outputs": [
        {
          "output_type": "execute_result",
          "data": {
            "text/plain": [
              "     Sentence     Word      Tag  Word_idx  Tag_idx\n",
              "0  Sentence:0      New  B-other     13328       13\n",
              "1  Sentence:0  Orleans  I-other     14611       20\n",
              "2  Sentence:0   Mother  I-other      5991       20\n",
              "3  Sentence:0       's  I-other      1510       20\n",
              "4  Sentence:0      Day  I-other     11316       20"
            ],
            "text/html": [
              "\n",
              "  <div id=\"df-ae4c7fc3-8704-4d98-88eb-3434617680f0\">\n",
              "    <div class=\"colab-df-container\">\n",
              "      <div>\n",
              "<style scoped>\n",
              "    .dataframe tbody tr th:only-of-type {\n",
              "        vertical-align: middle;\n",
              "    }\n",
              "\n",
              "    .dataframe tbody tr th {\n",
              "        vertical-align: top;\n",
              "    }\n",
              "\n",
              "    .dataframe thead th {\n",
              "        text-align: right;\n",
              "    }\n",
              "</style>\n",
              "<table border=\"1\" class=\"dataframe\">\n",
              "  <thead>\n",
              "    <tr style=\"text-align: right;\">\n",
              "      <th></th>\n",
              "      <th>Sentence</th>\n",
              "      <th>Word</th>\n",
              "      <th>Tag</th>\n",
              "      <th>Word_idx</th>\n",
              "      <th>Tag_idx</th>\n",
              "    </tr>\n",
              "  </thead>\n",
              "  <tbody>\n",
              "    <tr>\n",
              "      <th>0</th>\n",
              "      <td>Sentence:0</td>\n",
              "      <td>New</td>\n",
              "      <td>B-other</td>\n",
              "      <td>13328</td>\n",
              "      <td>13</td>\n",
              "    </tr>\n",
              "    <tr>\n",
              "      <th>1</th>\n",
              "      <td>Sentence:0</td>\n",
              "      <td>Orleans</td>\n",
              "      <td>I-other</td>\n",
              "      <td>14611</td>\n",
              "      <td>20</td>\n",
              "    </tr>\n",
              "    <tr>\n",
              "      <th>2</th>\n",
              "      <td>Sentence:0</td>\n",
              "      <td>Mother</td>\n",
              "      <td>I-other</td>\n",
              "      <td>5991</td>\n",
              "      <td>20</td>\n",
              "    </tr>\n",
              "    <tr>\n",
              "      <th>3</th>\n",
              "      <td>Sentence:0</td>\n",
              "      <td>'s</td>\n",
              "      <td>I-other</td>\n",
              "      <td>1510</td>\n",
              "      <td>20</td>\n",
              "    </tr>\n",
              "    <tr>\n",
              "      <th>4</th>\n",
              "      <td>Sentence:0</td>\n",
              "      <td>Day</td>\n",
              "      <td>I-other</td>\n",
              "      <td>11316</td>\n",
              "      <td>20</td>\n",
              "    </tr>\n",
              "  </tbody>\n",
              "</table>\n",
              "</div>\n",
              "      <button class=\"colab-df-convert\" onclick=\"convertToInteractive('df-ae4c7fc3-8704-4d98-88eb-3434617680f0')\"\n",
              "              title=\"Convert this dataframe to an interactive table.\"\n",
              "              style=\"display:none;\">\n",
              "        \n",
              "  <svg xmlns=\"http://www.w3.org/2000/svg\" height=\"24px\"viewBox=\"0 0 24 24\"\n",
              "       width=\"24px\">\n",
              "    <path d=\"M0 0h24v24H0V0z\" fill=\"none\"/>\n",
              "    <path d=\"M18.56 5.44l.94 2.06.94-2.06 2.06-.94-2.06-.94-.94-2.06-.94 2.06-2.06.94zm-11 1L8.5 8.5l.94-2.06 2.06-.94-2.06-.94L8.5 2.5l-.94 2.06-2.06.94zm10 10l.94 2.06.94-2.06 2.06-.94-2.06-.94-.94-2.06-.94 2.06-2.06.94z\"/><path d=\"M17.41 7.96l-1.37-1.37c-.4-.4-.92-.59-1.43-.59-.52 0-1.04.2-1.43.59L10.3 9.45l-7.72 7.72c-.78.78-.78 2.05 0 2.83L4 21.41c.39.39.9.59 1.41.59.51 0 1.02-.2 1.41-.59l7.78-7.78 2.81-2.81c.8-.78.8-2.07 0-2.86zM5.41 20L4 18.59l7.72-7.72 1.47 1.35L5.41 20z\"/>\n",
              "  </svg>\n",
              "      </button>\n",
              "      \n",
              "  <style>\n",
              "    .colab-df-container {\n",
              "      display:flex;\n",
              "      flex-wrap:wrap;\n",
              "      gap: 12px;\n",
              "    }\n",
              "\n",
              "    .colab-df-convert {\n",
              "      background-color: #E8F0FE;\n",
              "      border: none;\n",
              "      border-radius: 50%;\n",
              "      cursor: pointer;\n",
              "      display: none;\n",
              "      fill: #1967D2;\n",
              "      height: 32px;\n",
              "      padding: 0 0 0 0;\n",
              "      width: 32px;\n",
              "    }\n",
              "\n",
              "    .colab-df-convert:hover {\n",
              "      background-color: #E2EBFA;\n",
              "      box-shadow: 0px 1px 2px rgba(60, 64, 67, 0.3), 0px 1px 3px 1px rgba(60, 64, 67, 0.15);\n",
              "      fill: #174EA6;\n",
              "    }\n",
              "\n",
              "    [theme=dark] .colab-df-convert {\n",
              "      background-color: #3B4455;\n",
              "      fill: #D2E3FC;\n",
              "    }\n",
              "\n",
              "    [theme=dark] .colab-df-convert:hover {\n",
              "      background-color: #434B5C;\n",
              "      box-shadow: 0px 1px 3px 1px rgba(0, 0, 0, 0.15);\n",
              "      filter: drop-shadow(0px 1px 2px rgba(0, 0, 0, 0.3));\n",
              "      fill: #FFFFFF;\n",
              "    }\n",
              "  </style>\n",
              "\n",
              "      <script>\n",
              "        const buttonEl =\n",
              "          document.querySelector('#df-ae4c7fc3-8704-4d98-88eb-3434617680f0 button.colab-df-convert');\n",
              "        buttonEl.style.display =\n",
              "          google.colab.kernel.accessAllowed ? 'block' : 'none';\n",
              "\n",
              "        async function convertToInteractive(key) {\n",
              "          const element = document.querySelector('#df-ae4c7fc3-8704-4d98-88eb-3434617680f0');\n",
              "          const dataTable =\n",
              "            await google.colab.kernel.invokeFunction('convertToInteractive',\n",
              "                                                     [key], {});\n",
              "          if (!dataTable) return;\n",
              "\n",
              "          const docLinkHtml = 'Like what you see? Visit the ' +\n",
              "            '<a target=\"_blank\" href=https://colab.research.google.com/notebooks/data_table.ipynb>data table notebook</a>'\n",
              "            + ' to learn more about interactive tables.';\n",
              "          element.innerHTML = '';\n",
              "          dataTable['output_type'] = 'display_data';\n",
              "          await google.colab.output.renderOutput(dataTable, element);\n",
              "          const docLink = document.createElement('div');\n",
              "          docLink.innerHTML = docLinkHtml;\n",
              "          element.appendChild(docLink);\n",
              "        }\n",
              "      </script>\n",
              "    </div>\n",
              "  </div>\n",
              "  "
            ]
          },
          "metadata": {},
          "execution_count": 22
        }
      ]
    },
    {
      "cell_type": "code",
      "source": [
        "data = dfNER.fillna(method='ffill', axis=0)\n",
        "# Groupby and collect columns\n",
        "data_grp = data.groupby(\n",
        "['Sentence'],as_index=False\n",
        ")['Word', 'Tag', 'Word_idx', 'Tag_idx'].agg(lambda x: list(x))\n",
        "# Visualise data\n",
        "data_grp.head()"
      ],
      "metadata": {
        "colab": {
          "base_uri": "https://localhost:8080/",
          "height": 241
        },
        "id": "UUh9E0PdGUx3",
        "outputId": "99a25d2b-eaeb-4e7e-c8e3-19e250e57024"
      },
      "execution_count": null,
      "outputs": [
        {
          "output_type": "stream",
          "name": "stderr",
          "text": [
            "<ipython-input-23-86242238246c>:3: FutureWarning: Indexing with multiple keys (implicitly converted to a tuple of keys) will be deprecated, use a list instead.\n",
            "  data_grp = data.groupby(\n"
          ]
        },
        {
          "output_type": "execute_result",
          "data": {
            "text/plain": [
              "        Sentence                                               Word  \\\n",
              "0     Sentence:0  [New, Orleans, Mother, 's, Day, Parade, shooti...   \n",
              "1     Sentence:1  [RT, @hxranspizza, :, Going, into, school, tom...   \n",
              "2    Sentence:10  [I, drive, by, that, motel, almost, every, nig...   \n",
              "3   Sentence:100  [RT, @askpenners, :, It, 's, gone, ., Done, an...   \n",
              "4  Sentence:1000  [@krisp_y, guess, who, i, won't, allow, to, cl...   \n",
              "\n",
              "                                                 Tag  \\\n",
              "0  [B-other, I-other, I-other, I-other, I-other, ...   \n",
              "1                  [O, O, O, O, O, O, O, O, O, O, O]   \n",
              "2                     [O, O, O, O, O, O, O, O, O, O]   \n",
              "3  [O, O, O, O, O, O, O, O, O, O, O, O, O, O, O, ...   \n",
              "4               [O, O, O, O, O, O, O, O, O, O, O, O]   \n",
              "\n",
              "                                            Word_idx  \\\n",
              "0  [13328, 14611, 5991, 1510, 11316, 5909, 12990,...   \n",
              "1  [399, 14485, 6442, 526, 16971, 4760, 18134, 43...   \n",
              "2  [8762, 14904, 9985, 14657, 2908, 6170, 7756, 1...   \n",
              "3  [399, 15921, 6442, 5972, 1510, 8863, 15011, 25...   \n",
              "4  [10952, 5062, 17252, 18276, 1835, 5821, 14169,...   \n",
              "\n",
              "                                             Tag_idx  \n",
              "0  [13, 20, 20, 20, 20, 20, 19, 19, 19, 19, 19, 1...  \n",
              "1       [19, 19, 19, 19, 19, 19, 19, 19, 19, 19, 19]  \n",
              "2           [19, 19, 19, 19, 19, 19, 19, 19, 19, 19]  \n",
              "3  [19, 19, 19, 19, 19, 19, 19, 19, 19, 19, 19, 1...  \n",
              "4   [19, 19, 19, 19, 19, 19, 19, 19, 19, 19, 19, 19]  "
            ],
            "text/html": [
              "\n",
              "  <div id=\"df-ab92901f-638a-4362-a5ac-9177068c1ae4\">\n",
              "    <div class=\"colab-df-container\">\n",
              "      <div>\n",
              "<style scoped>\n",
              "    .dataframe tbody tr th:only-of-type {\n",
              "        vertical-align: middle;\n",
              "    }\n",
              "\n",
              "    .dataframe tbody tr th {\n",
              "        vertical-align: top;\n",
              "    }\n",
              "\n",
              "    .dataframe thead th {\n",
              "        text-align: right;\n",
              "    }\n",
              "</style>\n",
              "<table border=\"1\" class=\"dataframe\">\n",
              "  <thead>\n",
              "    <tr style=\"text-align: right;\">\n",
              "      <th></th>\n",
              "      <th>Sentence</th>\n",
              "      <th>Word</th>\n",
              "      <th>Tag</th>\n",
              "      <th>Word_idx</th>\n",
              "      <th>Tag_idx</th>\n",
              "    </tr>\n",
              "  </thead>\n",
              "  <tbody>\n",
              "    <tr>\n",
              "      <th>0</th>\n",
              "      <td>Sentence:0</td>\n",
              "      <td>[New, Orleans, Mother, 's, Day, Parade, shooti...</td>\n",
              "      <td>[B-other, I-other, I-other, I-other, I-other, ...</td>\n",
              "      <td>[13328, 14611, 5991, 1510, 11316, 5909, 12990,...</td>\n",
              "      <td>[13, 20, 20, 20, 20, 20, 19, 19, 19, 19, 19, 1...</td>\n",
              "    </tr>\n",
              "    <tr>\n",
              "      <th>1</th>\n",
              "      <td>Sentence:1</td>\n",
              "      <td>[RT, @hxranspizza, :, Going, into, school, tom...</td>\n",
              "      <td>[O, O, O, O, O, O, O, O, O, O, O]</td>\n",
              "      <td>[399, 14485, 6442, 526, 16971, 4760, 18134, 43...</td>\n",
              "      <td>[19, 19, 19, 19, 19, 19, 19, 19, 19, 19, 19]</td>\n",
              "    </tr>\n",
              "    <tr>\n",
              "      <th>2</th>\n",
              "      <td>Sentence:10</td>\n",
              "      <td>[I, drive, by, that, motel, almost, every, nig...</td>\n",
              "      <td>[O, O, O, O, O, O, O, O, O, O]</td>\n",
              "      <td>[8762, 14904, 9985, 14657, 2908, 6170, 7756, 1...</td>\n",
              "      <td>[19, 19, 19, 19, 19, 19, 19, 19, 19, 19]</td>\n",
              "    </tr>\n",
              "    <tr>\n",
              "      <th>3</th>\n",
              "      <td>Sentence:100</td>\n",
              "      <td>[RT, @askpenners, :, It, 's, gone, ., Done, an...</td>\n",
              "      <td>[O, O, O, O, O, O, O, O, O, O, O, O, O, O, O, ...</td>\n",
              "      <td>[399, 15921, 6442, 5972, 1510, 8863, 15011, 25...</td>\n",
              "      <td>[19, 19, 19, 19, 19, 19, 19, 19, 19, 19, 19, 1...</td>\n",
              "    </tr>\n",
              "    <tr>\n",
              "      <th>4</th>\n",
              "      <td>Sentence:1000</td>\n",
              "      <td>[@krisp_y, guess, who, i, won't, allow, to, cl...</td>\n",
              "      <td>[O, O, O, O, O, O, O, O, O, O, O, O]</td>\n",
              "      <td>[10952, 5062, 17252, 18276, 1835, 5821, 14169,...</td>\n",
              "      <td>[19, 19, 19, 19, 19, 19, 19, 19, 19, 19, 19, 19]</td>\n",
              "    </tr>\n",
              "  </tbody>\n",
              "</table>\n",
              "</div>\n",
              "      <button class=\"colab-df-convert\" onclick=\"convertToInteractive('df-ab92901f-638a-4362-a5ac-9177068c1ae4')\"\n",
              "              title=\"Convert this dataframe to an interactive table.\"\n",
              "              style=\"display:none;\">\n",
              "        \n",
              "  <svg xmlns=\"http://www.w3.org/2000/svg\" height=\"24px\"viewBox=\"0 0 24 24\"\n",
              "       width=\"24px\">\n",
              "    <path d=\"M0 0h24v24H0V0z\" fill=\"none\"/>\n",
              "    <path d=\"M18.56 5.44l.94 2.06.94-2.06 2.06-.94-2.06-.94-.94-2.06-.94 2.06-2.06.94zm-11 1L8.5 8.5l.94-2.06 2.06-.94-2.06-.94L8.5 2.5l-.94 2.06-2.06.94zm10 10l.94 2.06.94-2.06 2.06-.94-2.06-.94-.94-2.06-.94 2.06-2.06.94z\"/><path d=\"M17.41 7.96l-1.37-1.37c-.4-.4-.92-.59-1.43-.59-.52 0-1.04.2-1.43.59L10.3 9.45l-7.72 7.72c-.78.78-.78 2.05 0 2.83L4 21.41c.39.39.9.59 1.41.59.51 0 1.02-.2 1.41-.59l7.78-7.78 2.81-2.81c.8-.78.8-2.07 0-2.86zM5.41 20L4 18.59l7.72-7.72 1.47 1.35L5.41 20z\"/>\n",
              "  </svg>\n",
              "      </button>\n",
              "      \n",
              "  <style>\n",
              "    .colab-df-container {\n",
              "      display:flex;\n",
              "      flex-wrap:wrap;\n",
              "      gap: 12px;\n",
              "    }\n",
              "\n",
              "    .colab-df-convert {\n",
              "      background-color: #E8F0FE;\n",
              "      border: none;\n",
              "      border-radius: 50%;\n",
              "      cursor: pointer;\n",
              "      display: none;\n",
              "      fill: #1967D2;\n",
              "      height: 32px;\n",
              "      padding: 0 0 0 0;\n",
              "      width: 32px;\n",
              "    }\n",
              "\n",
              "    .colab-df-convert:hover {\n",
              "      background-color: #E2EBFA;\n",
              "      box-shadow: 0px 1px 2px rgba(60, 64, 67, 0.3), 0px 1px 3px 1px rgba(60, 64, 67, 0.15);\n",
              "      fill: #174EA6;\n",
              "    }\n",
              "\n",
              "    [theme=dark] .colab-df-convert {\n",
              "      background-color: #3B4455;\n",
              "      fill: #D2E3FC;\n",
              "    }\n",
              "\n",
              "    [theme=dark] .colab-df-convert:hover {\n",
              "      background-color: #434B5C;\n",
              "      box-shadow: 0px 1px 3px 1px rgba(0, 0, 0, 0.15);\n",
              "      filter: drop-shadow(0px 1px 2px rgba(0, 0, 0, 0.3));\n",
              "      fill: #FFFFFF;\n",
              "    }\n",
              "  </style>\n",
              "\n",
              "      <script>\n",
              "        const buttonEl =\n",
              "          document.querySelector('#df-ab92901f-638a-4362-a5ac-9177068c1ae4 button.colab-df-convert');\n",
              "        buttonEl.style.display =\n",
              "          google.colab.kernel.accessAllowed ? 'block' : 'none';\n",
              "\n",
              "        async function convertToInteractive(key) {\n",
              "          const element = document.querySelector('#df-ab92901f-638a-4362-a5ac-9177068c1ae4');\n",
              "          const dataTable =\n",
              "            await google.colab.kernel.invokeFunction('convertToInteractive',\n",
              "                                                     [key], {});\n",
              "          if (!dataTable) return;\n",
              "\n",
              "          const docLinkHtml = 'Like what you see? Visit the ' +\n",
              "            '<a target=\"_blank\" href=https://colab.research.google.com/notebooks/data_table.ipynb>data table notebook</a>'\n",
              "            + ' to learn more about interactive tables.';\n",
              "          element.innerHTML = '';\n",
              "          dataTable['output_type'] = 'display_data';\n",
              "          await google.colab.output.renderOutput(dataTable, element);\n",
              "          const docLink = document.createElement('div');\n",
              "          docLink.innerHTML = docLinkHtml;\n",
              "          element.appendChild(docLink);\n",
              "        }\n",
              "      </script>\n",
              "    </div>\n",
              "  </div>\n",
              "  "
            ]
          },
          "metadata": {},
          "execution_count": 23
        }
      ]
    },
    {
      "cell_type": "code",
      "source": [
        "from sklearn.model_selection import train_test_split\n",
        "from keras_preprocessing.sequence import pad_sequences\n",
        "from keras.utils import to_categorical"
      ],
      "metadata": {
        "id": "CHqUIuA0GU0j"
      },
      "execution_count": null,
      "outputs": []
    },
    {
      "cell_type": "code",
      "source": [
        "def get_pad_train_test_val(data_group, data):\n",
        "\n",
        "    #get max token and tag length\n",
        "    n_token = len(list(set(dfNER['Word'].to_list())))\n",
        "    n_tag = len(list(set(dfNER['Tag'].to_list())))\n",
        "\n",
        "    #Pad tokens (X var)\n",
        "    tokens = data_grp['Word_idx'].tolist()\n",
        "    maxlen = max([len(s) for s in tokens])\n",
        "    pad_tokens = pad_sequences(tokens, maxlen=maxlen, dtype='int32', padding='post', value= n_token - 1)\n",
        "\n",
        "    #Pad Tags (y var) and convert it into one hot encoding\n",
        "    tags = data_grp['Tag_idx'].tolist()\n",
        "    pad_tags = pad_sequences(tags, maxlen=maxlen, dtype='int32', padding='post', value= tag2idx[\"O\"])\n",
        "    n_tags = len(tag2idx)\n",
        "    pad_tags = [to_categorical(i, num_classes=n_tags) for i in pad_tags]\n",
        "\n",
        "    #Split train, test and validation set\n",
        "    tokens_, test_tokens, tags_, test_tags = train_test_split(pad_tokens, pad_tags, test_size=0.2, train_size=0.8, random_state=2020)\n",
        "    train_tokens, val_tokens, train_tags, val_tags = train_test_split(tokens_,tags_,test_size = 0.25,train_size =0.75, random_state=2020)\n",
        "\n",
        "    print(\n",
        "        'train_tokens length:', len(train_tokens),\n",
        "        '\\ntrain_tokens length:', len(train_tokens),\n",
        "        '\\ntest_tokens length:', len(test_tokens),\n",
        "        '\\ntest_tags:', len(test_tags),\n",
        "        '\\nval_tokens:', len(val_tokens),\n",
        "        '\\nval_tags:', len(val_tags),\n",
        "    )\n",
        "\n",
        "    return train_tokens, val_tokens, test_tokens, train_tags, val_tags, test_tags\n",
        "\n",
        "train_tokens, val_tokens, test_tokens, train_tags, val_tags, test_tags = get_pad_train_test_val(data_grp, dfNER)\n"
      ],
      "metadata": {
        "colab": {
          "base_uri": "https://localhost:8080/"
        },
        "id": "E8LwsCtDNZ34",
        "outputId": "8a7100ef-b516-4f92-a308-1921e941546f"
      },
      "execution_count": null,
      "outputs": [
        {
          "output_type": "stream",
          "name": "stdout",
          "text": [
            "train_tokens length: 2310 \n",
            "train_tokens length: 2310 \n",
            "test_tokens length: 770 \n",
            "test_tags: 770 \n",
            "val_tokens: 770 \n",
            "val_tags: 770\n"
          ]
        }
      ]
    },
    {
      "cell_type": "code",
      "source": [
        "import numpy as np\n",
        "\n",
        "print(train_tokens.shape)\n",
        "print(np.array(train_tags).shape)\n",
        "print(test_tokens.shape)\n",
        "print(np.array(test_tags).shape)"
      ],
      "metadata": {
        "colab": {
          "base_uri": "https://localhost:8080/"
        },
        "id": "phHbKp0YqeiD",
        "outputId": "962e3eec-3a3b-42ae-d2cb-dd47df08da72"
      },
      "execution_count": null,
      "outputs": [
        {
          "output_type": "stream",
          "name": "stdout",
          "text": [
            "(2310, 35)\n",
            "(2310, 35, 21)\n",
            "(770, 35)\n",
            "(770, 35, 21)\n"
          ]
        }
      ]
    },
    {
      "cell_type": "code",
      "source": [
        "words = list(dfNER['Word'].unique())"
      ],
      "metadata": {
        "id": "-8N8YbDBr_dY"
      },
      "execution_count": null,
      "outputs": []
    },
    {
      "cell_type": "code",
      "source": [
        "from keras.utils import to_categorical\n",
        "from keras.layers import LSTM, Dense, TimeDistributed, Embedding, Bidirectional\n",
        "from tensorflow.keras.layers import Input\n",
        "from keras.callbacks import ModelCheckpoint"
      ],
      "metadata": {
        "id": "oEFlLDGrsR2T"
      },
      "execution_count": null,
      "outputs": []
    },
    {
      "cell_type": "code",
      "source": [
        "!pip install git+https://www.github.com/keras-team/keras-contrib.git\n"
      ],
      "metadata": {
        "colab": {
          "base_uri": "https://localhost:8080/"
        },
        "id": "4dE5Q1bebeHc",
        "outputId": "46bd96c6-3816-4637-90f3-f48b7b48e4a7"
      },
      "execution_count": null,
      "outputs": [
        {
          "output_type": "stream",
          "name": "stdout",
          "text": [
            "Looking in indexes: https://pypi.org/simple, https://us-python.pkg.dev/colab-wheels/public/simple/\n",
            "Collecting git+https://www.github.com/keras-team/keras-contrib.git\n",
            "  Cloning https://www.github.com/keras-team/keras-contrib.git to /tmp/pip-req-build-ytvjxptr\n",
            "  Running command git clone -q https://www.github.com/keras-team/keras-contrib.git /tmp/pip-req-build-ytvjxptr\n",
            "Requirement already satisfied: keras in /usr/local/lib/python3.8/dist-packages (from keras-contrib==2.0.8) (2.9.0)\n",
            "Building wheels for collected packages: keras-contrib\n",
            "  Building wheel for keras-contrib (setup.py) ... \u001b[?25l\u001b[?25hdone\n",
            "  Created wheel for keras-contrib: filename=keras_contrib-2.0.8-py3-none-any.whl size=101076 sha256=7f3f66010bcd60fa1573465aa1e7db0eb4962f236ff93880f6c0eedccaf786ec\n",
            "  Stored in directory: /tmp/pip-ephem-wheel-cache-67kuyazx/wheels/67/d2/f4/96ae3c3c62d1e05abfc8860ad0c1207794726d44ebbbb547f3\n",
            "Successfully built keras-contrib\n",
            "Installing collected packages: keras-contrib\n",
            "Successfully installed keras-contrib-2.0.8\n"
          ]
        }
      ]
    },
    {
      "cell_type": "code",
      "source": [
        "!pip install tensorflow-addons==0.16.1\n"
      ],
      "metadata": {
        "colab": {
          "base_uri": "https://localhost:8080/"
        },
        "id": "TujrcUozcr8u",
        "outputId": "f140104d-634a-43dc-b0e8-9b9407419ac3"
      },
      "execution_count": null,
      "outputs": [
        {
          "output_type": "stream",
          "name": "stdout",
          "text": [
            "Looking in indexes: https://pypi.org/simple, https://us-python.pkg.dev/colab-wheels/public/simple/\n",
            "Collecting tensorflow-addons==0.16.1\n",
            "  Downloading tensorflow_addons-0.16.1-cp38-cp38-manylinux_2_12_x86_64.manylinux2010_x86_64.whl (1.1 MB)\n",
            "\u001b[K     |████████████████████████████████| 1.1 MB 34.3 MB/s \n",
            "\u001b[?25hRequirement already satisfied: typeguard>=2.7 in /usr/local/lib/python3.8/dist-packages (from tensorflow-addons==0.16.1) (2.7.1)\n",
            "Installing collected packages: tensorflow-addons\n",
            "Successfully installed tensorflow-addons-0.16.1\n"
          ]
        }
      ]
    },
    {
      "cell_type": "code",
      "source": [
        "import numpy as np\n",
        "import tensorflow\n",
        "from tensorflow.keras import Sequential, Model, Input\n",
        "from tensorflow.keras.layers import LSTM, Embedding, Dense, TimeDistributed, Dropout, Bidirectional\n",
        "from tensorflow.keras.utils import plot_model\n",
        "from keras_contrib.layers import CRF\n",
        "import keras as k\n"
      ],
      "metadata": {
        "id": "hiJNqqWFGU4I"
      },
      "execution_count": null,
      "outputs": []
    },
    {
      "cell_type": "code",
      "source": [
        "k.__version__\n"
      ],
      "metadata": {
        "colab": {
          "base_uri": "https://localhost:8080/",
          "height": 36
        },
        "id": "XlJ1SX-51b1T",
        "outputId": "8bbc8d1f-95be-44e2-c69b-72600adca9b2"
      },
      "execution_count": null,
      "outputs": [
        {
          "output_type": "execute_result",
          "data": {
            "text/plain": [
              "'2.9.0'"
            ],
            "application/vnd.google.colaboratory.intrinsic+json": {
              "type": "string"
            }
          },
          "metadata": {},
          "execution_count": 32
        }
      ]
    },
    {
      "cell_type": "code",
      "source": [
        "from numpy.random import seed\n",
        "seed(1)\n",
        "tensorflow.random.set_seed(2)"
      ],
      "metadata": {
        "id": "vuWVSsuZKfqt"
      },
      "execution_count": null,
      "outputs": []
    },
    {
      "cell_type": "code",
      "source": [
        "input_dim = len(list(set(dfNER['Word'].to_list())))+1\n",
        "input_length = max([len(s) for s in data_grp['Word_idx'].tolist()])\n",
        "n_tags = len(tag2idx)\n",
        "print('input_dim: ', input_dim,'\\ninput_length: ', input_length, '\\nn_tags: ', n_tags)"
      ],
      "metadata": {
        "colab": {
          "base_uri": "https://localhost:8080/"
        },
        "id": "4ezmdBj2Kh0I",
        "outputId": "8cc8ff35-30cb-4a9e-ac1b-b9adc88d1a06"
      },
      "execution_count": null,
      "outputs": [
        {
          "output_type": "stream",
          "name": "stdout",
          "text": [
            "input_dim:  18321 \n",
            "input_length:  35 \n",
            "n_tags:  21\n"
          ]
        }
      ]
    },
    {
      "cell_type": "code",
      "source": [
        "input_word = Input(shape = (input_length,))\n",
        "model = Embedding(input_dim = input_dim,output_dim = 75,input_length = input_length)(input_word)\n",
        "\n",
        "model = LSTM(units=50,return_sequences=True)(model)\n",
        "out = TimeDistributed(Dense(n_tags,activation = 'softmax'))(model)\n",
        "model = Model(input_word,out)\n",
        "model.summary()"
      ],
      "metadata": {
        "colab": {
          "base_uri": "https://localhost:8080/"
        },
        "id": "iq4FWEyov6al",
        "outputId": "bc524812-4535-4b7c-c492-f9a32da213b8"
      },
      "execution_count": null,
      "outputs": [
        {
          "output_type": "stream",
          "name": "stdout",
          "text": [
            "Model: \"model\"\n",
            "_________________________________________________________________\n",
            " Layer (type)                Output Shape              Param #   \n",
            "=================================================================\n",
            " input_1 (InputLayer)        [(None, 35)]              0         \n",
            "                                                                 \n",
            " embedding (Embedding)       (None, 35, 75)            1374075   \n",
            "                                                                 \n",
            " lstm (LSTM)                 (None, 35, 50)            25200     \n",
            "                                                                 \n",
            " time_distributed (TimeDistr  (None, 35, 21)           1071      \n",
            " ibuted)                                                         \n",
            "                                                                 \n",
            "=================================================================\n",
            "Total params: 1,400,346\n",
            "Trainable params: 1,400,346\n",
            "Non-trainable params: 0\n",
            "_________________________________________________________________\n"
          ]
        }
      ]
    },
    {
      "cell_type": "code",
      "source": [
        "model.compile(optimizer = 'adam',loss = 'categorical_crossentropy',metrics = ['accuracy'])\n"
      ],
      "metadata": {
        "id": "pymHzaMHwP01"
      },
      "execution_count": null,
      "outputs": []
    },
    {
      "cell_type": "code",
      "source": [
        "history = model.fit(train_tokens,np.array(train_tags),validation_split=0.2,batch_size = 8,epochs = 10)"
      ],
      "metadata": {
        "colab": {
          "base_uri": "https://localhost:8080/"
        },
        "id": "ZXJ891WOwSVX",
        "outputId": "520a17ef-7441-43af-d78b-75eda84df343"
      },
      "execution_count": null,
      "outputs": [
        {
          "output_type": "stream",
          "name": "stdout",
          "text": [
            "Epoch 1/10\n",
            "231/231 [==============================] - 8s 9ms/step - loss: 0.6512 - accuracy: 0.9496 - val_loss: 0.3436 - val_accuracy: 0.9528\n",
            "Epoch 2/10\n",
            "231/231 [==============================] - 3s 12ms/step - loss: 0.2625 - accuracy: 0.9569 - val_loss: 0.2703 - val_accuracy: 0.9524\n",
            "Epoch 3/10\n",
            "231/231 [==============================] - 3s 13ms/step - loss: 0.1896 - accuracy: 0.9574 - val_loss: 0.2520 - val_accuracy: 0.9536\n",
            "Epoch 4/10\n",
            "231/231 [==============================] - 2s 10ms/step - loss: 0.1555 - accuracy: 0.9605 - val_loss: 0.2475 - val_accuracy: 0.9541\n",
            "Epoch 5/10\n",
            "231/231 [==============================] - 2s 10ms/step - loss: 0.1399 - accuracy: 0.9620 - val_loss: 0.2435 - val_accuracy: 0.9545\n",
            "Epoch 6/10\n",
            "231/231 [==============================] - 2s 10ms/step - loss: 0.1302 - accuracy: 0.9638 - val_loss: 0.2466 - val_accuracy: 0.9547\n",
            "Epoch 7/10\n",
            "231/231 [==============================] - 2s 9ms/step - loss: 0.1223 - accuracy: 0.9646 - val_loss: 0.2504 - val_accuracy: 0.9525\n",
            "Epoch 8/10\n",
            "231/231 [==============================] - 2s 10ms/step - loss: 0.1168 - accuracy: 0.9655 - val_loss: 0.2615 - val_accuracy: 0.9438\n",
            "Epoch 9/10\n",
            "231/231 [==============================] - 2s 10ms/step - loss: 0.1114 - accuracy: 0.9668 - val_loss: 0.2564 - val_accuracy: 0.9458\n",
            "Epoch 10/10\n",
            "231/231 [==============================] - 2s 9ms/step - loss: 0.1056 - accuracy: 0.9695 - val_loss: 0.2674 - val_accuracy: 0.9407\n"
          ]
        }
      ]
    },
    {
      "cell_type": "code",
      "source": [
        "import matplotlib.pyplot as plt\n",
        "\n",
        "def plot_graphs(history, string):\n",
        "    plt.plot(history.history[string])\n",
        "    plt.plot(history.history['val_'+string])\n",
        "    plt.xlabel(\"Epochs\")\n",
        "    plt.ylabel(string)\n",
        "    plt.legend([string, 'val_'+string])\n",
        "    plt.show()\n",
        "\n",
        "plot_graphs(history, \"accuracy\")\n",
        "plot_graphs(history, \"loss\");"
      ],
      "metadata": {
        "colab": {
          "base_uri": "https://localhost:8080/",
          "height": 541
        },
        "id": "yiDCznarzP5P",
        "outputId": "1362bcca-6016-4141-95d2-9988542a26aa"
      },
      "execution_count": null,
      "outputs": [
        {
          "output_type": "display_data",
          "data": {
            "text/plain": [
              "<Figure size 432x288 with 1 Axes>"
            ],
            "image/png": "[encoded data removed]"
          },
          "metadata": {
            "needs_background": "light"
          }
        },
        {
          "output_type": "display_data",
          "data": {
            "text/plain": [
              "<Figure size 432x288 with 1 Axes>"
            ],
            "image/png": "[encoded data removed]"
          },
          "metadata": {
            "needs_background": "light"
          }
        }
      ]
    },
    {
      "cell_type": "code",
      "source": [
        "model.evaluate(test_tokens, np.array(test_tags))\n"
      ],
      "metadata": {
        "colab": {
          "base_uri": "https://localhost:8080/"
        },
        "id": "_n4KtaNqzfw_",
        "outputId": "bb529258-7761-4f22-aa2b-549d7bf78627"
      },
      "execution_count": null,
      "outputs": [
        {
          "output_type": "stream",
          "name": "stdout",
          "text": [
            "25/25 [==============================] - 0s 9ms/step - loss: 0.2674 - accuracy: 0.9426\n"
          ]
        },
        {
          "output_type": "execute_result",
          "data": {
            "text/plain": [
              "[0.26736322045326233, 0.9425603151321411]"
            ]
          },
          "metadata": {},
          "execution_count": 39
        }
      ]
    },
    {
      "cell_type": "code",
      "source": [
        "tags = list(set(dfNER['Tag'].values))\n"
      ],
      "metadata": {
        "id": "4PkzBUZK0Tos"
      },
      "execution_count": null,
      "outputs": []
    },
    {
      "cell_type": "code",
      "source": [
        "i = np.random.randint(0, test_tokens.shape[0])\n",
        "p = model.predict(np.array([test_tokens[i]]))\n",
        "p = np.argmax(p, axis=-1)\n",
        "\n",
        "y_true = np.argmax(np.array(test_tags), axis=-1)[i]\n",
        "\n",
        "print('{:15}{:5}\\t {}\\n'.format('Word', 'True', 'Pred'))\n",
        "print('-'*30)\n",
        "for w, true, pred in zip(test_tokens[i], y_true, p[0]):\n",
        "    print('{:15}{}\\t{}'.format(words[w-1], tags[true], tags[pred]))"
      ],
      "metadata": {
        "colab": {
          "base_uri": "https://localhost:8080/"
        },
        "id": "LWc8pcuWzost",
        "outputId": "a5295e30-2622-4f61-9883-7615d24ef9f9"
      },
      "execution_count": null,
      "outputs": [
        {
          "output_type": "stream",
          "name": "stdout",
          "text": [
            "1/1 [==============================] - 1s 654ms/step\n",
            "Word           True \t Pred\n",
            "\n",
            "------------------------------\n",
            "experts        O\tO\n",
            "@CarleeDanielle2O\tO\n",
            "WATER          O\tO\n",
            "many           O\tO\n",
            "Thessalonians  O\tO\n",
            "#EFC           O\tO\n",
            "Midland        O\tO\n",
            "http://t.co/QOLYZaBkFfO\tO\n",
            "caching        O\tO\n",
            "#LosMiniDelSonidoO\tO\n",
            "http://t.co/4oz10dVeR1O\tO\n",
            "EXPOSED        O\tO\n",
            "http://t.co/l289M160QjO\tO\n",
            "@IBeQuicker    O\tO\n",
            "#CAU           O\tO\n",
            "jaao           O\tO\n",
            "@IBeQuicker    O\tO\n",
            "Thessalonians  O\tO\n",
            "oasis          O\tI-other\n",
            "@VhinCes       O\tO\n",
            "ink            O\tO\n",
            "#OTWOLManilaInLoveO\tO\n",
            "#OTWOLManilaInLoveO\tO\n",
            "#OTWOLManilaInLoveO\tO\n",
            "#OTWOLManilaInLoveO\tO\n",
            "#OTWOLManilaInLoveO\tO\n",
            "#OTWOLManilaInLoveO\tO\n",
            "#OTWOLManilaInLoveO\tO\n",
            "#OTWOLManilaInLoveO\tO\n",
            "#OTWOLManilaInLoveO\tO\n",
            "#OTWOLManilaInLoveO\tO\n",
            "#OTWOLManilaInLoveO\tO\n",
            "#OTWOLManilaInLoveO\tO\n",
            "#OTWOLManilaInLoveO\tO\n",
            "#OTWOLManilaInLoveO\tO\n"
          ]
        }
      ]
    },
    {
      "cell_type": "markdown",
      "source": [
        "## Bi-LSTMs"
      ],
      "metadata": {
        "id": "O4AxYQTo1mSO"
      }
    },
    {
      "cell_type": "code",
      "source": [
        "input_word = Input(shape = (input_length,))\n",
        "model = Embedding(input_dim = input_dim,output_dim = 75,input_length = input_length)(input_word)\n",
        "\n",
        "model = Bidirectional(LSTM(units=50,return_sequences=True))(model)\n",
        "out = TimeDistributed(Dense(n_tags,activation = 'softmax'))(model)\n",
        "model = Model(input_word,out)\n",
        "model.summary()"
      ],
      "metadata": {
        "colab": {
          "base_uri": "https://localhost:8080/"
        },
        "id": "Mo4TQuBm1RZE",
        "outputId": "0b259e45-3447-4e0f-c9c2-4e5d0dc933ae"
      },
      "execution_count": null,
      "outputs": [
        {
          "output_type": "stream",
          "name": "stdout",
          "text": [
            "Model: \"model_1\"\n",
            "_________________________________________________________________\n",
            " Layer (type)                Output Shape              Param #   \n",
            "=================================================================\n",
            " input_2 (InputLayer)        [(None, 35)]              0         \n",
            "                                                                 \n",
            " embedding_1 (Embedding)     (None, 35, 75)            1374075   \n",
            "                                                                 \n",
            " bidirectional (Bidirectiona  (None, 35, 100)          50400     \n",
            " l)                                                              \n",
            "                                                                 \n",
            " time_distributed_1 (TimeDis  (None, 35, 21)           2121      \n",
            " tributed)                                                       \n",
            "                                                                 \n",
            "=================================================================\n",
            "Total params: 1,426,596\n",
            "Trainable params: 1,426,596\n",
            "Non-trainable params: 0\n",
            "_________________________________________________________________\n"
          ]
        }
      ]
    },
    {
      "cell_type": "code",
      "source": [
        "model.compile(optimizer = 'adam',loss = 'categorical_crossentropy',metrics = ['accuracy'])\n"
      ],
      "metadata": {
        "id": "igyJoEX61Rip"
      },
      "execution_count": null,
      "outputs": []
    },
    {
      "cell_type": "code",
      "source": [
        "history = model.fit(train_tokens,np.array(train_tags),validation_split=0.2,batch_size = 8,epochs = 5)"
      ],
      "metadata": {
        "colab": {
          "base_uri": "https://localhost:8080/"
        },
        "id": "CfZCTQ5I1Rl2",
        "outputId": "55083323-9bec-4265-f90f-8d6ba8f0a6f1"
      },
      "execution_count": null,
      "outputs": [
        {
          "output_type": "stream",
          "name": "stdout",
          "text": [
            "Epoch 1/5\n",
            "231/231 [==============================] - 5s 12ms/step - loss: 0.4412 - accuracy: 0.9521 - val_loss: 0.2699 - val_accuracy: 0.9528\n",
            "Epoch 2/5\n",
            "231/231 [==============================] - 2s 9ms/step - loss: 0.2147 - accuracy: 0.9569 - val_loss: 0.2319 - val_accuracy: 0.9529\n",
            "Epoch 3/5\n",
            "231/231 [==============================] - 2s 9ms/step - loss: 0.1604 - accuracy: 0.9584 - val_loss: 0.2264 - val_accuracy: 0.9551\n",
            "Epoch 4/5\n",
            "231/231 [==============================] - 2s 9ms/step - loss: 0.1297 - accuracy: 0.9621 - val_loss: 0.2285 - val_accuracy: 0.9559\n",
            "Epoch 5/5\n",
            "231/231 [==============================] - 2s 9ms/step - loss: 0.1131 - accuracy: 0.9668 - val_loss: 0.2346 - val_accuracy: 0.9568\n"
          ]
        }
      ]
    },
    {
      "cell_type": "code",
      "source": [
        "import matplotlib.pyplot as plt\n",
        "\n",
        "def plot_graphs(history, string):\n",
        "    plt.plot(history.history[string])\n",
        "    plt.plot(history.history['val_'+string])\n",
        "    plt.xlabel(\"Epochs\")\n",
        "    plt.ylabel(string)\n",
        "    plt.legend([string, 'val_'+string])\n",
        "    plt.show()\n",
        "\n",
        "plot_graphs(history, \"accuracy\")\n",
        "plot_graphs(history, \"loss\");"
      ],
      "metadata": {
        "colab": {
          "base_uri": "https://localhost:8080/",
          "height": 541
        },
        "id": "jm9rcqci1RpW",
        "outputId": "2f17feeb-3e07-4dc4-85c6-cdc3ce573d85"
      },
      "execution_count": null,
      "outputs": [
        {
          "output_type": "display_data",
          "data": {
            "text/plain": [
              "<Figure size 432x288 with 1 Axes>"
            ],
            "image/png": "[encoded data removed]"
          },
          "metadata": {
            "needs_background": "light"
          }
        },
        {
          "output_type": "display_data",
          "data": {
            "text/plain": [
              "<Figure size 432x288 with 1 Axes>"
            ],
            "image/png": "[encoded data removed]"
          },
          "metadata": {
            "needs_background": "light"
          }
        }
      ]
    },
    {
      "cell_type": "code",
      "source": [
        "model.evaluate(test_tokens, np.array(test_tags))\n"
      ],
      "metadata": {
        "colab": {
          "base_uri": "https://localhost:8080/"
        },
        "id": "0Qtwe81m3Nl6",
        "outputId": "c07ec0db-9504-473e-8420-aee566ca0a71"
      },
      "execution_count": null,
      "outputs": [
        {
          "output_type": "stream",
          "name": "stdout",
          "text": [
            "25/25 [==============================] - 0s 4ms/step - loss: 0.2236 - accuracy: 0.9594\n"
          ]
        },
        {
          "output_type": "execute_result",
          "data": {
            "text/plain": [
              "[0.22364583611488342, 0.9594433903694153]"
            ]
          },
          "metadata": {},
          "execution_count": 46
        }
      ]
    },
    {
      "cell_type": "code",
      "source": [
        "i = np.random.randint(0, test_tokens.shape[0])\n",
        "p = model.predict(np.array([test_tokens[i]]))\n",
        "p = np.argmax(p, axis=-1)\n",
        "\n",
        "y_true = np.argmax(np.array(test_tags), axis=-1)[i]\n",
        "\n",
        "print('{:15}{:5}\\t {}\\n'.format('Word', 'True', 'Pred'))\n",
        "print('-'*30)\n",
        "for w, true, pred in zip(test_tokens[i], y_true, p[0]):\n",
        "    print('{:15}{}\\t{}'.format(words[w-1], tags[true], tags[pred]))"
      ],
      "metadata": {
        "colab": {
          "base_uri": "https://localhost:8080/"
        },
        "id": "FjQkZo343Npd",
        "outputId": "4075e84a-3808-4fa2-9b09-ca9bad789cfb"
      },
      "execution_count": null,
      "outputs": [
        {
          "output_type": "stream",
          "name": "stdout",
          "text": [
            "1/1 [==============================] - 1s 690ms/step\n",
            "Word           True \t Pred\n",
            "\n",
            "------------------------------\n",
            "featuring      O\tO\n",
            "THAILAND       O\tO\n",
            "avec           O\tO\n",
            "Papers         O\tO\n",
            "https://t.co/P0xXbIfHNBO\tO\n",
            "justified      O\tO\n",
            "https://t.co/Ef0sPEGOULO\tO\n",
            "3/5            O\tO\n",
            "http://sns.mx/zolty2O\tO\n",
            "Ring           O\tO\n",
            "#OTWOLManilaInLoveO\tO\n",
            "#OTWOLManilaInLoveO\tO\n",
            "#OTWOLManilaInLoveO\tO\n",
            "#OTWOLManilaInLoveO\tO\n",
            "#OTWOLManilaInLoveO\tO\n",
            "#OTWOLManilaInLoveO\tO\n",
            "#OTWOLManilaInLoveO\tO\n",
            "#OTWOLManilaInLoveO\tO\n",
            "#OTWOLManilaInLoveO\tO\n",
            "#OTWOLManilaInLoveO\tO\n",
            "#OTWOLManilaInLoveO\tO\n",
            "#OTWOLManilaInLoveO\tO\n",
            "#OTWOLManilaInLoveO\tO\n",
            "#OTWOLManilaInLoveO\tO\n",
            "#OTWOLManilaInLoveO\tO\n",
            "#OTWOLManilaInLoveO\tO\n",
            "#OTWOLManilaInLoveO\tO\n",
            "#OTWOLManilaInLoveO\tO\n",
            "#OTWOLManilaInLoveO\tO\n",
            "#OTWOLManilaInLoveO\tO\n",
            "#OTWOLManilaInLoveO\tO\n",
            "#OTWOLManilaInLoveO\tO\n",
            "#OTWOLManilaInLoveO\tO\n",
            "#OTWOLManilaInLoveO\tO\n",
            "#OTWOLManilaInLoveO\tO\n"
          ]
        }
      ]
    },
    {
      "cell_type": "markdown",
      "source": [
        "## Transformer"
      ],
      "metadata": {
        "id": "geID9y-93cjH"
      }
    },
    {
      "cell_type": "code",
      "source": [
        "!pip install transformers"
      ],
      "metadata": {
        "colab": {
          "base_uri": "https://localhost:8080/"
        },
        "id": "Q7KskuCv5HA5",
        "outputId": "276d7cdf-3e45-4775-8ebb-353318fe3016"
      },
      "execution_count": null,
      "outputs": [
        {
          "output_type": "stream",
          "name": "stdout",
          "text": [
            "Looking in indexes: https://pypi.org/simple, https://us-python.pkg.dev/colab-wheels/public/simple/\n",
            "Collecting transformers\n",
            "  Downloading transformers-4.25.1-py3-none-any.whl (5.8 MB)\n",
            "\u001b[K     |████████████████████████████████| 5.8 MB 30.9 MB/s \n",
            "\u001b[?25hRequirement already satisfied: numpy>=1.17 in /usr/local/lib/python3.8/dist-packages (from transformers) (1.21.6)\n",
            "Collecting tokenizers!=0.11.3,<0.14,>=0.11.1\n",
            "  Downloading tokenizers-0.13.2-cp38-cp38-manylinux_2_17_x86_64.manylinux2014_x86_64.whl (7.6 MB)\n",
            "\u001b[K     |████████████████████████████████| 7.6 MB 69.6 MB/s \n",
            "\u001b[?25hRequirement already satisfied: filelock in /usr/local/lib/python3.8/dist-packages (from transformers) (3.8.0)\n",
            "Requirement already satisfied: packaging>=20.0 in /usr/local/lib/python3.8/dist-packages (from transformers) (21.3)\n",
            "Requirement already satisfied: pyyaml>=5.1 in /usr/local/lib/python3.8/dist-packages (from transformers) (6.0)\n",
            "Collecting huggingface-hub<1.0,>=0.10.0\n",
            "  Downloading huggingface_hub-0.11.1-py3-none-any.whl (182 kB)\n",
            "\u001b[K     |████████████████████████████████| 182 kB 74.0 MB/s \n",
            "\u001b[?25hRequirement already satisfied: regex!=2019.12.17 in /usr/local/lib/python3.8/dist-packages (from transformers) (2022.6.2)\n",
            "Requirement already satisfied: requests in /usr/local/lib/python3.8/dist-packages (from transformers) (2.23.0)\n",
            "Requirement already satisfied: tqdm>=4.27 in /usr/local/lib/python3.8/dist-packages (from transformers) (4.64.1)\n",
            "Requirement already satisfied: typing-extensions>=3.7.4.3 in /usr/local/lib/python3.8/dist-packages (from huggingface-hub<1.0,>=0.10.0->transformers) (4.4.0)\n",
            "Requirement already satisfied: pyparsing!=3.0.5,>=2.0.2 in /usr/local/lib/python3.8/dist-packages (from packaging>=20.0->transformers) (3.0.9)\n",
            "Requirement already satisfied: idna<3,>=2.5 in /usr/local/lib/python3.8/dist-packages (from requests->transformers) (2.10)\n",
            "Requirement already satisfied: certifi>=2017.4.17 in /usr/local/lib/python3.8/dist-packages (from requests->transformers) (2022.9.24)\n",
            "Requirement already satisfied: chardet<4,>=3.0.2 in /usr/local/lib/python3.8/dist-packages (from requests->transformers) (3.0.4)\n",
            "Requirement already satisfied: urllib3!=1.25.0,!=1.25.1,<1.26,>=1.21.1 in /usr/local/lib/python3.8/dist-packages (from requests->transformers) (1.24.3)\n",
            "Installing collected packages: tokenizers, huggingface-hub, transformers\n",
            "Successfully installed huggingface-hub-0.11.1 tokenizers-0.13.2 transformers-4.25.1\n"
          ]
        }
      ]
    },
    {
      "cell_type": "code",
      "source": [
        "from transformers import *  # this is HuggingFace library\n",
        "import tensorflow as tf\n",
        "from transformers import BertTokenizer, TFBertModel, BertConfig"
      ],
      "metadata": {
        "colab": {
          "base_uri": "https://localhost:8080/"
        },
        "id": "AhiuZfk83ThS",
        "outputId": "c3107c51-51ad-4279-f90c-130878a97e91"
      },
      "execution_count": null,
      "outputs": [
        {
          "output_type": "stream",
          "name": "stderr",
          "text": [
            "/usr/local/lib/python3.8/dist-packages/transformers/generation_utils.py:24: FutureWarning: Importing `GenerationMixin` from `src/transformers/generation_utils.py` is deprecated and will be removed in Transformers v5. Import as `from transformers import GenerationMixin` instead.\n",
            "  warnings.warn(\n",
            "/usr/local/lib/python3.8/dist-packages/transformers/generation_tf_utils.py:24: FutureWarning: Importing `TFGenerationMixin` from `src/transformers/generation_tf_utils.py` is deprecated and will be removed in Transformers v5. Import as `from transformers import TFGenerationMixin` instead.\n",
            "  warnings.warn(\n"
          ]
        }
      ]
    },
    {
      "cell_type": "code",
      "source": [
        "bert_tokenizer = BertTokenizer.from_pretrained(\"bert-base-uncased\")\n",
        "config = BertConfig.from_pretrained(\"bert-base-uncased\",output_hidden_states=False) # dropout=0.2, attention_dropout=0.2\n",
        "bert_model = TFBertModel.from_pretrained('bert-base-uncased', config=config)"
      ],
      "metadata": {
        "colab": {
          "base_uri": "https://localhost:8080/",
          "height": 1000,
          "referenced_widgets": [
            "90434547b6db44dcb1f6b9f282584281",
            "7642b0956de846f58fd4d46b78a25bb4",
            "8b1c4805e67d48c1bef88ce128cfc35b",
            "59f9f7fb91e841828f666616512db226",
            "73a87c1713654dd7aa8afe478f5a5f0c",
            "9e917a61bc9d4b93855792a10e298144",
            "818e49cf81a942a5a792edb762612c92",
            "087536f168084a4aac46f22cbe51293a",
            "3d5aef5b46ea49eebd246e3c6053563d",
            "235149e41ace4fe4850ab4492c9111a7",
            "a242e5fb7cd24c208a3691f2f6162d2c",
            "5b24c2b8e7e64f0c99cc36b6c9efb4a5",
            "ce3efcfca5904cdb879eeda8b9da9642",
            "80a9ba70bf9e49e79d5b33dd75ff2af6",
            "61cc25282a644ebebdb6e1a15f201d0c",
            "1eda75b5437a4921a309c8f6371e25f2",
            "141ccc304cbe4d4384b33dd7dc23aedc",
            "596dd7ea4a5741819814a83f4f58b32c",
            "064648bf0e0e411aa06d5d66041043ad",
            "7949c30f49ec4032a59841ae8973e7f2",
            "bed9dcf5c9b74598a41e3ed732b40346",
            "e61cbb50d61648109bb88404dd15e477",
            "cafbafea81a545699e755b7d5594c508",
            "92e87d140d184fa28de253e7f2978975",
            "2259893856a246a185c5ce1864ecb103",
            "026d6a667a0c48db810afa8465ba3895",
            "c07327deed2a466d910a6a4976b33b8b",
            "5463f6bb9d6e45a5a8de8eef7d728fa3",
            "a9f6356a64784db39a54e8512b693da4",
            "79bc7797bdb94a2fa70dc5eea8e33176",
            "1f948f9197794a5e8714d4c6f0c1f6af",
            "d6544481cbf547acb84505c84dce6ab2",
            "9288acfba09d47078c0f6b1388289798",
            "8283b801374549abada8ec90b971d7d3",
            "9016e38963c14a289901d487401d2974",
            "68b5577f720a4011a5a8113d943532c1",
            "25e6e05b2ec14bd4a2df970dc5f8f078",
            "f774632e9fec4347ad84496b4d383af8",
            "bf415d347844417d875c852dcb74e760",
            "48b280e569354497b923f8e5f93dbef6",
            "b56e19d572394fcaacb6200902d44a95",
            "a0291459f9634491b43134e46353924a",
            "3dfb8587d48d41149846947e12fe45d9",
            "77269f0f86c7457e89b23473ecbd61c3"
          ]
        },
        "id": "kJIy3TCX5Fp-",
        "outputId": "b516e593-f160-483e-97f5-d14b5b5732ca"
      },
      "execution_count": null,
      "outputs": [
        {
          "output_type": "display_data",
          "data": {
            "text/plain": [
              "Downloading:   0%|          | 0.00/232k [00:00<?, ?B/s]"
            ],
            "application/vnd.jupyter.widget-view+json": {
              "version_major": 2,
              "version_minor": 0,
              "model_id": "90434547b6db44dcb1f6b9f282584281"
            }
          },
          "metadata": {}
        },
        {
          "output_type": "display_data",
          "data": {
            "text/plain": [
              "Downloading:   0%|          | 0.00/28.0 [00:00<?, ?B/s]"
            ],
            "application/vnd.jupyter.widget-view+json": {
              "version_major": 2,
              "version_minor": 0,
              "model_id": "5b24c2b8e7e64f0c99cc36b6c9efb4a5"
            }
          },
          "metadata": {}
        },
        {
          "output_type": "stream",
          "name": "stderr",
          "text": [
            "loading file vocab.txt from cache at /root/.cache/huggingface/hub/models--bert-base-uncased/snapshots/0a6aa9128b6194f4f3c4db429b6cb4891cdb421b/vocab.txt\n",
            "loading file added_tokens.json from cache at None\n",
            "loading file special_tokens_map.json from cache at None\n",
            "loading file tokenizer_config.json from cache at /root/.cache/huggingface/hub/models--bert-base-uncased/snapshots/0a6aa9128b6194f4f3c4db429b6cb4891cdb421b/tokenizer_config.json\n"
          ]
        },
        {
          "output_type": "display_data",
          "data": {
            "text/plain": [
              "Downloading:   0%|          | 0.00/570 [00:00<?, ?B/s]"
            ],
            "application/vnd.jupyter.widget-view+json": {
              "version_major": 2,
              "version_minor": 0,
              "model_id": "cafbafea81a545699e755b7d5594c508"
            }
          },
          "metadata": {}
        },
        {
          "output_type": "stream",
          "name": "stderr",
          "text": [
            "loading configuration file config.json from cache at /root/.cache/huggingface/hub/models--bert-base-uncased/snapshots/0a6aa9128b6194f4f3c4db429b6cb4891cdb421b/config.json\n",
            "Model config BertConfig {\n",
            "  \"_name_or_path\": \"bert-base-uncased\",\n",
            "  \"architectures\": [\n",
            "    \"BertForMaskedLM\"\n",
            "  ],\n",
            "  \"attention_probs_dropout_prob\": 0.1,\n",
            "  \"classifier_dropout\": null,\n",
            "  \"gradient_checkpointing\": false,\n",
            "  \"hidden_act\": \"gelu\",\n",
            "  \"hidden_dropout_prob\": 0.1,\n",
            "  \"hidden_size\": 768,\n",
            "  \"initializer_range\": 0.02,\n",
            "  \"intermediate_size\": 3072,\n",
            "  \"layer_norm_eps\": 1e-12,\n",
            "  \"max_position_embeddings\": 512,\n",
            "  \"model_type\": \"bert\",\n",
            "  \"num_attention_heads\": 12,\n",
            "  \"num_hidden_layers\": 12,\n",
            "  \"pad_token_id\": 0,\n",
            "  \"position_embedding_type\": \"absolute\",\n",
            "  \"transformers_version\": \"4.25.1\",\n",
            "  \"type_vocab_size\": 2,\n",
            "  \"use_cache\": true,\n",
            "  \"vocab_size\": 30522\n",
            "}\n",
            "\n",
            "loading configuration file config.json from cache at /root/.cache/huggingface/hub/models--bert-base-uncased/snapshots/0a6aa9128b6194f4f3c4db429b6cb4891cdb421b/config.json\n",
            "Model config BertConfig {\n",
            "  \"architectures\": [\n",
            "    \"BertForMaskedLM\"\n",
            "  ],\n",
            "  \"attention_probs_dropout_prob\": 0.1,\n",
            "  \"classifier_dropout\": null,\n",
            "  \"gradient_checkpointing\": false,\n",
            "  \"hidden_act\": \"gelu\",\n",
            "  \"hidden_dropout_prob\": 0.1,\n",
            "  \"hidden_size\": 768,\n",
            "  \"initializer_range\": 0.02,\n",
            "  \"intermediate_size\": 3072,\n",
            "  \"layer_norm_eps\": 1e-12,\n",
            "  \"max_position_embeddings\": 512,\n",
            "  \"model_type\": \"bert\",\n",
            "  \"num_attention_heads\": 12,\n",
            "  \"num_hidden_layers\": 12,\n",
            "  \"pad_token_id\": 0,\n",
            "  \"position_embedding_type\": \"absolute\",\n",
            "  \"transformers_version\": \"4.25.1\",\n",
            "  \"type_vocab_size\": 2,\n",
            "  \"use_cache\": true,\n",
            "  \"vocab_size\": 30522\n",
            "}\n",
            "\n"
          ]
        },
        {
          "output_type": "display_data",
          "data": {
            "text/plain": [
              "Downloading:   0%|          | 0.00/536M [00:00<?, ?B/s]"
            ],
            "application/vnd.jupyter.widget-view+json": {
              "version_major": 2,
              "version_minor": 0,
              "model_id": "8283b801374549abada8ec90b971d7d3"
            }
          },
          "metadata": {}
        },
        {
          "output_type": "stream",
          "name": "stderr",
          "text": [
            "loading weights file tf_model.h5 from cache at /root/.cache/huggingface/hub/models--bert-base-uncased/snapshots/0a6aa9128b6194f4f3c4db429b6cb4891cdb421b/tf_model.h5\n",
            "Some layers from the model checkpoint at bert-base-uncased were not used when initializing TFBertModel: ['mlm___cls', 'nsp___cls']\n",
            "- This IS expected if you are initializing TFBertModel from the checkpoint of a model trained on another task or with another architecture (e.g. initializing a BertForSequenceClassification model from a BertForPreTraining model).\n",
            "- This IS NOT expected if you are initializing TFBertModel from the checkpoint of a model that you expect to be exactly identical (initializing a BertForSequenceClassification model from a BertForSequenceClassification model).\n",
            "All the layers of TFBertModel were initialized from the model checkpoint at bert-base-uncased.\n",
            "If your task is similar to the task the model of the checkpoint was trained on, you can already use TFBertModel for predictions without further training.\n"
          ]
        }
      ]
    },
    {
      "cell_type": "code",
      "source": [
        "sent= 'This is a example'\n",
        "tokens=bert_tokenizer.tokenize(sent)\n",
        "print(tokens)"
      ],
      "metadata": {
        "colab": {
          "base_uri": "https://localhost:8080/"
        },
        "id": "zle4cjqG5Fsd",
        "outputId": "f72822bd-9559-4510-e09c-4fd0b2330091"
      },
      "execution_count": null,
      "outputs": [
        {
          "output_type": "stream",
          "name": "stdout",
          "text": [
            "['this', 'is', 'a', 'example']\n"
          ]
        }
      ]
    },
    {
      "cell_type": "code",
      "source": [
        "ids = bert_tokenizer.convert_tokens_to_ids(tokens)\n",
        "print(\"convert_tokens_to_ids:\",ids)\n",
        "\n",
        "ids_encode = bert_tokenizer.encode(sent,add_special_tokens = True,max_length =30,pad_to_max_length = True,\n",
        "return_attention_mask = True)\n",
        "print(\"\\n\\nencode:\",ids_encode)\n",
        "\n",
        "ids_encode_plus = bert_tokenizer.encode_plus(sent,add_special_tokens = True,max_length =30,pad_to_max_length = True,\n",
        "return_attention_mask = True)\n",
        "print(\"\\n\\nencode_plus:\",ids_encode_plus)"
      ],
      "metadata": {
        "colab": {
          "base_uri": "https://localhost:8080/"
        },
        "id": "UrcNy-or5Fu1",
        "outputId": "88f3bf25-596e-436a-c8f5-897bc0717a6f"
      },
      "execution_count": null,
      "outputs": [
        {
          "output_type": "stream",
          "name": "stderr",
          "text": [
            "Truncation was not explicitly activated but `max_length` is provided a specific value, please use `truncation=True` to explicitly truncate examples to max length. Defaulting to 'longest_first' truncation strategy. If you encode pairs of sequences (GLUE-style) with the tokenizer you can select this strategy more precisely by providing a specific strategy to `truncation`.\n"
          ]
        },
        {
          "output_type": "stream",
          "name": "stdout",
          "text": [
            "convert_tokens_to_ids: [2023, 2003, 1037, 2742]\n",
            "\n",
            "\n",
            "encode: [101, 2023, 2003, 1037, 2742, 102, 0, 0, 0, 0, 0, 0, 0, 0, 0, 0, 0, 0, 0, 0, 0, 0, 0, 0, 0, 0, 0, 0, 0, 0]\n",
            "\n",
            "\n",
            "encode_plus: {'input_ids': [101, 2023, 2003, 1037, 2742, 102, 0, 0, 0, 0, 0, 0, 0, 0, 0, 0, 0, 0, 0, 0, 0, 0, 0, 0, 0, 0, 0, 0, 0, 0], 'token_type_ids': [0, 0, 0, 0, 0, 0, 0, 0, 0, 0, 0, 0, 0, 0, 0, 0, 0, 0, 0, 0, 0, 0, 0, 0, 0, 0, 0, 0, 0, 0], 'attention_mask': [1, 1, 1, 1, 1, 1, 0, 0, 0, 0, 0, 0, 0, 0, 0, 0, 0, 0, 0, 0, 0, 0, 0, 0, 0, 0, 0, 0, 0, 0]}\n"
          ]
        },
        {
          "output_type": "stream",
          "name": "stderr",
          "text": [
            "/usr/local/lib/python3.8/dist-packages/transformers/tokenization_utils_base.py:2336: FutureWarning: The `pad_to_max_length` argument is deprecated and will be removed in a future version, use `padding=True` or `padding='longest'` to pad to the longest sequence in the batch, or use `padding='max_length'` to pad to a max length. In this case, you can give a specific length with `max_length` (e.g. `max_length=45`) or leave max_length to None to pad to the maximal input size of the model (e.g. 512 for Bert).\n",
            "  warnings.warn(\n"
          ]
        }
      ]
    },
    {
      "cell_type": "code",
      "source": [
        "print(\"convert_ids_to_tokens:\",bert_tokenizer.convert_ids_to_tokens(ids))\n",
        "\n",
        "print(\"\\ndecode:\",bert_tokenizer.decode(ids_encode_plus['input_ids']))"
      ],
      "metadata": {
        "colab": {
          "base_uri": "https://localhost:8080/"
        },
        "id": "rGSNftWL5FyL",
        "outputId": "f4935fcf-b8d2-4cfa-c234-8f7ff303accc"
      },
      "execution_count": null,
      "outputs": [
        {
          "output_type": "stream",
          "name": "stdout",
          "text": [
            "convert_ids_to_tokens: ['this', 'is', 'a', 'example']\n",
            "\n",
            "decode: [CLS] this is a example [SEP] [PAD] [PAD] [PAD] [PAD] [PAD] [PAD] [PAD] [PAD] [PAD] [PAD] [PAD] [PAD] [PAD] [PAD] [PAD] [PAD] [PAD] [PAD] [PAD] [PAD] [PAD] [PAD] [PAD] [PAD]\n"
          ]
        }
      ]
    },
    {
      "cell_type": "code",
      "source": [
        "max_len = 35"
      ],
      "metadata": {
        "id": "btva3B3Lye_i"
      },
      "execution_count": null,
      "outputs": []
    },
    {
      "cell_type": "code",
      "source": [
        "def create_model(bert_model,max_len = max_len):\n",
        "    input_ids = tf.keras.Input(shape = (max_len,),dtype = 'int32')\n",
        "    bert_output = bert_model(input_ids,return_dict =True)\n",
        "    embedding = tf.keras.layers.Dropout(0.5)(bert_output[\"last_hidden_state\"])\n",
        "    output = tf.keras.layers.Dense(256,activation = 'relu')(embedding)\n",
        "    drop = tf.keras.layers.Dropout(0.2)(output)\n",
        "    out = TimeDistributed(Dense(21,activation = 'softmax'))(drop)\n",
        "\n",
        "    model = tf.keras.models.Model(inputs = [input_ids],outputs = [out])\n",
        "    model.compile(optimizer=tf.keras.optimizers.Adam(lr=0.00001), loss=\"categorical_crossentropy\", metrics=[\"accuracy\"])\n",
        "    return model"
      ],
      "metadata": {
        "id": "t_Kng5h86KUD"
      },
      "execution_count": null,
      "outputs": []
    },
    {
      "cell_type": "code",
      "source": [
        "bert_model = TFBertModel.from_pretrained('bert-base-uncased')\n",
        "model1 = create_model(bert_model,max_len)"
      ],
      "metadata": {
        "colab": {
          "base_uri": "https://localhost:8080/"
        },
        "id": "bQId_U0mwnoe",
        "outputId": "a1d7e15a-27b3-47fe-b1a5-fa6d7f96db25"
      },
      "execution_count": null,
      "outputs": [
        {
          "output_type": "stream",
          "name": "stderr",
          "text": [
            "loading configuration file config.json from cache at /root/.cache/huggingface/hub/models--bert-base-uncased/snapshots/0a6aa9128b6194f4f3c4db429b6cb4891cdb421b/config.json\n",
            "Model config BertConfig {\n",
            "  \"architectures\": [\n",
            "    \"BertForMaskedLM\"\n",
            "  ],\n",
            "  \"attention_probs_dropout_prob\": 0.1,\n",
            "  \"classifier_dropout\": null,\n",
            "  \"gradient_checkpointing\": false,\n",
            "  \"hidden_act\": \"gelu\",\n",
            "  \"hidden_dropout_prob\": 0.1,\n",
            "  \"hidden_size\": 768,\n",
            "  \"initializer_range\": 0.02,\n",
            "  \"intermediate_size\": 3072,\n",
            "  \"layer_norm_eps\": 1e-12,\n",
            "  \"max_position_embeddings\": 512,\n",
            "  \"model_type\": \"bert\",\n",
            "  \"num_attention_heads\": 12,\n",
            "  \"num_hidden_layers\": 12,\n",
            "  \"pad_token_id\": 0,\n",
            "  \"position_embedding_type\": \"absolute\",\n",
            "  \"transformers_version\": \"4.25.1\",\n",
            "  \"type_vocab_size\": 2,\n",
            "  \"use_cache\": true,\n",
            "  \"vocab_size\": 30522\n",
            "}\n",
            "\n",
            "loading weights file tf_model.h5 from cache at /root/.cache/huggingface/hub/models--bert-base-uncased/snapshots/0a6aa9128b6194f4f3c4db429b6cb4891cdb421b/tf_model.h5\n",
            "Some layers from the model checkpoint at bert-base-uncased were not used when initializing TFBertModel: ['mlm___cls', 'nsp___cls']\n",
            "- This IS expected if you are initializing TFBertModel from the checkpoint of a model trained on another task or with another architecture (e.g. initializing a BertForSequenceClassification model from a BertForPreTraining model).\n",
            "- This IS NOT expected if you are initializing TFBertModel from the checkpoint of a model that you expect to be exactly identical (initializing a BertForSequenceClassification model from a BertForSequenceClassification model).\n",
            "All the layers of TFBertModel were initialized from the model checkpoint at bert-base-uncased.\n",
            "If your task is similar to the task the model of the checkpoint was trained on, you can already use TFBertModel for predictions without further training.\n",
            "/usr/local/lib/python3.8/dist-packages/keras/optimizers/optimizer_v2/adam.py:110: UserWarning: The `lr` argument is deprecated, use `learning_rate` instead.\n",
            "  super(Adam, self).__init__(name, **kwargs)\n"
          ]
        }
      ]
    },
    {
      "cell_type": "code",
      "source": [
        "model1.summary()\n"
      ],
      "metadata": {
        "colab": {
          "base_uri": "https://localhost:8080/"
        },
        "id": "AsOmIHoSxbUZ",
        "outputId": "bf70d832-0e77-4647-f6cd-b52367f68be9"
      },
      "execution_count": null,
      "outputs": [
        {
          "output_type": "stream",
          "name": "stdout",
          "text": [
            "Model: \"model_3\"\n",
            "_________________________________________________________________\n",
            " Layer (type)                Output Shape              Param #   \n",
            "=================================================================\n",
            " input_4 (InputLayer)        [(None, 35)]              0         \n",
            "                                                                 \n",
            " tf_bert_model_2 (TFBertMode  TFBaseModelOutputWithPoo  109482240\n",
            " l)                          lingAndCrossAttentions(l            \n",
            "                             ast_hidden_state=(None,             \n",
            "                             35, 768),                           \n",
            "                              pooler_output=(None, 76            \n",
            "                             8),                                 \n",
            "                              past_key_values=None, h            \n",
            "                             idden_states=None, atten            \n",
            "                             tions=None, cross_attent            \n",
            "                             ions=None)                          \n",
            "                                                                 \n",
            " dropout_112 (Dropout)       (None, 35, 768)           0         \n",
            "                                                                 \n",
            " dense_3 (Dense)             (None, 35, 256)           196864    \n",
            "                                                                 \n",
            " dropout_113 (Dropout)       (None, 35, 256)           0         \n",
            "                                                                 \n",
            " time_distributed_2 (TimeDis  (None, 35, 21)           5397      \n",
            " tributed)                                                       \n",
            "                                                                 \n",
            "=================================================================\n",
            "Total params: 109,684,501\n",
            "Trainable params: 109,684,501\n",
            "Non-trainable params: 0\n",
            "_________________________________________________________________\n"
          ]
        }
      ]
    },
    {
      "cell_type": "code",
      "source": [
        "tf.keras.utils.plot_model(model1)\n"
      ],
      "metadata": {
        "colab": {
          "base_uri": "https://localhost:8080/",
          "height": 564
        },
        "id": "6sW01DoZzFw5",
        "outputId": "2c27b172-bda1-40b0-f79d-dcee2798d7e5"
      },
      "execution_count": null,
      "outputs": [
        {
          "output_type": "execute_result",
          "data": {
            "image/png": "[encoded data removed]",
            "text/plain": [
              "<IPython.core.display.Image object>"
            ]
          },
          "metadata": {},
          "execution_count": 66
        }
      ]
    },
    {
      "cell_type": "code",
      "source": [
        "from keras.callbacks import ModelCheckpoint, EarlyStopping\n",
        "\n",
        "early_stopping = EarlyStopping(mode='min',patience=2)\n",
        "history_bert = model1.fit([train_tokens],np.array(train_tags),validation_data = ([test_tokens],np.array(test_tags)),epochs = 5,batch_size = 128,callbacks = early_stopping,verbose = True)"
      ],
      "metadata": {
        "colab": {
          "base_uri": "https://localhost:8080/"
        },
        "id": "0GxJY4NIzMVX",
        "outputId": "676aebeb-03da-4d99-9593-7d97931f28b5"
      },
      "execution_count": null,
      "outputs": [
        {
          "output_type": "stream",
          "name": "stdout",
          "text": [
            "Epoch 1/5\n"
          ]
        },
        {
          "output_type": "stream",
          "name": "stderr",
          "text": [
            "WARNING:tensorflow:Gradients do not exist for variables ['tf_bert_model_2/bert/pooler/dense/kernel:0', 'tf_bert_model_2/bert/pooler/dense/bias:0'] when minimizing the loss. If you're using `model.compile()`, did you forget to provide a `loss`argument?\n",
            "WARNING:tensorflow:Gradients do not exist for variables ['tf_bert_model_2/bert/pooler/dense/kernel:0', 'tf_bert_model_2/bert/pooler/dense/bias:0'] when minimizing the loss. If you're using `model.compile()`, did you forget to provide a `loss`argument?\n"
          ]
        },
        {
          "output_type": "stream",
          "name": "stdout",
          "text": [
            "19/19 [==============================] - 36s 1s/step - loss: 0.7791 - accuracy: 0.8425 - val_loss: 0.3388 - val_accuracy: 0.9549\n",
            "Epoch 2/5\n",
            "19/19 [==============================] - 18s 953ms/step - loss: 0.3224 - accuracy: 0.9560 - val_loss: 0.2921 - val_accuracy: 0.9549\n",
            "Epoch 3/5\n",
            "19/19 [==============================] - 18s 944ms/step - loss: 0.3025 - accuracy: 0.9560 - val_loss: 0.2748 - val_accuracy: 0.9549\n",
            "Epoch 4/5\n",
            "19/19 [==============================] - 18s 925ms/step - loss: 0.2946 - accuracy: 0.9560 - val_loss: 0.2710 - val_accuracy: 0.9549\n",
            "Epoch 5/5\n",
            "19/19 [==============================] - 17s 918ms/step - loss: 0.2914 - accuracy: 0.9560 - val_loss: 0.2705 - val_accuracy: 0.9549\n"
          ]
        }
      ]
    },
    {
      "cell_type": "code",
      "source": [
        "def plot_graphs(history, string):\n",
        "    plt.plot(history.history[string])\n",
        "    plt.plot(history.history['val_'+string])\n",
        "    plt.xlabel(\"Epochs\")\n",
        "    plt.ylabel(string)\n",
        "    plt.legend([string, 'val_'+string])\n",
        "    plt.show()\n",
        "\n",
        "plot_graphs(history_bert, \"accuracy\")\n",
        "plot_graphs(history_bert, \"loss\");"
      ],
      "metadata": {
        "colab": {
          "base_uri": "https://localhost:8080/",
          "height": 545
        },
        "id": "SRrwL7lx0YfR",
        "outputId": "60e9f427-2aa3-4e58-a4a4-b78aa9b51c7c"
      },
      "execution_count": null,
      "outputs": [
        {
          "output_type": "display_data",
          "data": {
            "text/plain": [
              "<Figure size 432x288 with 1 Axes>"
            ],
            "image/png": "[encoded data removed]"
          },
          "metadata": {
            "needs_background": "light"
          }
        },
        {
          "output_type": "display_data",
          "data": {
            "text/plain": [
              "<Figure size 432x288 with 1 Axes>"
            ],
            "image/png": "[encoded data removed]"
          },
          "metadata": {
            "needs_background": "light"
          }
        }
      ]
    },
    {
      "cell_type": "code",
      "source": [
        "model1.save(\"NER_BERT\",save_format='tf')"
      ],
      "metadata": {
        "colab": {
          "base_uri": "https://localhost:8080/"
        },
        "id": "G5QhyM5h6jKx",
        "outputId": "d8b3e79d-7a50-4575-a93c-baa534ddf9bb"
      },
      "execution_count": null,
      "outputs": [
        {
          "output_type": "stream",
          "name": "stderr",
          "text": [
            "WARNING:absl:Found untraced functions such as embeddings_layer_call_fn, embeddings_layer_call_and_return_conditional_losses, encoder_layer_call_fn, encoder_layer_call_and_return_conditional_losses, pooler_layer_call_fn while saving (showing 5 of 420). These functions will not be directly callable after loading.\n"
          ]
        }
      ]
    },
    {
      "cell_type": "code",
      "source": [],
      "metadata": {
        "id": "uWjDJwwuAAUR"
      },
      "execution_count": null,
      "outputs": []
    }
  ]
}