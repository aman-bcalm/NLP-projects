{
 "cells": [
  {
   "cell_type": "code",
   "execution_count": 1,
   "id": "a1f1d408",
   "metadata": {},
   "outputs": [],
   "source": [
    "import pandas as pd\n",
    "import numpy as np\n",
    "import seaborn as sns\n",
    "from matplotlib import pyplot as plt\n",
    "from sklearn import preprocessing\n",
    "\n",
    "\n",
    "import warnings\n",
    "warnings.filterwarnings('ignore')"
   ]
  },
  {
   "cell_type": "markdown",
   "id": "ceb0d234",
   "metadata": {},
   "source": [
    "Objective\n",
    "\n",
    "The goal of this project is to use a bunch of news articles extracted from the companies’ internal database and categorize them into several categories like politics, technology, sports, business and entertainment based on their content. Use natural language processing and create & compare at least three different models.\n"
   ]
  },
  {
   "cell_type": "code",
   "execution_count": 2,
   "id": "18cd8abf",
   "metadata": {},
   "outputs": [],
   "source": [
    "df = pd.read_csv(\"flipitnews-data.csv\")"
   ]
  },
  {
   "cell_type": "code",
   "execution_count": 3,
   "id": "86409a4f",
   "metadata": {},
   "outputs": [
    {
     "data": {
      "text/plain": [
       "(2225, 2)"
      ]
     },
     "execution_count": 3,
     "metadata": {},
     "output_type": "execute_result"
    }
   ],
   "source": [
    "df.shape"
   ]
  },
  {
   "cell_type": "code",
   "execution_count": 4,
   "id": "e3474d0a",
   "metadata": {},
   "outputs": [
    {
     "data": {
      "text/html": [
       "<div>\n",
       "<style scoped>\n",
       "    .dataframe tbody tr th:only-of-type {\n",
       "        vertical-align: middle;\n",
       "    }\n",
       "\n",
       "    .dataframe tbody tr th {\n",
       "        vertical-align: top;\n",
       "    }\n",
       "\n",
       "    .dataframe thead th {\n",
       "        text-align: right;\n",
       "    }\n",
       "</style>\n",
       "<table border=\"1\" class=\"dataframe\">\n",
       "  <thead>\n",
       "    <tr style=\"text-align: right;\">\n",
       "      <th></th>\n",
       "      <th>Category</th>\n",
       "      <th>Article</th>\n",
       "    </tr>\n",
       "  </thead>\n",
       "  <tbody>\n",
       "    <tr>\n",
       "      <th>0</th>\n",
       "      <td>Technology</td>\n",
       "      <td>tv future in the hands of viewers with home th...</td>\n",
       "    </tr>\n",
       "    <tr>\n",
       "      <th>1</th>\n",
       "      <td>Business</td>\n",
       "      <td>worldcom boss  left books alone  former worldc...</td>\n",
       "    </tr>\n",
       "    <tr>\n",
       "      <th>2</th>\n",
       "      <td>Sports</td>\n",
       "      <td>tigers wary of farrell  gamble  leicester say ...</td>\n",
       "    </tr>\n",
       "    <tr>\n",
       "      <th>3</th>\n",
       "      <td>Sports</td>\n",
       "      <td>yeading face newcastle in fa cup premiership s...</td>\n",
       "    </tr>\n",
       "    <tr>\n",
       "      <th>4</th>\n",
       "      <td>Entertainment</td>\n",
       "      <td>ocean s twelve raids box office ocean s twelve...</td>\n",
       "    </tr>\n",
       "    <tr>\n",
       "      <th>5</th>\n",
       "      <td>Politics</td>\n",
       "      <td>howard hits back at mongrel jibe michael howar...</td>\n",
       "    </tr>\n",
       "    <tr>\n",
       "      <th>6</th>\n",
       "      <td>Politics</td>\n",
       "      <td>blair prepares to name poll date tony blair is...</td>\n",
       "    </tr>\n",
       "    <tr>\n",
       "      <th>7</th>\n",
       "      <td>Sports</td>\n",
       "      <td>henman hopes ended in dubai third seed tim hen...</td>\n",
       "    </tr>\n",
       "    <tr>\n",
       "      <th>8</th>\n",
       "      <td>Sports</td>\n",
       "      <td>wilkinson fit to face edinburgh england captai...</td>\n",
       "    </tr>\n",
       "    <tr>\n",
       "      <th>9</th>\n",
       "      <td>Entertainment</td>\n",
       "      <td>last star wars  not for children  the sixth an...</td>\n",
       "    </tr>\n",
       "  </tbody>\n",
       "</table>\n",
       "</div>"
      ],
      "text/plain": [
       "        Category                                            Article\n",
       "0     Technology  tv future in the hands of viewers with home th...\n",
       "1       Business  worldcom boss  left books alone  former worldc...\n",
       "2         Sports  tigers wary of farrell  gamble  leicester say ...\n",
       "3         Sports  yeading face newcastle in fa cup premiership s...\n",
       "4  Entertainment  ocean s twelve raids box office ocean s twelve...\n",
       "5       Politics  howard hits back at mongrel jibe michael howar...\n",
       "6       Politics  blair prepares to name poll date tony blair is...\n",
       "7         Sports  henman hopes ended in dubai third seed tim hen...\n",
       "8         Sports  wilkinson fit to face edinburgh england captai...\n",
       "9  Entertainment  last star wars  not for children  the sixth an..."
      ]
     },
     "execution_count": 4,
     "metadata": {},
     "output_type": "execute_result"
    }
   ],
   "source": [
    "df.head(10)"
   ]
  },
  {
   "cell_type": "code",
   "execution_count": 5,
   "id": "76900566",
   "metadata": {},
   "outputs": [
    {
     "name": "stdout",
     "output_type": "stream",
     "text": [
      "<class 'pandas.core.frame.DataFrame'>\n",
      "RangeIndex: 2225 entries, 0 to 2224\n",
      "Data columns (total 2 columns):\n",
      " #   Column    Non-Null Count  Dtype \n",
      "---  ------    --------------  ----- \n",
      " 0   Category  2225 non-null   object\n",
      " 1   Article   2225 non-null   object\n",
      "dtypes: object(2)\n",
      "memory usage: 34.9+ KB\n"
     ]
    }
   ],
   "source": [
    "df.info()"
   ]
  },
  {
   "cell_type": "code",
   "execution_count": 6,
   "id": "9bac015b",
   "metadata": {},
   "outputs": [
    {
     "data": {
      "text/plain": [
       "Category       5\n",
       "Article     2126\n",
       "dtype: int64"
      ]
     },
     "execution_count": 6,
     "metadata": {},
     "output_type": "execute_result"
    }
   ],
   "source": [
    "df.nunique()"
   ]
  },
  {
   "cell_type": "markdown",
   "id": "c67ee161",
   "metadata": {},
   "source": [
    "2126 news articles and their distribution is below"
   ]
  },
  {
   "cell_type": "code",
   "execution_count": 7,
   "id": "54114e12",
   "metadata": {},
   "outputs": [
    {
     "data": {
      "text/plain": [
       "Sports           511\n",
       "Business         510\n",
       "Politics         417\n",
       "Technology       401\n",
       "Entertainment    386\n",
       "Name: Category, dtype: int64"
      ]
     },
     "execution_count": 7,
     "metadata": {},
     "output_type": "execute_result"
    }
   ],
   "source": [
    "df['Category'].value_counts()"
   ]
  },
  {
   "cell_type": "code",
   "execution_count": 8,
   "id": "bdec2935",
   "metadata": {},
   "outputs": [
    {
     "data": {
      "image/png": "[encoded data removed]",
      "text/plain": [
       "<Figure size 432x288 with 1 Axes>"
      ]
     },
     "metadata": {
      "needs_background": "light"
     },
     "output_type": "display_data"
    }
   ],
   "source": [
    "df['Category'].value_counts().plot(kind='bar')\n",
    "plt.title(\"Distribution of News categories\")\n",
    "plt.show()"
   ]
  },
  {
   "cell_type": "code",
   "execution_count": 9,
   "id": "0c085260",
   "metadata": {},
   "outputs": [
    {
     "data": {
      "image/png": "[encoded data removed]",
      "text/plain": [
       "<Figure size 576x576 with 1 Axes>"
      ]
     },
     "metadata": {},
     "output_type": "display_data"
    }
   ],
   "source": [
    "categories_count = df['Category'].value_counts()\n",
    "\n",
    "plt.figure(figsize=(8, 8))\n",
    "plt.pie(categories_count, labels=categories_count.index, autopct='%1.1f%%', startangle=140)\n",
    "plt.title('Distribution of Categories')\n",
    "plt.show()"
   ]
  },
  {
   "cell_type": "markdown",
   "id": "9107f64e",
   "metadata": {},
   "source": [
    "Sports and Business are the most popular categories"
   ]
  },
  {
   "cell_type": "code",
   "execution_count": null,
   "id": "fa0ac60d",
   "metadata": {},
   "outputs": [],
   "source": []
  },
  {
   "cell_type": "code",
   "execution_count": 10,
   "id": "75c61730",
   "metadata": {},
   "outputs": [],
   "source": [
    "import nltk"
   ]
  },
  {
   "cell_type": "code",
   "execution_count": 11,
   "id": "6878fcf7",
   "metadata": {},
   "outputs": [
    {
     "name": "stderr",
     "output_type": "stream",
     "text": [
      "[nltk_data] Downloading package punkt to\n",
      "[nltk_data]     C:\\Users\\Admin\\AppData\\Roaming\\nltk_data...\n",
      "[nltk_data]   Package punkt is already up-to-date!\n"
     ]
    },
    {
     "data": {
      "text/plain": [
       "True"
      ]
     },
     "execution_count": 11,
     "metadata": {},
     "output_type": "execute_result"
    }
   ],
   "source": [
    "nltk.download('punkt')"
   ]
  },
  {
   "cell_type": "code",
   "execution_count": 12,
   "id": "64f383fd",
   "metadata": {},
   "outputs": [
    {
     "name": "stderr",
     "output_type": "stream",
     "text": [
      "[nltk_data] Downloading package stopwords to\n",
      "[nltk_data]     C:\\Users\\Admin\\AppData\\Roaming\\nltk_data...\n",
      "[nltk_data]   Unzipping corpora\\stopwords.zip.\n"
     ]
    },
    {
     "data": {
      "text/plain": [
       "True"
      ]
     },
     "execution_count": 12,
     "metadata": {},
     "output_type": "execute_result"
    }
   ],
   "source": [
    "nltk.download('stopwords')"
   ]
  },
  {
   "cell_type": "code",
   "execution_count": 13,
   "id": "16f92456",
   "metadata": {},
   "outputs": [
    {
     "name": "stderr",
     "output_type": "stream",
     "text": [
      "[nltk_data] Downloading package wordnet to\n",
      "[nltk_data]     C:\\Users\\Admin\\AppData\\Roaming\\nltk_data...\n"
     ]
    },
    {
     "data": {
      "text/plain": [
       "True"
      ]
     },
     "execution_count": 13,
     "metadata": {},
     "output_type": "execute_result"
    }
   ],
   "source": [
    "nltk.download('wordnet')"
   ]
  },
  {
   "cell_type": "code",
   "execution_count": 19,
   "id": "48c0c78d",
   "metadata": {},
   "outputs": [
    {
     "name": "stderr",
     "output_type": "stream",
     "text": [
      "[nltk_data] Downloading package omw-1.4 to\n",
      "[nltk_data]     C:\\Users\\Admin\\AppData\\Roaming\\nltk_data...\n"
     ]
    },
    {
     "data": {
      "text/plain": [
       "True"
      ]
     },
     "execution_count": 19,
     "metadata": {},
     "output_type": "execute_result"
    }
   ],
   "source": [
    "nltk.download('omw-1.4')"
   ]
  },
  {
   "cell_type": "code",
   "execution_count": 20,
   "id": "f8381f37",
   "metadata": {},
   "outputs": [],
   "source": [
    "from nltk.corpus import stopwords\n",
    "from nltk.tokenize import word_tokenize\n",
    "from nltk.stem import WordNetLemmatizer\n",
    "import re"
   ]
  },
  {
   "cell_type": "code",
   "execution_count": 26,
   "id": "7e3f95c5",
   "metadata": {},
   "outputs": [],
   "source": [
    "#Preprocessing function\n",
    "def preprocess_text(text):\n",
    "    # Step 1: Remove non-letters\n",
    "    text = re.sub(r'[^a-zA-Z]', ' ', text)\n",
    "\n",
    "    # Step 2: Remove stopwords\n",
    "    stop_words = set(stopwords.words('english'))\n",
    "    words = word_tokenize(text)\n",
    "    \n",
    "    words = [word for word in words if word.lower() not in stop_words]\n",
    "    \n",
    "    # Step 3: Word Tokenization (already done in Step 2)\n",
    "\n",
    "    # Step 4: Perform Lemmatization\n",
    "    lemmatizer = WordNetLemmatizer()\n",
    "    words = [lemmatizer.lemmatize(word) for word in words]\n",
    "   \n",
    "    # Combine the preprocessed words into a string\n",
    "    preprocessed_text = ' '.join(words)\n",
    "\n",
    "    return preprocessed_text"
   ]
  },
  {
   "cell_type": "code",
   "execution_count": 27,
   "id": "6abc7522",
   "metadata": {},
   "outputs": [
    {
     "name": "stdout",
     "output_type": "stream",
     "text": [
      "Original Text: This is an example sentence with non-letters, stopwords, and some lemmatization.\n",
      "Preprocessed Text: example sentence non letter stopwords lemmatization\n"
     ]
    }
   ],
   "source": [
    "# Example usage:\n",
    "input_text = \"This is an example sentence with non-letters, stopwords, and some lemmatization.\"\n",
    "result = preprocess_text(input_text)\n",
    "print(\"Original Text:\", input_text)\n",
    "print(\"Preprocessed Text:\", result)"
   ]
  },
  {
   "cell_type": "code",
   "execution_count": null,
   "id": "b20037c3",
   "metadata": {},
   "outputs": [],
   "source": []
  },
  {
   "cell_type": "code",
   "execution_count": null,
   "id": "bdd02503",
   "metadata": {},
   "outputs": [],
   "source": []
  },
  {
   "cell_type": "markdown",
   "id": "025522f7",
   "metadata": {},
   "source": [
    "Display how a single news article looks like before and after the processing."
   ]
  },
  {
   "cell_type": "code",
   "execution_count": 31,
   "id": "ec39b12f",
   "metadata": {},
   "outputs": [
    {
     "data": {
      "text/plain": [
       "'tv future in the hands of viewers with home theatre systems  plasma high-definition tvs  and digital video recorders moving into the living room  the way people watch tv will be radically different in five years  time.  that is according to an expert panel which gathered at the annual consumer electronics show in las vegas to discuss how these new technologies will impact one of our favourite pastimes. with the us leading the trend  programmes and other content will be delivered to viewers via home networks  through cable  satellite  telecoms companies  and broadband service providers to front rooms and portable devices.  one of the most talked-about technologies of ces has been digital and personal video recorders (dvr and pvr). these set-top boxes  like the us s tivo and the uk s sky+ system  allow people to record  store  play  pause and forward wind tv programmes when they want.  essentially  the technology allows for much more personalised tv. they are also being built-in to high-definition tv sets  which are big business in japan and the us  but slower to take off in europe because of the lack of high-definition programming. not only can people forward wind through adverts  they can also forget about abiding by network and channel schedules  putting together their own a-la-carte entertainment. but some us networks and cable and satellite companies are worried about what it means for them in terms of advertising revenues as well as  brand identity  and viewer loyalty to channels. although the us leads in this technology at the moment  it is also a concern that is being raised in europe  particularly with the growing uptake of services like sky+.  what happens here today  we will see in nine months to a years  time in the uk   adam hume  the bbc broadcast s futurologist told the bbc news website. for the likes of the bbc  there are no issues of lost advertising revenue yet. it is a more pressing issue at the moment for commercial uk broadcasters  but brand loyalty is important for everyone.  we will be talking more about content brands rather than network brands   said tim hanlon  from brand communications firm starcom mediavest.  the reality is that with broadband connections  anybody can be the producer of content.  he added:  the challenge now is that it is hard to promote a programme with so much choice.   what this means  said stacey jolna  senior vice president of tv guide tv group  is that the way people find the content they want to watch has to be simplified for tv viewers. it means that networks  in us terms  or channels could take a leaf out of google s book and be the search engine of the future  instead of the scheduler to help people find what they want to watch. this kind of channel model might work for the younger ipod generation which is used to taking control of their gadgets and what they play on them. but it might not suit everyone  the panel recognised. older generations are more comfortable with familiar schedules and channel brands because they know what they are getting. they perhaps do not want so much of the choice put into their hands  mr hanlon suggested.  on the other end  you have the kids just out of diapers who are pushing buttons already - everything is possible and available to them   said mr hanlon.  ultimately  the consumer will tell the market they want.   of the 50 000 new gadgets and technologies being showcased at ces  many of them are about enhancing the tv-watching experience. high-definition tv sets are everywhere and many new models of lcd (liquid crystal display) tvs have been launched with dvr capability built into them  instead of being external boxes. one such example launched at the show is humax s 26-inch lcd tv with an 80-hour tivo dvr and dvd recorder. one of the us s biggest satellite tv companies  directtv  has even launched its own branded dvr at the show with 100-hours of recording capability  instant replay  and a search function. the set can pause and rewind tv for up to 90 hours. and microsoft chief bill gates announced in his pre-show keynote speech a partnership with tivo  called tivotogo  which means people can play recorded programmes on windows pcs and mobile devices. all these reflect the increasing trend of freeing up multimedia so that people can watch what they want  when they want.'"
      ]
     },
     "execution_count": 31,
     "metadata": {},
     "output_type": "execute_result"
    }
   ],
   "source": [
    "df.loc[0]['Article']"
   ]
  },
  {
   "cell_type": "code",
   "execution_count": 32,
   "id": "318d1aaf",
   "metadata": {},
   "outputs": [],
   "source": [
    "#Post pre processing"
   ]
  },
  {
   "cell_type": "code",
   "execution_count": 33,
   "id": "63a94e92",
   "metadata": {},
   "outputs": [
    {
     "name": "stdout",
     "output_type": "stream",
     "text": [
      "tv future hand viewer home theatre system plasma high definition tv digital video recorder moving living room way people watch tv radically different five year time according expert panel gathered annual consumer electronics show la vega discus new technology impact one favourite pastime u leading trend programme content delivered viewer via home network cable satellite telecom company broadband service provider front room portable device one talked technology ce digital personal video recorder dvr pvr set top box like u tivo uk sky system allow people record store play pause forward wind tv programme want essentially technology allows much personalised tv also built high definition tv set big business japan u slower take europe lack high definition programming people forward wind advert also forget abiding network channel schedule putting together la carte entertainment u network cable satellite company worried mean term advertising revenue well brand identity viewer loyalty channel although u lead technology moment also concern raised europe particularly growing uptake service like sky happens today see nine month year time uk adam hume bbc broadcast futurologist told bbc news website like bbc issue lost advertising revenue yet pressing issue moment commercial uk broadcaster brand loyalty important everyone talking content brand rather network brand said tim hanlon brand communication firm starcom mediavest reality broadband connection anybody producer content added challenge hard promote programme much choice mean said stacey jolna senior vice president tv guide tv group way people find content want watch simplified tv viewer mean network u term channel could take leaf google book search engine future instead scheduler help people find want watch kind channel model might work younger ipod generation used taking control gadget play might suit everyone panel recognised older generation comfortable familiar schedule channel brand know getting perhaps want much choice put hand mr hanlon suggested end kid diaper pushing button already everything possible available said mr hanlon ultimately consumer tell market want new gadget technology showcased ce many enhancing tv watching experience high definition tv set everywhere many new model lcd liquid crystal display tv launched dvr capability built instead external box one example launched show humax inch lcd tv hour tivo dvr dvd recorder one u biggest satellite tv company directtv even launched branded dvr show hour recording capability instant replay search function set pause rewind tv hour microsoft chief bill gate announced pre show keynote speech partnership tivo called tivotogo mean people play recorded programme window pc mobile device reflect increasing trend freeing multimedia people watch want want\n"
     ]
    }
   ],
   "source": [
    "print(preprocess_text(df.loc[0]['Article']))"
   ]
  },
  {
   "cell_type": "code",
   "execution_count": 34,
   "id": "cfc8480d",
   "metadata": {},
   "outputs": [],
   "source": [
    "#Apply this to the column Article"
   ]
  },
  {
   "cell_type": "code",
   "execution_count": 35,
   "id": "48751107",
   "metadata": {},
   "outputs": [],
   "source": [
    "# Apply the preprocess_text function to the 'Article' column\n",
    "df['Article'] = df['Article'].apply(preprocess_text)"
   ]
  },
  {
   "cell_type": "code",
   "execution_count": 40,
   "id": "a998ea69",
   "metadata": {},
   "outputs": [
    {
     "data": {
      "text/html": [
       "<div>\n",
       "<style scoped>\n",
       "    .dataframe tbody tr th:only-of-type {\n",
       "        vertical-align: middle;\n",
       "    }\n",
       "\n",
       "    .dataframe tbody tr th {\n",
       "        vertical-align: top;\n",
       "    }\n",
       "\n",
       "    .dataframe thead th {\n",
       "        text-align: right;\n",
       "    }\n",
       "</style>\n",
       "<table border=\"1\" class=\"dataframe\">\n",
       "  <thead>\n",
       "    <tr style=\"text-align: right;\">\n",
       "      <th></th>\n",
       "      <th>Category</th>\n",
       "      <th>Article</th>\n",
       "    </tr>\n",
       "  </thead>\n",
       "  <tbody>\n",
       "    <tr>\n",
       "      <th>0</th>\n",
       "      <td>Technology</td>\n",
       "      <td>tv future hand viewer home theatre system plas...</td>\n",
       "    </tr>\n",
       "    <tr>\n",
       "      <th>1</th>\n",
       "      <td>Business</td>\n",
       "      <td>worldcom bos left book alone former worldcom b...</td>\n",
       "    </tr>\n",
       "    <tr>\n",
       "      <th>2</th>\n",
       "      <td>Sports</td>\n",
       "      <td>tiger wary farrell gamble leicester say rushed...</td>\n",
       "    </tr>\n",
       "    <tr>\n",
       "      <th>3</th>\n",
       "      <td>Sports</td>\n",
       "      <td>yeading face newcastle fa cup premiership side...</td>\n",
       "    </tr>\n",
       "    <tr>\n",
       "      <th>4</th>\n",
       "      <td>Entertainment</td>\n",
       "      <td>ocean twelve raid box office ocean twelve crim...</td>\n",
       "    </tr>\n",
       "  </tbody>\n",
       "</table>\n",
       "</div>"
      ],
      "text/plain": [
       "        Category                                            Article\n",
       "0     Technology  tv future hand viewer home theatre system plas...\n",
       "1       Business  worldcom bos left book alone former worldcom b...\n",
       "2         Sports  tiger wary farrell gamble leicester say rushed...\n",
       "3         Sports  yeading face newcastle fa cup premiership side...\n",
       "4  Entertainment  ocean twelve raid box office ocean twelve crim..."
      ]
     },
     "execution_count": 40,
     "metadata": {},
     "output_type": "execute_result"
    }
   ],
   "source": [
    "df.head(5)"
   ]
  },
  {
   "cell_type": "code",
   "execution_count": 38,
   "id": "73cfe711",
   "metadata": {},
   "outputs": [
    {
     "name": "stdout",
     "output_type": "stream",
     "text": [
      "Category: Business\n",
      "Article: slowdown hit u factory growth u industrial production increased st month row february slower pace january official figure show institute supply management ism index fell february adjusted january although index lower january fact held show continued growth sector february another good month manufacturing sector said ism survey chairman norbert ore overall rate growth slowing overall picture improving price increase shortage becoming le problem export import remain strong said analyst expected february figure stronger january come manufacturing sector surveyed ism reported growth included textile apparel tobacco chemical transportation sector ism index national manufacturing activity compiled response purchasing executive industrial company\n",
      "\n",
      "Category: Entertainment\n",
      "Article: celebrity get skate former england footballer paul gascoigne join eastenders actress scarlett johnson bbc one strictly ice dancing one christmas special also star television presenter carol smillie jessica taylor liberty x celebrity paired professional skater impress panel judge win audience vote bbc yet confirm final two star battle become ice king queen veteran presenter bruce forsyth te daly host programme follows hot heel current saturday night series strictly come dancing celebrity practise stipulated ice dance perform ice rink partner judge vote decide win contest ice rink audience making rest vote show form part bbc festive schedule ice skating duo jayne torvill christopher dean front similar celebrity ice dance show itv titled star thin ice contestant star thin ice paired professional skater learn new routine every week end series one celebrity crowned winner\n",
      "\n",
      "Category: Politics\n",
      "Article: u casino trick face ban uk controversial new uk casino banned using american trick trade ensure socially responsible suggested culture secretary tessa jowell said proposed super casino different u counterpart america pheromone reportedly released machine encourage aggressive gambling clock often removed wall eight super casino proposed gambling bill becomes law m jowell said legislation would ban psychological trickery told time british casino quite different overseas act socially responsible way tightly regulated run according british rule simply allow trick people subjected unawares increase risk problem gambling one tactic used u simulating daylight night time lull player remaining table slot machine casino also frequently offer free food drink hotel accommodation keep punter betting spokesman british casino association represents uk industry said government trying allay fear uk la vega said way licence awarded meant uk firm massive disadvantage foreign company would certain win contract uk industry one world respected said lowest level problem gambling world certainly use pheremones uk gambling industry totally frozen time foreign company take\n",
      "\n",
      "Category: Sports\n",
      "Article: november remember last saturday one newspaper proclaimed england still number one side world statement made look little foolish event later afternoon twickenham illustrated wonderful unpredictability test rugby highest level end richly entertaining autumn series final weekend threw world pecking order renewed confusion australia triumph london followed france capitulation new zealand clearly number one side world moment declared wallaby coach eddie jones arrival back sydney four five probably six side competing level given day difference one side another bodes well rugby whole also sharpens sense excitement ahead could open six nation championship decade wallaby black springbok hit beach turning attention super matter new year europe finest le week return international fray first time decade simply straightforward choice england france six nation title owes much ireland continued progress belief wale verge delivering major scalp cement promise autumn display secured first triple crown year last season could go one better win first five six nation title since start away game italy scotland england france come lansdowne road momentous victory springbok bolster ireland self belief ronan gara late drop goal deliver victory argentina proof eddie sullivan side close tight game england france nine last six nation title lay quietly dismantling springbok suggested even loss influential figure martin johnson lawrence dallaglio still personnel prosper narrow defeat australia timely reminder everything blooming red rose garden fresh shoot post world cup recovery sown new head coach andy robinson fresh desire regain former height evident england emerge triumphant opening six nation engagement cardiff fourth title six year within reach familiar revival territory time appears substance behind rediscovered style south africa confidence cardiff made closer scoreline expected wale could legitimately claim victory within grasp black one best test recent memory mike ruddock coax reliable set piece platform pack reason victory ensue come february last fortnight left state bewilderment autumn series began superb victory australia stunning defeat argentina first loss since world cup could attributed trademark french inconsistency manner new zealand demolition job paris coach bernard laporte bemoaning lack young talent coming replace old guard fortunately french opening match six nation see entertaining paris two reasonable performance australia scot humbling springbok forced coach matt williams reassess belief win one major nation imminent individual chris cusiter ali hogg enhanced reputation lack top class player continue undermine best effort start home game ireland wale travelling scotland also hopeful registering one victory first time championship autumn give way winter heineken cup prepares resume centre stage meantime joy six keep home fire burning february\n",
      "\n",
      "Category: Technology\n",
      "Article: china net cafe culture crackdown chinese authority closed net cafe closing month country government said according official news agency net cafe closed operating illegally chinese net cafe operate set strict guideline many recently closed broke rule limit close school move latest series step chinese government taken crack considers immoral net use official xinhua news agency said crackdown carried create safer environment young people china rule introduced demand net cafe least metre away middle elementary school hour child use net cafe also tightly regulated china long worried net cafe unhealthy influence young people cafe shut three month october december china also try dictate type computer game people play limit amount violence people exposed net cafe hugely popular china relatively high cost computer hardware mean people pc home first time chinese government moved net cafe operating within strict guideline net cafe country required use software control website user see log site people visit also kept law net cafe opening hour use introduced following fire one cafe killed people crackdown following blaze authority moved clean net cafe demanded get permit operate august chinese authority shut website arrested people crackdown net porn time introduced new control block overseas sex site reporter without border group said report chinese government technology e mail interception net censorship among highly developed world\n",
      "\n"
     ]
    }
   ],
   "source": [
    "#Print one random article from each category\n",
    "\n",
    "# Create a dictionary to store the randomly selected articles\n",
    "random_articles = {}\n",
    "\n",
    "# Group the dataframe by 'Category_encoded' and select one random article from each category\n",
    "grouped = df.groupby('Category')\n",
    "for category, group in grouped:\n",
    "    random_index = np.random.choice(group.index)\n",
    "    random_article = group.loc[random_index, 'Article']\n",
    "    random_articles[category] = random_article\n",
    "\n",
    "# Print the randomly selected articles\n",
    "for category, article in random_articles.items():\n",
    "    print(\"Category:\", category)\n",
    "    print(\"Article:\", article)\n",
    "    print()"
   ]
  },
  {
   "cell_type": "markdown",
   "id": "193317d8",
   "metadata": {},
   "source": []
  },
  {
   "cell_type": "markdown",
   "id": "bc9c25e6",
   "metadata": {},
   "source": [
    "Encoding and transforming the data"
   ]
  },
  {
   "cell_type": "code",
   "execution_count": 45,
   "id": "3a045602",
   "metadata": {},
   "outputs": [],
   "source": [
    "#Encoding the target variable using target encoding"
   ]
  },
  {
   "cell_type": "code",
   "execution_count": 46,
   "id": "954edc35",
   "metadata": {},
   "outputs": [],
   "source": [
    "from sklearn.preprocessing import LabelEncoder\n",
    "# Create a label encoder object\n",
    "encoder = LabelEncoder()\n",
    "\n",
    "# Fit and transform the encoder on the Category column\n",
    "df['Category_encoded'] = encoder.fit_transform(df['Category'])"
   ]
  },
  {
   "cell_type": "code",
   "execution_count": 47,
   "id": "ea5ff1eb",
   "metadata": {},
   "outputs": [
    {
     "data": {
      "text/html": [
       "<div>\n",
       "<style scoped>\n",
       "    .dataframe tbody tr th:only-of-type {\n",
       "        vertical-align: middle;\n",
       "    }\n",
       "\n",
       "    .dataframe tbody tr th {\n",
       "        vertical-align: top;\n",
       "    }\n",
       "\n",
       "    .dataframe thead th {\n",
       "        text-align: right;\n",
       "    }\n",
       "</style>\n",
       "<table border=\"1\" class=\"dataframe\">\n",
       "  <thead>\n",
       "    <tr style=\"text-align: right;\">\n",
       "      <th></th>\n",
       "      <th>Category</th>\n",
       "      <th>Article</th>\n",
       "      <th>Category_encoded</th>\n",
       "    </tr>\n",
       "  </thead>\n",
       "  <tbody>\n",
       "    <tr>\n",
       "      <th>0</th>\n",
       "      <td>Technology</td>\n",
       "      <td>tv future hand viewer home theatre system plas...</td>\n",
       "      <td>4</td>\n",
       "    </tr>\n",
       "    <tr>\n",
       "      <th>1</th>\n",
       "      <td>Business</td>\n",
       "      <td>worldcom bos left book alone former worldcom b...</td>\n",
       "      <td>0</td>\n",
       "    </tr>\n",
       "    <tr>\n",
       "      <th>2</th>\n",
       "      <td>Sports</td>\n",
       "      <td>tiger wary farrell gamble leicester say rushed...</td>\n",
       "      <td>3</td>\n",
       "    </tr>\n",
       "    <tr>\n",
       "      <th>3</th>\n",
       "      <td>Sports</td>\n",
       "      <td>yeading face newcastle fa cup premiership side...</td>\n",
       "      <td>3</td>\n",
       "    </tr>\n",
       "    <tr>\n",
       "      <th>4</th>\n",
       "      <td>Entertainment</td>\n",
       "      <td>ocean twelve raid box office ocean twelve crim...</td>\n",
       "      <td>1</td>\n",
       "    </tr>\n",
       "    <tr>\n",
       "      <th>...</th>\n",
       "      <td>...</td>\n",
       "      <td>...</td>\n",
       "      <td>...</td>\n",
       "    </tr>\n",
       "    <tr>\n",
       "      <th>2220</th>\n",
       "      <td>Business</td>\n",
       "      <td>car pull u retail figure u retail sale fell ja...</td>\n",
       "      <td>0</td>\n",
       "    </tr>\n",
       "    <tr>\n",
       "      <th>2221</th>\n",
       "      <td>Politics</td>\n",
       "      <td>kilroy unveils immigration policy ex chatshow ...</td>\n",
       "      <td>2</td>\n",
       "    </tr>\n",
       "    <tr>\n",
       "      <th>2222</th>\n",
       "      <td>Entertainment</td>\n",
       "      <td>rem announce new glasgow concert u band rem an...</td>\n",
       "      <td>1</td>\n",
       "    </tr>\n",
       "    <tr>\n",
       "      <th>2223</th>\n",
       "      <td>Politics</td>\n",
       "      <td>political squabble snowball become commonplace...</td>\n",
       "      <td>2</td>\n",
       "    </tr>\n",
       "    <tr>\n",
       "      <th>2224</th>\n",
       "      <td>Sports</td>\n",
       "      <td>souness delight euro progress bos graeme soune...</td>\n",
       "      <td>3</td>\n",
       "    </tr>\n",
       "  </tbody>\n",
       "</table>\n",
       "<p>2225 rows × 3 columns</p>\n",
       "</div>"
      ],
      "text/plain": [
       "           Category                                            Article  \\\n",
       "0        Technology  tv future hand viewer home theatre system plas...   \n",
       "1          Business  worldcom bos left book alone former worldcom b...   \n",
       "2            Sports  tiger wary farrell gamble leicester say rushed...   \n",
       "3            Sports  yeading face newcastle fa cup premiership side...   \n",
       "4     Entertainment  ocean twelve raid box office ocean twelve crim...   \n",
       "...             ...                                                ...   \n",
       "2220       Business  car pull u retail figure u retail sale fell ja...   \n",
       "2221       Politics  kilroy unveils immigration policy ex chatshow ...   \n",
       "2222  Entertainment  rem announce new glasgow concert u band rem an...   \n",
       "2223       Politics  political squabble snowball become commonplace...   \n",
       "2224         Sports  souness delight euro progress bos graeme soune...   \n",
       "\n",
       "      Category_encoded  \n",
       "0                    4  \n",
       "1                    0  \n",
       "2                    3  \n",
       "3                    3  \n",
       "4                    1  \n",
       "...                ...  \n",
       "2220                 0  \n",
       "2221                 2  \n",
       "2222                 1  \n",
       "2223                 2  \n",
       "2224                 3  \n",
       "\n",
       "[2225 rows x 3 columns]"
      ]
     },
     "execution_count": 47,
     "metadata": {},
     "output_type": "execute_result"
    }
   ],
   "source": [
    "df"
   ]
  },
  {
   "cell_type": "code",
   "execution_count": null,
   "id": "12fbe938",
   "metadata": {},
   "outputs": [],
   "source": []
  },
  {
   "cell_type": "code",
   "execution_count": null,
   "id": "ec0d94ef",
   "metadata": {},
   "outputs": [],
   "source": [
    "# Option for the user to choose between Bag of Words and TF-IDF techniques for vectorizing the data"
   ]
  },
  {
   "cell_type": "code",
   "execution_count": 48,
   "id": "46c73dea",
   "metadata": {},
   "outputs": [],
   "source": [
    "from sklearn.feature_extraction.text import CountVectorizer, TfidfVectorizer\n",
    "\n",
    "def vectorizer(arr,technique='BOW'):\n",
    "  if technique == 'BOW':\n",
    "    vectorizer = CountVectorizer()\n",
    "    vectors = vectorizer.fit_transform(arr)\n",
    "  elif technique == 'TFIDF':\n",
    "    vectorizer = TfidfVectorizer()\n",
    "    vectors = vectorizer.fit_transform(arr)\n",
    "  return vectors\n"
   ]
  },
  {
   "cell_type": "code",
   "execution_count": 49,
   "id": "28d87f7a",
   "metadata": {},
   "outputs": [],
   "source": [
    "#Using BOW encoding "
   ]
  },
  {
   "cell_type": "code",
   "execution_count": 50,
   "id": "1b8d0c2a",
   "metadata": {},
   "outputs": [],
   "source": [
    "bow = vectorizer(df['Article'],technique='BOW')"
   ]
  },
  {
   "cell_type": "code",
   "execution_count": 51,
   "id": "c4bbea16",
   "metadata": {},
   "outputs": [],
   "source": [
    "from sklearn.model_selection import train_test_split\n",
    "X_train, X_test, y_train, y_test = train_test_split(bow, df['Category_encoded'], test_size=0.25, random_state=42)"
   ]
  },
  {
   "cell_type": "code",
   "execution_count": 52,
   "id": "bb706423",
   "metadata": {},
   "outputs": [],
   "source": [
    "from sklearn.naive_bayes import MultinomialNB"
   ]
  },
  {
   "cell_type": "code",
   "execution_count": 53,
   "id": "44c739c1",
   "metadata": {},
   "outputs": [
    {
     "data": {
      "text/plain": [
       "MultinomialNB()"
      ]
     },
     "execution_count": 53,
     "metadata": {},
     "output_type": "execute_result"
    }
   ],
   "source": [
    "nb_model = MultinomialNB()\n",
    "nb_model.fit(X_train, y_train)"
   ]
  },
  {
   "cell_type": "code",
   "execution_count": 54,
   "id": "2be9d610",
   "metadata": {},
   "outputs": [],
   "source": [
    "y_pred = nb_model.predict(X_test)"
   ]
  },
  {
   "cell_type": "code",
   "execution_count": 59,
   "id": "8cb73f3e",
   "metadata": {},
   "outputs": [],
   "source": [
    "#Accuracy using Multinomial Naive Bayes"
   ]
  },
  {
   "cell_type": "code",
   "execution_count": 60,
   "id": "03ccb2f8",
   "metadata": {},
   "outputs": [
    {
     "name": "stdout",
     "output_type": "stream",
     "text": [
      "Accuracy: 0.9712746858168761\n"
     ]
    }
   ],
   "source": [
    "from sklearn.metrics import accuracy_score\n",
    "accuracy = accuracy_score(y_test, y_pred)\n",
    "print(\"Accuracy:\", accuracy)"
   ]
  },
  {
   "cell_type": "code",
   "execution_count": 61,
   "id": "64a8cdc7",
   "metadata": {},
   "outputs": [],
   "source": [
    "from sklearn.metrics import accuracy_score, confusion_matrix, classification_report\n",
    "# Create a confusion matrix\n",
    "cm = confusion_matrix(y_test, y_pred)"
   ]
  },
  {
   "cell_type": "code",
   "execution_count": 62,
   "id": "b4d287c2",
   "metadata": {},
   "outputs": [
    {
     "data": {
      "image/png": "[encoded data removed]",
      "text/plain": [
       "<Figure size 576x432 with 1 Axes>"
      ]
     },
     "metadata": {
      "needs_background": "light"
     },
     "output_type": "display_data"
    }
   ],
   "source": [
    "# Plot the confusion matrix\n",
    "plt.figure(figsize=(8, 6))\n",
    "sns.heatmap(cm, annot=True, fmt=\"d\", cmap=\"Blues\", cbar=False)\n",
    "plt.xlabel(\"Predicted Labels\")\n",
    "plt.ylabel(\"True Labels\")\n",
    "plt.title(\"Confusion Matrix\")\n",
    "plt.show()"
   ]
  },
  {
   "cell_type": "markdown",
   "id": "18bcc23e",
   "metadata": {},
   "source": [
    "Business = 0\n",
    "Entertainment = 1\n",
    "Politics = 2\n",
    "Sports = 3\n",
    "Technology = 4"
   ]
  },
  {
   "cell_type": "code",
   "execution_count": 63,
   "id": "5f0e6f5b",
   "metadata": {},
   "outputs": [
    {
     "name": "stdout",
     "output_type": "stream",
     "text": [
      "Classification Report:\n",
      "               precision    recall  f1-score   support\n",
      "\n",
      "           0       0.98      0.96      0.97       136\n",
      "           1       1.00      0.93      0.96        96\n",
      "           2       0.92      0.99      0.96        98\n",
      "           3       0.99      0.99      0.99       124\n",
      "           4       0.95      0.99      0.97       103\n",
      "\n",
      "    accuracy                           0.97       557\n",
      "   macro avg       0.97      0.97      0.97       557\n",
      "weighted avg       0.97      0.97      0.97       557\n",
      "\n"
     ]
    }
   ],
   "source": [
    "# Generate a classification report\n",
    "report = classification_report(y_test, y_pred)\n",
    "print(\"Classification Report:\\n\", report)"
   ]
  },
  {
   "cell_type": "markdown",
   "id": "ae3b8f80",
   "metadata": {},
   "source": [
    "Clasification report : \n",
    "1) Across categories high precision (0.92 to 1.00) , high recall (0.93 to 0.99) and high f1-score alongwith 97% accuracy indicated that the model is performing well"
   ]
  },
  {
   "cell_type": "code",
   "execution_count": null,
   "id": "03ec1530",
   "metadata": {},
   "outputs": [],
   "source": []
  },
  {
   "cell_type": "code",
   "execution_count": 64,
   "id": "0cb4bbac",
   "metadata": {},
   "outputs": [],
   "source": [
    "#Using TFIDF encoding"
   ]
  },
  {
   "cell_type": "code",
   "execution_count": 65,
   "id": "e0c35996",
   "metadata": {},
   "outputs": [],
   "source": [
    "tfidf = vectorizer(df['Article'],technique='TFIDF')"
   ]
  },
  {
   "cell_type": "code",
   "execution_count": 66,
   "id": "6387258c",
   "metadata": {},
   "outputs": [],
   "source": [
    "X_train, X_test, y_train, y_test = train_test_split(tfidf, df['Category_encoded'], test_size=0.25, random_state=42)"
   ]
  },
  {
   "cell_type": "code",
   "execution_count": 67,
   "id": "4c9ae9c7",
   "metadata": {},
   "outputs": [
    {
     "data": {
      "text/plain": [
       "MultinomialNB()"
      ]
     },
     "execution_count": 67,
     "metadata": {},
     "output_type": "execute_result"
    }
   ],
   "source": [
    "nb_model = MultinomialNB()\n",
    "nb_model.fit(X_train, y_train)"
   ]
  },
  {
   "cell_type": "code",
   "execution_count": 68,
   "id": "3288bb06",
   "metadata": {},
   "outputs": [],
   "source": [
    "#Accuracy using TFIDF approach"
   ]
  },
  {
   "cell_type": "code",
   "execution_count": 69,
   "id": "6d0723fb",
   "metadata": {},
   "outputs": [],
   "source": [
    "y_pred = nb_model.predict(X_test)"
   ]
  },
  {
   "cell_type": "code",
   "execution_count": 70,
   "id": "e74cb2ab",
   "metadata": {},
   "outputs": [
    {
     "name": "stdout",
     "output_type": "stream",
     "text": [
      "Accuracy: 0.9712746858168761\n"
     ]
    }
   ],
   "source": [
    "from sklearn.metrics import accuracy_score\n",
    "accuracy = accuracy_score(y_test, y_pred)\n",
    "print(\"Accuracy:\", accuracy)"
   ]
  },
  {
   "cell_type": "code",
   "execution_count": 71,
   "id": "84402d71",
   "metadata": {},
   "outputs": [
    {
     "name": "stdout",
     "output_type": "stream",
     "text": [
      "Classification Report:\n",
      "               precision    recall  f1-score   support\n",
      "\n",
      "           0       0.97      0.96      0.97       136\n",
      "           1       1.00      0.93      0.96        96\n",
      "           2       0.93      0.99      0.96        98\n",
      "           3       0.98      1.00      0.99       124\n",
      "           4       0.97      0.97      0.97       103\n",
      "\n",
      "    accuracy                           0.97       557\n",
      "   macro avg       0.97      0.97      0.97       557\n",
      "weighted avg       0.97      0.97      0.97       557\n",
      "\n"
     ]
    }
   ],
   "source": [
    "# Generate a classification report\n",
    "report = classification_report(y_test, y_pred)\n",
    "print(\"Classification Report:\\n\", report)"
   ]
  },
  {
   "cell_type": "markdown",
   "id": "323e2345",
   "metadata": {},
   "source": [
    " High precision, recall , f1-score and accuracy across categories tells us that the model is working well with TFIDF \n",
    " encoding as well"
   ]
  },
  {
   "cell_type": "code",
   "execution_count": null,
   "id": "6617d3ce",
   "metadata": {},
   "outputs": [],
   "source": []
  },
  {
   "cell_type": "code",
   "execution_count": 72,
   "id": "84112e21",
   "metadata": {},
   "outputs": [],
   "source": [
    "#Code for selectiing different encoding techniques and different models"
   ]
  },
  {
   "cell_type": "code",
   "execution_count": 73,
   "id": "55446fcc",
   "metadata": {},
   "outputs": [],
   "source": [
    "from sklearn.feature_extraction.text import CountVectorizer, TfidfVectorizer\n",
    "from sklearn.model_selection import train_test_split\n",
    "from sklearn.naive_bayes import MultinomialNB\n",
    "from sklearn.tree import DecisionTreeClassifier\n",
    "from sklearn.neighbors import KNeighborsClassifier\n",
    "from sklearn.ensemble import RandomForestClassifier\n",
    "from sklearn.metrics import accuracy_score, confusion_matrix, classification_report\n",
    "import seaborn as sns\n",
    "import matplotlib.pyplot as plt\n",
    "\n",
    "def vectorize_text(vectorizer, text_data):\n",
    "    vectors = vectorizer.fit_transform(text_data)\n",
    "    return vectors\n",
    "\n",
    "def train_naive_bayes(X_train, y_train):\n",
    "    nb_model = MultinomialNB()\n",
    "    nb_model.fit(X_train, y_train)\n",
    "    return nb_model\n",
    "\n",
    "def train_decision_tree(X_train, y_train):\n",
    "    dt_model = DecisionTreeClassifier()\n",
    "    dt_model.fit(X_train, y_train)\n",
    "    return dt_model\n",
    "\n",
    "def train_nearest_neighbors(X_train, y_train):\n",
    "    knn_model = KNeighborsClassifier()\n",
    "    knn_model.fit(X_train, y_train)\n",
    "    return knn_model\n",
    "\n",
    "def train_random_forest(X_train, y_train):\n",
    "    rf_model = RandomForestClassifier()\n",
    "    rf_model.fit(X_train, y_train)\n",
    "    return rf_model\n",
    "\n",
    "def evaluate_model(model, X_test, y_test):\n",
    "    y_pred = model.predict(X_test)\n",
    "    accuracy = accuracy_score(y_test, y_pred)\n",
    "    print(\"Accuracy:\", accuracy)\n",
    "\n",
    "    cm = confusion_matrix(y_test, y_pred)\n",
    "    plt.figure(figsize=(8, 6))\n",
    "    sns.heatmap(cm, annot=True, fmt=\"d\", cmap=\"Blues\", cbar=False)\n",
    "    plt.xlabel(\"Predicted Labels\")\n",
    "    plt.ylabel(\"True Labels\")\n",
    "    plt.title(\"Confusion Matrix\")\n",
    "    plt.show()\n",
    "\n",
    "    report = classification_report(y_test, y_pred)\n",
    "    print(\"Classification Report:\\n\", report)"
   ]
  },
  {
   "cell_type": "code",
   "execution_count": null,
   "id": "961dce35",
   "metadata": {},
   "outputs": [],
   "source": []
  },
  {
   "cell_type": "code",
   "execution_count": 91,
   "id": "0a79e9e8",
   "metadata": {},
   "outputs": [],
   "source": [
    "#Decision Tree"
   ]
  },
  {
   "cell_type": "code",
   "execution_count": 92,
   "id": "80da6ea8",
   "metadata": {},
   "outputs": [],
   "source": [
    "vectorizer = TfidfVectorizer()\n",
    "vectors = vectorize_text(vectorizer, df['Article'])"
   ]
  },
  {
   "cell_type": "code",
   "execution_count": 93,
   "id": "da4adfca",
   "metadata": {},
   "outputs": [
    {
     "name": "stdout",
     "output_type": "stream",
     "text": [
      "Accuracy: 0.8114901256732495\n"
     ]
    },
    {
     "data": {
      "image/png": "[encoded data removed]",
      "text/plain": [
       "<Figure size 576x432 with 1 Axes>"
      ]
     },
     "metadata": {
      "needs_background": "light"
     },
     "output_type": "display_data"
    },
    {
     "name": "stdout",
     "output_type": "stream",
     "text": [
      "Classification Report:\n",
      "                precision    recall  f1-score   support\n",
      "\n",
      "     Business       0.83      0.80      0.81       136\n",
      "Entertainment       0.85      0.77      0.81        96\n",
      "     Politics       0.78      0.79      0.78        98\n",
      "       Sports       0.80      0.90      0.85       124\n",
      "   Technology       0.81      0.78      0.79       103\n",
      "\n",
      "     accuracy                           0.81       557\n",
      "    macro avg       0.81      0.81      0.81       557\n",
      " weighted avg       0.81      0.81      0.81       557\n",
      "\n",
      "CPU times: total: 359 ms\n",
      "Wall time: 353 ms\n"
     ]
    }
   ],
   "source": [
    "%%time\n",
    "X_train, X_test, y_train, y_test = train_test_split(vectors, df['Category'], test_size=0.25, random_state=42)\n",
    "model = train_decision_tree(X_train, y_train)\n",
    "# Evaluate the model\n",
    "evaluate_model(model, X_test, y_test)"
   ]
  },
  {
   "cell_type": "code",
   "execution_count": 94,
   "id": "287a6bc9",
   "metadata": {},
   "outputs": [],
   "source": [
    "#Not a very good model"
   ]
  },
  {
   "cell_type": "code",
   "execution_count": null,
   "id": "356dc845",
   "metadata": {},
   "outputs": [],
   "source": []
  },
  {
   "cell_type": "code",
   "execution_count": 95,
   "id": "fa8a4c2f",
   "metadata": {},
   "outputs": [],
   "source": [
    "#Nearest Neighbors"
   ]
  },
  {
   "cell_type": "code",
   "execution_count": 96,
   "id": "067214a6",
   "metadata": {},
   "outputs": [
    {
     "name": "stdout",
     "output_type": "stream",
     "text": [
      "Accuracy: 0.9389587073608617\n"
     ]
    },
    {
     "data": {
      "image/png": "[encoded data removed]",
      "text/plain": [
       "<Figure size 576x432 with 1 Axes>"
      ]
     },
     "metadata": {
      "needs_background": "light"
     },
     "output_type": "display_data"
    },
    {
     "name": "stdout",
     "output_type": "stream",
     "text": [
      "Classification Report:\n",
      "                precision    recall  f1-score   support\n",
      "\n",
      "     Business       0.94      0.88      0.91       136\n",
      "Entertainment       0.96      0.94      0.95        96\n",
      "     Politics       0.86      0.91      0.88        98\n",
      "       Sports       0.96      1.00      0.98       124\n",
      "   Technology       0.97      0.97      0.97       103\n",
      "\n",
      "     accuracy                           0.94       557\n",
      "    macro avg       0.94      0.94      0.94       557\n",
      " weighted avg       0.94      0.94      0.94       557\n",
      "\n",
      "CPU times: total: 156 ms\n",
      "Wall time: 144 ms\n"
     ]
    }
   ],
   "source": [
    "%%time\n",
    "X_train, X_test, y_train, y_test = train_test_split(vectors, df['Category'], test_size=0.25, random_state=42)\n",
    "model = train_nearest_neighbors(X_train, y_train)\n",
    "# Evaluate the model\n",
    "evaluate_model(model, X_test, y_test)"
   ]
  },
  {
   "cell_type": "code",
   "execution_count": null,
   "id": "221dd0cc",
   "metadata": {},
   "outputs": [],
   "source": []
  },
  {
   "cell_type": "code",
   "execution_count": 97,
   "id": "759244f5",
   "metadata": {},
   "outputs": [],
   "source": [
    "#RandomForest"
   ]
  },
  {
   "cell_type": "code",
   "execution_count": 98,
   "id": "afd3612d",
   "metadata": {},
   "outputs": [
    {
     "name": "stdout",
     "output_type": "stream",
     "text": [
      "Accuracy: 0.9515260323159784\n"
     ]
    },
    {
     "data": {
      "image/png": "[encoded data removed]",
      "text/plain": [
       "<Figure size 576x432 with 1 Axes>"
      ]
     },
     "metadata": {
      "needs_background": "light"
     },
     "output_type": "display_data"
    },
    {
     "name": "stdout",
     "output_type": "stream",
     "text": [
      "Classification Report:\n",
      "                precision    recall  f1-score   support\n",
      "\n",
      "     Business       0.91      0.95      0.93       136\n",
      "Entertainment       0.99      0.93      0.96        96\n",
      "     Politics       0.93      0.95      0.94        98\n",
      "       Sports       0.98      0.99      0.98       124\n",
      "   Technology       0.97      0.93      0.95       103\n",
      "\n",
      "     accuracy                           0.95       557\n",
      "    macro avg       0.95      0.95      0.95       557\n",
      " weighted avg       0.95      0.95      0.95       557\n",
      "\n",
      "CPU times: total: 1.05 s\n",
      "Wall time: 1.05 s\n"
     ]
    }
   ],
   "source": [
    "%%time\n",
    "X_train, X_test, y_train, y_test = train_test_split(vectors, df['Category'], test_size=0.25, random_state=42)\n",
    "model = train_random_forest(X_train, y_train)\n",
    "# Evaluate the model\n",
    "evaluate_model(model, X_test, y_test)"
   ]
  },
  {
   "cell_type": "code",
   "execution_count": null,
   "id": "417160eb",
   "metadata": {},
   "outputs": [],
   "source": []
  },
  {
   "cell_type": "markdown",
   "id": "ba5126d5",
   "metadata": {},
   "source": [
    "NOTE : Multinomial Naive Bayes is a type of Naive Bayes. It is not a separate or competing algorithm but\n",
    " a specialized version within the Naive Bayes family tailored for specific types of data.\n",
    "\n",
    "Multinomial Naive Bayes is a probabilistic classifier to calculate the probability distribution of text data,\n",
    "which makes it well-suited for data with features that represent discrete frequencies or counts of events in \n",
    "various natural language processing (NLP) tasks."
   ]
  },
  {
   "cell_type": "code",
   "execution_count": 99,
   "id": "5d3357d1",
   "metadata": {},
   "outputs": [],
   "source": [
    "#NaiveBayes"
   ]
  },
  {
   "cell_type": "code",
   "execution_count": 100,
   "id": "29b7ae1a",
   "metadata": {},
   "outputs": [
    {
     "name": "stdout",
     "output_type": "stream",
     "text": [
      "Accuracy: 0.9712746858168761\n"
     ]
    },
    {
     "data": {
      "image/png": "[encoded data removed]",
      "text/plain": [
       "<Figure size 576x432 with 1 Axes>"
      ]
     },
     "metadata": {
      "needs_background": "light"
     },
     "output_type": "display_data"
    },
    {
     "name": "stdout",
     "output_type": "stream",
     "text": [
      "Classification Report:\n",
      "                precision    recall  f1-score   support\n",
      "\n",
      "     Business       0.97      0.96      0.97       136\n",
      "Entertainment       1.00      0.93      0.96        96\n",
      "     Politics       0.93      0.99      0.96        98\n",
      "       Sports       0.98      1.00      0.99       124\n",
      "   Technology       0.97      0.97      0.97       103\n",
      "\n",
      "     accuracy                           0.97       557\n",
      "    macro avg       0.97      0.97      0.97       557\n",
      " weighted avg       0.97      0.97      0.97       557\n",
      "\n",
      "CPU times: total: 93.8 ms\n",
      "Wall time: 91 ms\n"
     ]
    }
   ],
   "source": [
    "%%time\n",
    "X_train, X_test, y_train, y_test = train_test_split(vectors, df['Category'], test_size=0.25, random_state=42)\n",
    "model = train_naive_bayes(X_train, y_train)\n",
    "# Evaluate the model\n",
    "evaluate_model(model, X_test, y_test)"
   ]
  },
  {
   "cell_type": "code",
   "execution_count": null,
   "id": "d8f35d98",
   "metadata": {},
   "outputs": [],
   "source": []
  },
  {
   "cell_type": "markdown",
   "id": "53914d9d",
   "metadata": {},
   "source": [
    "Conclusion: \n",
    "1) TFIDF and BOW give similar results\n",
    "2) Best model : Naive bayes (97% accuracy) and worse model Decision Tree (81% accuracy)\n",
    "3) Fastest model Naive Bayes (91ms) and slowest model Decision Tree (1.05s)"
   ]
  },
  {
   "cell_type": "code",
   "execution_count": null,
   "id": "ca05e1af",
   "metadata": {},
   "outputs": [],
   "source": []
  }
 ],
 "metadata": {
  "kernelspec": {
   "display_name": "Python 3 (ipykernel)",
   "language": "python",
   "name": "python3"
  },
  "language_info": {
   "codemirror_mode": {
    "name": "ipython",
    "version": 3
   },
   "file_extension": ".py",
   "mimetype": "text/x-python",
   "name": "python",
   "nbconvert_exporter": "python",
   "pygments_lexer": "ipython3",
   "version": "3.11.5"
  }
 },
 "nbformat": 4,
 "nbformat_minor": 5
}
