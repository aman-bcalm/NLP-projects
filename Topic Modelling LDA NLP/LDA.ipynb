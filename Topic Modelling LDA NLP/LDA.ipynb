{
 "cells": [
  {
   "cell_type": "code",
   "execution_count": 3,
   "metadata": {
    "id": "sOlYwkj7zH8P"
   },
   "outputs": [],
   "source": [
    "import pandas as pd\n",
    "import numpy as np\n",
    "import seaborn as sns\n",
    "from matplotlib import pyplot as plt\n",
    "from sklearn import preprocessing\n",
    "\n",
    "\n",
    "import warnings\n",
    "warnings.filterwarnings('ignore')"
   ]
  },
  {
   "cell_type": "markdown",
   "metadata": {},
   "source": [
    "Given text the aim of this project is to classify text into various topics based on the semantic match of the keywords contained within\n",
    "the topics. This is done using LDA. \n",
    "\n",
    "\n",
    "Further scope for improvement (refer READ ME) : \n",
    "1) Use bigrams and trigrams as well"
   ]
  },
  {
   "cell_type": "code",
   "execution_count": 2,
   "metadata": {
    "colab": {
     "base_uri": "https://localhost:8080/",
     "height": 1000
    },
    "id": "2l924DsOzMju",
    "outputId": "d388399f-8adf-40b7-e49e-4254111c9620"
   },
   "outputs": [
    {
     "ename": "ModuleNotFoundError",
     "evalue": "No module named 'google'",
     "output_type": "error",
     "traceback": [
      "\u001b[1;31m---------------------------------------------------------------------------\u001b[0m",
      "\u001b[1;31mModuleNotFoundError\u001b[0m                       Traceback (most recent call last)",
      "Cell \u001b[1;32mIn[2], line 1\u001b[0m\n\u001b[1;32m----> 1\u001b[0m \u001b[38;5;28;01mfrom\u001b[39;00m \u001b[38;5;21;01mgoogle\u001b[39;00m\u001b[38;5;21;01m.\u001b[39;00m\u001b[38;5;21;01mcolab\u001b[39;00m \u001b[38;5;28;01mimport\u001b[39;00m files\n\u001b[0;32m      2\u001b[0m files\u001b[38;5;241m.\u001b[39mupload()\n",
      "\u001b[1;31mModuleNotFoundError\u001b[0m: No module named 'google'"
     ]
    }
   ],
   "source": [
    "from google.colab import files\n",
    "files.upload()"
   ]
  },
  {
   "cell_type": "code",
   "execution_count": 5,
   "metadata": {
    "id": "AjIMwJyXzMs8"
   },
   "outputs": [],
   "source": [
    "df = pd.read_excel('Interview-data-set-semantic-topic-tagging.xlsx')"
   ]
  },
  {
   "cell_type": "code",
   "execution_count": 7,
   "metadata": {
    "colab": {
     "base_uri": "https://localhost:8080/"
    },
    "id": "kO1NTk-Hz3hA",
    "outputId": "83620e59-dda5-4217-97d2-4f4c9cfbae54"
   },
   "outputs": [
    {
     "data": {
      "text/plain": [
       "(1575, 7)"
      ]
     },
     "execution_count": 7,
     "metadata": {},
     "output_type": "execute_result"
    }
   ],
   "source": [
    "df.shape\n",
    "#shape of data"
   ]
  },
  {
   "cell_type": "code",
   "execution_count": 8,
   "metadata": {
    "colab": {
     "base_uri": "https://localhost:8080/",
     "height": 1000
    },
    "id": "oZFVYgIsz3jR",
    "outputId": "f7054c1d-b2fe-4980-daa4-206bb6950900"
   },
   "outputs": [
    {
     "data": {
      "application/vnd.google.colaboratory.intrinsic+json": {
       "summary": "{\n  \"name\": \"df\",\n  \"rows\": 1575,\n  \"fields\": [\n    {\n      \"column\": \"article_id\",\n      \"properties\": {\n        \"dtype\": \"string\",\n        \"num_unique_values\": 1575,\n        \"samples\": [\n          \"09051e5c771d7a258bd86f1cd885eb8e\",\n          \"89335ffe2eb1fbc3a508562d97221ca3\",\n          \"fe80445bd1afbf515d3de982c45e4563\"\n        ],\n        \"semantic_type\": \"\",\n        \"description\": \"\"\n      }\n    },\n    {\n      \"column\": \"source_link\",\n      \"properties\": {\n        \"dtype\": \"category\",\n        \"num_unique_values\": 1,\n        \"samples\": [\n          \"https://www.belfasttelegraph.co.uk/news/\"\n        ],\n        \"semantic_type\": \"\",\n        \"description\": \"\"\n      }\n    },\n    {\n      \"column\": \"article_url\",\n      \"properties\": {\n        \"dtype\": \"string\",\n        \"num_unique_values\": 1575,\n        \"samples\": [\n          \"https://www.belfasttelegraph.co.uk/business/uk-world/currys-slashes-profit-outlook-as-hard-pressed-customers-cut-back-42221194.html\"\n        ],\n        \"semantic_type\": \"\",\n        \"description\": \"\"\n      }\n    },\n    {\n      \"column\": \"title\",\n      \"properties\": {\n        \"dtype\": \"string\",\n        \"num_unique_values\": 1574,\n        \"samples\": [\n          \"Aisling Bea praises \\u2018heart and patience\\u2019 of food bank volunteers\"\n        ],\n        \"semantic_type\": \"\",\n        \"description\": \"\"\n      }\n    },\n    {\n      \"column\": \"Content\",\n      \"properties\": {\n        \"dtype\": \"string\",\n        \"num_unique_values\": 1575,\n        \"samples\": [\n          \"Technology retailer Currys has sunk to a loss and downgraded its full-year profit expectations, as shoppers opt for cheaper items and hunt for deals amid cost pressures. Shares in the company were down more than 7% on Thursday after it said it has had a tough time over the past six months, having suffered significant disruption in its stores across the Nordic countries. Low demand left competitors with excess stock, leading rival stores to slash prices while Currys kept its prices the same, meaning it made virtually no money across the region. As a result, Currys saw its profits plunge by \\u00a362 \"\n        ],\n        \"semantic_type\": \"\",\n        \"description\": \"\"\n      }\n    },\n    {\n      \"column\": \"append_topic\",\n      \"properties\": {\n        \"dtype\": \"number\",\n        \"std\": null,\n        \"min\": null,\n        \"max\": null,\n        \"num_unique_values\": 0,\n        \"samples\": [],\n        \"semantic_type\": \"\",\n        \"description\": \"\"\n      }\n    },\n    {\n      \"column\": \"topic_keyword\",\n      \"properties\": {\n        \"dtype\": \"number\",\n        \"std\": null,\n        \"min\": null,\n        \"max\": null,\n        \"num_unique_values\": 0,\n        \"samples\": [],\n        \"semantic_type\": \"\",\n        \"description\": \"\"\n      }\n    }\n  ]\n}",
       "type": "dataframe",
       "variable_name": "df"
      },
      "text/html": [
       "\n",
       "  <div id=\"df-5c0e964c-d6a5-460c-8220-821490c594b7\" class=\"colab-df-container\">\n",
       "    <div>\n",
       "<style scoped>\n",
       "    .dataframe tbody tr th:only-of-type {\n",
       "        vertical-align: middle;\n",
       "    }\n",
       "\n",
       "    .dataframe tbody tr th {\n",
       "        vertical-align: top;\n",
       "    }\n",
       "\n",
       "    .dataframe thead th {\n",
       "        text-align: right;\n",
       "    }\n",
       "</style>\n",
       "<table border=\"1\" class=\"dataframe\">\n",
       "  <thead>\n",
       "    <tr style=\"text-align: right;\">\n",
       "      <th></th>\n",
       "      <th>article_id</th>\n",
       "      <th>source_link</th>\n",
       "      <th>article_url</th>\n",
       "      <th>title</th>\n",
       "      <th>Content</th>\n",
       "      <th>append_topic</th>\n",
       "      <th>topic_keyword</th>\n",
       "    </tr>\n",
       "  </thead>\n",
       "  <tbody>\n",
       "    <tr>\n",
       "      <th>0</th>\n",
       "      <td>b018fcab57396d80ed17ab3083aed8bd</td>\n",
       "      <td>https://www.belfasttelegraph.co.uk/news/</td>\n",
       "      <td>https://www.belfasttelegraph.co.uk/life/house-...</td>\n",
       "      <td>Hilltop Lisburn property with spa complex and ...</td>\n",
       "      <td>It's the kind of property that you'd see in a ...</td>\n",
       "      <td>NaN</td>\n",
       "      <td>NaN</td>\n",
       "    </tr>\n",
       "    <tr>\n",
       "      <th>1</th>\n",
       "      <td>cc9cf2ca1680c54eac977125caf9c9af</td>\n",
       "      <td>https://www.belfasttelegraph.co.uk/news/</td>\n",
       "      <td>https://www.belfasttelegraph.co.uk/entertainme...</td>\n",
       "      <td>‘Life in the tough cul de sacs of Bangor’: NI ...</td>\n",
       "      <td>Northern Ireland writer Colin Bateman has reve...</td>\n",
       "      <td>NaN</td>\n",
       "      <td>NaN</td>\n",
       "    </tr>\n",
       "    <tr>\n",
       "      <th>2</th>\n",
       "      <td>2b681d03fb5a8529d6479a67c2475b1a</td>\n",
       "      <td>https://www.belfasttelegraph.co.uk/news/</td>\n",
       "      <td>https://www.belfasttelegraph.co.uk/life/house-...</td>\n",
       "      <td>Diarmuid Gavin: How to prepare your garden for...</td>\n",
       "      <td>Premium Clear dead leaves, fill planting gaps ...</td>\n",
       "      <td>NaN</td>\n",
       "      <td>NaN</td>\n",
       "    </tr>\n",
       "    <tr>\n",
       "      <th>3</th>\n",
       "      <td>55b3c801df824983d5a7d49d13a7a871</td>\n",
       "      <td>https://www.belfasttelegraph.co.uk/news/</td>\n",
       "      <td>https://www.belfasttelegraph.co.uk/life/house-...</td>\n",
       "      <td>Period property in exclusive Co Down residenti...</td>\n",
       "      <td>Nestled in what has long been regarded as one ...</td>\n",
       "      <td>NaN</td>\n",
       "      <td>NaN</td>\n",
       "    </tr>\n",
       "    <tr>\n",
       "      <th>4</th>\n",
       "      <td>4dc1f31a0e4ff27a0b0823f58782ec7d</td>\n",
       "      <td>https://www.belfasttelegraph.co.uk/news/</td>\n",
       "      <td>https://www.belfasttelegraph.co.uk/sunday-life...</td>\n",
       "      <td>How to Bury a Dead Mule: ‘WW2 gave my grandfat...</td>\n",
       "      <td>Bangor actor Richard Clements on bringing his ...</td>\n",
       "      <td>NaN</td>\n",
       "      <td>NaN</td>\n",
       "    </tr>\n",
       "    <tr>\n",
       "      <th>5</th>\n",
       "      <td>928bc131fa6baf747e75a9445ffd2bb5</td>\n",
       "      <td>https://www.belfasttelegraph.co.uk/news/</td>\n",
       "      <td>https://www.belfasttelegraph.co.uk/entertainme...</td>\n",
       "      <td>It’s a whole new ball game for Glentoran as ne...</td>\n",
       "      <td>Irish League football club Glentoran are hopin...</td>\n",
       "      <td>NaN</td>\n",
       "      <td>NaN</td>\n",
       "    </tr>\n",
       "    <tr>\n",
       "      <th>6</th>\n",
       "      <td>f5143c74f53ea4242aa55ed89fcbcb08</td>\n",
       "      <td>https://www.belfasttelegraph.co.uk/news/</td>\n",
       "      <td>https://www.belfasttelegraph.co.uk/entertainme...</td>\n",
       "      <td>Portadown twins narrowly miss out on major UK ...</td>\n",
       "      <td>A pair of identical 12-year-old twins from Co ...</td>\n",
       "      <td>NaN</td>\n",
       "      <td>NaN</td>\n",
       "    </tr>\n",
       "    <tr>\n",
       "      <th>7</th>\n",
       "      <td>011358b59b15baec6607648613a08cd5</td>\n",
       "      <td>https://www.belfasttelegraph.co.uk/news/</td>\n",
       "      <td>https://www.belfasttelegraph.co.uk/life/house-...</td>\n",
       "      <td>21 Ward Avenue: Extensive family home on sough...</td>\n",
       "      <td>Number 21 offers flexible as well as spacious ...</td>\n",
       "      <td>NaN</td>\n",
       "      <td>NaN</td>\n",
       "    </tr>\n",
       "    <tr>\n",
       "      <th>8</th>\n",
       "      <td>3b24db9224ffe0cb6386b906292371cc</td>\n",
       "      <td>https://www.belfasttelegraph.co.uk/news/</td>\n",
       "      <td>https://www.belfasttelegraph.co.uk/news/northe...</td>\n",
       "      <td>How we made Roald Dahl’s Matilda the Musical: ...</td>\n",
       "      <td>As the whistle blows in the dreaded playground...</td>\n",
       "      <td>NaN</td>\n",
       "      <td>NaN</td>\n",
       "    </tr>\n",
       "    <tr>\n",
       "      <th>9</th>\n",
       "      <td>8b2174a610a647963cb1cbffc390a15d</td>\n",
       "      <td>https://www.belfasttelegraph.co.uk/news/</td>\n",
       "      <td>https://www.belfasttelegraph.co.uk/news/northe...</td>\n",
       "      <td>Ulster Orchestra chief takes final bow leaving...</td>\n",
       "      <td>Premium During his six years in the job Richar...</td>\n",
       "      <td>NaN</td>\n",
       "      <td>NaN</td>\n",
       "    </tr>\n",
       "  </tbody>\n",
       "</table>\n",
       "</div>\n",
       "    <div class=\"colab-df-buttons\">\n",
       "\n",
       "  <div class=\"colab-df-container\">\n",
       "    <button class=\"colab-df-convert\" onclick=\"convertToInteractive('df-5c0e964c-d6a5-460c-8220-821490c594b7')\"\n",
       "            title=\"Convert this dataframe to an interactive table.\"\n",
       "            style=\"display:none;\">\n",
       "\n",
       "  <svg xmlns=\"http://www.w3.org/2000/svg\" height=\"24px\" viewBox=\"0 -960 960 960\">\n",
       "    <path d=\"M120-120v-720h720v720H120Zm60-500h600v-160H180v160Zm220 220h160v-160H400v160Zm0 220h160v-160H400v160ZM180-400h160v-160H180v160Zm440 0h160v-160H620v160ZM180-180h160v-160H180v160Zm440 0h160v-160H620v160Z\"/>\n",
       "  </svg>\n",
       "    </button>\n",
       "\n",
       "  <style>\n",
       "    .colab-df-container {\n",
       "      display:flex;\n",
       "      gap: 12px;\n",
       "    }\n",
       "\n",
       "    .colab-df-convert {\n",
       "      background-color: #E8F0FE;\n",
       "      border: none;\n",
       "      border-radius: 50%;\n",
       "      cursor: pointer;\n",
       "      display: none;\n",
       "      fill: #1967D2;\n",
       "      height: 32px;\n",
       "      padding: 0 0 0 0;\n",
       "      width: 32px;\n",
       "    }\n",
       "\n",
       "    .colab-df-convert:hover {\n",
       "      background-color: #E2EBFA;\n",
       "      box-shadow: 0px 1px 2px rgba(60, 64, 67, 0.3), 0px 1px 3px 1px rgba(60, 64, 67, 0.15);\n",
       "      fill: #174EA6;\n",
       "    }\n",
       "\n",
       "    .colab-df-buttons div {\n",
       "      margin-bottom: 4px;\n",
       "    }\n",
       "\n",
       "    [theme=dark] .colab-df-convert {\n",
       "      background-color: #3B4455;\n",
       "      fill: #D2E3FC;\n",
       "    }\n",
       "\n",
       "    [theme=dark] .colab-df-convert:hover {\n",
       "      background-color: #434B5C;\n",
       "      box-shadow: 0px 1px 3px 1px rgba(0, 0, 0, 0.15);\n",
       "      filter: drop-shadow(0px 1px 2px rgba(0, 0, 0, 0.3));\n",
       "      fill: #FFFFFF;\n",
       "    }\n",
       "  </style>\n",
       "\n",
       "    <script>\n",
       "      const buttonEl =\n",
       "        document.querySelector('#df-5c0e964c-d6a5-460c-8220-821490c594b7 button.colab-df-convert');\n",
       "      buttonEl.style.display =\n",
       "        google.colab.kernel.accessAllowed ? 'block' : 'none';\n",
       "\n",
       "      async function convertToInteractive(key) {\n",
       "        const element = document.querySelector('#df-5c0e964c-d6a5-460c-8220-821490c594b7');\n",
       "        const dataTable =\n",
       "          await google.colab.kernel.invokeFunction('convertToInteractive',\n",
       "                                                    [key], {});\n",
       "        if (!dataTable) return;\n",
       "\n",
       "        const docLinkHtml = 'Like what you see? Visit the ' +\n",
       "          '<a target=\"_blank\" href=https://colab.research.google.com/notebooks/data_table.ipynb>data table notebook</a>'\n",
       "          + ' to learn more about interactive tables.';\n",
       "        element.innerHTML = '';\n",
       "        dataTable['output_type'] = 'display_data';\n",
       "        await google.colab.output.renderOutput(dataTable, element);\n",
       "        const docLink = document.createElement('div');\n",
       "        docLink.innerHTML = docLinkHtml;\n",
       "        element.appendChild(docLink);\n",
       "      }\n",
       "    </script>\n",
       "  </div>\n",
       "\n",
       "\n",
       "<div id=\"df-c9562c12-a6c4-47eb-a4b6-9c64f2f018b1\">\n",
       "  <button class=\"colab-df-quickchart\" onclick=\"quickchart('df-c9562c12-a6c4-47eb-a4b6-9c64f2f018b1')\"\n",
       "            title=\"Suggest charts\"\n",
       "            style=\"display:none;\">\n",
       "\n",
       "<svg xmlns=\"http://www.w3.org/2000/svg\" height=\"24px\"viewBox=\"0 0 24 24\"\n",
       "     width=\"24px\">\n",
       "    <g>\n",
       "        <path d=\"M19 3H5c-1.1 0-2 .9-2 2v14c0 1.1.9 2 2 2h14c1.1 0 2-.9 2-2V5c0-1.1-.9-2-2-2zM9 17H7v-7h2v7zm4 0h-2V7h2v10zm4 0h-2v-4h2v4z\"/>\n",
       "    </g>\n",
       "</svg>\n",
       "  </button>\n",
       "\n",
       "<style>\n",
       "  .colab-df-quickchart {\n",
       "      --bg-color: #E8F0FE;\n",
       "      --fill-color: #1967D2;\n",
       "      --hover-bg-color: #E2EBFA;\n",
       "      --hover-fill-color: #174EA6;\n",
       "      --disabled-fill-color: #AAA;\n",
       "      --disabled-bg-color: #DDD;\n",
       "  }\n",
       "\n",
       "  [theme=dark] .colab-df-quickchart {\n",
       "      --bg-color: #3B4455;\n",
       "      --fill-color: #D2E3FC;\n",
       "      --hover-bg-color: #434B5C;\n",
       "      --hover-fill-color: #FFFFFF;\n",
       "      --disabled-bg-color: #3B4455;\n",
       "      --disabled-fill-color: #666;\n",
       "  }\n",
       "\n",
       "  .colab-df-quickchart {\n",
       "    background-color: var(--bg-color);\n",
       "    border: none;\n",
       "    border-radius: 50%;\n",
       "    cursor: pointer;\n",
       "    display: none;\n",
       "    fill: var(--fill-color);\n",
       "    height: 32px;\n",
       "    padding: 0;\n",
       "    width: 32px;\n",
       "  }\n",
       "\n",
       "  .colab-df-quickchart:hover {\n",
       "    background-color: var(--hover-bg-color);\n",
       "    box-shadow: 0 1px 2px rgba(60, 64, 67, 0.3), 0 1px 3px 1px rgba(60, 64, 67, 0.15);\n",
       "    fill: var(--button-hover-fill-color);\n",
       "  }\n",
       "\n",
       "  .colab-df-quickchart-complete:disabled,\n",
       "  .colab-df-quickchart-complete:disabled:hover {\n",
       "    background-color: var(--disabled-bg-color);\n",
       "    fill: var(--disabled-fill-color);\n",
       "    box-shadow: none;\n",
       "  }\n",
       "\n",
       "  .colab-df-spinner {\n",
       "    border: 2px solid var(--fill-color);\n",
       "    border-color: transparent;\n",
       "    border-bottom-color: var(--fill-color);\n",
       "    animation:\n",
       "      spin 1s steps(1) infinite;\n",
       "  }\n",
       "\n",
       "  @keyframes spin {\n",
       "    0% {\n",
       "      border-color: transparent;\n",
       "      border-bottom-color: var(--fill-color);\n",
       "      border-left-color: var(--fill-color);\n",
       "    }\n",
       "    20% {\n",
       "      border-color: transparent;\n",
       "      border-left-color: var(--fill-color);\n",
       "      border-top-color: var(--fill-color);\n",
       "    }\n",
       "    30% {\n",
       "      border-color: transparent;\n",
       "      border-left-color: var(--fill-color);\n",
       "      border-top-color: var(--fill-color);\n",
       "      border-right-color: var(--fill-color);\n",
       "    }\n",
       "    40% {\n",
       "      border-color: transparent;\n",
       "      border-right-color: var(--fill-color);\n",
       "      border-top-color: var(--fill-color);\n",
       "    }\n",
       "    60% {\n",
       "      border-color: transparent;\n",
       "      border-right-color: var(--fill-color);\n",
       "    }\n",
       "    80% {\n",
       "      border-color: transparent;\n",
       "      border-right-color: var(--fill-color);\n",
       "      border-bottom-color: var(--fill-color);\n",
       "    }\n",
       "    90% {\n",
       "      border-color: transparent;\n",
       "      border-bottom-color: var(--fill-color);\n",
       "    }\n",
       "  }\n",
       "</style>\n",
       "\n",
       "  <script>\n",
       "    async function quickchart(key) {\n",
       "      const quickchartButtonEl =\n",
       "        document.querySelector('#' + key + ' button');\n",
       "      quickchartButtonEl.disabled = true;  // To prevent multiple clicks.\n",
       "      quickchartButtonEl.classList.add('colab-df-spinner');\n",
       "      try {\n",
       "        const charts = await google.colab.kernel.invokeFunction(\n",
       "            'suggestCharts', [key], {});\n",
       "      } catch (error) {\n",
       "        console.error('Error during call to suggestCharts:', error);\n",
       "      }\n",
       "      quickchartButtonEl.classList.remove('colab-df-spinner');\n",
       "      quickchartButtonEl.classList.add('colab-df-quickchart-complete');\n",
       "    }\n",
       "    (() => {\n",
       "      let quickchartButtonEl =\n",
       "        document.querySelector('#df-c9562c12-a6c4-47eb-a4b6-9c64f2f018b1 button');\n",
       "      quickchartButtonEl.style.display =\n",
       "        google.colab.kernel.accessAllowed ? 'block' : 'none';\n",
       "    })();\n",
       "  </script>\n",
       "</div>\n",
       "\n",
       "    </div>\n",
       "  </div>\n"
      ],
      "text/plain": [
       "                         article_id                               source_link  \\\n",
       "0  b018fcab57396d80ed17ab3083aed8bd  https://www.belfasttelegraph.co.uk/news/   \n",
       "1  cc9cf2ca1680c54eac977125caf9c9af  https://www.belfasttelegraph.co.uk/news/   \n",
       "2  2b681d03fb5a8529d6479a67c2475b1a  https://www.belfasttelegraph.co.uk/news/   \n",
       "3  55b3c801df824983d5a7d49d13a7a871  https://www.belfasttelegraph.co.uk/news/   \n",
       "4  4dc1f31a0e4ff27a0b0823f58782ec7d  https://www.belfasttelegraph.co.uk/news/   \n",
       "5  928bc131fa6baf747e75a9445ffd2bb5  https://www.belfasttelegraph.co.uk/news/   \n",
       "6  f5143c74f53ea4242aa55ed89fcbcb08  https://www.belfasttelegraph.co.uk/news/   \n",
       "7  011358b59b15baec6607648613a08cd5  https://www.belfasttelegraph.co.uk/news/   \n",
       "8  3b24db9224ffe0cb6386b906292371cc  https://www.belfasttelegraph.co.uk/news/   \n",
       "9  8b2174a610a647963cb1cbffc390a15d  https://www.belfasttelegraph.co.uk/news/   \n",
       "\n",
       "                                         article_url  \\\n",
       "0  https://www.belfasttelegraph.co.uk/life/house-...   \n",
       "1  https://www.belfasttelegraph.co.uk/entertainme...   \n",
       "2  https://www.belfasttelegraph.co.uk/life/house-...   \n",
       "3  https://www.belfasttelegraph.co.uk/life/house-...   \n",
       "4  https://www.belfasttelegraph.co.uk/sunday-life...   \n",
       "5  https://www.belfasttelegraph.co.uk/entertainme...   \n",
       "6  https://www.belfasttelegraph.co.uk/entertainme...   \n",
       "7  https://www.belfasttelegraph.co.uk/life/house-...   \n",
       "8  https://www.belfasttelegraph.co.uk/news/northe...   \n",
       "9  https://www.belfasttelegraph.co.uk/news/northe...   \n",
       "\n",
       "                                               title  \\\n",
       "0  Hilltop Lisburn property with spa complex and ...   \n",
       "1  ‘Life in the tough cul de sacs of Bangor’: NI ...   \n",
       "2  Diarmuid Gavin: How to prepare your garden for...   \n",
       "3  Period property in exclusive Co Down residenti...   \n",
       "4  How to Bury a Dead Mule: ‘WW2 gave my grandfat...   \n",
       "5  It’s a whole new ball game for Glentoran as ne...   \n",
       "6  Portadown twins narrowly miss out on major UK ...   \n",
       "7  21 Ward Avenue: Extensive family home on sough...   \n",
       "8  How we made Roald Dahl’s Matilda the Musical: ...   \n",
       "9  Ulster Orchestra chief takes final bow leaving...   \n",
       "\n",
       "                                             Content  append_topic  \\\n",
       "0  It's the kind of property that you'd see in a ...           NaN   \n",
       "1  Northern Ireland writer Colin Bateman has reve...           NaN   \n",
       "2  Premium Clear dead leaves, fill planting gaps ...           NaN   \n",
       "3  Nestled in what has long been regarded as one ...           NaN   \n",
       "4  Bangor actor Richard Clements on bringing his ...           NaN   \n",
       "5  Irish League football club Glentoran are hopin...           NaN   \n",
       "6  A pair of identical 12-year-old twins from Co ...           NaN   \n",
       "7  Number 21 offers flexible as well as spacious ...           NaN   \n",
       "8  As the whistle blows in the dreaded playground...           NaN   \n",
       "9  Premium During his six years in the job Richar...           NaN   \n",
       "\n",
       "   topic_keyword  \n",
       "0            NaN  \n",
       "1            NaN  \n",
       "2            NaN  \n",
       "3            NaN  \n",
       "4            NaN  \n",
       "5            NaN  \n",
       "6            NaN  \n",
       "7            NaN  \n",
       "8            NaN  \n",
       "9            NaN  "
      ]
     },
     "execution_count": 8,
     "metadata": {},
     "output_type": "execute_result"
    }
   ],
   "source": [
    "df.head(10)"
   ]
  },
  {
   "cell_type": "code",
   "execution_count": 9,
   "metadata": {
    "colab": {
     "base_uri": "https://localhost:8080/"
    },
    "id": "5KE1V3nSz3lp",
    "outputId": "8b77a448-5b1c-415c-bc5e-2abc3aeb711a"
   },
   "outputs": [
    {
     "data": {
      "text/plain": [
       "source_link\n",
       "https://www.belfasttelegraph.co.uk/news/    1575\n",
       "Name: count, dtype: int64"
      ]
     },
     "execution_count": 9,
     "metadata": {},
     "output_type": "execute_result"
    }
   ],
   "source": [
    "df[\"source_link\"].value_counts()"
   ]
  },
  {
   "cell_type": "code",
   "execution_count": 10,
   "metadata": {
    "colab": {
     "base_uri": "https://localhost:8080/"
    },
    "id": "50AFHH4p0IHP",
    "outputId": "8c67365e-4cab-4010-d712-b9cac70389ff"
   },
   "outputs": [
    {
     "data": {
      "text/plain": [
       "1575"
      ]
     },
     "execution_count": 10,
     "metadata": {},
     "output_type": "execute_result"
    }
   ],
   "source": [
    "df[\"article_url\"].nunique()"
   ]
  },
  {
   "cell_type": "code",
   "execution_count": 11,
   "metadata": {
    "colab": {
     "base_uri": "https://localhost:8080/"
    },
    "id": "TYsZ4S8I0IOY",
    "outputId": "74605232-63a2-4d3f-e750-d16d60139c75"
   },
   "outputs": [
    {
     "data": {
      "text/plain": [
       "1575"
      ]
     },
     "execution_count": 11,
     "metadata": {},
     "output_type": "execute_result"
    }
   ],
   "source": [
    "df[\"article_id\"].nunique()"
   ]
  },
  {
   "cell_type": "code",
   "execution_count": 12,
   "metadata": {
    "id": "_oVHxfKn0IRB"
   },
   "outputs": [],
   "source": [
    "#All articles are from the same source just the url is different because of different items being accessed"
   ]
  },
  {
   "cell_type": "code",
   "execution_count": 13,
   "metadata": {
    "id": "g6Kd-Pv00ITV"
   },
   "outputs": [],
   "source": [
    "# Drop the first three columns\n",
    "df = df.drop(columns=['article_id', 'source_link', 'article_url'])"
   ]
  },
  {
   "cell_type": "code",
   "execution_count": 14,
   "metadata": {
    "colab": {
     "base_uri": "https://localhost:8080/"
    },
    "id": "iPsdTSAS0IVW",
    "outputId": "7bc7e759-066e-467b-a876-f46d76942171"
   },
   "outputs": [
    {
     "name": "stdout",
     "output_type": "stream",
     "text": [
      "<class 'pandas.core.frame.DataFrame'>\n",
      "RangeIndex: 1575 entries, 0 to 1574\n",
      "Data columns (total 4 columns):\n",
      " #   Column         Non-Null Count  Dtype  \n",
      "---  ------         --------------  -----  \n",
      " 0   title          1575 non-null   object \n",
      " 1   Content        1575 non-null   object \n",
      " 2   append_topic   0 non-null      float64\n",
      " 3   topic_keyword  0 non-null      float64\n",
      "dtypes: float64(2), object(2)\n",
      "memory usage: 49.3+ KB\n"
     ]
    }
   ],
   "source": [
    "df.info()"
   ]
  },
  {
   "cell_type": "code",
   "execution_count": 15,
   "metadata": {
    "colab": {
     "base_uri": "https://localhost:8080/"
    },
    "id": "RxC2nICE0Ub2",
    "outputId": "4b133e3c-02c7-4d02-a864-835f79923bb8"
   },
   "outputs": [
    {
     "data": {
      "text/plain": [
       "title            1574\n",
       "Content          1575\n",
       "append_topic        0\n",
       "topic_keyword       0\n",
       "dtype: int64"
      ]
     },
     "execution_count": 15,
     "metadata": {},
     "output_type": "execute_result"
    }
   ],
   "source": [
    "df.nunique()"
   ]
  },
  {
   "cell_type": "code",
   "execution_count": 16,
   "metadata": {
    "id": "fGF2QoWY0Ujp"
   },
   "outputs": [],
   "source": [
    "df['t_content'] = df['title'] + \" \" + df['Content']"
   ]
  },
  {
   "cell_type": "code",
   "execution_count": 17,
   "metadata": {
    "colab": {
     "base_uri": "https://localhost:8080/",
     "height": 35
    },
    "id": "Ai2vpw_o0Uql",
    "outputId": "b2e63982-8d32-48a6-dd08-78a571d0f11c"
   },
   "outputs": [
    {
     "data": {
      "application/vnd.google.colaboratory.intrinsic+json": {
       "type": "string"
      },
      "text/plain": [
       "'Hilltop Lisburn property with spa complex and annexed apartment is worth its £2m pricetag'"
      ]
     },
     "execution_count": 17,
     "metadata": {},
     "output_type": "execute_result"
    }
   ],
   "source": [
    "df[\"title\"][0]"
   ]
  },
  {
   "cell_type": "code",
   "execution_count": 18,
   "metadata": {
    "colab": {
     "base_uri": "https://localhost:8080/",
     "height": 125
    },
    "id": "UxILWh0sz3nv",
    "outputId": "e99a626e-5082-4c29-d545-0c230d2f38fe"
   },
   "outputs": [
    {
     "data": {
      "application/vnd.google.colaboratory.intrinsic+json": {
       "type": "string"
      },
      "text/plain": [
       "\"It's the kind of property that you'd see in a film or TV show — but the impressive 12 Mullaghglass Road is to be found in Lisburn. Extending to one acre, the elevated property benefits from unrivalled and uninterrupted views across the city, Belfast and towards the Mourne Mountains. Though unquestionably a fantastic family home, the property is fully registered with the NI Tourist Board as a bed and breakfast. The Mullaghglass property was constructed within the last year and as you'd expect, offers beautifully considered accommodation at the highest of standards. Delivering in excess of 10,00\""
      ]
     },
     "execution_count": 18,
     "metadata": {},
     "output_type": "execute_result"
    }
   ],
   "source": [
    "df[\"Content\"][0]"
   ]
  },
  {
   "cell_type": "code",
   "execution_count": 19,
   "metadata": {
    "colab": {
     "base_uri": "https://localhost:8080/",
     "height": 142
    },
    "id": "a-jG8bWi0cYw",
    "outputId": "4bf91d7f-e197-4920-f14f-6988d1c1aa94"
   },
   "outputs": [
    {
     "data": {
      "application/vnd.google.colaboratory.intrinsic+json": {
       "type": "string"
      },
      "text/plain": [
       "\"Hilltop Lisburn property with spa complex and annexed apartment is worth its £2m pricetag It's the kind of property that you'd see in a film or TV show — but the impressive 12 Mullaghglass Road is to be found in Lisburn. Extending to one acre, the elevated property benefits from unrivalled and uninterrupted views across the city, Belfast and towards the Mourne Mountains. Though unquestionably a fantastic family home, the property is fully registered with the NI Tourist Board as a bed and breakfast. The Mullaghglass property was constructed within the last year and as you'd expect, offers beautifully considered accommodation at the highest of standards. Delivering in excess of 10,00\""
      ]
     },
     "execution_count": 19,
     "metadata": {},
     "output_type": "execute_result"
    }
   ],
   "source": [
    "df[\"t_content\"][0]"
   ]
  },
  {
   "cell_type": "code",
   "execution_count": 20,
   "metadata": {
    "id": "mNXTvEwM0ceO"
   },
   "outputs": [],
   "source": [
    "#Lets get a WordCloud before and after processing"
   ]
  },
  {
   "cell_type": "code",
   "execution_count": 21,
   "metadata": {
    "id": "h2QPjSOb0cg0"
   },
   "outputs": [],
   "source": [
    "from collections import Counter\n",
    "def flatten(list_of_lists):\n",
    "    flat_list = []\n",
    "    for  l in list_of_lists:\n",
    "        flat_list.extend(l)\n",
    "    return flat_list"
   ]
  },
  {
   "cell_type": "code",
   "execution_count": 22,
   "metadata": {
    "colab": {
     "base_uri": "https://localhost:8080/"
    },
    "id": "OEN0vGAL0jGU",
    "outputId": "95030e1b-762c-4507-a3c1-a0ec5dc964ed"
   },
   "outputs": [
    {
     "name": "stderr",
     "output_type": "stream",
     "text": [
      "[nltk_data] Downloading collection 'all'\n",
      "[nltk_data]    | \n",
      "[nltk_data]    | Downloading package abc to /root/nltk_data...\n",
      "[nltk_data]    |   Unzipping corpora/abc.zip.\n",
      "[nltk_data]    | Downloading package alpino to /root/nltk_data...\n",
      "[nltk_data]    |   Unzipping corpora/alpino.zip.\n",
      "[nltk_data]    | Downloading package averaged_perceptron_tagger to\n",
      "[nltk_data]    |     /root/nltk_data...\n",
      "[nltk_data]    |   Unzipping taggers/averaged_perceptron_tagger.zip.\n",
      "[nltk_data]    | Downloading package averaged_perceptron_tagger_ru to\n",
      "[nltk_data]    |     /root/nltk_data...\n",
      "[nltk_data]    |   Unzipping\n",
      "[nltk_data]    |       taggers/averaged_perceptron_tagger_ru.zip.\n",
      "[nltk_data]    | Downloading package basque_grammars to\n",
      "[nltk_data]    |     /root/nltk_data...\n",
      "[nltk_data]    |   Unzipping grammars/basque_grammars.zip.\n",
      "[nltk_data]    | Downloading package bcp47 to /root/nltk_data...\n",
      "[nltk_data]    | Downloading package biocreative_ppi to\n",
      "[nltk_data]    |     /root/nltk_data...\n",
      "[nltk_data]    |   Unzipping corpora/biocreative_ppi.zip.\n",
      "[nltk_data]    | Downloading package bllip_wsj_no_aux to\n",
      "[nltk_data]    |     /root/nltk_data...\n",
      "[nltk_data]    |   Unzipping models/bllip_wsj_no_aux.zip.\n",
      "[nltk_data]    | Downloading package book_grammars to\n",
      "[nltk_data]    |     /root/nltk_data...\n",
      "[nltk_data]    |   Unzipping grammars/book_grammars.zip.\n",
      "[nltk_data]    | Downloading package brown to /root/nltk_data...\n",
      "[nltk_data]    |   Unzipping corpora/brown.zip.\n",
      "[nltk_data]    | Downloading package brown_tei to /root/nltk_data...\n",
      "[nltk_data]    |   Unzipping corpora/brown_tei.zip.\n",
      "[nltk_data]    | Downloading package cess_cat to /root/nltk_data...\n",
      "[nltk_data]    |   Unzipping corpora/cess_cat.zip.\n",
      "[nltk_data]    | Downloading package cess_esp to /root/nltk_data...\n",
      "[nltk_data]    |   Unzipping corpora/cess_esp.zip.\n",
      "[nltk_data]    | Downloading package chat80 to /root/nltk_data...\n",
      "[nltk_data]    |   Unzipping corpora/chat80.zip.\n",
      "[nltk_data]    | Downloading package city_database to\n",
      "[nltk_data]    |     /root/nltk_data...\n",
      "[nltk_data]    |   Unzipping corpora/city_database.zip.\n",
      "[nltk_data]    | Downloading package cmudict to /root/nltk_data...\n",
      "[nltk_data]    |   Unzipping corpora/cmudict.zip.\n",
      "[nltk_data]    | Downloading package comparative_sentences to\n",
      "[nltk_data]    |     /root/nltk_data...\n",
      "[nltk_data]    |   Unzipping corpora/comparative_sentences.zip.\n",
      "[nltk_data]    | Downloading package comtrans to /root/nltk_data...\n",
      "[nltk_data]    | Downloading package conll2000 to /root/nltk_data...\n",
      "[nltk_data]    |   Unzipping corpora/conll2000.zip.\n",
      "[nltk_data]    | Downloading package conll2002 to /root/nltk_data...\n",
      "[nltk_data]    |   Unzipping corpora/conll2002.zip.\n",
      "[nltk_data]    | Downloading package conll2007 to /root/nltk_data...\n",
      "[nltk_data]    | Downloading package crubadan to /root/nltk_data...\n",
      "[nltk_data]    |   Unzipping corpora/crubadan.zip.\n",
      "[nltk_data]    | Downloading package dependency_treebank to\n",
      "[nltk_data]    |     /root/nltk_data...\n",
      "[nltk_data]    |   Unzipping corpora/dependency_treebank.zip.\n",
      "[nltk_data]    | Downloading package dolch to /root/nltk_data...\n",
      "[nltk_data]    |   Unzipping corpora/dolch.zip.\n",
      "[nltk_data]    | Downloading package europarl_raw to\n",
      "[nltk_data]    |     /root/nltk_data...\n",
      "[nltk_data]    |   Unzipping corpora/europarl_raw.zip.\n",
      "[nltk_data]    | Downloading package extended_omw to\n",
      "[nltk_data]    |     /root/nltk_data...\n",
      "[nltk_data]    | Downloading package floresta to /root/nltk_data...\n",
      "[nltk_data]    |   Unzipping corpora/floresta.zip.\n",
      "[nltk_data]    | Downloading package framenet_v15 to\n",
      "[nltk_data]    |     /root/nltk_data...\n",
      "[nltk_data]    |   Unzipping corpora/framenet_v15.zip.\n",
      "[nltk_data]    | Downloading package framenet_v17 to\n",
      "[nltk_data]    |     /root/nltk_data...\n",
      "[nltk_data]    |   Unzipping corpora/framenet_v17.zip.\n",
      "[nltk_data]    | Downloading package gazetteers to /root/nltk_data...\n",
      "[nltk_data]    |   Unzipping corpora/gazetteers.zip.\n",
      "[nltk_data]    | Downloading package genesis to /root/nltk_data...\n",
      "[nltk_data]    |   Unzipping corpora/genesis.zip.\n",
      "[nltk_data]    | Downloading package gutenberg to /root/nltk_data...\n",
      "[nltk_data]    |   Unzipping corpora/gutenberg.zip.\n",
      "[nltk_data]    | Downloading package ieer to /root/nltk_data...\n",
      "[nltk_data]    |   Unzipping corpora/ieer.zip.\n",
      "[nltk_data]    | Downloading package inaugural to /root/nltk_data...\n",
      "[nltk_data]    |   Unzipping corpora/inaugural.zip.\n",
      "[nltk_data]    | Downloading package indian to /root/nltk_data...\n",
      "[nltk_data]    |   Unzipping corpora/indian.zip.\n",
      "[nltk_data]    | Downloading package jeita to /root/nltk_data...\n",
      "[nltk_data]    | Downloading package kimmo to /root/nltk_data...\n",
      "[nltk_data]    |   Unzipping corpora/kimmo.zip.\n",
      "[nltk_data]    | Downloading package knbc to /root/nltk_data...\n",
      "[nltk_data]    | Downloading package large_grammars to\n",
      "[nltk_data]    |     /root/nltk_data...\n",
      "[nltk_data]    |   Unzipping grammars/large_grammars.zip.\n",
      "[nltk_data]    | Downloading package lin_thesaurus to\n",
      "[nltk_data]    |     /root/nltk_data...\n",
      "[nltk_data]    |   Unzipping corpora/lin_thesaurus.zip.\n",
      "[nltk_data]    | Downloading package mac_morpho to /root/nltk_data...\n",
      "[nltk_data]    |   Unzipping corpora/mac_morpho.zip.\n",
      "[nltk_data]    | Downloading package machado to /root/nltk_data...\n",
      "[nltk_data]    | Downloading package masc_tagged to /root/nltk_data...\n",
      "[nltk_data]    | Downloading package maxent_ne_chunker to\n",
      "[nltk_data]    |     /root/nltk_data...\n",
      "[nltk_data]    |   Unzipping chunkers/maxent_ne_chunker.zip.\n",
      "[nltk_data]    | Downloading package maxent_treebank_pos_tagger to\n",
      "[nltk_data]    |     /root/nltk_data...\n",
      "[nltk_data]    |   Unzipping taggers/maxent_treebank_pos_tagger.zip.\n",
      "[nltk_data]    | Downloading package moses_sample to\n",
      "[nltk_data]    |     /root/nltk_data...\n",
      "[nltk_data]    |   Unzipping models/moses_sample.zip.\n",
      "[nltk_data]    | Downloading package movie_reviews to\n",
      "[nltk_data]    |     /root/nltk_data...\n",
      "[nltk_data]    |   Unzipping corpora/movie_reviews.zip.\n",
      "[nltk_data]    | Downloading package mte_teip5 to /root/nltk_data...\n",
      "[nltk_data]    |   Unzipping corpora/mte_teip5.zip.\n",
      "[nltk_data]    | Downloading package mwa_ppdb to /root/nltk_data...\n",
      "[nltk_data]    |   Unzipping misc/mwa_ppdb.zip.\n",
      "[nltk_data]    | Downloading package names to /root/nltk_data...\n",
      "[nltk_data]    |   Unzipping corpora/names.zip.\n",
      "[nltk_data]    | Downloading package nombank.1.0 to /root/nltk_data...\n",
      "[nltk_data]    | Downloading package nonbreaking_prefixes to\n",
      "[nltk_data]    |     /root/nltk_data...\n",
      "[nltk_data]    |   Unzipping corpora/nonbreaking_prefixes.zip.\n",
      "[nltk_data]    | Downloading package nps_chat to /root/nltk_data...\n",
      "[nltk_data]    |   Unzipping corpora/nps_chat.zip.\n",
      "[nltk_data]    | Downloading package omw to /root/nltk_data...\n",
      "[nltk_data]    | Downloading package omw-1.4 to /root/nltk_data...\n",
      "[nltk_data]    | Downloading package opinion_lexicon to\n",
      "[nltk_data]    |     /root/nltk_data...\n",
      "[nltk_data]    |   Unzipping corpora/opinion_lexicon.zip.\n",
      "[nltk_data]    | Downloading package panlex_swadesh to\n",
      "[nltk_data]    |     /root/nltk_data...\n",
      "[nltk_data]    | Downloading package paradigms to /root/nltk_data...\n",
      "[nltk_data]    |   Unzipping corpora/paradigms.zip.\n",
      "[nltk_data]    | Downloading package pe08 to /root/nltk_data...\n",
      "[nltk_data]    |   Unzipping corpora/pe08.zip.\n",
      "[nltk_data]    | Downloading package perluniprops to\n",
      "[nltk_data]    |     /root/nltk_data...\n",
      "[nltk_data]    |   Unzipping misc/perluniprops.zip.\n",
      "[nltk_data]    | Downloading package pil to /root/nltk_data...\n",
      "[nltk_data]    |   Unzipping corpora/pil.zip.\n",
      "[nltk_data]    | Downloading package pl196x to /root/nltk_data...\n",
      "[nltk_data]    |   Unzipping corpora/pl196x.zip.\n",
      "[nltk_data]    | Downloading package porter_test to /root/nltk_data...\n",
      "[nltk_data]    |   Unzipping stemmers/porter_test.zip.\n",
      "[nltk_data]    | Downloading package ppattach to /root/nltk_data...\n",
      "[nltk_data]    |   Unzipping corpora/ppattach.zip.\n",
      "[nltk_data]    | Downloading package problem_reports to\n",
      "[nltk_data]    |     /root/nltk_data...\n",
      "[nltk_data]    |   Unzipping corpora/problem_reports.zip.\n",
      "[nltk_data]    | Downloading package product_reviews_1 to\n",
      "[nltk_data]    |     /root/nltk_data...\n",
      "[nltk_data]    |   Unzipping corpora/product_reviews_1.zip.\n",
      "[nltk_data]    | Downloading package product_reviews_2 to\n",
      "[nltk_data]    |     /root/nltk_data...\n",
      "[nltk_data]    |   Unzipping corpora/product_reviews_2.zip.\n",
      "[nltk_data]    | Downloading package propbank to /root/nltk_data...\n",
      "[nltk_data]    | Downloading package pros_cons to /root/nltk_data...\n",
      "[nltk_data]    |   Unzipping corpora/pros_cons.zip.\n",
      "[nltk_data]    | Downloading package ptb to /root/nltk_data...\n",
      "[nltk_data]    |   Unzipping corpora/ptb.zip.\n",
      "[nltk_data]    | Downloading package punkt to /root/nltk_data...\n",
      "[nltk_data]    |   Unzipping tokenizers/punkt.zip.\n",
      "[nltk_data]    | Downloading package qc to /root/nltk_data...\n",
      "[nltk_data]    |   Unzipping corpora/qc.zip.\n",
      "[nltk_data]    | Downloading package reuters to /root/nltk_data...\n",
      "[nltk_data]    | Downloading package rslp to /root/nltk_data...\n",
      "[nltk_data]    |   Unzipping stemmers/rslp.zip.\n",
      "[nltk_data]    | Downloading package rte to /root/nltk_data...\n",
      "[nltk_data]    |   Unzipping corpora/rte.zip.\n",
      "[nltk_data]    | Downloading package sample_grammars to\n",
      "[nltk_data]    |     /root/nltk_data...\n",
      "[nltk_data]    |   Unzipping grammars/sample_grammars.zip.\n",
      "[nltk_data]    | Downloading package semcor to /root/nltk_data...\n",
      "[nltk_data]    | Downloading package senseval to /root/nltk_data...\n",
      "[nltk_data]    |   Unzipping corpora/senseval.zip.\n",
      "[nltk_data]    | Downloading package sentence_polarity to\n",
      "[nltk_data]    |     /root/nltk_data...\n",
      "[nltk_data]    |   Unzipping corpora/sentence_polarity.zip.\n",
      "[nltk_data]    | Downloading package sentiwordnet to\n",
      "[nltk_data]    |     /root/nltk_data...\n",
      "[nltk_data]    |   Unzipping corpora/sentiwordnet.zip.\n",
      "[nltk_data]    | Downloading package shakespeare to /root/nltk_data...\n",
      "[nltk_data]    |   Unzipping corpora/shakespeare.zip.\n",
      "[nltk_data]    | Downloading package sinica_treebank to\n",
      "[nltk_data]    |     /root/nltk_data...\n",
      "[nltk_data]    |   Unzipping corpora/sinica_treebank.zip.\n",
      "[nltk_data]    | Downloading package smultron to /root/nltk_data...\n",
      "[nltk_data]    |   Unzipping corpora/smultron.zip.\n",
      "[nltk_data]    | Downloading package snowball_data to\n",
      "[nltk_data]    |     /root/nltk_data...\n",
      "[nltk_data]    | Downloading package spanish_grammars to\n",
      "[nltk_data]    |     /root/nltk_data...\n",
      "[nltk_data]    |   Unzipping grammars/spanish_grammars.zip.\n",
      "[nltk_data]    | Downloading package state_union to /root/nltk_data...\n",
      "[nltk_data]    |   Unzipping corpora/state_union.zip.\n",
      "[nltk_data]    | Downloading package stopwords to /root/nltk_data...\n",
      "[nltk_data]    |   Unzipping corpora/stopwords.zip.\n",
      "[nltk_data]    | Downloading package subjectivity to\n",
      "[nltk_data]    |     /root/nltk_data...\n",
      "[nltk_data]    |   Unzipping corpora/subjectivity.zip.\n",
      "[nltk_data]    | Downloading package swadesh to /root/nltk_data...\n",
      "[nltk_data]    |   Unzipping corpora/swadesh.zip.\n",
      "[nltk_data]    | Downloading package switchboard to /root/nltk_data...\n",
      "[nltk_data]    |   Unzipping corpora/switchboard.zip.\n",
      "[nltk_data]    | Downloading package tagsets to /root/nltk_data...\n",
      "[nltk_data]    |   Unzipping help/tagsets.zip.\n",
      "[nltk_data]    | Downloading package timit to /root/nltk_data...\n",
      "[nltk_data]    |   Unzipping corpora/timit.zip.\n",
      "[nltk_data]    | Downloading package toolbox to /root/nltk_data...\n",
      "[nltk_data]    |   Unzipping corpora/toolbox.zip.\n",
      "[nltk_data]    | Downloading package treebank to /root/nltk_data...\n",
      "[nltk_data]    |   Unzipping corpora/treebank.zip.\n",
      "[nltk_data]    | Downloading package twitter_samples to\n",
      "[nltk_data]    |     /root/nltk_data...\n",
      "[nltk_data]    |   Unzipping corpora/twitter_samples.zip.\n",
      "[nltk_data]    | Downloading package udhr to /root/nltk_data...\n",
      "[nltk_data]    |   Unzipping corpora/udhr.zip.\n",
      "[nltk_data]    | Downloading package udhr2 to /root/nltk_data...\n",
      "[nltk_data]    |   Unzipping corpora/udhr2.zip.\n",
      "[nltk_data]    | Downloading package unicode_samples to\n",
      "[nltk_data]    |     /root/nltk_data...\n",
      "[nltk_data]    |   Unzipping corpora/unicode_samples.zip.\n",
      "[nltk_data]    | Downloading package universal_tagset to\n",
      "[nltk_data]    |     /root/nltk_data...\n",
      "[nltk_data]    |   Unzipping taggers/universal_tagset.zip.\n",
      "[nltk_data]    | Downloading package universal_treebanks_v20 to\n",
      "[nltk_data]    |     /root/nltk_data...\n",
      "[nltk_data]    | Downloading package vader_lexicon to\n",
      "[nltk_data]    |     /root/nltk_data...\n",
      "[nltk_data]    | Downloading package verbnet to /root/nltk_data...\n",
      "[nltk_data]    |   Unzipping corpora/verbnet.zip.\n",
      "[nltk_data]    | Downloading package verbnet3 to /root/nltk_data...\n",
      "[nltk_data]    |   Unzipping corpora/verbnet3.zip.\n",
      "[nltk_data]    | Downloading package webtext to /root/nltk_data...\n",
      "[nltk_data]    |   Unzipping corpora/webtext.zip.\n",
      "[nltk_data]    | Downloading package wmt15_eval to /root/nltk_data...\n",
      "[nltk_data]    |   Unzipping models/wmt15_eval.zip.\n",
      "[nltk_data]    | Downloading package word2vec_sample to\n",
      "[nltk_data]    |     /root/nltk_data...\n",
      "[nltk_data]    |   Unzipping models/word2vec_sample.zip.\n",
      "[nltk_data]    | Downloading package wordnet to /root/nltk_data...\n",
      "[nltk_data]    | Downloading package wordnet2021 to /root/nltk_data...\n",
      "[nltk_data]    | Downloading package wordnet2022 to /root/nltk_data...\n",
      "[nltk_data]    |   Unzipping corpora/wordnet2022.zip.\n",
      "[nltk_data]    | Downloading package wordnet31 to /root/nltk_data...\n",
      "[nltk_data]    | Downloading package wordnet_ic to /root/nltk_data...\n",
      "[nltk_data]    |   Unzipping corpora/wordnet_ic.zip.\n",
      "[nltk_data]    | Downloading package words to /root/nltk_data...\n",
      "[nltk_data]    |   Unzipping corpora/words.zip.\n",
      "[nltk_data]    | Downloading package ycoe to /root/nltk_data...\n",
      "[nltk_data]    |   Unzipping corpora/ycoe.zip.\n",
      "[nltk_data]    | \n",
      "[nltk_data]  Done downloading collection all\n"
     ]
    },
    {
     "data": {
      "text/plain": [
       "True"
      ]
     },
     "execution_count": 22,
     "metadata": {},
     "output_type": "execute_result"
    }
   ],
   "source": [
    "import nltk\n",
    "nltk.download('all')"
   ]
  },
  {
   "cell_type": "code",
   "execution_count": 23,
   "metadata": {
    "id": "6whZCWa70jJO"
   },
   "outputs": [],
   "source": [
    "from nltk.tokenize import word_tokenize\n",
    "from wordcloud import WordCloud\n",
    "from matplotlib import pyplot as plt\n",
    "\n",
    "def wordcloud_plot(counter_all):\n",
    "    w = WordCloud().generate_from_frequencies(frequencies=dict(counter_all))\n",
    "    plt.imshow(w)\n",
    "\n",
    "def tokenize(text):\n",
    "    tokens = [w for w in word_tokenize(text.lower())]\n",
    "    return tokens"
   ]
  },
  {
   "cell_type": "code",
   "execution_count": 24,
   "metadata": {
    "colab": {
     "base_uri": "https://localhost:8080/"
    },
    "id": "rf6oyAXV0jNq",
    "outputId": "e3d0e6c5-6632-42ae-9094-b7eaa624da0a"
   },
   "outputs": [
    {
     "data": {
      "text/plain": [
       "[('the', 9987),\n",
       " (',', 6494),\n",
       " ('.', 5173),\n",
       " ('to', 4756),\n",
       " ('of', 4597),\n",
       " ('a', 4365),\n",
       " ('in', 4052),\n",
       " ('and', 3843),\n",
       " ('for', 1954),\n",
       " ('on', 1951)]"
      ]
     },
     "execution_count": 24,
     "metadata": {},
     "output_type": "execute_result"
    }
   ],
   "source": [
    "counter_all = Counter(flatten(df[\"t_content\"].apply(tokenize).tolist()))\n",
    "counter_all.most_common(10)"
   ]
  },
  {
   "cell_type": "code",
   "execution_count": 25,
   "metadata": {
    "colab": {
     "base_uri": "https://localhost:8080/",
     "height": 313
    },
    "id": "dA087_c90jQT",
    "outputId": "1b9e981f-b9da-4e2a-9a36-2a05d2e8a427"
   },
   "outputs": [
    {
     "data": {
      "image/png": "[encoded data removed]",
      "text/plain": [
       "<Figure size 640x480 with 1 Axes>"
      ]
     },
     "metadata": {},
     "output_type": "display_data"
    }
   ],
   "source": [
    "wordcloud_plot(counter_all)"
   ]
  },
  {
   "cell_type": "code",
   "execution_count": 26,
   "metadata": {
    "id": "iafwrxbh0jS8"
   },
   "outputs": [],
   "source": [
    "#lot of punctuation and stop words"
   ]
  },
  {
   "cell_type": "code",
   "execution_count": 27,
   "metadata": {
    "id": "cYCMZS5j0cjb"
   },
   "outputs": [],
   "source": [
    "#lets clean the content and then print the wordcloud"
   ]
  },
  {
   "cell_type": "code",
   "execution_count": 28,
   "metadata": {
    "id": "9ZTaY-7m1O2q"
   },
   "outputs": [],
   "source": [
    "from nltk.corpus import stopwords\n",
    "from nltk.tokenize import word_tokenize\n",
    "from nltk.stem import WordNetLemmatizer\n",
    "import re"
   ]
  },
  {
   "cell_type": "code",
   "execution_count": 29,
   "metadata": {
    "id": "HX2vDZrW1O5U"
   },
   "outputs": [],
   "source": [
    "#Preprocessing function\n",
    "def preprocess_text(text):\n",
    "\n",
    "    text = text.lower()\n",
    "\n",
    "    #remove \\\\n \\\\xc and similar type\n",
    "    text = re.sub(r'\\\\+[a-zA-Z0-9\\.]+', ' ', text)\n",
    "\n",
    "    # Step 1: Remove non-letters\n",
    "    text = re.sub(r'[^a-zA-Z]', ' ', text)\n",
    "\n",
    "    # Step 2: Remove stopwords\n",
    "    stop_words = set(stopwords.words('english'))\n",
    "    words = word_tokenize(text)\n",
    "\n",
    "    words = [word for word in words if word.lower() not in stop_words]\n",
    "\n",
    "    # Step 3: Word Tokenization (already done in Step 2)\n",
    "\n",
    "    # Step 4: Perform Lemmatization\n",
    "    lemmatizer = WordNetLemmatizer()\n",
    "    words = [lemmatizer.lemmatize(word) for word in words]\n",
    "\n",
    "    # Combine the preprocessed words into a string\n",
    "    preprocessed_text = ' '.join(words)\n",
    "\n",
    "    return preprocessed_text"
   ]
  },
  {
   "cell_type": "code",
   "execution_count": 30,
   "metadata": {
    "colab": {
     "base_uri": "https://localhost:8080/"
    },
    "id": "fKPuc7eQ1O7q",
    "outputId": "cef166b4-7dd3-4771-dfa1-6502b45e680c"
   },
   "outputs": [
    {
     "name": "stdout",
     "output_type": "stream",
     "text": [
      "Original Text: This is an Example sentence with non-letters, stopwords, and some lemmatization.\n",
      "Preprocessed Text: example sentence non letter stopwords lemmatization\n"
     ]
    }
   ],
   "source": [
    "input_text = \"This is an Example sentence with non-letters, stopwords, and some lemmatization.\"\n",
    "result = preprocess_text(input_text)\n",
    "print(\"Original Text:\", input_text)\n",
    "print(\"Preprocessed Text:\", result)"
   ]
  },
  {
   "cell_type": "code",
   "execution_count": 31,
   "metadata": {
    "colab": {
     "base_uri": "https://localhost:8080/",
     "height": 125
    },
    "id": "5NO3ofI31O9t",
    "outputId": "0a87974f-2823-4810-f46f-42548c238f0e"
   },
   "outputs": [
    {
     "data": {
      "application/vnd.google.colaboratory.intrinsic+json": {
       "type": "string"
      },
      "text/plain": [
       "'Bullitt Hotel announces new rooftop bar and restaurant after £1m revamp Belfast hotel Bullitt has reopened its rooftop garden restaurant and bar following a £1 million facelift. Tetto, formerly known as Babel, will be open to the public from Friday and will be complete with a fresh design and interiors alongside a new bar, and Italian restaurant. The owners say the revamped space will offer \"something unique\" in Belfast, with Tetto showcasing fresh local seafood with an Italian accent alongside sourdough pizza and aperitivo inspired cocktails. The new hospitality location will be open from Wednesday to Sundays and will also feature a resident DJ every weekend with'"
      ]
     },
     "execution_count": 31,
     "metadata": {},
     "output_type": "execute_result"
    }
   ],
   "source": [
    "df[\"t_content\"][100]"
   ]
  },
  {
   "cell_type": "code",
   "execution_count": 32,
   "metadata": {
    "colab": {
     "base_uri": "https://localhost:8080/",
     "height": 107
    },
    "id": "RJLY6BK01O_y",
    "outputId": "9331c5a5-4b96-4e6f-d920-68a9921652b5"
   },
   "outputs": [
    {
     "data": {
      "application/vnd.google.colaboratory.intrinsic+json": {
       "type": "string"
      },
      "text/plain": [
       "'bullitt hotel announces new rooftop bar restaurant revamp belfast hotel bullitt reopened rooftop garden restaurant bar following million facelift tetto formerly known babel open public friday complete fresh design interior alongside new bar italian restaurant owner say revamped space offer something unique belfast tetto showcasing fresh local seafood italian accent alongside sourdough pizza aperitivo inspired cocktail new hospitality location open wednesday sunday also feature resident dj every weekend'"
      ]
     },
     "execution_count": 32,
     "metadata": {},
     "output_type": "execute_result"
    }
   ],
   "source": [
    "preprocess_text(df[\"t_content\"][100])"
   ]
  },
  {
   "cell_type": "code",
   "execution_count": 33,
   "metadata": {
    "id": "Pa7qNzb81PB4"
   },
   "outputs": [],
   "source": [
    "df1 = df.copy()"
   ]
  },
  {
   "cell_type": "code",
   "execution_count": 34,
   "metadata": {
    "id": "YugYQnNy1PD_"
   },
   "outputs": [],
   "source": [
    "# Apply the preprocess_text function to the 't_content' column\n",
    "df['t_content'] = df['t_content'].apply(preprocess_text)"
   ]
  },
  {
   "cell_type": "code",
   "execution_count": 35,
   "metadata": {
    "colab": {
     "base_uri": "https://localhost:8080/"
    },
    "id": "duf_TRjj1chy",
    "outputId": "51dab21a-b8a5-4de1-d4d5-606eca6f6da7"
   },
   "outputs": [
    {
     "data": {
      "text/plain": [
       "[('year', 985),\n",
       " ('ireland', 844),\n",
       " ('northern', 655),\n",
       " ('said', 648),\n",
       " ('belfast', 578),\n",
       " ('new', 495),\n",
       " ('one', 440),\n",
       " ('time', 420),\n",
       " ('premium', 372),\n",
       " ('christmas', 359)]"
      ]
     },
     "execution_count": 35,
     "metadata": {},
     "output_type": "execute_result"
    }
   ],
   "source": [
    "counter_all = Counter(flatten(df[\"t_content\"].apply(tokenize).tolist()))\n",
    "counter_all.most_common(10)"
   ]
  },
  {
   "cell_type": "code",
   "execution_count": 36,
   "metadata": {
    "colab": {
     "base_uri": "https://localhost:8080/",
     "height": 313
    },
    "id": "57bAY1e51cmk",
    "outputId": "e4663a34-8984-4d57-89c9-bc5774c1c7be"
   },
   "outputs": [
    {
     "data": {
      "image/png": "[encoded data removed]",
      "text/plain": [
       "<Figure size 640x480 with 1 Axes>"
      ]
     },
     "metadata": {},
     "output_type": "display_data"
    }
   ],
   "source": [
    "wordcloud_plot(counter_all)"
   ]
  },
  {
   "cell_type": "code",
   "execution_count": 37,
   "metadata": {
    "colab": {
     "base_uri": "https://localhost:8080/",
     "height": 537
    },
    "id": "IVT4Ogvb1coq",
    "outputId": "0c8b7e98-c211-49f4-bb4f-bfce96e3f391"
   },
   "outputs": [
    {
     "data": {
      "application/vnd.google.colaboratory.intrinsic+json": {
       "summary": "{\n  \"name\": \"df\",\n  \"rows\": 1575,\n  \"fields\": [\n    {\n      \"column\": \"title\",\n      \"properties\": {\n        \"dtype\": \"string\",\n        \"num_unique_values\": 1574,\n        \"samples\": [\n          \"Aisling Bea praises \\u2018heart and patience\\u2019 of food bank volunteers\",\n          \"Man accused of directing New IRA activities fails in bid to be released from custody\",\n          \"Strictly Come Dancing finalists join show\\u2019s UK arena tour\"\n        ],\n        \"semantic_type\": \"\",\n        \"description\": \"\"\n      }\n    },\n    {\n      \"column\": \"Content\",\n      \"properties\": {\n        \"dtype\": \"string\",\n        \"num_unique_values\": 1575,\n        \"samples\": [\n          \"Technology retailer Currys has sunk to a loss and downgraded its full-year profit expectations, as shoppers opt for cheaper items and hunt for deals amid cost pressures. Shares in the company were down more than 7% on Thursday after it said it has had a tough time over the past six months, having suffered significant disruption in its stores across the Nordic countries. Low demand left competitors with excess stock, leading rival stores to slash prices while Currys kept its prices the same, meaning it made virtually no money across the region. As a result, Currys saw its profits plunge by \\u00a362 \",\n          \"A painting by a noted Scottish artist, actor and writer will go on sale with an array of items to raise money for charity. The Angelo Pensivo (1992) by John Byrne will be among hundreds of artworks available to buy at St Andrew's and St George's West Church in George Street, Edinburgh, from 10am on Tuesday. More than 3,000 books will also be available, including signed first editions, antiquarian and collectable books, art books, as well as books of general interest by Scottish authors and about Scotland. This year's sale looks like being one of the best we have ever heldJames Holloway, the sa\",\n          \"Odeon owner AMC Entertainment has revealed it was in talks to buy cinemas from lenders for troubled rival Cineworld before backing out. Shares in Cineworld slipped lower on Wednesday afternoon after the collapsed talks were confirmed in regulatory filings. Cineworld, the world's second largest cinema chain, filed for bankruptcy protection in the US in September after being hit hard by weaker-than-expected summer audience numbers. A definitive agreement with the lenders has not been reached regarding the terms of any proposal to be presented to the debtors in the Cineworld cases, and at this ti\"\n        ],\n        \"semantic_type\": \"\",\n        \"description\": \"\"\n      }\n    },\n    {\n      \"column\": \"append_topic\",\n      \"properties\": {\n        \"dtype\": \"number\",\n        \"std\": null,\n        \"min\": null,\n        \"max\": null,\n        \"num_unique_values\": 0,\n        \"samples\": [],\n        \"semantic_type\": \"\",\n        \"description\": \"\"\n      }\n    },\n    {\n      \"column\": \"topic_keyword\",\n      \"properties\": {\n        \"dtype\": \"number\",\n        \"std\": null,\n        \"min\": null,\n        \"max\": null,\n        \"num_unique_values\": 0,\n        \"samples\": [],\n        \"semantic_type\": \"\",\n        \"description\": \"\"\n      }\n    },\n    {\n      \"column\": \"t_content\",\n      \"properties\": {\n        \"dtype\": \"string\",\n        \"num_unique_values\": 1574,\n        \"samples\": [],\n        \"semantic_type\": \"\",\n        \"description\": \"\"\n      }\n    }\n  ]\n}",
       "type": "dataframe",
       "variable_name": "df"
      },
      "text/html": [
       "\n",
       "  <div id=\"df-873a9b95-bc63-4373-bb1a-67b180749eb7\" class=\"colab-df-container\">\n",
       "    <div>\n",
       "<style scoped>\n",
       "    .dataframe tbody tr th:only-of-type {\n",
       "        vertical-align: middle;\n",
       "    }\n",
       "\n",
       "    .dataframe tbody tr th {\n",
       "        vertical-align: top;\n",
       "    }\n",
       "\n",
       "    .dataframe thead th {\n",
       "        text-align: right;\n",
       "    }\n",
       "</style>\n",
       "<table border=\"1\" class=\"dataframe\">\n",
       "  <thead>\n",
       "    <tr style=\"text-align: right;\">\n",
       "      <th></th>\n",
       "      <th>title</th>\n",
       "      <th>Content</th>\n",
       "      <th>append_topic</th>\n",
       "      <th>topic_keyword</th>\n",
       "      <th>t_content</th>\n",
       "    </tr>\n",
       "  </thead>\n",
       "  <tbody>\n",
       "    <tr>\n",
       "      <th>0</th>\n",
       "      <td>Hilltop Lisburn property with spa complex and ...</td>\n",
       "      <td>It's the kind of property that you'd see in a ...</td>\n",
       "      <td>NaN</td>\n",
       "      <td>NaN</td>\n",
       "      <td>hilltop lisburn property spa complex annexed a...</td>\n",
       "    </tr>\n",
       "    <tr>\n",
       "      <th>1</th>\n",
       "      <td>‘Life in the tough cul de sacs of Bangor’: NI ...</td>\n",
       "      <td>Northern Ireland writer Colin Bateman has reve...</td>\n",
       "      <td>NaN</td>\n",
       "      <td>NaN</td>\n",
       "      <td>life tough cul de sac bangor ni writer colin b...</td>\n",
       "    </tr>\n",
       "    <tr>\n",
       "      <th>2</th>\n",
       "      <td>Diarmuid Gavin: How to prepare your garden for...</td>\n",
       "      <td>Premium Clear dead leaves, fill planting gaps ...</td>\n",
       "      <td>NaN</td>\n",
       "      <td>NaN</td>\n",
       "      <td>diarmuid gavin prepare garden winter premium c...</td>\n",
       "    </tr>\n",
       "    <tr>\n",
       "      <th>3</th>\n",
       "      <td>Period property in exclusive Co Down residenti...</td>\n",
       "      <td>Nestled in what has long been regarded as one ...</td>\n",
       "      <td>NaN</td>\n",
       "      <td>NaN</td>\n",
       "      <td>period property exclusive co residential area ...</td>\n",
       "    </tr>\n",
       "    <tr>\n",
       "      <th>4</th>\n",
       "      <td>How to Bury a Dead Mule: ‘WW2 gave my grandfat...</td>\n",
       "      <td>Bangor actor Richard Clements on bringing his ...</td>\n",
       "      <td>NaN</td>\n",
       "      <td>NaN</td>\n",
       "      <td>bury dead mule ww gave grandfather ptsd want k...</td>\n",
       "    </tr>\n",
       "    <tr>\n",
       "      <th>5</th>\n",
       "      <td>It’s a whole new ball game for Glentoran as ne...</td>\n",
       "      <td>Irish League football club Glentoran are hopin...</td>\n",
       "      <td>NaN</td>\n",
       "      <td>NaN</td>\n",
       "      <td>whole new ball game glentoran new stage produc...</td>\n",
       "    </tr>\n",
       "    <tr>\n",
       "      <th>6</th>\n",
       "      <td>Portadown twins narrowly miss out on major UK ...</td>\n",
       "      <td>A pair of identical 12-year-old twins from Co ...</td>\n",
       "      <td>NaN</td>\n",
       "      <td>NaN</td>\n",
       "      <td>portadown twin narrowly miss major uk theatre ...</td>\n",
       "    </tr>\n",
       "    <tr>\n",
       "      <th>7</th>\n",
       "      <td>21 Ward Avenue: Extensive family home on sough...</td>\n",
       "      <td>Number 21 offers flexible as well as spacious ...</td>\n",
       "      <td>NaN</td>\n",
       "      <td>NaN</td>\n",
       "      <td>ward avenue extensive family home sought bango...</td>\n",
       "    </tr>\n",
       "    <tr>\n",
       "      <th>8</th>\n",
       "      <td>How we made Roald Dahl’s Matilda the Musical: ...</td>\n",
       "      <td>As the whistle blows in the dreaded playground...</td>\n",
       "      <td>NaN</td>\n",
       "      <td>NaN</td>\n",
       "      <td>made roald dahl matilda musical west end music...</td>\n",
       "    </tr>\n",
       "    <tr>\n",
       "      <th>9</th>\n",
       "      <td>Ulster Orchestra chief takes final bow leaving...</td>\n",
       "      <td>Premium During his six years in the job Richar...</td>\n",
       "      <td>NaN</td>\n",
       "      <td>NaN</td>\n",
       "      <td>ulster orchestra chief take final bow leaving ...</td>\n",
       "    </tr>\n",
       "  </tbody>\n",
       "</table>\n",
       "</div>\n",
       "    <div class=\"colab-df-buttons\">\n",
       "\n",
       "  <div class=\"colab-df-container\">\n",
       "    <button class=\"colab-df-convert\" onclick=\"convertToInteractive('df-873a9b95-bc63-4373-bb1a-67b180749eb7')\"\n",
       "            title=\"Convert this dataframe to an interactive table.\"\n",
       "            style=\"display:none;\">\n",
       "\n",
       "  <svg xmlns=\"http://www.w3.org/2000/svg\" height=\"24px\" viewBox=\"0 -960 960 960\">\n",
       "    <path d=\"M120-120v-720h720v720H120Zm60-500h600v-160H180v160Zm220 220h160v-160H400v160Zm0 220h160v-160H400v160ZM180-400h160v-160H180v160Zm440 0h160v-160H620v160ZM180-180h160v-160H180v160Zm440 0h160v-160H620v160Z\"/>\n",
       "  </svg>\n",
       "    </button>\n",
       "\n",
       "  <style>\n",
       "    .colab-df-container {\n",
       "      display:flex;\n",
       "      gap: 12px;\n",
       "    }\n",
       "\n",
       "    .colab-df-convert {\n",
       "      background-color: #E8F0FE;\n",
       "      border: none;\n",
       "      border-radius: 50%;\n",
       "      cursor: pointer;\n",
       "      display: none;\n",
       "      fill: #1967D2;\n",
       "      height: 32px;\n",
       "      padding: 0 0 0 0;\n",
       "      width: 32px;\n",
       "    }\n",
       "\n",
       "    .colab-df-convert:hover {\n",
       "      background-color: #E2EBFA;\n",
       "      box-shadow: 0px 1px 2px rgba(60, 64, 67, 0.3), 0px 1px 3px 1px rgba(60, 64, 67, 0.15);\n",
       "      fill: #174EA6;\n",
       "    }\n",
       "\n",
       "    .colab-df-buttons div {\n",
       "      margin-bottom: 4px;\n",
       "    }\n",
       "\n",
       "    [theme=dark] .colab-df-convert {\n",
       "      background-color: #3B4455;\n",
       "      fill: #D2E3FC;\n",
       "    }\n",
       "\n",
       "    [theme=dark] .colab-df-convert:hover {\n",
       "      background-color: #434B5C;\n",
       "      box-shadow: 0px 1px 3px 1px rgba(0, 0, 0, 0.15);\n",
       "      filter: drop-shadow(0px 1px 2px rgba(0, 0, 0, 0.3));\n",
       "      fill: #FFFFFF;\n",
       "    }\n",
       "  </style>\n",
       "\n",
       "    <script>\n",
       "      const buttonEl =\n",
       "        document.querySelector('#df-873a9b95-bc63-4373-bb1a-67b180749eb7 button.colab-df-convert');\n",
       "      buttonEl.style.display =\n",
       "        google.colab.kernel.accessAllowed ? 'block' : 'none';\n",
       "\n",
       "      async function convertToInteractive(key) {\n",
       "        const element = document.querySelector('#df-873a9b95-bc63-4373-bb1a-67b180749eb7');\n",
       "        const dataTable =\n",
       "          await google.colab.kernel.invokeFunction('convertToInteractive',\n",
       "                                                    [key], {});\n",
       "        if (!dataTable) return;\n",
       "\n",
       "        const docLinkHtml = 'Like what you see? Visit the ' +\n",
       "          '<a target=\"_blank\" href=https://colab.research.google.com/notebooks/data_table.ipynb>data table notebook</a>'\n",
       "          + ' to learn more about interactive tables.';\n",
       "        element.innerHTML = '';\n",
       "        dataTable['output_type'] = 'display_data';\n",
       "        await google.colab.output.renderOutput(dataTable, element);\n",
       "        const docLink = document.createElement('div');\n",
       "        docLink.innerHTML = docLinkHtml;\n",
       "        element.appendChild(docLink);\n",
       "      }\n",
       "    </script>\n",
       "  </div>\n",
       "\n",
       "\n",
       "<div id=\"df-66f71410-1b5f-48ba-879d-f834cdae8c78\">\n",
       "  <button class=\"colab-df-quickchart\" onclick=\"quickchart('df-66f71410-1b5f-48ba-879d-f834cdae8c78')\"\n",
       "            title=\"Suggest charts\"\n",
       "            style=\"display:none;\">\n",
       "\n",
       "<svg xmlns=\"http://www.w3.org/2000/svg\" height=\"24px\"viewBox=\"0 0 24 24\"\n",
       "     width=\"24px\">\n",
       "    <g>\n",
       "        <path d=\"M19 3H5c-1.1 0-2 .9-2 2v14c0 1.1.9 2 2 2h14c1.1 0 2-.9 2-2V5c0-1.1-.9-2-2-2zM9 17H7v-7h2v7zm4 0h-2V7h2v10zm4 0h-2v-4h2v4z\"/>\n",
       "    </g>\n",
       "</svg>\n",
       "  </button>\n",
       "\n",
       "<style>\n",
       "  .colab-df-quickchart {\n",
       "      --bg-color: #E8F0FE;\n",
       "      --fill-color: #1967D2;\n",
       "      --hover-bg-color: #E2EBFA;\n",
       "      --hover-fill-color: #174EA6;\n",
       "      --disabled-fill-color: #AAA;\n",
       "      --disabled-bg-color: #DDD;\n",
       "  }\n",
       "\n",
       "  [theme=dark] .colab-df-quickchart {\n",
       "      --bg-color: #3B4455;\n",
       "      --fill-color: #D2E3FC;\n",
       "      --hover-bg-color: #434B5C;\n",
       "      --hover-fill-color: #FFFFFF;\n",
       "      --disabled-bg-color: #3B4455;\n",
       "      --disabled-fill-color: #666;\n",
       "  }\n",
       "\n",
       "  .colab-df-quickchart {\n",
       "    background-color: var(--bg-color);\n",
       "    border: none;\n",
       "    border-radius: 50%;\n",
       "    cursor: pointer;\n",
       "    display: none;\n",
       "    fill: var(--fill-color);\n",
       "    height: 32px;\n",
       "    padding: 0;\n",
       "    width: 32px;\n",
       "  }\n",
       "\n",
       "  .colab-df-quickchart:hover {\n",
       "    background-color: var(--hover-bg-color);\n",
       "    box-shadow: 0 1px 2px rgba(60, 64, 67, 0.3), 0 1px 3px 1px rgba(60, 64, 67, 0.15);\n",
       "    fill: var(--button-hover-fill-color);\n",
       "  }\n",
       "\n",
       "  .colab-df-quickchart-complete:disabled,\n",
       "  .colab-df-quickchart-complete:disabled:hover {\n",
       "    background-color: var(--disabled-bg-color);\n",
       "    fill: var(--disabled-fill-color);\n",
       "    box-shadow: none;\n",
       "  }\n",
       "\n",
       "  .colab-df-spinner {\n",
       "    border: 2px solid var(--fill-color);\n",
       "    border-color: transparent;\n",
       "    border-bottom-color: var(--fill-color);\n",
       "    animation:\n",
       "      spin 1s steps(1) infinite;\n",
       "  }\n",
       "\n",
       "  @keyframes spin {\n",
       "    0% {\n",
       "      border-color: transparent;\n",
       "      border-bottom-color: var(--fill-color);\n",
       "      border-left-color: var(--fill-color);\n",
       "    }\n",
       "    20% {\n",
       "      border-color: transparent;\n",
       "      border-left-color: var(--fill-color);\n",
       "      border-top-color: var(--fill-color);\n",
       "    }\n",
       "    30% {\n",
       "      border-color: transparent;\n",
       "      border-left-color: var(--fill-color);\n",
       "      border-top-color: var(--fill-color);\n",
       "      border-right-color: var(--fill-color);\n",
       "    }\n",
       "    40% {\n",
       "      border-color: transparent;\n",
       "      border-right-color: var(--fill-color);\n",
       "      border-top-color: var(--fill-color);\n",
       "    }\n",
       "    60% {\n",
       "      border-color: transparent;\n",
       "      border-right-color: var(--fill-color);\n",
       "    }\n",
       "    80% {\n",
       "      border-color: transparent;\n",
       "      border-right-color: var(--fill-color);\n",
       "      border-bottom-color: var(--fill-color);\n",
       "    }\n",
       "    90% {\n",
       "      border-color: transparent;\n",
       "      border-bottom-color: var(--fill-color);\n",
       "    }\n",
       "  }\n",
       "</style>\n",
       "\n",
       "  <script>\n",
       "    async function quickchart(key) {\n",
       "      const quickchartButtonEl =\n",
       "        document.querySelector('#' + key + ' button');\n",
       "      quickchartButtonEl.disabled = true;  // To prevent multiple clicks.\n",
       "      quickchartButtonEl.classList.add('colab-df-spinner');\n",
       "      try {\n",
       "        const charts = await google.colab.kernel.invokeFunction(\n",
       "            'suggestCharts', [key], {});\n",
       "      } catch (error) {\n",
       "        console.error('Error during call to suggestCharts:', error);\n",
       "      }\n",
       "      quickchartButtonEl.classList.remove('colab-df-spinner');\n",
       "      quickchartButtonEl.classList.add('colab-df-quickchart-complete');\n",
       "    }\n",
       "    (() => {\n",
       "      let quickchartButtonEl =\n",
       "        document.querySelector('#df-66f71410-1b5f-48ba-879d-f834cdae8c78 button');\n",
       "      quickchartButtonEl.style.display =\n",
       "        google.colab.kernel.accessAllowed ? 'block' : 'none';\n",
       "    })();\n",
       "  </script>\n",
       "</div>\n",
       "\n",
       "    </div>\n",
       "  </div>\n"
      ],
      "text/plain": [
       "                                               title  \\\n",
       "0  Hilltop Lisburn property with spa complex and ...   \n",
       "1  ‘Life in the tough cul de sacs of Bangor’: NI ...   \n",
       "2  Diarmuid Gavin: How to prepare your garden for...   \n",
       "3  Period property in exclusive Co Down residenti...   \n",
       "4  How to Bury a Dead Mule: ‘WW2 gave my grandfat...   \n",
       "5  It’s a whole new ball game for Glentoran as ne...   \n",
       "6  Portadown twins narrowly miss out on major UK ...   \n",
       "7  21 Ward Avenue: Extensive family home on sough...   \n",
       "8  How we made Roald Dahl’s Matilda the Musical: ...   \n",
       "9  Ulster Orchestra chief takes final bow leaving...   \n",
       "\n",
       "                                             Content  append_topic  \\\n",
       "0  It's the kind of property that you'd see in a ...           NaN   \n",
       "1  Northern Ireland writer Colin Bateman has reve...           NaN   \n",
       "2  Premium Clear dead leaves, fill planting gaps ...           NaN   \n",
       "3  Nestled in what has long been regarded as one ...           NaN   \n",
       "4  Bangor actor Richard Clements on bringing his ...           NaN   \n",
       "5  Irish League football club Glentoran are hopin...           NaN   \n",
       "6  A pair of identical 12-year-old twins from Co ...           NaN   \n",
       "7  Number 21 offers flexible as well as spacious ...           NaN   \n",
       "8  As the whistle blows in the dreaded playground...           NaN   \n",
       "9  Premium During his six years in the job Richar...           NaN   \n",
       "\n",
       "   topic_keyword                                          t_content  \n",
       "0            NaN  hilltop lisburn property spa complex annexed a...  \n",
       "1            NaN  life tough cul de sac bangor ni writer colin b...  \n",
       "2            NaN  diarmuid gavin prepare garden winter premium c...  \n",
       "3            NaN  period property exclusive co residential area ...  \n",
       "4            NaN  bury dead mule ww gave grandfather ptsd want k...  \n",
       "5            NaN  whole new ball game glentoran new stage produc...  \n",
       "6            NaN  portadown twin narrowly miss major uk theatre ...  \n",
       "7            NaN  ward avenue extensive family home sought bango...  \n",
       "8            NaN  made roald dahl matilda musical west end music...  \n",
       "9            NaN  ulster orchestra chief take final bow leaving ...  "
      ]
     },
     "execution_count": 37,
     "metadata": {},
     "output_type": "execute_result"
    }
   ],
   "source": [
    "df.head(10)"
   ]
  },
  {
   "cell_type": "code",
   "execution_count": 38,
   "metadata": {
    "id": "Ung3N2Cz1cq7"
   },
   "outputs": [],
   "source": [
    "#unigrams\n",
    "#christmas #year #new #ireland #northern #belfast"
   ]
  },
  {
   "cell_type": "code",
   "execution_count": 39,
   "metadata": {
    "id": "CjX8smT61lRw"
   },
   "outputs": [],
   "source": [
    "#possible bigrams\n",
    "#nothern ireland #new year #christmas time"
   ]
  },
  {
   "cell_type": "code",
   "execution_count": 40,
   "metadata": {
    "colab": {
     "base_uri": "https://localhost:8080/"
    },
    "id": "qsJRhjpY4Ruz",
    "outputId": "f89be8b2-e132-4fc5-b03b-e2f76890e646"
   },
   "outputs": [
    {
     "name": "stdout",
     "output_type": "stream",
     "text": [
      "Collecting pyLDavis\n",
      "  Downloading pyLDAvis-3.4.1-py3-none-any.whl (2.6 MB)\n",
      "\u001b[2K     \u001b[90m━━━━━━━━━━━━━━━━━━━━━━━━━━━━━━━━━━━━━━━━\u001b[0m \u001b[32m2.6/2.6 MB\u001b[0m \u001b[31m11.6 MB/s\u001b[0m eta \u001b[36m0:00:00\u001b[0m\n",
      "\u001b[?25hRequirement already satisfied: numpy>=1.24.2 in /usr/local/lib/python3.10/dist-packages (from pyLDavis) (1.25.2)\n",
      "Requirement already satisfied: scipy in /usr/local/lib/python3.10/dist-packages (from pyLDavis) (1.11.4)\n",
      "Requirement already satisfied: pandas>=2.0.0 in /usr/local/lib/python3.10/dist-packages (from pyLDavis) (2.0.3)\n",
      "Requirement already satisfied: joblib>=1.2.0 in /usr/local/lib/python3.10/dist-packages (from pyLDavis) (1.3.2)\n",
      "Requirement already satisfied: jinja2 in /usr/local/lib/python3.10/dist-packages (from pyLDavis) (3.1.3)\n",
      "Requirement already satisfied: numexpr in /usr/local/lib/python3.10/dist-packages (from pyLDavis) (2.10.0)\n",
      "Collecting funcy (from pyLDavis)\n",
      "  Downloading funcy-2.0-py2.py3-none-any.whl (30 kB)\n",
      "Requirement already satisfied: scikit-learn>=1.0.0 in /usr/local/lib/python3.10/dist-packages (from pyLDavis) (1.2.2)\n",
      "Requirement already satisfied: gensim in /usr/local/lib/python3.10/dist-packages (from pyLDavis) (4.3.2)\n",
      "Requirement already satisfied: setuptools in /usr/local/lib/python3.10/dist-packages (from pyLDavis) (67.7.2)\n",
      "Requirement already satisfied: python-dateutil>=2.8.2 in /usr/local/lib/python3.10/dist-packages (from pandas>=2.0.0->pyLDavis) (2.8.2)\n",
      "Requirement already satisfied: pytz>=2020.1 in /usr/local/lib/python3.10/dist-packages (from pandas>=2.0.0->pyLDavis) (2023.4)\n",
      "Requirement already satisfied: tzdata>=2022.1 in /usr/local/lib/python3.10/dist-packages (from pandas>=2.0.0->pyLDavis) (2024.1)\n",
      "Requirement already satisfied: threadpoolctl>=2.0.0 in /usr/local/lib/python3.10/dist-packages (from scikit-learn>=1.0.0->pyLDavis) (3.4.0)\n",
      "Requirement already satisfied: smart-open>=1.8.1 in /usr/local/lib/python3.10/dist-packages (from gensim->pyLDavis) (6.4.0)\n",
      "Requirement already satisfied: MarkupSafe>=2.0 in /usr/local/lib/python3.10/dist-packages (from jinja2->pyLDavis) (2.1.5)\n",
      "Requirement already satisfied: six>=1.5 in /usr/local/lib/python3.10/dist-packages (from python-dateutil>=2.8.2->pandas>=2.0.0->pyLDavis) (1.16.0)\n",
      "Installing collected packages: funcy, pyLDavis\n",
      "Successfully installed funcy-2.0 pyLDavis-3.4.1\n"
     ]
    }
   ],
   "source": [
    "pip install pyLDavis"
   ]
  },
  {
   "cell_type": "code",
   "execution_count": 41,
   "metadata": {
    "id": "nIKlKNqi1lUX"
   },
   "outputs": [],
   "source": [
    "import gensim\n",
    "import pyLDAvis\n",
    "import spacy\n",
    "import warnings\n",
    "warnings.filterwarnings(\"ignore\", category=DeprecationWarning)"
   ]
  },
  {
   "cell_type": "code",
   "execution_count": 42,
   "metadata": {
    "id": "NA4ithDD1lWt"
   },
   "outputs": [],
   "source": [
    "english_stopwords = set(stopwords.words('english'))"
   ]
  },
  {
   "cell_type": "code",
   "execution_count": 43,
   "metadata": {
    "id": "ZKuiiJe81PGE"
   },
   "outputs": [],
   "source": [
    "#sanity check again that we are not returning stopwrods and only word tokens\n",
    "def tokenize_clean(text):\n",
    "    tokens = [w for w in word_tokenize(text.lower()) if w not in english_stopwords and w.isalpha()]\n",
    "    return tokens"
   ]
  },
  {
   "cell_type": "code",
   "execution_count": 44,
   "metadata": {
    "id": "3wA9j2ja1PIa"
   },
   "outputs": [],
   "source": [
    "from gensim.corpora.dictionary import Dictionary\n",
    "from gensim.models import LdaModel"
   ]
  },
  {
   "cell_type": "code",
   "execution_count": 45,
   "metadata": {
    "id": "7pLlhUeu2Dvd"
   },
   "outputs": [],
   "source": [
    "tokenized_clean_content = df[\"t_content\"].apply(tokenize_clean)"
   ]
  },
  {
   "cell_type": "code",
   "execution_count": 46,
   "metadata": {
    "colab": {
     "base_uri": "https://localhost:8080/"
    },
    "id": "OrAD1abZ2DyE",
    "outputId": "0feb7590-e28c-45dd-81e2-44c4f10a9afc"
   },
   "outputs": [
    {
     "data": {
      "text/plain": [
       "<gensim.corpora.dictionary.Dictionary at 0x7fd1a9a61480>"
      ]
     },
     "execution_count": 46,
     "metadata": {},
     "output_type": "execute_result"
    }
   ],
   "source": [
    "vocabulary = Dictionary(tokenized_clean_content)\n",
    "vocabulary"
   ]
  },
  {
   "cell_type": "code",
   "execution_count": 47,
   "metadata": {
    "id": "pQjnqkMs2D0a"
   },
   "outputs": [],
   "source": [
    "bag_of_words_documents = [vocabulary.doc2bow(text) for text in tokenized_clean_content]"
   ]
  },
  {
   "cell_type": "code",
   "execution_count": 48,
   "metadata": {
    "colab": {
     "base_uri": "https://localhost:8080/"
    },
    "id": "Rwrl_xwA2D2x",
    "outputId": "82eb9779-cef7-4541-ffe5-210575e710ca"
   },
   "outputs": [
    {
     "data": {
      "text/plain": [
       "1575"
      ]
     },
     "execution_count": 48,
     "metadata": {},
     "output_type": "execute_result"
    }
   ],
   "source": [
    "len(bag_of_words_documents)"
   ]
  },
  {
   "cell_type": "code",
   "execution_count": 49,
   "metadata": {
    "id": "xfciB0-C2k6P"
   },
   "outputs": [],
   "source": [
    "#Need to find the right number of topics for LDA algorithms"
   ]
  },
  {
   "cell_type": "code",
   "execution_count": 50,
   "metadata": {
    "id": "KKQIerZ42lD5"
   },
   "outputs": [],
   "source": [
    "#Use HDP from Gensim"
   ]
  },
  {
   "cell_type": "code",
   "execution_count": 51,
   "metadata": {
    "colab": {
     "base_uri": "https://localhost:8080/"
    },
    "id": "UR-bfimI1PKg",
    "outputId": "f0757519-e6aa-48e1-dc5c-501d291b01d2"
   },
   "outputs": [
    {
     "name": "stderr",
     "output_type": "stream",
     "text": [
      "WARNING:gensim.models.hdpmodel:likelihood is decreasing!\n",
      "WARNING:gensim.models.hdpmodel:likelihood is decreasing!\n",
      "WARNING:gensim.models.hdpmodel:likelihood is decreasing!\n",
      "WARNING:gensim.models.hdpmodel:likelihood is decreasing!\n",
      "WARNING:gensim.models.hdpmodel:likelihood is decreasing!\n",
      "WARNING:gensim.models.hdpmodel:likelihood is decreasing!\n",
      "WARNING:gensim.models.hdpmodel:likelihood is decreasing!\n",
      "WARNING:gensim.models.hdpmodel:likelihood is decreasing!\n",
      "WARNING:gensim.models.hdpmodel:likelihood is decreasing!\n",
      "WARNING:gensim.models.hdpmodel:likelihood is decreasing!\n",
      "WARNING:gensim.models.hdpmodel:likelihood is decreasing!\n",
      "WARNING:gensim.models.hdpmodel:likelihood is decreasing!\n",
      "WARNING:gensim.models.hdpmodel:likelihood is decreasing!\n",
      "WARNING:gensim.models.hdpmodel:likelihood is decreasing!\n",
      "WARNING:gensim.models.hdpmodel:likelihood is decreasing!\n",
      "WARNING:gensim.models.hdpmodel:likelihood is decreasing!\n",
      "WARNING:gensim.models.hdpmodel:likelihood is decreasing!\n",
      "WARNING:gensim.models.hdpmodel:likelihood is decreasing!\n",
      "WARNING:gensim.models.hdpmodel:likelihood is decreasing!\n",
      "WARNING:gensim.models.hdpmodel:likelihood is decreasing!\n",
      "WARNING:gensim.models.hdpmodel:likelihood is decreasing!\n",
      "WARNING:gensim.models.hdpmodel:likelihood is decreasing!\n",
      "WARNING:gensim.models.hdpmodel:likelihood is decreasing!\n",
      "WARNING:gensim.models.hdpmodel:likelihood is decreasing!\n",
      "WARNING:gensim.models.hdpmodel:likelihood is decreasing!\n",
      "WARNING:gensim.models.hdpmodel:likelihood is decreasing!\n",
      "WARNING:gensim.models.hdpmodel:likelihood is decreasing!\n",
      "WARNING:gensim.models.hdpmodel:likelihood is decreasing!\n",
      "WARNING:gensim.models.hdpmodel:likelihood is decreasing!\n",
      "WARNING:gensim.models.hdpmodel:likelihood is decreasing!\n",
      "WARNING:gensim.models.hdpmodel:likelihood is decreasing!\n",
      "WARNING:gensim.models.hdpmodel:likelihood is decreasing!\n",
      "WARNING:gensim.models.hdpmodel:likelihood is decreasing!\n",
      "WARNING:gensim.models.hdpmodel:likelihood is decreasing!\n",
      "WARNING:gensim.models.hdpmodel:likelihood is decreasing!\n",
      "WARNING:gensim.models.hdpmodel:likelihood is decreasing!\n",
      "WARNING:gensim.models.hdpmodel:likelihood is decreasing!\n",
      "WARNING:gensim.models.hdpmodel:likelihood is decreasing!\n",
      "WARNING:gensim.models.hdpmodel:likelihood is decreasing!\n"
     ]
    }
   ],
   "source": [
    "hdp_model = gensim.models.hdpmodel.HdpModel(corpus=bag_of_words_documents, id2word=vocabulary)"
   ]
  },
  {
   "cell_type": "code",
   "execution_count": 52,
   "metadata": {
    "colab": {
     "base_uri": "https://localhost:8080/"
    },
    "id": "zhk5mIYc2rzF",
    "outputId": "785bab8a-0355-41f6-ad23-ddb28f40916b"
   },
   "outputs": [
    {
     "name": "stdout",
     "output_type": "stream",
     "text": [
      "[(0, '0.005*year + 0.004*said + 0.004*belfast + 0.004*ireland + 0.004*christmas + 0.003*northern + 0.003*time + 0.002*man + 0.002*new + 0.002*world'), (1, '0.005*year + 0.004*ireland + 0.004*northern + 0.003*new + 0.003*christmas + 0.003*one + 0.003*said + 0.002*life + 0.002*number + 0.002*come'), (2, '0.005*year + 0.004*ulster + 0.003*said + 0.003*first + 0.003*record + 0.002*ireland + 0.002*world + 0.002*belfast + 0.002*team + 0.002*one'), (3, '0.004*ireland + 0.004*northern + 0.004*year + 0.002*said + 0.002*ukraine + 0.002*new + 0.002*would + 0.002*zelensky + 0.002*family + 0.002*mr'), (4, '0.003*time + 0.003*ireland + 0.002*year + 0.002*government + 0.002*northern + 0.002*ticket + 0.002*swift + 0.002*said + 0.002*netanyahu + 0.002*u'), (5, '0.002*year + 0.002*said + 0.002*show + 0.002*belfast + 0.001*january + 0.001*christmas + 0.001*world + 0.001*star + 0.001*special + 0.001*northern'), (6, '0.003*year + 0.002*health + 0.002*ireland + 0.001*man + 0.001*stephen + 0.001*premium + 0.001*northern + 0.001*last + 0.001*reality + 0.001*back'), (7, '0.003*belfast + 0.002*ireland + 0.002*northern + 0.002*year + 0.001*said + 0.001*final + 0.001*race + 0.001*cup + 0.001*sporting + 0.001*new'), (8, '0.003*ukraine + 0.002*u + 0.002*kremlin + 0.002*said + 0.002*northern + 0.002*ireland + 0.002*war + 0.002*aggravate + 0.002*arm + 0.002*christmas'), (9, '0.002*ireland + 0.002*northern + 0.002*one + 0.002*year + 0.001*family + 0.001*new + 0.001*premium + 0.001*gathering + 0.001*netflix + 0.001*two'), (10, '0.002*northern + 0.002*part + 0.002*ireland + 0.002*sutherland + 0.002*year + 0.001*belfast + 0.001*ulster + 0.001*time + 0.001*said + 0.001*game'), (11, '0.003*year + 0.002*ireland + 0.002*new + 0.002*northern + 0.002*death + 0.002*two + 0.002*case + 0.002*said + 0.002*time + 0.002*cancer'), (12, '0.002*time + 0.002*year + 0.002*woman + 0.001*week + 0.001*seat + 0.001*back + 0.001*co + 0.001*tv + 0.001*filmed + 0.001*two'), (13, '0.003*ulster + 0.002*back + 0.002*belfast + 0.002*podcast + 0.002*year + 0.002*rugby + 0.001*look + 0.001*right + 0.001*ireland + 0.001*episode'), (14, '0.002*year + 0.001*belfast + 0.001*city + 0.001*world + 0.001*podcast + 0.001*back + 0.001*game + 0.001*rugby + 0.001*round + 0.001*also'), (15, '0.002*ulster + 0.002*ireland + 0.002*club + 0.001*year + 0.001*cup + 0.001*champion + 0.001*final + 0.001*irish + 0.001*home + 0.001*said'), (16, '0.002*christmas + 0.001*one + 0.001*belfast + 0.001*award + 0.001*said + 0.001*ireland + 0.001*win + 0.001*kebab + 0.001*northern + 0.001*pm'), (17, '0.001*dowdall + 0.001*ireland + 0.001*northern + 0.001*year + 0.001*hutch + 0.001*new + 0.001*minister + 0.001*said + 0.001*come + 0.001*castlewellan'), (18, '0.001*year + 0.001*said + 0.001*ireland + 0.001*martin + 0.001*time + 0.001*derry + 0.001*belfast + 0.001*dup + 0.001*northern + 0.001*work'), (19, '0.002*new + 0.002*zealand + 0.002*year + 0.001*minister + 0.001*prime + 0.001*david + 0.001*said + 0.001*microphone + 0.001*election + 0.001*charity')]\n"
     ]
    }
   ],
   "source": [
    "print(hdp_model.print_topics())"
   ]
  },
  {
   "cell_type": "code",
   "execution_count": 53,
   "metadata": {
    "id": "sJcRvArI2r1b"
   },
   "outputs": [],
   "source": [
    "a = hdp_model[vocabulary.doc2bow(tokenize_clean( df[\"t_content\"][0])) ]"
   ]
  },
  {
   "cell_type": "code",
   "execution_count": 54,
   "metadata": {
    "colab": {
     "base_uri": "https://localhost:8080/"
    },
    "id": "1ZcbpniM0cly",
    "outputId": "c7b7bdd6-13bd-4c74-92ca-79333705d1c3"
   },
   "outputs": [
    {
     "name": "stdout",
     "output_type": "stream",
     "text": [
      "[(0, 0.48232780483015675), (53, 0.16920062250639606), (63, 0.3340724490054409)]\n"
     ]
    }
   ],
   "source": [
    "print(a)"
   ]
  },
  {
   "cell_type": "code",
   "execution_count": 55,
   "metadata": {
    "id": "XQLRaFFt24qN"
   },
   "outputs": [],
   "source": [
    "import matplotlib.pyplot as plt\n",
    "\n",
    "from gensim.models import LdaModel\n",
    "from gensim.models.coherencemodel import CoherenceModel\n",
    "from gensim.corpora.dictionary import Dictionary"
   ]
  },
  {
   "cell_type": "code",
   "execution_count": 56,
   "metadata": {
    "id": "MHwr73o8Eegp"
   },
   "outputs": [],
   "source": [
    "corpus = bag_of_words_documents"
   ]
  },
  {
   "cell_type": "code",
   "execution_count": 57,
   "metadata": {
    "id": "0wcAeeXDEkUd"
   },
   "outputs": [],
   "source": [
    "id2word = vocabulary"
   ]
  },
  {
   "cell_type": "code",
   "execution_count": 58,
   "metadata": {
    "id": "hlb-YfoXGG4-"
   },
   "outputs": [],
   "source": [
    "from pprint import pprint"
   ]
  },
  {
   "cell_type": "markdown",
   "metadata": {
    "id": "VBpD7r1TEPb-"
   },
   "source": []
  },
  {
   "cell_type": "code",
   "execution_count": 78,
   "metadata": {
    "colab": {
     "base_uri": "https://localhost:8080/"
    },
    "id": "Byxr3vV224ui",
    "outputId": "b07a16e4-e4be-4ca9-babc-50239d428e33"
   },
   "outputs": [
    {
     "name": "stdout",
     "output_type": "stream",
     "text": [
      "[(0,\n",
      "  '0.039*\"ireland\" + 0.035*\"northern\" + 0.019*\"said\" + 0.013*\"uk\" + 0.013*\"ni\" '\n",
      "  '+ 0.011*\"job\" + 0.011*\"business\" + 0.008*\"government\" + 0.008*\"company\" + '\n",
      "  '0.007*\"protocol\"'),\n",
      " (1,\n",
      "  '0.024*\"search\" + 0.019*\"limelight\" + 0.017*\"belfast\" + 0.015*\"liam\" + '\n",
      "  '0.014*\"march\" + 0.013*\"mcburney\" + 0.013*\"razorpix\" + 0.013*\"weapon\" + '\n",
      "  '0.011*\"article\" + 0.010*\"nh\"'),\n",
      " (2,\n",
      "  '0.013*\"one\" + 0.012*\"time\" + 0.012*\"year\" + 0.011*\"christmas\" + '\n",
      "  '0.010*\"premium\" + 0.007*\"first\" + 0.007*\"show\" + 0.006*\"back\" + '\n",
      "  '0.006*\"people\" + 0.006*\"say\"'),\n",
      " (3,\n",
      "  '0.013*\"two\" + 0.012*\"belfast\" + 0.012*\"record\" + 0.011*\"history\" + '\n",
      "  '0.010*\"year\" + 0.010*\"tour\" + 0.009*\"open\" + 0.009*\"agreement\" + '\n",
      "  '0.009*\"released\" + 0.009*\"amid\"'),\n",
      " (4,\n",
      "  '0.023*\"child\" + 0.020*\"mr\" + 0.012*\"martin\" + 0.012*\"parent\" + '\n",
      "  '0.010*\"varadkar\" + 0.009*\"song\" + 0.009*\"unionist\" + 0.009*\"award\" + '\n",
      "  '0.008*\"taoiseach\" + 0.008*\"irish\"'),\n",
      " (5,\n",
      "  '0.025*\"club\" + 0.020*\"final\" + 0.017*\"ulster\" + 0.016*\"return\" + '\n",
      "  '0.015*\"point\" + 0.014*\"title\" + 0.013*\"team\" + 0.013*\"championship\" + '\n",
      "  '0.012*\"world\" + 0.012*\"champion\"'),\n",
      " (6,\n",
      "  '0.019*\"derry\" + 0.017*\"million\" + 0.015*\"west\" + 0.011*\"sale\" + 0.011*\"car\" '\n",
      "  '+ 0.011*\"according\" + 0.010*\"reported\" + 0.010*\"girl\" + 0.009*\"celebrity\" + '\n",
      "  '0.009*\"council\"'),\n",
      " (7,\n",
      "  '0.022*\"man\" + 0.012*\"year\" + 0.012*\"court\" + 0.011*\"police\" + 0.010*\"old\" + '\n",
      "  '0.009*\"woman\" + 0.009*\"told\" + 0.008*\"call\" + 0.008*\"belfast\" + '\n",
      "  '0.008*\"death\"'),\n",
      " (8,\n",
      "  '0.046*\"ulster\" + 0.026*\"rugby\" + 0.019*\"podcast\" + 0.013*\"black\" + '\n",
      "  '0.011*\"game\" + 0.011*\"rochelle\" + 0.010*\"scotland\" + 0.010*\"low\" + '\n",
      "  '0.009*\"round\" + 0.009*\"stadium\"'),\n",
      " (9,\n",
      "  '0.019*\"year\" + 0.019*\"new\" + 0.015*\"belfast\" + 0.015*\"said\" + 0.012*\"co\" + '\n",
      "  '0.010*\"service\" + 0.008*\"number\" + 0.008*\"ukraine\" + 0.007*\"health\" + '\n",
      "  '0.007*\"school\"')]\n"
     ]
    }
   ],
   "source": [
    "lda_model = LdaModel(corpus=bag_of_words_documents,\n",
    "                   id2word=vocabulary,\n",
    "                   num_topics=10,\n",
    "                   passes =5,\n",
    "                   random_state=0,\n",
    "                   chunksize=100,\n",
    "                   alpha='auto',\n",
    "                   per_word_topics=True)\n",
    "\n",
    "pprint(lda_model.print_topics())"
   ]
  },
  {
   "cell_type": "code",
   "execution_count": 80,
   "metadata": {
    "id": "_tum79ZWDsOx"
   },
   "outputs": [],
   "source": [
    "doc_lda = lda_model[corpus]"
   ]
  },
  {
   "cell_type": "code",
   "execution_count": 81,
   "metadata": {
    "id": "F7vxwTBbDsRc"
   },
   "outputs": [],
   "source": [
    "#list of individual tokens\n",
    "tweets = tokenized_clean_content"
   ]
  },
  {
   "cell_type": "code",
   "execution_count": 82,
   "metadata": {
    "colab": {
     "base_uri": "https://localhost:8080/"
    },
    "id": "yBvGigYmDsTv",
    "outputId": "1f8ca5b4-95ab-46b0-94ea-9cd5ccc295e4"
   },
   "outputs": [
    {
     "name": "stdout",
     "output_type": "stream",
     "text": [
      "\n",
      "Coherence Score:  0.40755140874622764\n"
     ]
    }
   ],
   "source": [
    "# Compute Coherence Score\n",
    "coherence_model_lda = CoherenceModel(model=lda_model, texts=tweets, dictionary=id2word, coherence='c_v')\n",
    "coherence_lda = coherence_model_lda.get_coherence()\n",
    "print('\\nCoherence Score: ', coherence_lda)"
   ]
  },
  {
   "cell_type": "code",
   "execution_count": 83,
   "metadata": {
    "colab": {
     "base_uri": "https://localhost:8080/",
     "height": 881
    },
    "id": "Ztl5Qnug24wz",
    "outputId": "c74b22b5-13ee-4ce2-dd6f-6fb5614e7417"
   },
   "outputs": [
    {
     "data": {
      "text/html": [
       "\n",
       "<link rel=\"stylesheet\" type=\"text/css\" href=\"https://cdn.jsdelivr.net/gh/bmabey/pyLDAvis@3.4.0/pyLDAvis/js/ldavis.v1.0.0.css\">\n",
       "\n",
       "\n",
       "<div id=\"ldavis_el2821405382299378087666808128\" style=\"background-color:white;\"></div>\n",
       "<script type=\"text/javascript\">\n",
       "\n",
       "var ldavis_el2821405382299378087666808128_data = {\"mdsDat\": {\"x\": [-0.19130615798756334, -0.21136145488334052, -0.21749252668668753, 0.023659456034091097, 0.03193908668673673, 0.049545916419886274, 0.15612506591887568, 0.10181056055741364, 0.1191278229974703, 0.1379522309431183], \"y\": [-0.258640984241863, 0.12175546073842602, 0.15071494700545113, 0.018649537479207, 0.003557585547580875, -0.1539757849777872, 0.08126634265382214, 0.08909303323650808, -0.0840042641133881, 0.03158412667204328], \"topics\": [1, 2, 3, 4, 5, 6, 7, 8, 9, 10], \"cluster\": [1, 1, 1, 1, 1, 1, 1, 1, 1, 1], \"Freq\": [31.634841637828547, 16.214818484127104, 16.19148227980746, 8.699479117215475, 6.767034328640347, 6.58710487829592, 4.5202108299369135, 4.308155701595711, 2.793946469127201, 2.2829262734253195]}, \"tinfo\": {\"Term\": [\"northern\", \"ireland\", \"ulster\", \"belfast\", \"club\", \"man\", \"said\", \"new\", \"world\", \"final\", \"premium\", \"mr\", \"back\", \"christmas\", \"uk\", \"people\", \"ni\", \"child\", \"co\", \"business\", \"year\", \"game\", \"job\", \"one\", \"return\", \"team\", \"woman\", \"service\", \"champion\", \"rugby\", \"christmas\", \"could\", \"like\", \"night\", \"friday\", \"star\", \"fan\", \"thing\", \"long\", \"life\", \"much\", \"hope\", \"know\", \"player\", \"yet\", \"festive\", \"football\", \"january\", \"couple\", \"young\", \"little\", \"run\", \"must\", \"line\", \"something\", \"big\", \"friend\", \"go\", \"really\", \"got\", \"get\", \"great\", \"war\", \"still\", \"way\", \"show\", \"support\", \"one\", \"u\", \"time\", \"back\", \"best\", \"premium\", \"every\", \"cup\", \"day\", \"come\", \"well\", \"first\", \"say\", \"people\", \"city\", \"year\", \"many\", \"since\", \"world\", \"new\", \"event\", \"would\", \"last\", \"service\", \"ukraine\", \"health\", \"school\", \"antrim\", \"market\", \"department\", \"area\", \"hospital\", \"announced\", \"centre\", \"concern\", \"russia\", \"zelensky\", \"property\", \"community\", \"currently\", \"public\", \"ukrainian\", \"royal\", \"include\", \"visit\", \"offer\", \"queen\", \"owner\", \"store\", \"mp\", \"pressure\", \"care\", \"partner\", \"co\", \"case\", \"officer\", \"new\", \"hour\", \"number\", \"five\", \"belfast\", \"road\", \"four\", \"year\", \"said\", \"plan\", \"home\", \"across\", \"month\", \"country\", \"also\", \"northern\", \"ireland\", \"business\", \"company\", \"protocol\", \"uk\", \"government\", \"minister\", \"think\", \"energy\", \"staff\", \"opportunity\", \"dup\", \"trade\", \"rate\", \"union\", \"increase\", \"strike\", \"brexit\", \"cost\", \"rise\", \"social\", \"result\", \"eu\", \"committee\", \"sector\", \"poots\", \"bill\", \"election\", \"twitter\", \"order\", \"issue\", \"ni\", \"pay\", \"northern\", \"deal\", \"job\", \"ireland\", \"party\", \"executive\", \"report\", \"said\", \"food\", \"may\", \"office\", \"part\", \"good\", \"would\", \"people\", \"year\", \"last\", \"mr\", \"also\", \"police\", \"court\", \"death\", \"murder\", \"online\", \"attack\", \"prison\", \"hotel\", \"stormont\", \"killed\", \"private\", \"rooney\", \"video\", \"arrested\", \"sinn\", \"security\", \"died\", \"drug\", \"accused\", \"asked\", \"father\", \"councillor\", \"charged\", \"trial\", \"sentence\", \"defence\", \"process\", \"likely\", \"taliban\", \"release\", \"man\", \"secretary\", \"told\", \"call\", \"state\", \"charge\", \"old\", \"sign\", \"woman\", \"today\", \"year\", \"belfast\", \"december\", \"said\", \"number\", \"tour\", \"agreement\", \"record\", \"released\", \"amid\", \"history\", \"arena\", \"cancer\", \"art\", \"became\", \"loyalist\", \"author\", \"golf\", \"c\", \"historic\", \"ladbaby\", \"journey\", \"scott\", \"mcilroy\", \"adrian\", \"september\", \"festival\", \"individual\", \"worst\", \"flag\", \"finish\", \"instagram\", \"original\", \"comedian\", \"civil\", \"invasion\", \"hall\", \"launched\", \"mark\", \"open\", \"together\", \"ago\", \"challenge\", \"two\", \"belfast\", \"world\", \"year\", \"working\", \"despite\", \"city\", \"going\", \"title\", \"championship\", \"race\", \"return\", \"electric\", \"mother\", \"kilcoo\", \"boost\", \"arm\", \"p\", \"brand\", \"goal\", \"argentina\", \"per\", \"belief\", \"charging\", \"calendar\", \"spain\", \"driving\", \"target\", \"semi\", \"campaign\", \"fourth\", \"craig\", \"debate\", \"superbike\", \"johnston\", \"graduate\", \"secure\", \"squad\", \"club\", \"victory\", \"point\", \"win\", \"final\", \"nine\", \"team\", \"champion\", \"card\", \"ulster\", \"michael\", \"world\", \"season\", \"senior\", \"ireland\", \"half\", \"vehicle\", \"last\", \"round\", \"first\", \"child\", \"martin\", \"parent\", \"varadkar\", \"song\", \"unionist\", \"taoiseach\", \"farmer\", \"leo\", \"launch\", \"biden\", \"abuse\", \"turned\", \"loss\", \"f\", \"netflix\", \"sam\", \"amount\", \"theatre\", \"ceremony\", \"uup\", \"republic\", \"emma\", \"related\", \"illness\", \"delivery\", \"coalition\", \"foot\", \"fine\", \"scheme\", \"mary\", \"mr\", \"used\", \"paid\", \"award\", \"special\", \"politician\", \"irish\", \"role\", \"derry\", \"million\", \"according\", \"girl\", \"celebrity\", \"financial\", \"incident\", \"dancing\", \"psni\", \"funding\", \"strictly\", \"bid\", \"recently\", \"wanted\", \"loan\", \"beltel\", \"seat\", \"showcase\", \"son\", \"increasing\", \"total\", \"founder\", \"organisation\", \"billion\", \"profit\", \"conflict\", \"appeal\", \"handed\", \"agricultural\", \"native\", \"warned\", \"rest\", \"sale\", \"west\", \"project\", \"reported\", \"car\", \"special\", \"council\", \"aged\", \"year\", \"last\", \"rugby\", \"black\", \"rochelle\", \"scotland\", \"low\", \"bradley\", \"sutherland\", \"reporter\", \"forward\", \"ravenhill\", \"subscribe\", \"listen\", \"spotify\", \"mckendry\", \"wrong\", \"aviva\", \"joining\", \"gareth\", \"feedback\", \"scarlet\", \"talking\", \"itunes\", \"soundcloud\", \"hanna\", \"edinburgh\", \"selection\", \"leinster\", \"bonus\", \"landed\", \"tie\", \"discus\", \"podcast\", \"stadium\", \"ulster\", \"province\", \"adam\", \"round\", \"sure\", \"game\", \"european\", \"jonathan\", \"episode\", \"back\", \"right\", \"week\", \"make\", \"look\", \"search\", \"limelight\", \"liam\", \"march\", \"mcburney\", \"razorpix\", \"weapon\", \"article\", \"nh\", \"criminal\", \"born\", \"offering\", \"station\", \"save\", \"unlimited\", \"perfect\", \"menu\", \"discover\", \"nightlife\", \"aaa\", \"subscriber\", \"tree\", \"section\", \"tip\", \"loved\", \"reveals\", \"category\", \"scratch\", \"euro\", \"smyth\", \"airport\", \"photo\", \"saturday\", \"belfast\", \"monday\", \"light\", \"close\", \"people\", \"full\"], \"Freq\": [704.0, 863.0, 281.0, 593.0, 186.0, 205.0, 702.0, 540.0, 312.0, 173.0, 401.0, 191.0, 245.0, 371.0, 226.0, 347.0, 233.0, 109.0, 242.0, 184.0, 1073.0, 142.0, 213.0, 485.0, 116.0, 136.0, 194.0, 164.0, 134.0, 78.0, 371.18050805372366, 171.70484064856714, 150.02614131155258, 110.54620650462451, 106.38051263601254, 149.63392807777447, 103.78020999305625, 103.42993311845854, 135.13818272320918, 199.8898151477341, 93.42532889151565, 88.04692679276852, 86.76196507982563, 80.64318404977045, 79.8599373576345, 76.90402556564834, 76.58197792265142, 72.93519119692384, 71.85906525671967, 70.75524564086206, 69.3865974898879, 67.75773124195256, 66.9933842415812, 66.71788339591997, 66.3111170113991, 63.279536597230916, 62.80515433393902, 73.3131539854946, 60.44743525008389, 60.46290039827322, 156.0704878266087, 72.3168491664844, 105.82916943075266, 156.32517960712786, 112.87492018883924, 232.4429702336877, 111.83506458112626, 417.82550616978784, 198.50339274865277, 398.4786795209092, 215.29394100578202, 89.55115597690255, 318.93924523187286, 92.69348780864337, 129.08863588228766, 196.30637149571947, 152.38494703066317, 129.57010844062142, 238.240448742064, 202.54581560921315, 213.8243599629364, 154.82003454470708, 395.8564113224319, 129.53906171903685, 129.50095186829176, 163.90377748609032, 195.4321268626191, 117.58416453559336, 128.32227084501332, 135.14128739536764, 163.61002451021545, 130.04438977694568, 127.44774146243603, 127.03556129697908, 126.7771122470327, 107.8073641372635, 101.9312486510541, 99.97828025904191, 89.47689590305438, 88.99456960052684, 82.49226298597618, 77.90872693027875, 72.0187508983823, 64.77552173268079, 62.453776893192604, 62.41614972869545, 62.25104055329254, 87.57136526843954, 60.54262486045611, 58.45596824305142, 55.31565951784626, 53.898024865426535, 52.43374812413342, 50.1268146542184, 49.77386803202621, 48.33965562591019, 48.0275984091633, 44.19626748428621, 42.64693377778385, 40.82934042843491, 201.07313807110015, 91.77749982986147, 62.94241682545762, 316.24259231651405, 82.8740088303924, 132.28504008047383, 99.06096197447604, 255.03316540625474, 92.66617404756548, 84.78432143283614, 331.2112496434808, 252.41993535970616, 70.32080222497831, 111.28503233827686, 90.77314336546173, 91.23814000753785, 79.37542250388465, 94.72693961120113, 98.74014842562319, 84.18550925840368, 183.91923359518998, 132.60616299944525, 125.76174112042168, 224.5726603697342, 142.74501261863026, 103.22436169939745, 82.91237083083428, 80.74622194350758, 75.0905659842002, 73.0509052230724, 72.79863609650572, 71.31056526460114, 70.43200511820055, 65.83950887339084, 64.8229757649609, 64.306940758146, 63.99166195288455, 87.0003685486809, 58.04011355941656, 62.572130682578894, 57.813928636261366, 52.73807613231616, 51.9717185812787, 51.9225495003125, 51.10155654727712, 48.88196404306116, 47.78441735556167, 47.47100568030379, 47.00739332780172, 85.4210625940915, 222.6192610147711, 82.59715161482826, 598.0516240128394, 98.76294592607202, 192.06945469159993, 662.3046047138824, 100.7402365998467, 75.22256015760111, 85.4268705601877, 320.1952207535559, 97.21686694031202, 107.6854517181265, 85.36839363752287, 105.25827011106745, 87.55868014591692, 89.55922651977856, 96.4062623808071, 107.62929480380653, 88.32035795409439, 79.83077207537698, 75.66418804746547, 101.21047759330321, 107.53895523581882, 69.89374897175536, 67.58014305973566, 64.46570065371725, 58.28128043329067, 55.2656795359266, 48.80429477021653, 47.562995856637805, 46.45023273927496, 46.42808155207588, 45.34821864665045, 44.20736633835102, 43.75765753768157, 42.64682822024186, 41.947569583133095, 40.759315697909685, 40.70891737143594, 38.38807144910797, 38.30777819799457, 36.07210058089088, 35.86360023685981, 35.3480696679455, 35.33971761595957, 35.30042263076637, 34.58314934536698, 34.12369897422377, 33.86772234797367, 33.36685963013202, 33.31917630752387, 200.15128025694665, 55.020962064858146, 80.67177217119948, 77.1945010882109, 56.71651186104501, 50.98262006509637, 95.75292708703368, 39.30484202326713, 84.56112619939931, 55.35585523035583, 108.85266705910229, 77.10076515286356, 45.928431194450944, 50.16000804481079, 42.71587725723262, 69.57414029256306, 63.62325367800694, 84.16605626818824, 62.362841372660654, 61.49984685768999, 76.82980926406051, 50.71177454194883, 47.068950802128846, 44.93012636846391, 40.68983773541751, 39.069636843757515, 37.15623564932186, 35.96884365789379, 33.55087840345091, 33.28105522709564, 31.880625888703634, 31.814303254329438, 31.64779103780243, 31.429321165437393, 32.27906642836014, 28.799683336609945, 27.18480539007095, 27.11139324363603, 26.965400764710548, 26.821545101246933, 26.75264899059777, 25.454551030742262, 25.397818331183704, 25.61860931311804, 28.98310412241715, 37.67957446398545, 40.831475228362834, 31.685772227006456, 61.05192252003397, 64.24648654012854, 33.27231204898983, 54.85080103434329, 38.35250696405222, 91.54183850912861, 85.08640443763801, 60.78148502998725, 73.80896651467742, 36.18984051793012, 34.706790968960625, 38.02627650836413, 33.76355712404363, 95.13848871976208, 87.89848746813746, 59.66477236395278, 114.47560504573133, 50.7489121768654, 50.65583099020907, 46.54720342736683, 46.21622978053991, 37.7839185520737, 36.89867273365063, 35.71634740054212, 35.102054235265335, 34.04144846481673, 31.376666971617727, 28.28924316980156, 27.73655483615595, 27.522959743075525, 26.994620493677655, 26.15588294535927, 24.349688692017924, 24.03978008993314, 23.570382238551666, 22.830705673233474, 22.383413674390205, 21.891830778573002, 20.957083559550966, 20.58925012482824, 20.18364377114639, 20.131246209723585, 19.967095951601035, 172.14174846151374, 23.24530273152638, 106.9461234692615, 73.34160094551788, 137.50542339176485, 35.10953382917869, 89.20460428253097, 80.64909955241414, 28.681501648347204, 115.95542686310817, 39.93345170138437, 85.78153612809497, 47.93696304716042, 33.99847150687727, 52.46964544348591, 31.77782403358751, 30.398653501806088, 37.92531649318844, 31.005825860950154, 31.029344238354447, 109.00141505947228, 59.2750754718424, 57.757459641661676, 45.26190064979064, 41.86288037161577, 41.56142889979972, 38.29109321677797, 33.70712151499772, 32.46157192641055, 32.30719743569304, 30.223902615201023, 29.7867795709371, 29.368481439784468, 27.08066115821483, 26.80090480542099, 26.628747902966335, 26.52597057600455, 25.658136979971665, 24.592423314599287, 24.467351984847166, 24.158372322257026, 22.891542397109266, 22.035968173618635, 21.80879825184193, 21.78994893976231, 21.487388423931222, 21.248921779817323, 21.060614978415654, 20.792665508205932, 19.993506135672355, 30.127823914090076, 97.11542658385176, 29.988882879885868, 28.307714110719168, 41.27662196056139, 30.241441037254866, 26.08314704550332, 37.688163656089515, 24.4396946452001, 84.00025973614473, 78.13789786208791, 48.787224134624275, 44.05734053970509, 41.018314393953965, 37.16433328932504, 33.238217197985875, 32.80108619710671, 31.647858697684196, 30.615002044293412, 29.456174475127167, 29.150265644550995, 28.575625343350787, 26.731739487788175, 25.883332092660957, 24.691197955426603, 24.56136258986196, 24.41047146942849, 24.01487273362493, 24.01903526187159, 23.582280558619605, 23.455899520711153, 23.29911870820293, 23.199412521191555, 22.53517110409171, 21.161940562732543, 19.46552955251625, 18.887179125834635, 18.722794141613242, 18.47888351616138, 30.345057119523315, 39.39851800343658, 51.916697008920366, 67.75525017144771, 25.720240895786926, 45.42527965993608, 50.2920045211865, 37.288553786924666, 40.08779378290155, 25.12597815315173, 37.713465685078745, 24.647056975340146, 77.96122584824951, 38.09016341455585, 33.279508458427436, 30.068508765946355, 28.48794607963725, 26.70061705994535, 23.215885800165864, 21.427332475464414, 19.908257869080813, 18.688803465488792, 18.364392800006563, 18.080696788352682, 18.07189769591, 17.259669348732004, 17.11897024279085, 16.24589681574276, 15.503301672859537, 14.02229431495888, 13.335785503134822, 13.16578670810165, 12.923531981468802, 12.586318896972896, 12.586318896972896, 12.170301974129691, 12.117473144417335, 12.048838029760809, 11.413335985658405, 11.16285044701564, 9.992162593468217, 9.74211440454331, 19.38752516535888, 57.14106502638648, 26.79920857377181, 134.93438148703234, 21.991946848212983, 25.992864568252273, 26.875367748778203, 20.245819188148303, 33.33344917096482, 24.733560613251868, 21.144966335993363, 14.9120062253171, 24.540095743701873, 19.937905792744417, 22.680737007781605, 17.916324586554907, 17.724212896226, 56.7241551660139, 45.09722740183978, 36.54014670134774, 33.306641197504746, 30.567332831040037, 30.567332831040037, 30.296789831200062, 26.930385500658485, 23.959529769309864, 22.32551744405404, 20.90103972220879, 20.103377903861865, 19.441655249854175, 18.038924792053802, 17.961999992824754, 17.62773088870122, 17.354927239871262, 17.21801570520334, 16.775394523969187, 15.96300824064489, 15.615980696805336, 15.492263376113641, 15.33291002716606, 14.960810340093191, 14.26064545083263, 14.22947358819869, 13.66347788042098, 12.981175254859773, 12.783955475208804, 12.484128221034256, 22.86065047607652, 18.99943959633775, 23.10514112065828, 41.60071364796189, 21.51898778754819, 16.969410410601647, 17.24108821590587, 18.51802778449103, 16.735191267798452], \"Total\": [704.0, 863.0, 281.0, 593.0, 186.0, 205.0, 702.0, 540.0, 312.0, 173.0, 401.0, 191.0, 245.0, 371.0, 226.0, 347.0, 233.0, 109.0, 242.0, 184.0, 1073.0, 142.0, 213.0, 485.0, 116.0, 136.0, 194.0, 164.0, 134.0, 78.0, 371.99614135596244, 172.5231006040477, 150.8895029492976, 111.35817541463024, 107.19629080142293, 150.79323033545478, 104.59171749410312, 104.24151435268729, 136.21329222729355, 201.49198816552033, 94.23689624494745, 88.85865335051065, 87.57353528252786, 81.45640403379402, 80.67166545746504, 77.71602286121193, 77.39350474039729, 73.74698048786566, 72.67061803913703, 71.57510119787236, 70.19818184043343, 68.57037433364643, 67.8050682606412, 67.53016897806991, 67.12262684320368, 64.09107674075626, 63.61673189693415, 74.27053087163023, 61.258971965953016, 61.27493543523523, 159.48421952208074, 73.4203077356052, 107.93405105176353, 161.69817324644927, 117.65630082536514, 257.4250517484915, 117.29249979498593, 485.2983281871521, 220.00313823623236, 483.6322671019186, 245.27066860572964, 92.87103215769075, 401.610109405311, 97.3388054975712, 146.13226134576658, 245.2910502902315, 179.6500080743208, 147.1485664756609, 342.6552180395501, 282.7889895124288, 347.6263762413608, 220.30307018215026, 1073.1289066095146, 167.51880958424906, 170.36804702512106, 312.2062791668645, 540.3362536114431, 145.68068839085487, 218.5968924221083, 331.8959329829653, 164.42710621962945, 130.86242673466282, 128.2647857724602, 127.85297976631621, 127.59462432511347, 108.62449246619751, 102.74834815695382, 100.81223107999958, 90.29709718276861, 89.81175828656268, 83.30935047106689, 78.74711279830284, 72.83590720132082, 65.59257772462371, 63.27081641800786, 63.233307018675106, 63.068177182317854, 88.73755560195809, 61.35976951635835, 59.27304210344018, 56.13286187921059, 54.7152753973982, 53.25139544286494, 50.94398345132017, 50.597513781930836, 49.156653246580305, 48.84492482798047, 45.01335256766465, 43.463981286799374, 41.65156158334671, 242.53711016749864, 102.20381194617131, 67.49787774186946, 540.3362536114431, 100.35099062175735, 190.40451114513496, 129.73709428383722, 593.1962479505565, 126.62782694893394, 111.76879164790957, 1073.1289066095146, 702.7939838184747, 84.8782353594796, 238.76106476444866, 184.98941482515596, 197.2164878686053, 129.46676991967024, 262.77801779310823, 704.0121044939709, 863.9759876138728, 184.74585722443405, 133.45468623054202, 126.58599698395872, 226.2069358745705, 143.87756463408235, 104.04866232417817, 83.73700009890658, 81.59208521629662, 75.91487754684272, 73.87702092225499, 73.62295737316855, 72.1348791200281, 71.28243056579547, 66.66383125095702, 65.64735244091297, 65.13123235353285, 64.81591866924641, 88.14211994258136, 58.86456250762529, 63.466924044761235, 58.70962131574027, 53.5623192194099, 52.7961187195062, 52.746931833023034, 51.925944548005745, 49.70625477315076, 48.60873192278371, 48.29534769538322, 47.83179802676349, 86.96675125430963, 233.46030918865713, 85.68354238474934, 704.0121044939709, 104.7951231821344, 213.69621919174196, 863.9759876138728, 113.73588676379072, 82.65560315842565, 100.13556723394679, 702.7939838184747, 128.15516385326305, 157.36977862567892, 110.6285823051307, 207.97353650800235, 134.63944377177964, 218.5968924221083, 347.6263762413608, 1073.1289066095146, 331.8959329829653, 191.84512573317394, 262.77801779310823, 102.03290181291418, 108.69372014529452, 70.71629384617549, 68.40253882697343, 65.28851810280507, 59.10384136146241, 56.08817487747027, 49.626821570449906, 48.38560932599523, 47.27272150566935, 47.25078652929979, 46.17062894435892, 45.03022958007597, 44.58004678883737, 43.46934744695871, 42.77551931665886, 41.58184193994511, 41.531366177361484, 39.210553473681145, 39.13050532625475, 36.89487222221649, 36.68656569685557, 36.17063515245802, 36.162215684120646, 36.122851837873796, 35.40572331568146, 34.94670313511792, 34.69057983252663, 34.1903513663169, 34.141892792197424, 205.27736905952173, 58.56985360428821, 104.96792888932569, 99.48339797106534, 69.78195811045669, 63.49810733543801, 195.3658018097606, 43.31958420753542, 194.82089217292764, 109.46488263373716, 1073.1289066095146, 593.1962479505565, 96.7590275923066, 702.7939838184747, 190.40451114513496, 70.39922168172896, 64.44857897460744, 85.26369579445898, 63.18816748506377, 62.32544800801974, 78.03973522620225, 51.537014229495576, 47.89405089569487, 45.755315164107834, 41.51511384489559, 39.895003695202625, 37.98140174158584, 36.79393895352044, 34.37618650006577, 34.10645367082843, 32.70777051028798, 32.639746251250166, 32.472879599980196, 32.25469358579249, 33.13740435999669, 29.624880192840518, 28.00988745282953, 27.936659103407763, 27.790628686935072, 27.646675698472244, 27.57789960550446, 26.280036612146706, 26.2231801478136, 26.45867787760494, 29.94880149798342, 39.02708269602444, 42.480721954003236, 34.018195386897325, 87.67808099092237, 98.54902115161603, 38.2051038564942, 97.23326476381744, 52.178639453176956, 337.28262090424823, 593.1962479505565, 312.2062791668645, 1073.1289066095146, 67.51438624319766, 56.84332233941546, 220.30307018215026, 77.9456559645968, 95.9617563362839, 88.73344314555877, 60.488090048873644, 116.13252781050755, 51.572258268936004, 51.47936194420787, 47.370436701022214, 47.03983491753496, 38.607995631043536, 37.723158550452546, 36.53981018984157, 35.92540894081623, 34.864770061733864, 32.20017393705484, 29.112602035236844, 28.561664410695503, 28.346558230356386, 27.81800842335344, 26.979377133115538, 25.173617599831935, 24.863011554884885, 24.393785376484978, 23.655492301369385, 23.206912927232317, 22.715588493837284, 21.780289960423502, 21.413178128612827, 21.00715745127132, 20.954768580711146, 20.791225921346722, 186.1680990490321, 24.31028400249167, 120.28580332426169, 84.71098690795598, 173.9176345096984, 40.7685372563462, 136.16687598684027, 134.06889648209454, 32.601766718502354, 281.93990162131837, 54.70441747620477, 312.2062791668645, 107.47322410629509, 57.673881590149804, 863.9759876138728, 66.47517516135898, 50.976643766184715, 331.8959329829653, 74.21674290945086, 342.6552180395501, 109.832885138149, 60.12170563441081, 58.58938890153459, 46.093242666470154, 42.69450664580676, 42.39300581418805, 39.12245370309888, 34.53866751408139, 33.2929282629148, 33.13881375614958, 31.055456141066294, 30.618280068548437, 30.200170569890897, 27.912358491585177, 27.632534120850167, 27.460331227782575, 27.357541091276893, 26.48982968700066, 25.423863697491093, 25.299077571610948, 24.99068408235851, 23.72303017040034, 22.86796444003363, 22.640847139964915, 22.621635523678535, 22.319418074845018, 22.080311139641204, 21.892246490077202, 21.624095169128942, 20.82501755264666, 34.996002668742655, 191.84512573317394, 38.671435052229626, 35.922552271143275, 77.10294010396012, 68.28014270304335, 42.265703073514764, 186.68845783240295, 68.6872787094281, 84.83946520601525, 78.97716759887903, 49.626607386458346, 44.89654205461866, 41.857563444648, 38.00354361346628, 34.077588215373574, 33.64023079725213, 32.4871055983817, 31.454491150068915, 30.295272833735687, 29.98964534518124, 29.41514768013351, 27.57118507863756, 26.722475715837255, 25.53052523189683, 25.40108192834547, 25.250453032212338, 24.854150110870737, 24.860773298865546, 24.421573300593554, 24.2954057730258, 24.138525744890988, 24.038663437166626, 23.374305146966073, 22.001524451006453, 20.30486613800433, 19.726799023768788, 19.562686456012436, 19.318308063903313, 32.06797966045593, 42.48329748856446, 58.06492715683253, 87.51527551742473, 28.33548946781807, 76.8209320372467, 118.90365294571511, 68.28014270304335, 89.13147810088296, 28.916149819004936, 1073.1289066095146, 331.8959329829653, 78.80491155590977, 38.934150714798776, 34.12334251008239, 30.9123614976726, 29.33215574667466, 27.544324466154205, 24.05967359774963, 22.271431869972275, 20.752250893900037, 19.534206008530585, 19.208065427623207, 18.924394494476456, 18.915571582611783, 18.1033511890339, 17.963081180077435, 17.089581522562938, 16.34720537600539, 14.866099915564082, 14.180105239118145, 14.010436133265376, 13.767454998453925, 13.429993322858772, 13.429993322858772, 13.014023368679217, 12.961268643452708, 12.893071679447432, 12.257075428462539, 12.00670738076623, 10.837255762761215, 10.585863828383152, 22.013770296224507, 74.09110124687787, 33.921066811864925, 281.93990162131837, 29.955296307901524, 51.16333727228341, 74.21674290945086, 40.20026450454986, 142.81544824146843, 82.65934955723112, 54.66076044430983, 21.551525293541864, 245.27066860572964, 103.5910324503481, 272.289762617795, 127.83321282536184, 103.94621094882119, 57.57134773686807, 45.94426152249908, 37.38720642185634, 34.153914627312446, 31.41429782150009, 31.41429782150009, 31.144303447547607, 27.780634662029524, 24.806797720275963, 23.172818581575996, 21.748259142432076, 20.950695957126694, 20.288796285519226, 18.886228682054323, 18.809055015086393, 18.474897519696533, 18.20202573992494, 18.065000938921223, 17.622394902686448, 16.809968901528702, 16.462947103518296, 16.339560131736242, 16.179885092401495, 15.808098272363578, 15.107833167113562, 15.076831056456035, 14.510807572146637, 13.828137912516441, 13.631052868713818, 13.331298163197605, 36.18738962938209, 28.64767205403565, 86.03805830811157, 593.1962479505565, 70.11169015581098, 46.58055632378108, 72.02586575221461, 347.6263762413608, 73.07995188399389], \"Category\": [\"Default\", \"Default\", \"Default\", \"Default\", \"Default\", \"Default\", \"Default\", \"Default\", \"Default\", \"Default\", \"Default\", \"Default\", \"Default\", \"Default\", \"Default\", \"Default\", \"Default\", \"Default\", \"Default\", \"Default\", \"Default\", \"Default\", \"Default\", \"Default\", \"Default\", \"Default\", \"Default\", \"Default\", \"Default\", \"Default\", \"Topic1\", \"Topic1\", \"Topic1\", \"Topic1\", \"Topic1\", \"Topic1\", \"Topic1\", \"Topic1\", \"Topic1\", \"Topic1\", \"Topic1\", \"Topic1\", \"Topic1\", \"Topic1\", \"Topic1\", \"Topic1\", \"Topic1\", \"Topic1\", \"Topic1\", \"Topic1\", \"Topic1\", \"Topic1\", \"Topic1\", \"Topic1\", \"Topic1\", \"Topic1\", \"Topic1\", \"Topic1\", \"Topic1\", \"Topic1\", \"Topic1\", \"Topic1\", \"Topic1\", \"Topic1\", \"Topic1\", \"Topic1\", \"Topic1\", \"Topic1\", \"Topic1\", \"Topic1\", \"Topic1\", \"Topic1\", \"Topic1\", \"Topic1\", \"Topic1\", \"Topic1\", \"Topic1\", \"Topic1\", \"Topic1\", \"Topic1\", \"Topic1\", \"Topic1\", \"Topic1\", \"Topic1\", \"Topic1\", \"Topic1\", \"Topic1\", \"Topic1\", \"Topic1\", \"Topic1\", \"Topic2\", \"Topic2\", \"Topic2\", \"Topic2\", \"Topic2\", \"Topic2\", \"Topic2\", \"Topic2\", \"Topic2\", \"Topic2\", \"Topic2\", \"Topic2\", \"Topic2\", \"Topic2\", \"Topic2\", \"Topic2\", \"Topic2\", \"Topic2\", \"Topic2\", \"Topic2\", \"Topic2\", \"Topic2\", \"Topic2\", \"Topic2\", \"Topic2\", \"Topic2\", \"Topic2\", \"Topic2\", \"Topic2\", \"Topic2\", \"Topic2\", \"Topic2\", \"Topic2\", \"Topic2\", \"Topic2\", \"Topic2\", \"Topic2\", \"Topic2\", \"Topic2\", \"Topic2\", \"Topic2\", \"Topic2\", \"Topic2\", \"Topic2\", \"Topic2\", \"Topic2\", \"Topic2\", \"Topic2\", \"Topic2\", \"Topic2\", \"Topic3\", \"Topic3\", \"Topic3\", \"Topic3\", \"Topic3\", \"Topic3\", \"Topic3\", \"Topic3\", \"Topic3\", \"Topic3\", \"Topic3\", \"Topic3\", \"Topic3\", \"Topic3\", \"Topic3\", \"Topic3\", \"Topic3\", \"Topic3\", \"Topic3\", \"Topic3\", \"Topic3\", \"Topic3\", \"Topic3\", \"Topic3\", \"Topic3\", \"Topic3\", \"Topic3\", \"Topic3\", \"Topic3\", \"Topic3\", \"Topic3\", \"Topic3\", \"Topic3\", \"Topic3\", \"Topic3\", \"Topic3\", \"Topic3\", \"Topic3\", \"Topic3\", \"Topic3\", \"Topic3\", \"Topic3\", \"Topic3\", \"Topic3\", \"Topic3\", \"Topic3\", \"Topic3\", \"Topic3\", \"Topic3\", \"Topic3\", \"Topic3\", \"Topic4\", \"Topic4\", \"Topic4\", \"Topic4\", \"Topic4\", \"Topic4\", \"Topic4\", \"Topic4\", \"Topic4\", \"Topic4\", \"Topic4\", \"Topic4\", \"Topic4\", \"Topic4\", \"Topic4\", \"Topic4\", \"Topic4\", \"Topic4\", \"Topic4\", \"Topic4\", \"Topic4\", \"Topic4\", \"Topic4\", \"Topic4\", \"Topic4\", \"Topic4\", \"Topic4\", \"Topic4\", \"Topic4\", \"Topic4\", \"Topic4\", \"Topic4\", \"Topic4\", \"Topic4\", \"Topic4\", \"Topic4\", \"Topic4\", \"Topic4\", \"Topic4\", \"Topic4\", \"Topic4\", \"Topic4\", \"Topic4\", \"Topic4\", \"Topic4\", \"Topic5\", \"Topic5\", \"Topic5\", \"Topic5\", \"Topic5\", \"Topic5\", \"Topic5\", \"Topic5\", \"Topic5\", \"Topic5\", \"Topic5\", \"Topic5\", \"Topic5\", \"Topic5\", \"Topic5\", \"Topic5\", \"Topic5\", \"Topic5\", \"Topic5\", \"Topic5\", \"Topic5\", \"Topic5\", \"Topic5\", \"Topic5\", \"Topic5\", \"Topic5\", \"Topic5\", \"Topic5\", \"Topic5\", \"Topic5\", \"Topic5\", \"Topic5\", \"Topic5\", \"Topic5\", \"Topic5\", \"Topic5\", \"Topic5\", \"Topic5\", \"Topic5\", \"Topic5\", \"Topic5\", \"Topic5\", \"Topic5\", \"Topic5\", \"Topic5\", \"Topic5\", \"Topic6\", \"Topic6\", \"Topic6\", \"Topic6\", \"Topic6\", \"Topic6\", \"Topic6\", \"Topic6\", \"Topic6\", \"Topic6\", \"Topic6\", \"Topic6\", \"Topic6\", \"Topic6\", \"Topic6\", \"Topic6\", \"Topic6\", \"Topic6\", \"Topic6\", \"Topic6\", \"Topic6\", \"Topic6\", \"Topic6\", \"Topic6\", \"Topic6\", \"Topic6\", \"Topic6\", \"Topic6\", \"Topic6\", \"Topic6\", \"Topic6\", \"Topic6\", \"Topic6\", \"Topic6\", \"Topic6\", \"Topic6\", \"Topic6\", \"Topic6\", \"Topic6\", \"Topic6\", \"Topic6\", \"Topic6\", \"Topic6\", \"Topic6\", \"Topic6\", \"Topic6\", \"Topic6\", \"Topic6\", \"Topic6\", \"Topic6\", \"Topic7\", \"Topic7\", \"Topic7\", \"Topic7\", \"Topic7\", \"Topic7\", \"Topic7\", \"Topic7\", \"Topic7\", \"Topic7\", \"Topic7\", \"Topic7\", \"Topic7\", \"Topic7\", \"Topic7\", \"Topic7\", \"Topic7\", \"Topic7\", \"Topic7\", \"Topic7\", \"Topic7\", \"Topic7\", \"Topic7\", \"Topic7\", \"Topic7\", \"Topic7\", \"Topic7\", \"Topic7\", \"Topic7\", \"Topic7\", \"Topic7\", \"Topic7\", \"Topic7\", \"Topic7\", \"Topic7\", \"Topic7\", \"Topic7\", \"Topic7\", \"Topic7\", \"Topic8\", \"Topic8\", \"Topic8\", \"Topic8\", \"Topic8\", \"Topic8\", \"Topic8\", \"Topic8\", \"Topic8\", \"Topic8\", \"Topic8\", \"Topic8\", \"Topic8\", \"Topic8\", \"Topic8\", \"Topic8\", \"Topic8\", \"Topic8\", \"Topic8\", \"Topic8\", \"Topic8\", \"Topic8\", \"Topic8\", \"Topic8\", \"Topic8\", \"Topic8\", \"Topic8\", \"Topic8\", \"Topic8\", \"Topic8\", \"Topic8\", \"Topic8\", \"Topic8\", \"Topic8\", \"Topic8\", \"Topic8\", \"Topic8\", \"Topic8\", \"Topic8\", \"Topic8\", \"Topic8\", \"Topic8\", \"Topic9\", \"Topic9\", \"Topic9\", \"Topic9\", \"Topic9\", \"Topic9\", \"Topic9\", \"Topic9\", \"Topic9\", \"Topic9\", \"Topic9\", \"Topic9\", \"Topic9\", \"Topic9\", \"Topic9\", \"Topic9\", \"Topic9\", \"Topic9\", \"Topic9\", \"Topic9\", \"Topic9\", \"Topic9\", \"Topic9\", \"Topic9\", \"Topic9\", \"Topic9\", \"Topic9\", \"Topic9\", \"Topic9\", \"Topic9\", \"Topic9\", \"Topic9\", \"Topic9\", \"Topic9\", \"Topic9\", \"Topic9\", \"Topic9\", \"Topic9\", \"Topic9\", \"Topic9\", \"Topic9\", \"Topic9\", \"Topic9\", \"Topic9\", \"Topic9\", \"Topic9\", \"Topic9\", \"Topic10\", \"Topic10\", \"Topic10\", \"Topic10\", \"Topic10\", \"Topic10\", \"Topic10\", \"Topic10\", \"Topic10\", \"Topic10\", \"Topic10\", \"Topic10\", \"Topic10\", \"Topic10\", \"Topic10\", \"Topic10\", \"Topic10\", \"Topic10\", \"Topic10\", \"Topic10\", \"Topic10\", \"Topic10\", \"Topic10\", \"Topic10\", \"Topic10\", \"Topic10\", \"Topic10\", \"Topic10\", \"Topic10\", \"Topic10\", \"Topic10\", \"Topic10\", \"Topic10\", \"Topic10\", \"Topic10\", \"Topic10\", \"Topic10\", \"Topic10\", \"Topic10\"], \"logprob\": [30.0, 29.0, 28.0, 27.0, 26.0, 25.0, 24.0, 23.0, 22.0, 21.0, 20.0, 19.0, 18.0, 17.0, 16.0, 15.0, 14.0, 13.0, 12.0, 11.0, 10.0, 9.0, 8.0, 7.0, 6.0, 5.0, 4.0, 3.0, 2.0, 1.0, -4.4977, -5.2686, -5.4036, -5.709, -5.7474, -5.4062, -5.7721, -5.7755, -5.5081, -5.1166, -5.8772, -5.9365, -5.9512, -6.0244, -6.0341, -6.0718, -6.076, -6.1248, -6.1397, -6.1552, -6.1747, -6.1985, -6.2098, -6.2139, -6.22, -6.2668, -6.2744, -6.1197, -6.3126, -6.3124, -5.3641, -6.1333, -5.7526, -5.3625, -5.6881, -4.9658, -5.6974, -4.3793, -5.1236, -4.4267, -5.0424, -5.9196, -4.6494, -5.8851, -5.5539, -5.1347, -5.388, -5.5502, -4.9411, -5.1034, -5.0492, -5.3721, -4.4333, -5.5504, -5.5507, -5.3151, -5.1392, -5.6472, -5.5599, -5.5081, -4.6486, -4.8782, -4.8984, -4.9016, -4.9036, -5.0657, -5.1218, -5.1411, -5.2521, -5.2575, -5.3334, -5.3905, -5.4691, -5.5751, -5.6116, -5.6122, -5.6149, -5.2736, -5.6427, -5.6778, -5.733, -5.759, -5.7865, -5.8315, -5.8386, -5.8678, -5.8743, -5.9574, -5.9931, -6.0367, -4.4424, -5.2267, -5.6038, -3.9896, -5.3287, -4.8611, -5.1503, -4.2047, -5.2171, -5.306, -3.9433, -4.215, -5.493, -5.034, -5.2377, -5.2326, -5.3719, -5.1951, -5.1536, -5.313, -4.5301, -4.8572, -4.9102, -4.3304, -4.7836, -5.1077, -5.3268, -5.3533, -5.4259, -5.4535, -5.4569, -5.4776, -5.49, -5.5574, -5.573, -5.581, -5.5859, -5.2787, -5.6835, -5.6083, -5.6874, -5.7793, -5.7939, -5.7949, -5.8108, -5.8552, -5.8779, -5.8845, -5.8943, -5.297, -4.3392, -5.3306, -3.3509, -5.1519, -4.4868, -3.2489, -5.1321, -5.4242, -5.297, -3.9757, -5.1677, -5.0654, -5.2976, -5.0882, -5.2723, -5.2497, -5.1761, -5.0659, -5.2637, -5.3647, -5.4183, -4.5062, -4.4455, -4.8764, -4.9101, -4.9573, -5.0581, -5.1113, -5.2356, -5.2613, -5.285, -5.2855, -5.309, -5.3345, -5.3447, -5.3704, -5.387, -5.4157, -5.417, -5.4757, -5.4777, -5.5379, -5.5437, -5.5582, -5.5584, -5.5595, -5.58, -5.5934, -5.6009, -5.6158, -5.6173, -3.8243, -5.1157, -4.733, -4.7771, -5.0853, -5.1919, -4.5616, -5.4521, -4.6859, -5.1096, -4.4334, -4.7783, -5.2963, -5.2082, -5.3688, -4.6298, -4.7192, -4.4394, -4.7392, -4.7532, -4.5306, -4.946, -5.0206, -5.0671, -5.1662, -5.2069, -5.2571, -5.2895, -5.3591, -5.3672, -5.4102, -5.4123, -5.4175, -5.4245, -5.3978, -5.5118, -5.5695, -5.5722, -5.5776, -5.583, -5.5856, -5.6353, -5.6375, -5.6289, -5.5055, -5.2431, -5.1627, -5.4163, -4.7605, -4.7095, -5.3675, -4.8676, -5.2254, -4.3554, -4.4285, -4.7649, -4.5707, -5.2834, -5.3253, -5.2339, -5.3528, -4.2899, -4.3691, -4.7565, -4.1049, -4.9184, -4.9202, -5.0048, -5.0119, -5.2134, -5.2371, -5.2696, -5.287, -5.3177, -5.3992, -5.5028, -5.5225, -5.5302, -5.5496, -5.5812, -5.6527, -5.6655, -5.6853, -5.7171, -5.7369, -5.7591, -5.8028, -5.8205, -5.8404, -5.843, -5.8512, -3.6969, -5.6991, -4.1729, -4.5501, -3.9216, -5.2868, -4.3543, -4.4551, -5.489, -4.092, -5.158, -4.3934, -4.9754, -5.3189, -4.885, -5.3865, -5.4309, -5.2096, -5.4111, -5.4103, -3.7773, -4.3865, -4.4124, -4.6562, -4.7343, -4.7415, -4.8235, -4.951, -4.9886, -4.9934, -5.0601, -5.0746, -5.0888, -5.1699, -5.1803, -5.1867, -5.1906, -5.2238, -5.2663, -5.2714, -5.2841, -5.3379, -5.376, -5.3864, -5.3872, -5.4012, -5.4124, -5.4213, -5.4341, -5.4733, -5.0632, -3.8928, -5.0679, -5.1256, -4.7484, -5.0595, -5.2074, -4.8394, -5.2725, -3.9898, -4.0622, -4.5332, -4.6352, -4.7066, -4.8053, -4.9169, -4.9302, -4.966, -4.9992, -5.0377, -5.0482, -5.0681, -5.1348, -5.167, -5.2142, -5.2195, -5.2256, -5.242, -5.2418, -5.2602, -5.2655, -5.2722, -5.2765, -5.3056, -5.3684, -5.452, -5.4822, -5.4909, -5.504, -5.008, -4.7469, -4.471, -4.2047, -5.1734, -4.6046, -4.5028, -4.802, -4.7296, -5.1967, -4.7906, -5.216, -3.6314, -4.3476, -4.4827, -4.5841, -4.6381, -4.7029, -4.8428, -4.9229, -4.9965, -5.0597, -5.0772, -5.0927, -5.0932, -5.1392, -5.1474, -5.1998, -5.2465, -5.3469, -5.3971, -5.41, -5.4285, -5.455, -5.455, -5.4886, -5.4929, -5.4986, -5.5528, -5.575, -5.6858, -5.7111, -5.023, -3.9421, -4.6992, -3.0828, -4.8969, -4.7298, -4.6964, -4.9796, -4.481, -4.7794, -4.9362, -5.2854, -4.7873, -4.995, -4.8661, -5.1019, -5.1127, -3.7474, -3.9768, -4.1872, -4.2798, -4.3657, -4.3657, -4.3746, -4.4923, -4.6092, -4.6799, -4.7458, -4.7847, -4.8182, -4.8931, -4.8973, -4.9161, -4.9317, -4.9396, -4.9657, -5.0153, -5.0373, -5.0453, -5.0556, -5.0802, -5.1281, -5.1303, -5.1709, -5.2221, -5.2374, -5.2611, -4.6562, -4.8412, -4.6455, -4.0575, -4.7167, -4.9542, -4.9383, -4.8669, -4.9681], \"loglift\": [30.0, 29.0, 28.0, 27.0, 26.0, 25.0, 24.0, 23.0, 22.0, 21.0, 20.0, 19.0, 18.0, 17.0, 16.0, 15.0, 14.0, 13.0, 12.0, 11.0, 10.0, 9.0, 8.0, 7.0, 6.0, 5.0, 4.0, 3.0, 2.0, 1.0, 1.1487, 1.1462, 1.1452, 1.1436, 1.1433, 1.1432, 1.1431, 1.1431, 1.143, 1.1429, 1.1423, 1.1417, 1.1416, 1.1409, 1.1408, 1.1404, 1.1404, 1.1398, 1.1397, 1.1394, 1.1393, 1.139, 1.1389, 1.1388, 1.1387, 1.1382, 1.1381, 1.1379, 1.1376, 1.1376, 1.1293, 1.1358, 1.1312, 1.1171, 1.1094, 1.0488, 1.1033, 1.0012, 1.0481, 0.9572, 1.0206, 1.1145, 0.9204, 1.102, 1.0269, 0.9281, 0.9863, 1.0237, 0.7875, 0.8172, 0.6649, 0.7982, 0.1536, 0.8938, 0.8766, 0.5065, 0.1339, 0.9366, 0.6182, 0.2524, 1.8143, 1.813, 1.8129, 1.8128, 1.8128, 1.8117, 1.8113, 1.8109, 1.8101, 1.8101, 1.8094, 1.8085, 1.808, 1.8067, 1.8062, 1.8062, 1.8062, 1.806, 1.8058, 1.8054, 1.8046, 1.8042, 1.8038, 1.8031, 1.8028, 1.8025, 1.8024, 1.8009, 1.8003, 1.7993, 1.6318, 1.7116, 1.7494, 1.2836, 1.6279, 1.4551, 1.5495, 0.9751, 1.507, 1.5429, 0.6437, 0.7953, 1.6311, 1.0559, 1.1073, 1.0484, 1.33, 0.7989, -0.1451, -0.5093, 1.8162, 1.8143, 1.8142, 1.8134, 1.8128, 1.8127, 1.8108, 1.8103, 1.8098, 1.8094, 1.8094, 1.8092, 1.8087, 1.8082, 1.808, 1.8079, 1.8079, 1.8076, 1.8066, 1.8065, 1.8053, 1.8052, 1.8049, 1.8049, 1.8047, 1.804, 1.8036, 1.8035, 1.8033, 1.8028, 1.7731, 1.784, 1.6576, 1.7614, 1.714, 1.5549, 1.6994, 1.7265, 1.6618, 1.0346, 1.5444, 1.4413, 1.5615, 1.1397, 1.3904, 0.9284, 0.5381, -0.479, 0.4968, 0.9439, 0.5757, 2.4338, 2.4312, 2.4302, 2.4298, 2.4292, 2.4279, 2.4271, 2.4252, 2.4248, 2.4244, 2.4243, 2.4239, 2.4235, 2.4233, 2.4228, 2.4224, 2.4219, 2.4219, 2.4207, 2.4207, 2.4194, 2.4192, 2.4189, 2.4189, 2.4189, 2.4184, 2.4181, 2.4179, 2.4175, 2.4175, 2.4166, 2.3794, 2.1786, 2.1882, 2.2346, 2.2224, 1.7288, 2.3446, 1.6073, 1.7601, 0.1536, 0.4015, 1.6968, -0.1979, 0.9473, 2.6813, 2.6802, 2.6802, 2.68, 2.6798, 2.6775, 2.677, 2.6757, 2.6749, 2.673, 2.6722, 2.6711, 2.6704, 2.6688, 2.6686, 2.6675, 2.6675, 2.6674, 2.6672, 2.6669, 2.6649, 2.6632, 2.6631, 2.663, 2.6628, 2.6627, 2.6612, 2.6611, 2.6608, 2.6603, 2.658, 2.6535, 2.6221, 2.3312, 2.2653, 2.5549, 2.1206, 2.3853, 1.389, 0.7512, 1.0567, 0.0163, 2.0695, 2.1997, 0.9364, 1.8565, 2.7114, 2.7106, 2.7064, 2.7057, 2.704, 2.7039, 2.7025, 2.7024, 2.6985, 2.698, 2.6973, 2.6969, 2.6962, 2.6941, 2.6914, 2.6907, 2.6906, 2.69, 2.6891, 2.6868, 2.6864, 2.6857, 2.6846, 2.6839, 2.6831, 2.6815, 2.6808, 2.6801, 2.68, 2.6796, 2.6417, 2.6753, 2.6025, 2.5759, 2.4851, 2.5706, 2.2971, 2.2118, 2.5919, 1.8316, 2.4053, 1.4282, 1.9127, 2.1916, -0.0813, 1.982, 2.2031, 0.5509, 1.8472, 0.3183, 3.089, 3.0824, 3.0823, 3.0784, 3.0769, 3.0768, 3.0751, 3.0722, 3.0713, 3.0712, 3.0695, 3.0691, 3.0687, 3.0664, 3.0661, 3.0659, 3.0657, 3.0647, 3.0634, 3.0632, 3.0627, 3.0609, 3.0596, 3.0592, 3.0592, 3.0586, 3.0582, 3.0579, 3.0574, 3.0559, 2.9468, 2.4158, 2.8423, 2.8584, 2.4718, 2.2822, 2.6139, 1.4965, 2.0633, 3.1347, 3.134, 3.1276, 3.1258, 3.1244, 3.1223, 3.1197, 3.1194, 3.1185, 3.1176, 3.1166, 3.1163, 3.1157, 3.1137, 3.1128, 3.1112, 3.111, 3.1108, 3.1103, 3.1102, 3.1097, 3.1095, 3.1093, 3.1091, 3.1081, 3.1058, 3.1024, 3.1012, 3.1008, 3.1002, 3.0894, 3.0693, 3.0327, 2.8887, 3.0478, 2.6193, 2.2842, 2.5397, 2.3456, 3.0042, -0.2037, 0.5445, 3.567, 3.5558, 3.5527, 3.55, 3.5485, 3.5466, 3.542, 3.5391, 3.5362, 3.5335, 3.5328, 3.5321, 3.5321, 3.53, 3.5296, 3.5271, 3.5247, 3.5193, 3.5163, 3.5155, 3.5145, 3.5128, 3.5128, 3.5107, 3.5104, 3.51, 3.5064, 3.5048, 3.4965, 3.4947, 3.4507, 3.3179, 3.3421, 2.8408, 3.2687, 2.9005, 2.5619, 2.8918, 2.1227, 2.3711, 2.628, 3.2094, 1.2757, 1.9299, 1.0924, 1.6127, 1.8088, 3.7649, 3.7611, 3.7568, 3.7546, 3.7524, 3.7524, 3.7521, 3.7486, 3.745, 3.7425, 3.74, 3.7384, 3.7371, 3.7338, 3.7336, 3.7328, 3.7321, 3.7317, 3.7305, 3.728, 3.7269, 3.7265, 3.7259, 3.7246, 3.722, 3.7219, 3.7195, 3.7165, 3.7156, 3.7141, 3.3204, 3.369, 2.465, 1.1223, 2.5986, 2.7699, 2.35, 0.8473, 2.3057]}, \"token.table\": {\"Topic\": [10, 7, 8, 4, 1, 2, 3, 6, 9, 5, 7, 8, 2, 3, 5, 5, 8, 7, 10, 1, 2, 3, 4, 5, 8, 9, 5, 7, 2, 2, 8, 2, 5, 6, 6, 4, 5, 10, 4, 4, 5, 9, 1, 7, 1, 6, 9, 5, 1, 2, 3, 4, 5, 9, 10, 6, 8, 1, 2, 8, 7, 1, 3, 8, 9, 9, 6, 10, 9, 6, 3, 3, 5, 6, 1, 4, 6, 5, 2, 8, 6, 7, 2, 2, 5, 7, 10, 8, 2, 7, 2, 5, 6, 1, 6, 6, 4, 6, 4, 6, 7, 1, 1, 3, 5, 5, 1, 2, 10, 1, 6, 2, 4, 7, 1, 2, 3, 5, 3, 2, 3, 2, 8, 3, 1, 3, 8, 4, 1, 2, 5, 7, 1, 4, 6, 10, 1, 9, 2, 8, 1, 2, 3, 4, 5, 1, 3, 7, 4, 6, 1, 4, 4, 7, 2, 8, 5, 6, 8, 4, 10, 3, 9, 6, 4, 3, 9, 3, 6, 7, 3, 8, 9, 3, 10, 1, 6, 9, 1, 5, 6, 8, 1, 3, 2, 3, 7, 1, 7, 4, 9, 5, 1, 1, 6, 8, 7, 5, 1, 2, 3, 5, 6, 1, 2, 5, 5, 1, 2, 3, 7, 1, 9, 8, 1, 2, 4, 5, 6, 6, 1, 1, 1, 10, 8, 1, 6, 9, 9, 1, 4, 8, 1, 6, 3, 4, 5, 6, 5, 1, 3, 1, 3, 6, 1, 2, 6, 5, 7, 8, 9, 2, 5, 5, 1, 2, 4, 5, 1, 2, 4, 2, 3, 4, 7, 8, 2, 3, 8, 5, 5, 5, 7, 1, 2, 3, 6, 7, 9, 1, 3, 4, 5, 7, 2, 3, 9, 1, 2, 3, 6, 9, 4, 6, 9, 5, 6, 4, 1, 5, 9, 1, 2, 3, 4, 6, 8, 7, 5, 8, 9, 7, 10, 1, 5, 4, 10, 1, 4, 10, 1, 9, 1, 8, 1, 1, 3, 9, 7, 10, 9, 5, 1, 9, 4, 5, 1, 3, 10, 3, 5, 2, 7, 4, 7, 2, 3, 4, 6, 10, 5, 9, 10, 6, 7, 8, 8, 3, 3, 5, 10, 1, 2, 3, 5, 6, 8, 6, 2, 3, 4, 7, 1, 4, 1, 8, 7, 1, 2, 3, 5, 6, 8, 10, 1, 2, 3, 1, 10, 3, 6, 1, 2, 3, 1, 2, 4, 5, 8, 2, 10, 2, 3, 7, 2, 8, 1, 2, 4, 5, 6, 1, 2, 5, 4, 2, 5, 3, 3, 8, 5, 2, 6, 7, 8, 7, 1, 3, 5, 2, 3, 7, 3, 6, 1, 2, 3, 10, 6, 10, 1, 10, 2, 3, 1, 4, 9, 3, 6, 9, 4, 5, 7, 3, 1, 3, 10, 2, 4, 4, 4, 8, 4, 8, 2, 3, 2, 9, 8, 2, 2, 6, 3, 9, 10, 1, 8, 5, 7, 4, 5, 2, 3, 4, 8, 9, 7, 6, 8, 3, 6, 9, 10, 1, 3, 5, 6, 9, 3, 2, 4, 6, 9, 1, 3, 7, 4, 5, 6, 9, 2, 9, 1, 2, 1, 2, 3, 4, 5, 8, 2, 8, 7, 1, 6, 7, 10, 10, 1, 2, 3, 6, 9, 7, 2, 9, 5, 10, 10, 1, 6, 9, 8, 4, 8, 10, 3, 6, 4, 9, 6, 1, 6, 4, 5, 2, 1, 2, 5, 8, 8, 4, 7, 1, 4, 6, 7, 8, 4, 10, 3, 1, 8, 7, 9, 6, 7, 8, 9, 6, 1, 9, 3, 1, 1, 4, 5, 10, 1, 3, 2, 4, 8, 3, 9, 10, 6, 1, 7, 8, 1, 9, 9, 4, 9, 7, 6, 1, 6, 7, 1, 3, 9, 1, 2, 3, 4, 5, 6, 7, 10, 6, 1, 4, 6, 3, 5, 4, 7, 8, 8, 5, 3, 10, 4, 7, 3, 1, 2, 3, 4, 5, 6, 1, 3, 3, 8, 2, 2, 1, 6, 9, 3, 7, 10, 7, 10, 7, 7, 4, 6, 6, 4, 2, 8, 1, 5, 1, 8, 1, 4, 7, 10, 1, 2, 3, 4, 8, 9, 1, 2, 7, 8, 1, 6, 9, 1, 4, 4, 5, 1, 2, 5, 6, 5, 1, 3, 9, 1, 2, 3, 4, 5, 6, 7, 8, 1, 1, 2], \"Freq\": [0.9518161570510077, 0.9798068321550321, 0.9873735598813203, 0.9691268455444351, 0.1297371529213375, 0.4919200381600714, 0.3784000293539011, 0.46908589782319504, 0.5081763893084613, 0.965676117910739, 0.10374825205907154, 0.8645687671589295, 0.17483728476353763, 0.2571136540640259, 0.5656500389408571, 0.9930397383193789, 0.9712367492431235, 0.3592411647577018, 0.6355805222636263, 0.22452410782111992, 0.3615218685255321, 0.28921749482042564, 0.04947141358770439, 0.057082400293505066, 0.0038054933529003375, 0.019027466764501687, 0.9787334379393601, 0.9815087642016425, 0.9909615589088836, 0.995339738423475, 0.9357362846356309, 0.9919431296054243, 0.9895800283053994, 0.9751964501643738, 0.984252079883819, 0.9869886455798289, 0.9834922967659868, 0.9719000421867074, 0.9711093604125722, 0.9813236951095679, 0.9741609920491348, 0.9362429371881112, 0.45393859109404244, 0.5317566352815926, 0.876582598409313, 0.020385641823472394, 0.10192820911736197, 0.9875921370029214, 0.1399199679478049, 0.42987460032156927, 0.0724886580934411, 0.12980527146965032, 0.1432915334405231, 0.013486261970872762, 0.070802875347082, 0.9617828034096646, 0.9792199640595716, 0.9690858162013762, 0.03230286054004587, 0.9670004318560487, 0.9660138258387837, 0.9829761521222433, 0.9857914305478462, 0.9567919639175642, 0.9760069065936063, 0.9161545835306278, 0.9778945882918619, 0.9655945270133286, 0.9802382350373828, 0.9852267927217739, 0.9874117549207314, 0.9959627932358561, 0.989056770445871, 0.9877742395552891, 0.22114242626089914, 0.773998491913147, 0.9838571435139141, 0.9813327359249282, 0.5718915972333085, 0.4205085273774327, 0.8895223455341683, 0.09201955298629327, 0.9893249243842213, 0.9001621196717647, 0.019568741731994885, 0.07827496692797954, 0.9647981292835054, 0.9795123419980708, 0.9842832711614812, 0.9486511882524645, 0.11498958314894665, 0.7282673599433288, 0.1341545136737711, 0.39531913359992765, 0.6041669777659271, 0.99173430986606, 0.8031735454819947, 0.1889820107016458, 0.9676357590204366, 0.980335025206543, 0.9924167963256052, 0.9973221728797202, 0.7035762137669865, 0.12255843723682992, 0.17248965240739025, 0.9683192164451954, 0.15272291259701765, 0.5970077492428872, 0.2360263194681182, 0.06982936424879173, 0.9238962039070906, 0.8287391560870306, 0.1690462955202401, 0.9510735544979844, 0.8460895806757657, 0.07236292466305891, 0.07236292466305891, 0.9826643689557454, 0.9849208854966064, 0.9804959272759391, 0.9965929541825413, 0.9905125055160252, 0.954479315593032, 0.98704229098046, 0.9969679387733226, 0.5385302815877402, 0.4487752346564502, 0.9812856372948964, 0.33213155797954985, 0.6101951879159172, 0.023171969161363944, 0.023171969161363944, 0.9907718131862335, 0.9936176612193676, 0.9479933875299693, 0.9493881774697676, 0.8827619501129215, 0.10948985427757166, 0.9830631353236996, 0.9809682995009527, 0.7990507593656201, 0.1508412147782038, 0.020383947943000514, 0.012230368765800307, 0.01630715835440041, 0.047712143925915114, 0.9447004497331192, 0.009542428785183023, 0.9898708797192681, 0.9684979108495726, 0.5167476487121657, 0.4754078368151925, 0.98854074206975, 0.9408847457213922, 0.9927166891694387, 0.9901052510883139, 0.6157275570736797, 0.228698806913081, 0.15832994324751762, 0.9860073072091073, 0.9410461730656948, 0.09085222445257421, 0.863096132299455, 0.9636990458199491, 0.9872056658311633, 0.9915385445600753, 0.9258352966907845, 0.9874769018095206, 0.9889037577925748, 0.962044525549719, 0.992743349863813, 0.27840256864779594, 0.6960064216194899, 0.9895015894082845, 0.9537047596549039, 0.677479320850778, 0.012097845015192465, 0.30244612537981164, 0.8099906810119623, 0.020592983415558364, 0.09610058927260569, 0.07550760585704733, 0.9554257371929691, 0.04109358009432125, 0.08468875348454151, 0.9073795016200875, 0.9771090802572143, 0.9943425970212557, 0.9844039289048492, 0.9757453497378522, 0.9167773990941456, 0.9639453227175494, 0.990786676481237, 0.20699453566908124, 0.7934790533981448, 0.9735934200327919, 0.9711389001829813, 0.9790448288748896, 0.6945757352293682, 0.12840895945416891, 0.04085739618996284, 0.04377578163210304, 0.09046994870634628, 0.05395527037691692, 0.7630816810449679, 0.17728160266701273, 0.9766092782537331, 0.05462128711422788, 0.17946994337532018, 0.7568949785828721, 0.9592437217221349, 0.9949155327476481, 0.9637508770616707, 0.9466810398176583, 0.03578816538162702, 0.7604985143595742, 0.08052337210866078, 0.026841124036220264, 0.0984174547994743, 0.9722900587728863, 0.9888401847444608, 0.990305508023686, 0.7662840294270258, 0.23262193750463284, 0.9855508344452134, 0.6511900578343469, 0.11203269812203817, 0.23106743987670372, 0.9417399371399814, 0.9781532020376578, 0.01881063850072419, 0.9800309330387187, 0.9828932033106613, 0.9742408237484295, 0.4490307967373721, 0.025658902670706977, 0.4362013454020186, 0.07697670801212093, 0.9784220179708573, 0.3416532236866057, 0.6535974714004631, 0.9791931982273114, 0.993900615177118, 0.9520564620126476, 0.9806551105625995, 0.5114691299040561, 0.4813827104979352, 0.9651436725673703, 0.023540089574813912, 0.9631567684704919, 0.9220822538923926, 0.990139259463592, 0.9675588180023891, 0.9866768483620745, 0.4607116328138394, 0.4648999203848743, 0.06282431356552355, 0.008376575142069808, 0.9903368628925354, 0.9856352283380364, 0.9873692984838839, 0.8270969672122456, 0.02989507110405707, 0.139510331818933, 0.9725203103450298, 0.9683783896746708, 0.9798182055700574, 0.9901389406146176, 0.9653762460033846, 0.966472043062103, 0.9512924342139208, 0.9736828216440305, 0.02562323214852712, 0.057871978754976634, 0.09722492430836074, 0.7662249987158906, 0.060186857905175695, 0.002314879150199065, 0.013889274901194392, 0.34281712293887573, 0.24639980711231693, 0.19819114919903755, 0.005356517545919933, 0.20354766674495747, 0.011498647305747725, 0.9773850209885566, 0.9679826108232761, 0.9898710363065161, 0.09827033945395848, 0.8984716750076204, 0.9807044929934652, 0.9787605668357833, 0.36589318987569985, 0.2378305734192049, 0.38418784936948486, 0.9803997786525175, 0.9921800024061374, 0.9730770417879006, 0.9934508150130341, 0.9783607840202574, 0.9227428252050507, 0.40675400504810927, 0.09942875678953782, 0.26514335143876755, 0.03615591155983194, 0.11449371993946779, 0.07532481574964986, 0.9656350476353955, 0.9406730614618474, 0.02939603317068273, 0.8974408344144277, 0.9611650782801524, 0.9896433443706032, 0.9925952978125626, 0.004962976489062814, 0.6225773646502035, 0.3649591447949469, 0.9941049381705731, 0.9800931597032827, 0.9794476722182883, 0.9921491536880046, 0.9511532855253962, 0.9829314405441867, 0.9729637431980498, 0.9910927031609442, 0.808110264272722, 0.019240720577921953, 0.17316648520129757, 0.9673134575188181, 0.9266716044015451, 0.9545837763108945, 0.9775660204961893, 0.8526735547897818, 0.14080847693776213, 0.9742915203770391, 0.01948583040754078, 0.7760322576469839, 0.22087071948414158, 0.9662142790979025, 0.29653933692608847, 0.6957269058650537, 0.9942509055552841, 0.981342750965322, 0.11429876828683283, 0.8572407621512462, 0.1715704262647686, 0.6862817050590744, 0.012708920464056932, 0.12708920464056933, 0.9868118070359497, 0.9611004338808801, 0.9390526550850842, 0.9339619799960849, 0.7312023753364915, 0.21936071260094744, 0.03656011876682457, 0.9876272139329937, 0.9899214242571335, 0.47067757069703026, 0.21394435031683193, 0.3137850471313535, 0.18254051874194646, 0.4614218668199202, 0.24338735832259525, 0.055776269615594745, 0.005070569965054068, 0.045635129685486615, 0.9906882695102673, 0.9827018911185535, 0.4170030366644148, 0.07297553141627258, 0.505616181955603, 0.9868746075663144, 0.9941151478603497, 0.9881267244279359, 0.9317586167721075, 0.9832365012656205, 0.360886390088911, 0.5848210218876712, 0.03886468816342118, 0.0018506994363533898, 0.007402797745413559, 0.0037013988727067795, 0.9674767485358853, 0.004283383344583465, 0.03855045010125118, 0.9551944858421126, 0.9967835732464491, 0.9646815937264255, 0.12264359568656537, 0.8585051698059575, 0.00994301085921165, 0.14062258215170761, 0.8494172134012239, 0.021007905621264502, 0.6932608855017285, 0.22583498542859337, 0.042015811242529004, 0.015755929215948376, 0.976500231919601, 0.9546222254825238, 0.18982436150251622, 0.7683367013197085, 0.03615702123857452, 0.9333626790597686, 0.05926112247998531, 0.3429464081192773, 0.06654184038135232, 0.4913858982007555, 0.03583022174380509, 0.06142323727509444, 0.8613258602424055, 0.09478705639031257, 0.04327235183036009, 0.980264246451786, 0.3450059635568735, 0.6494229902247032, 0.988128637141745, 0.9826099360450956, 0.952833666938754, 0.9533550034389866, 0.9881908469948534, 0.9808298515224975, 0.77945463865307, 0.1948636596632675, 0.9899403473464262, 0.432747365415585, 0.5048719263181825, 0.057699648722078, 0.9843568510140273, 0.8880222669715417, 0.10550759607582674, 0.968680772175603, 0.023341705353628988, 0.6156034599958475, 0.05177973028002456, 0.27615856149346435, 0.054656381962248146, 0.9627277188191297, 0.9742949849009861, 0.31416165275224006, 0.6632301558102847, 0.8247108307981814, 0.16494216615963628, 0.9943969533248157, 0.21595036017465358, 0.7693231581222033, 0.0665082643080823, 0.8895480351206007, 0.03325413215404115, 0.9898767770536597, 0.3548976808432544, 0.6151559801283076, 0.9821679787230504, 0.7943027143225132, 0.16931844694022224, 0.034859680252398696, 0.9774877339753496, 0.9805988538609521, 0.9735287680656027, 0.9729100873562353, 0.9839864695608007, 0.07058286401833619, 0.9175772322383704, 0.9799146511780087, 0.9953707598160879, 0.23368154759843118, 0.7344277210236408, 0.9850061866266729, 0.9916883488963063, 0.9814701680675952, 0.9919308073956498, 0.98200916332936, 0.9726527912986431, 0.9868118070359497, 0.9794483660833757, 0.985886602214345, 0.9851789699861789, 0.9716950900289543, 0.9665544965785147, 0.9811963610854101, 0.13981046282278295, 0.8488492385668965, 0.40353584860138925, 0.5857778447439521, 0.9429119835044599, 0.9695220144641354, 0.04707732493077673, 0.9180078361501461, 0.9879130319726654, 0.9816371188097517, 0.008610851919383787, 0.9285770960473205, 0.5985074048732648, 0.1254934881185878, 0.028960035719674104, 0.048266726199456836, 0.19306690479782734, 0.9853126826940523, 0.7344357258654114, 0.2527090669644426, 0.015794316685277664, 0.9670799392014287, 0.2620572591927317, 0.36396841554546067, 0.3494096789236422, 0.9746455924226273, 0.21558477740691231, 0.4176955062258926, 0.36379931187416453, 0.9785224098803882, 0.9897860229772771, 0.9916819130828843, 0.9885234188267835, 0.10102533834202351, 0.35856880650971723, 0.45532546858376793, 0.07114460446621373, 0.0014228920893242748, 0.011383136714594198, 0.08611050155104943, 0.8955492161309141, 0.986930803097984, 0.6392519901255682, 0.05811381728414256, 0.023245526913657024, 0.2673235595070558, 0.9530754023487804, 0.7178497308187382, 0.15559304510356886, 0.07779652255178443, 0.049506877987499184, 0.9278797516612443, 0.9603833441887396, 0.9933284326429056, 0.9704855451518548, 0.9854377066091643, 0.9401121164862799, 0.9900758318273278, 0.511755374023235, 0.44662287187482325, 0.03721857265623527, 0.9842100454824368, 0.9390496409909612, 0.051220889508597885, 0.9270770412976789, 0.9858393311787775, 0.9544366917232381, 0.9818700198373317, 0.9307324350898429, 0.9652893394277763, 0.39879403580715816, 0.589521618149712, 0.9689157477678294, 0.9789069124069729, 0.9974024585760273, 0.9012331877733011, 0.015538503237470708, 0.0505001355217798, 0.02719238066557374, 0.9504779961525, 0.9002856493995611, 0.0692527422615047, 0.7630538840468792, 0.023478581047596286, 0.052826807357091644, 0.08804467892848607, 0.07043574314278886, 0.9892027951988144, 0.90013739495582, 0.9926430333313155, 0.9832749864538809, 0.9656335015657145, 0.9837331146236592, 0.9679826108232761, 0.9705942851513872, 0.4393663928101728, 0.5418852177992132, 0.9515969380775453, 0.9619442391545389, 0.1768812293928597, 0.7959655322678687, 0.9879486396289291, 0.9947396157394456, 0.04299105501240522, 0.8168300452356992, 0.14330351670801741, 0.9364774396971455, 0.9647604352476852, 0.03092180882204119, 0.9764700570484673, 0.9920304956087829, 0.9572450513700831, 0.982631491641483, 0.9371063456559304, 0.9718794514367747, 0.9641744916233278, 0.9548777645268315, 0.008525694326132423, 0.034102777304529694, 0.4726337061252317, 0.49750916434234915, 0.9559564433222925, 0.9651845822359817, 0.9442558556726636, 0.9713092202340579, 0.9533790646029449, 0.3378207781196774, 0.6536097663619846, 0.9833281163502728, 0.988090019984871, 0.991198632647025, 0.944656020719602, 0.8229393013517172, 0.016541493494506877, 0.09924896096704128, 0.00620306006044008, 0.0020676866868133597, 0.04342142042308056, 0.00620306006044008, 0.9488807408430443, 0.9899777122365959, 0.4019553937423139, 0.5024442421778924, 0.08221814872001876, 0.10469805330263669, 0.8637589397467527, 0.7716642679060898, 0.1810076677804408, 0.04763359678432653, 0.9827376682327298, 0.9943291747807409, 0.9842672624689682, 0.9180173688314643, 0.9678610488286261, 0.9602594771074754, 0.9731786236729578, 0.33503060340627444, 0.21643569954564632, 0.06819206971986116, 0.03854334375470414, 0.27276827887944466, 0.06819206971986116, 0.9045325516507866, 0.09545318384254532, 0.9946644612380952, 0.004420730938835979, 0.9934096687935379, 0.9941367198867584, 0.10640565534527946, 0.41143520066841394, 0.47882544905375757, 0.9900421077141814, 0.9907294657068992, 0.9569858765133354, 0.7757664012075582, 0.20687104032201553, 0.9603578645909154, 0.9762819319443234, 0.392336539293059, 0.5885048089395885, 0.946101657950299, 0.9771213784676815, 0.9869273179710211, 0.9792832597870406, 0.9820811779700922, 0.009264916773302757, 0.031183754342751203, 0.9355126302825362, 0.9604245519134892, 0.008499332317818489, 0.025497996953455466, 0.9632580176508101, 0.41499907640161526, 0.18730046811046352, 0.22769860829115174, 0.06977860576664327, 0.018362790991221914, 0.08446883855962081, 0.8834608662089999, 0.11552949788886922, 0.2171049555367852, 0.7770072092895469, 0.023609688341526824, 0.8617536244657291, 0.10624359753687072, 0.5646211695938719, 0.43629817650435554, 0.45916139840674874, 0.5332196884723533, 0.5252937270757041, 0.0032030105309494156, 0.19538364238791434, 0.2754589056616497, 0.9715505289267975, 0.5855526973953195, 0.411716740356084, 0.9463855242637564, 0.3690143817401563, 0.30844383928280744, 0.10064028592913354, 0.10157214042847737, 0.06895723295144336, 0.015841526488845094, 0.0009318544993438292, 0.03541047097506551, 0.9916740846534378, 0.9919650662276751, 0.9909657808066101], \"Term\": [\"aaa\", \"abuse\", \"according\", \"accused\", \"across\", \"across\", \"across\", \"adam\", \"adam\", \"adrian\", \"aged\", \"aged\", \"ago\", \"ago\", \"ago\", \"agreement\", \"agricultural\", \"airport\", \"airport\", \"also\", \"also\", \"also\", \"also\", \"also\", \"also\", \"also\", \"amid\", \"amount\", \"announced\", \"antrim\", \"appeal\", \"area\", \"arena\", \"argentina\", \"arm\", \"arrested\", \"art\", \"article\", \"asked\", \"attack\", \"author\", \"aviva\", \"award\", \"award\", \"back\", \"back\", \"back\", \"became\", \"belfast\", \"belfast\", \"belfast\", \"belfast\", \"belfast\", \"belfast\", \"belfast\", \"belief\", \"beltel\", \"best\", \"best\", \"bid\", \"biden\", \"big\", \"bill\", \"billion\", \"black\", \"bonus\", \"boost\", \"born\", \"bradley\", \"brand\", \"brexit\", \"business\", \"c\", \"calendar\", \"call\", \"call\", \"campaign\", \"cancer\", \"car\", \"car\", \"card\", \"card\", \"care\", \"case\", \"case\", \"case\", \"category\", \"celebrity\", \"centre\", \"ceremony\", \"challenge\", \"challenge\", \"challenge\", \"champion\", \"champion\", \"championship\", \"charge\", \"charge\", \"charged\", \"charging\", \"child\", \"christmas\", \"city\", \"city\", \"city\", \"civil\", \"close\", \"close\", \"close\", \"club\", \"club\", \"co\", \"co\", \"coalition\", \"come\", \"come\", \"come\", \"comedian\", \"committee\", \"community\", \"company\", \"concern\", \"conflict\", \"cost\", \"could\", \"council\", \"council\", \"councillor\", \"country\", \"country\", \"country\", \"country\", \"couple\", \"court\", \"craig\", \"criminal\", \"cup\", \"cup\", \"currently\", \"dancing\", \"day\", \"day\", \"day\", \"day\", \"day\", \"deal\", \"deal\", \"deal\", \"death\", \"debate\", \"december\", \"december\", \"defence\", \"delivery\", \"department\", \"derry\", \"despite\", \"despite\", \"despite\", \"died\", \"discover\", \"discus\", \"discus\", \"driving\", \"drug\", \"dup\", \"edinburgh\", \"election\", \"electric\", \"emma\", \"energy\", \"episode\", \"episode\", \"eu\", \"euro\", \"european\", \"european\", \"european\", \"event\", \"event\", \"event\", \"event\", \"every\", \"every\", \"executive\", \"executive\", \"f\", \"fan\", \"farmer\", \"father\", \"feedback\", \"festival\", \"festive\", \"final\", \"final\", \"financial\", \"fine\", \"finish\", \"first\", \"first\", \"first\", \"first\", \"first\", \"five\", \"five\", \"five\", \"flag\", \"food\", \"food\", \"food\", \"foot\", \"football\", \"forward\", \"founder\", \"four\", \"four\", \"four\", \"four\", \"four\", \"fourth\", \"friday\", \"friend\", \"full\", \"full\", \"funding\", \"game\", \"game\", \"game\", \"gareth\", \"get\", \"get\", \"girl\", \"go\", \"goal\", \"going\", \"going\", \"going\", \"going\", \"golf\", \"good\", \"good\", \"got\", \"government\", \"graduate\", \"great\", \"half\", \"half\", \"hall\", \"hall\", \"handed\", \"hanna\", \"health\", \"historic\", \"history\", \"home\", \"home\", \"home\", \"home\", \"hope\", \"hospital\", \"hotel\", \"hour\", \"hour\", \"hour\", \"illness\", \"incident\", \"include\", \"increase\", \"increasing\", \"individual\", \"instagram\", \"invasion\", \"invasion\", \"ireland\", \"ireland\", \"ireland\", \"ireland\", \"ireland\", \"ireland\", \"irish\", \"irish\", \"irish\", \"irish\", \"irish\", \"issue\", \"issue\", \"itunes\", \"january\", \"job\", \"job\", \"johnston\", \"joining\", \"jonathan\", \"jonathan\", \"jonathan\", \"journey\", \"kilcoo\", \"killed\", \"know\", \"ladbaby\", \"landed\", \"last\", \"last\", \"last\", \"last\", \"last\", \"last\", \"launch\", \"launched\", \"launched\", \"leinster\", \"leo\", \"liam\", \"life\", \"life\", \"light\", \"light\", \"like\", \"likely\", \"limelight\", \"line\", \"listen\", \"little\", \"loan\", \"long\", \"look\", \"look\", \"look\", \"loss\", \"loved\", \"low\", \"loyalist\", \"make\", \"make\", \"man\", \"man\", \"many\", \"many\", \"march\", \"mark\", \"mark\", \"market\", \"martin\", \"mary\", \"mary\", \"may\", \"may\", \"may\", \"may\", \"mcburney\", \"mcilroy\", \"mckendry\", \"menu\", \"michael\", \"michael\", \"michael\", \"million\", \"minister\", \"monday\", \"monday\", \"monday\", \"month\", \"month\", \"month\", \"month\", \"month\", \"month\", \"mother\", \"mp\", \"mr\", \"mr\", \"mr\", \"much\", \"murder\", \"must\", \"native\", \"netflix\", \"new\", \"new\", \"new\", \"new\", \"new\", \"new\", \"nh\", \"ni\", \"ni\", \"ni\", \"night\", \"nightlife\", \"nine\", \"nine\", \"northern\", \"northern\", \"northern\", \"number\", \"number\", \"number\", \"number\", \"number\", \"offer\", \"offering\", \"office\", \"office\", \"office\", \"officer\", \"officer\", \"old\", \"old\", \"old\", \"old\", \"old\", \"one\", \"one\", \"one\", \"online\", \"open\", \"open\", \"opportunity\", \"order\", \"organisation\", \"original\", \"owner\", \"p\", \"paid\", \"paid\", \"parent\", \"part\", \"part\", \"part\", \"partner\", \"party\", \"party\", \"pay\", \"pay\", \"people\", \"people\", \"people\", \"people\", \"per\", \"perfect\", \"photo\", \"photo\", \"plan\", \"plan\", \"player\", \"podcast\", \"podcast\", \"point\", \"point\", \"point\", \"police\", \"politician\", \"politician\", \"poots\", \"premium\", \"premium\", \"premium\", \"pressure\", \"prison\", \"private\", \"process\", \"profit\", \"project\", \"project\", \"property\", \"protocol\", \"province\", \"province\", \"psni\", \"public\", \"queen\", \"race\", \"rate\", \"ravenhill\", \"razorpix\", \"really\", \"recently\", \"record\", \"related\", \"release\", \"released\", \"report\", \"report\", \"reported\", \"reported\", \"reporter\", \"republic\", \"rest\", \"rest\", \"result\", \"return\", \"return\", \"reveals\", \"right\", \"right\", \"right\", \"right\", \"right\", \"rise\", \"road\", \"road\", \"road\", \"rochelle\", \"role\", \"role\", \"role\", \"rooney\", \"round\", \"round\", \"round\", \"royal\", \"rugby\", \"run\", \"russia\", \"said\", \"said\", \"said\", \"said\", \"said\", \"said\", \"sale\", \"sale\", \"sam\", \"saturday\", \"saturday\", \"saturday\", \"saturday\", \"save\", \"say\", \"say\", \"say\", \"say\", \"scarlet\", \"scheme\", \"school\", \"scotland\", \"scott\", \"scratch\", \"search\", \"season\", \"season\", \"season\", \"seat\", \"secretary\", \"secretary\", \"section\", \"sector\", \"secure\", \"security\", \"selection\", \"semi\", \"senior\", \"senior\", \"sentence\", \"september\", \"service\", \"show\", \"show\", \"show\", \"show\", \"showcase\", \"sign\", \"sign\", \"since\", \"since\", \"since\", \"since\", \"since\", \"sinn\", \"smyth\", \"social\", \"something\", \"son\", \"song\", \"soundcloud\", \"spain\", \"special\", \"special\", \"spotify\", \"squad\", \"stadium\", \"stadium\", \"staff\", \"star\", \"state\", \"state\", \"state\", \"station\", \"still\", \"still\", \"store\", \"stormont\", \"strictly\", \"strike\", \"subscribe\", \"subscriber\", \"superbike\", \"support\", \"support\", \"support\", \"sure\", \"sure\", \"sutherland\", \"taliban\", \"talking\", \"taoiseach\", \"target\", \"team\", \"team\", \"theatre\", \"thing\", \"think\", \"tie\", \"time\", \"time\", \"time\", \"time\", \"time\", \"time\", \"time\", \"tip\", \"title\", \"today\", \"today\", \"today\", \"together\", \"together\", \"told\", \"told\", \"told\", \"total\", \"tour\", \"trade\", \"tree\", \"trial\", \"turned\", \"twitter\", \"two\", \"two\", \"two\", \"two\", \"two\", \"two\", \"u\", \"u\", \"uk\", \"uk\", \"ukraine\", \"ukrainian\", \"ulster\", \"ulster\", \"ulster\", \"union\", \"unionist\", \"unlimited\", \"used\", \"used\", \"uup\", \"varadkar\", \"vehicle\", \"vehicle\", \"victory\", \"video\", \"visit\", \"wanted\", \"war\", \"war\", \"warned\", \"warned\", \"way\", \"way\", \"way\", \"weapon\", \"week\", \"week\", \"week\", \"week\", \"week\", \"week\", \"well\", \"well\", \"west\", \"west\", \"win\", \"win\", \"win\", \"woman\", \"woman\", \"working\", \"working\", \"world\", \"world\", \"world\", \"world\", \"worst\", \"would\", \"would\", \"wrong\", \"year\", \"year\", \"year\", \"year\", \"year\", \"year\", \"year\", \"year\", \"yet\", \"young\", \"zelensky\"]}, \"R\": 30, \"lambda.step\": 0.01, \"plot.opts\": {\"xlab\": \"PC1\", \"ylab\": \"PC2\"}, \"topic.order\": [3, 10, 1, 8, 4, 6, 5, 7, 9, 2]};\n",
       "\n",
       "function LDAvis_load_lib(url, callback){\n",
       "  var s = document.createElement('script');\n",
       "  s.src = url;\n",
       "  s.async = true;\n",
       "  s.onreadystatechange = s.onload = callback;\n",
       "  s.onerror = function(){console.warn(\"failed to load library \" + url);};\n",
       "  document.getElementsByTagName(\"head\")[0].appendChild(s);\n",
       "}\n",
       "\n",
       "if(typeof(LDAvis) !== \"undefined\"){\n",
       "   // already loaded: just create the visualization\n",
       "   !function(LDAvis){\n",
       "       new LDAvis(\"#\" + \"ldavis_el2821405382299378087666808128\", ldavis_el2821405382299378087666808128_data);\n",
       "   }(LDAvis);\n",
       "}else if(typeof define === \"function\" && define.amd){\n",
       "   // require.js is available: use it to load d3/LDAvis\n",
       "   require.config({paths: {d3: \"https://d3js.org/d3.v5\"}});\n",
       "   require([\"d3\"], function(d3){\n",
       "      window.d3 = d3;\n",
       "      LDAvis_load_lib(\"https://cdn.jsdelivr.net/gh/bmabey/pyLDAvis@3.4.0/pyLDAvis/js/ldavis.v3.0.0.js\", function(){\n",
       "        new LDAvis(\"#\" + \"ldavis_el2821405382299378087666808128\", ldavis_el2821405382299378087666808128_data);\n",
       "      });\n",
       "    });\n",
       "}else{\n",
       "    // require.js not available: dynamically load d3 & LDAvis\n",
       "    LDAvis_load_lib(\"https://d3js.org/d3.v5.js\", function(){\n",
       "         LDAvis_load_lib(\"https://cdn.jsdelivr.net/gh/bmabey/pyLDAvis@3.4.0/pyLDAvis/js/ldavis.v3.0.0.js\", function(){\n",
       "                 new LDAvis(\"#\" + \"ldavis_el2821405382299378087666808128\", ldavis_el2821405382299378087666808128_data);\n",
       "            })\n",
       "         });\n",
       "}\n",
       "</script>"
      ],
      "text/plain": [
       "PreparedData(topic_coordinates=              x         y  topics  cluster       Freq\n",
       "topic                                                \n",
       "2     -0.191306 -0.258641       1        1  31.634842\n",
       "9     -0.211361  0.121755       2        1  16.214818\n",
       "0     -0.217493  0.150715       3        1  16.191482\n",
       "7      0.023659  0.018650       4        1   8.699479\n",
       "3      0.031939  0.003558       5        1   6.767034\n",
       "5      0.049546 -0.153976       6        1   6.587105\n",
       "4      0.156125  0.081266       7        1   4.520211\n",
       "6      0.101811  0.089093       8        1   4.308156\n",
       "8      0.119128 -0.084004       9        1   2.793946\n",
       "1      0.137952  0.031584      10        1   2.282926, topic_info=          Term        Freq       Total Category  logprob  loglift\n",
       "89    northern  704.000000  704.000000  Default  30.0000  30.0000\n",
       "75     ireland  863.000000  863.000000  Default  29.0000  29.0000\n",
       "487     ulster  281.000000  281.000000  Default  28.0000  28.0000\n",
       "7      belfast  593.000000  593.000000  Default  27.0000  27.0000\n",
       "274       club  186.000000  186.000000  Default  26.0000  26.0000\n",
       "...        ...         ...         ...      ...      ...      ...\n",
       "1704    monday   21.518988   70.111690  Topic10  -4.7167   2.5986\n",
       "1049     light   16.969410   46.580556  Topic10  -4.9542   2.7699\n",
       "365      close   17.241088   72.025866  Topic10  -4.9383   2.3500\n",
       "621     people   18.518028  347.626376  Topic10  -4.8669   0.8473\n",
       "1047      full   16.735191   73.079952  Topic10  -4.9681   2.3057\n",
       "\n",
       "[499 rows x 6 columns], token_table=      Topic      Freq       Term\n",
       "term                            \n",
       "3496     10  0.951816        aaa\n",
       "3154      7  0.979807      abuse\n",
       "639       8  0.987374  according\n",
       "3155      4  0.969127    accused\n",
       "2         1  0.129737     across\n",
       "...     ...       ...        ...\n",
       "56        7  0.000932       year\n",
       "56        8  0.035410       year\n",
       "1312      1  0.991674        yet\n",
       "806       1  0.991965      young\n",
       "3224      2  0.990966   zelensky\n",
       "\n",
       "[709 rows x 3 columns], R=30, lambda_step=0.01, plot_opts={'xlab': 'PC1', 'ylab': 'PC2'}, topic_order=[3, 10, 1, 8, 4, 6, 5, 7, 9, 2])"
      ]
     },
     "execution_count": 83,
     "metadata": {},
     "output_type": "execute_result"
    }
   ],
   "source": [
    "#Creating Topic Distance Visualization\n",
    "from pyLDAvis import gensim\n",
    "pyLDAvis.enable_notebook()\n",
    "pyLDAvis.gensim.prepare(lda_model, corpus, id2word)"
   ]
  },
  {
   "cell_type": "code",
   "execution_count": 84,
   "metadata": {
    "colab": {
     "base_uri": "https://localhost:8080/",
     "height": 449
    },
    "id": "tgbqcwdv24yv",
    "outputId": "6c8b26ce-ee2d-46cf-8502-ff66b464f567"
   },
   "outputs": [
    {
     "data": {
      "image/png": "[encoded data removed]",
      "text/plain": [
       "<Figure size 640x480 with 1 Axes>"
      ]
     },
     "metadata": {},
     "output_type": "display_data"
    }
   ],
   "source": [
    "def compute_coherence_values(dictionary, corpus, texts, limit, start=2, step=3):\n",
    "    \"\"\"\n",
    "    Compute c_v coherence for various number of topics\n",
    "\n",
    "    Parameters:\n",
    "    ----------\n",
    "    dictionary : Gensim dictionary\n",
    "    corpus : Gensim corpus\n",
    "    texts : List of input texts\n",
    "    limit : Max num of topics\n",
    "\n",
    "    Returns:\n",
    "    -------\n",
    "    model_list : List of LDA topic models\n",
    "    coherence_values : Coherence values corresponding to the LDA model with respective number of topics\n",
    "    \"\"\"\n",
    "    coherence_values = []\n",
    "    model_list = []\n",
    "    for num_topics in range(start, limit, step):\n",
    "        model = lda_model = LdaModel(corpus=corpus,\n",
    "                   id2word=id2word,\n",
    "                   num_topics=num_topics,\n",
    "                   passes=5,\n",
    "                   random_state=0,\n",
    "                   chunksize=100,\n",
    "                   alpha='auto',\n",
    "                   per_word_topics=True)\n",
    "        model_list.append(model)\n",
    "        coherencemodel = CoherenceModel(model=model, texts=texts, dictionary=dictionary, coherence='c_v')\n",
    "        coherence_values.append(coherencemodel.get_coherence())\n",
    "\n",
    "    return model_list, coherence_values\n",
    "\n",
    "model_list, coherence_values = compute_coherence_values(dictionary=id2word, corpus=corpus, texts=tweets, start=1, limit=55, step=2)\n",
    "\n",
    "# Show graph\n",
    "limit=55; start=1; step=2;\n",
    "x = range(start, limit, step)\n",
    "plt.plot(x, coherence_values)\n",
    "plt.xlabel(\"Num Topics\")\n",
    "plt.ylabel(\"Coherence score\")\n",
    "plt.legend((\"coherence_values\"), loc='best')\n",
    "plt.show()"
   ]
  },
  {
   "cell_type": "code",
   "execution_count": 64,
   "metadata": {
    "id": "cI1FGug6HZYR"
   },
   "outputs": [],
   "source": []
  },
  {
   "cell_type": "code",
   "execution_count": 91,
   "metadata": {
    "colab": {
     "base_uri": "https://localhost:8080/"
    },
    "id": "QFCzadNKHZdh",
    "outputId": "9f8f7ff8-25fe-4498-8d07-ae1c951d6bfd"
   },
   "outputs": [
    {
     "name": "stdout",
     "output_type": "stream",
     "text": [
      "range(1, 55, 2)\n",
      "The 53 topics gives the highest coherence score \n",
      "of 0.4548001226235598\n"
     ]
    }
   ],
   "source": [
    "best_result_index = coherence_values.index(max(coherence_values))\n",
    "optimal_model = model_list[best_result_index]\n",
    "# Select the model and print the topics\n",
    "model_topics = optimal_model.show_topics(formatted=False)\n",
    "print(f'''The {x[best_result_index]} topics gives the highest coherence score\n",
    "of {coherence_values[best_result_index]}''')"
   ]
  },
  {
   "cell_type": "code",
   "execution_count": 86,
   "metadata": {
    "colab": {
     "base_uri": "https://localhost:8080/"
    },
    "id": "p5dO5txsRLU3",
    "outputId": "35129aca-3ec8-494d-aa35-c2711a253c1c"
   },
   "outputs": [
    {
     "name": "stdout",
     "output_type": "stream",
     "text": [
      "The 13 topics gives the highest coherence score \n",
      "of 0.44992258868178336\n"
     ]
    }
   ],
   "source": [
    "#between the first 20 values we can get a coherence value very close to the max ones and lesser topics\n",
    "#so easier to model as well\n",
    "best_result_index = coherence_values.index(max(coherence_values[0:20]))\n",
    "optimal_model = model_list[best_result_index]\n",
    "# Select the model and print the topics\n",
    "model_topics = optimal_model.show_topics(formatted=False)\n",
    "print(f'''The {x[best_result_index]} topics gives the highest coherence score\n",
    "of {coherence_values[best_result_index]}''')"
   ]
  },
  {
   "cell_type": "code",
   "execution_count": 92,
   "metadata": {
    "colab": {
     "base_uri": "https://localhost:8080/"
    },
    "id": "cYmsyN9EHZfd",
    "outputId": "c4156644-f791-4ea3-f686-2e4c2855cf2a"
   },
   "outputs": [
    {
     "data": {
      "text/plain": [
       "0.010840829210347019"
      ]
     },
     "execution_count": 92,
     "metadata": {},
     "output_type": "execute_result"
    }
   ],
   "source": [
    "#only 1% differnece in coherence between 53 and 13 topics\n",
    "(0.4548001226235598 - 0.44992258868178336)  / 0.44992258868178336"
   ]
  },
  {
   "cell_type": "code",
   "execution_count": 101,
   "metadata": {
    "colab": {
     "base_uri": "https://localhost:8080/"
    },
    "id": "u57-vQF4Lw8d",
    "outputId": "7ddda56e-2251-4402-8160-1a123851d69f"
   },
   "outputs": [
    {
     "name": "stdout",
     "output_type": "stream",
     "text": [
      "[(0,\n",
      "  '0.081*\"ireland\" + 0.074*\"northern\" + 0.025*\"said\" + 0.023*\"ni\" + 0.022*\"uk\" '\n",
      "  '+ 0.016*\"mr\" + 0.016*\"government\" + 0.014*\"protocol\" + 0.014*\"may\" + '\n",
      "  '0.012*\"office\"'),\n",
      " (1,\n",
      "  '0.025*\"airport\" + 0.024*\"used\" + 0.023*\"weapon\" + 0.022*\"operation\" + '\n",
      "  '0.021*\"track\" + 0.018*\"building\" + 0.017*\"air\" + 0.015*\"station\" + '\n",
      "  '0.014*\"military\" + 0.012*\"risk\"'),\n",
      " (2,\n",
      "  '0.011*\"premium\" + 0.011*\"ulster\" + 0.011*\"back\" + 0.011*\"belfast\" + '\n",
      "  '0.010*\"time\" + 0.010*\"day\" + 0.010*\"club\" + 0.010*\"week\" + 0.010*\"last\" + '\n",
      "  '0.009*\"since\"'),\n",
      " (3,\n",
      "  '0.040*\"case\" + 0.027*\"agreement\" + 0.026*\"amid\" + 0.025*\"dr\" + 0.022*\"eu\" + '\n",
      "  '0.019*\"unionist\" + 0.016*\"loyalist\" + 0.013*\"instead\" + 0.013*\"shortage\" + '\n",
      "  '0.012*\"visitor\"'),\n",
      " (4,\n",
      "  '0.035*\"child\" + 0.022*\"head\" + 0.022*\"opportunity\" + 0.019*\"martin\" + '\n",
      "  '0.018*\"must\" + 0.016*\"mr\" + 0.015*\"varadkar\" + 0.013*\"continue\" + '\n",
      "  '0.013*\"sign\" + 0.012*\"taoiseach\"'),\n",
      " (5,\n",
      "  '0.023*\"return\" + 0.019*\"title\" + 0.018*\"championship\" + 0.015*\"action\" + '\n",
      "  '0.013*\"charge\" + 0.012*\"win\" + 0.012*\"race\" + 0.012*\"line\" + 0.012*\"series\" '\n",
      "  '+ 0.011*\"world\"'),\n",
      " (6,\n",
      "  '0.022*\"recently\" + 0.020*\"wanted\" + 0.019*\"soldier\" + 0.018*\"founder\" + '\n",
      "  '0.016*\"rock\" + 0.014*\"native\" + 0.014*\"drama\" + 0.013*\"australia\" + '\n",
      "  '0.011*\"solution\" + 0.010*\"sporting\"'),\n",
      " (7,\n",
      "  '0.031*\"man\" + 0.017*\"court\" + 0.016*\"police\" + 0.012*\"old\" + 0.011*\"murder\" '\n",
      "  '+ 0.010*\"death\" + 0.009*\"attack\" + 0.009*\"belfast\" + 0.009*\"year\" + '\n",
      "  '0.009*\"prison\"'),\n",
      " (8,\n",
      "  '0.049*\"ulster\" + 0.038*\"rugby\" + 0.026*\"podcast\" + 0.015*\"adam\" + '\n",
      "  '0.015*\"scotland\" + 0.014*\"low\" + 0.013*\"province\" + 0.013*\"bradley\" + '\n",
      "  '0.012*\"round\" + 0.012*\"james\"'),\n",
      " (9,\n",
      "  '0.031*\"job\" + 0.021*\"service\" + 0.020*\"health\" + 0.020*\"school\" + '\n",
      "  '0.016*\"department\" + 0.014*\"hour\" + 0.014*\"hospital\" + 0.014*\"announced\" + '\n",
      "  '0.014*\"executive\" + 0.012*\"concern\"'),\n",
      " (10,\n",
      "  '0.032*\"year\" + 0.020*\"new\" + 0.018*\"one\" + 0.013*\"first\" + 0.012*\"time\" + '\n",
      "  '0.011*\"world\" + 0.011*\"show\" + 0.011*\"say\" + 0.009*\"said\" + 0.009*\"life\"'),\n",
      " (11,\n",
      "  '0.048*\"ukraine\" + 0.028*\"war\" + 0.026*\"russia\" + 0.025*\"parent\" + '\n",
      "  '0.024*\"zelensky\" + 0.022*\"ukrainian\" + 0.015*\"invasion\" + 0.014*\"funding\" + '\n",
      "  '0.014*\"armagh\" + 0.014*\"arm\"'),\n",
      " (12,\n",
      "  '0.026*\"year\" + 0.022*\"belfast\" + 0.019*\"said\" + 0.016*\"number\" + '\n",
      "  '0.015*\"city\" + 0.012*\"company\" + 0.011*\"food\" + 0.011*\"car\" + 0.011*\"last\" '\n",
      "  '+ 0.011*\"road\"')]\n"
     ]
    }
   ],
   "source": [
    "optimal_model  = LdaModel(corpus=bag_of_words_documents,\n",
    "                   id2word=vocabulary,\n",
    "                   num_topics=13,\n",
    "                   passes = 5 ,\n",
    "                   random_state=0,\n",
    "                   chunksize=100,\n",
    "                   alpha='auto',\n",
    "                   per_word_topics=True)\n",
    "\n",
    "pprint(optimal_model.print_topics())"
   ]
  },
  {
   "cell_type": "code",
   "execution_count": 102,
   "metadata": {
    "colab": {
     "base_uri": "https://localhost:8080/",
     "height": 881
    },
    "id": "wO6A80EzLw-n",
    "outputId": "44ce15c9-daa8-490e-98d1-bc9ad73af0ec"
   },
   "outputs": [
    {
     "data": {
      "text/html": [
       "\n",
       "<link rel=\"stylesheet\" type=\"text/css\" href=\"https://cdn.jsdelivr.net/gh/bmabey/pyLDAvis@3.4.0/pyLDAvis/js/ldavis.v1.0.0.css\">\n",
       "\n",
       "\n",
       "<div id=\"ldavis_el2821405384459895841878081756\" style=\"background-color:white;\"></div>\n",
       "<script type=\"text/javascript\">\n",
       "\n",
       "var ldavis_el2821405384459895841878081756_data = {\"mdsDat\": {\"x\": [-0.2956760923535516, -0.2336172720088962, -0.2090961689119448, -0.09506157381874096, -0.009140362568256594, -0.0161326812823682, 0.0211941072002573, 0.12012603315920342, 0.14807941550135548, 0.10436050676073157, 0.14899774342676536, 0.15757093665516472, 0.158395408240281], \"y\": [-0.07780568151294985, -0.20256210651876994, 0.13932535802907334, 0.2717870564057771, -0.019792885118168797, 0.11601501708253333, -0.13527343842278283, 0.025767383530209062, -0.011991458353401804, -0.08540983460907237, 0.004133050744406028, -0.011236234166786254, -0.01295622709006648], \"topics\": [1, 2, 3, 4, 5, 6, 7, 8, 9, 10, 11, 12, 13], \"cluster\": [1, 1, 1, 1, 1, 1, 1, 1, 1, 1, 1, 1, 1], \"Freq\": [26.98753929068435, 20.06406267052901, 13.111193566121267, 9.939121489824068, 6.926541799944247, 6.4898549404184065, 5.3316812365316055, 3.437889684110259, 2.016846223221302, 2.0065361568357343, 1.7509042385714289, 1.1270431706490314, 0.8107855325592896]}, \"tinfo\": {\"Term\": [\"ireland\", \"northern\", \"ulster\", \"year\", \"said\", \"man\", \"job\", \"ni\", \"uk\", \"world\", \"belfast\", \"mr\", \"number\", \"child\", \"new\", \"one\", \"service\", \"city\", \"show\", \"return\", \"government\", \"back\", \"health\", \"school\", \"ukraine\", \"old\", \"first\", \"final\", \"case\", \"time\", \"show\", \"life\", \"star\", \"derry\", \"ago\", \"university\", \"every\", \"book\", \"history\", \"think\", \"know\", \"west\", \"tour\", \"award\", \"couple\", \"online\", \"released\", \"hit\", \"future\", \"friend\", \"tv\", \"got\", \"girl\", \"film\", \"different\", \"great\", \"never\", \"stand\", \"going\", \"celebrity\", \"street\", \"event\", \"open\", \"new\", \"like\", \"first\", \"one\", \"say\", \"world\", \"support\", \"year\", \"top\", \"part\", \"time\", \"woman\", \"made\", \"premium\", \"christmas\", \"people\", \"three\", \"said\", \"old\", \"two\", \"former\", \"also\", \"belfast\", \"cup\", \"night\", \"friday\", \"bank\", \"search\", \"came\", \"ahead\", \"player\", \"rate\", \"full\", \"football\", \"park\", \"however\", \"another\", \"ground\", \"side\", \"performance\", \"little\", \"united\", \"limelight\", \"international\", \"access\", \"la\", \"arena\", \"benefit\", \"welcome\", \"liam\", \"league\", \"february\", \"always\", \"saturday\", \"recent\", \"european\", \"game\", \"still\", \"since\", \"record\", \"club\", \"hope\", \"back\", \"day\", \"due\", \"ulster\", \"u\", \"monday\", \"week\", \"premium\", \"last\", \"would\", \"time\", \"final\", \"belfast\", \"could\", \"champion\", \"team\", \"well\", \"two\", \"people\", \"christmas\", \"food\", \"car\", \"road\", \"company\", \"market\", \"area\", \"million\", \"december\", \"cost\", \"reported\", \"price\", \"centre\", \"sale\", \"increase\", \"half\", \"property\", \"wednesday\", \"thousand\", \"according\", \"mother\", \"giant\", \"rest\", \"biggest\", \"demand\", \"money\", \"expected\", \"financial\", \"number\", \"global\", \"nearly\", \"firm\", \"member\", \"city\", \"house\", \"tuesday\", \"belfast\", \"period\", \"around\", \"year\", \"across\", \"month\", \"said\", \"home\", \"last\", \"co\", \"business\", \"also\", \"christmas\", \"following\", \"family\", \"government\", \"protocol\", \"office\", \"minister\", \"report\", \"energy\", \"staff\", \"dup\", \"trade\", \"union\", \"brexit\", \"secretary\", \"figure\", \"committee\", \"sector\", \"poots\", \"bill\", \"political\", \"twitter\", \"worker\", \"mp\", \"border\", \"payment\", \"bos\", \"post\", \"president\", \"radio\", \"interest\", \"stephen\", \"joe\", \"northern\", \"ireland\", \"ni\", \"uk\", \"party\", \"may\", \"mr\", \"deal\", \"said\", \"council\", \"business\", \"leader\", \"would\", \"good\", \"court\", \"murder\", \"attack\", \"prison\", \"hotel\", \"stormont\", \"killed\", \"private\", \"rooney\", \"video\", \"police\", \"arrested\", \"sinn\", \"died\", \"drug\", \"using\", \"accused\", \"asked\", \"councillor\", \"charged\", \"trial\", \"sentence\", \"defence\", \"use\", \"process\", \"likely\", \"bomb\", \"abuse\", \"brother\", \"offence\", \"man\", \"psni\", \"death\", \"officer\", \"state\", \"security\", \"old\", \"woman\", \"call\", \"belfast\", \"year\", \"irish\", \"health\", \"school\", \"department\", \"hospital\", \"announced\", \"executive\", \"concern\", \"community\", \"royal\", \"include\", \"known\", \"queen\", \"raised\", \"investment\", \"nijobfinder\", \"store\", \"judge\", \"care\", \"check\", \"author\", \"trust\", \"medical\", \"june\", \"raise\", \"agency\", \"clear\", \"farm\", \"director\", \"patient\", \"statement\", \"job\", \"hour\", \"body\", \"service\", \"plan\", \"high\", \"currently\", \"co\", \"five\", \"antrim\", \"week\", \"title\", \"championship\", \"return\", \"charge\", \"race\", \"line\", \"senior\", \"electric\", \"series\", \"spent\", \"election\", \"cancer\", \"kilcoo\", \"boost\", \"single\", \"injury\", \"nine\", \"p\", \"brand\", \"goal\", \"argentina\", \"crown\", \"nh\", \"door\", \"calendar\", \"winner\", \"spain\", \"screen\", \"lived\", \"driving\", \"action\", \"win\", \"vehicle\", \"pay\", \"special\", \"point\", \"final\", \"world\", \"team\", \"champion\", \"season\", \"child\", \"head\", \"opportunity\", \"martin\", \"must\", \"varadkar\", \"continue\", \"sign\", \"taoiseach\", \"paid\", \"leo\", \"launch\", \"simon\", \"buy\", \"civil\", \"f\", \"increasing\", \"link\", \"ready\", \"loss\", \"emma\", \"related\", \"illness\", \"coalition\", \"fine\", \"often\", \"authority\", \"limit\", \"rising\", \"bad\", \"farmer\", \"special\", \"mr\", \"given\", \"young\", \"leader\", \"case\", \"agreement\", \"amid\", \"dr\", \"eu\", \"unionist\", \"loyalist\", \"instead\", \"shortage\", \"visitor\", \"individual\", \"worst\", \"estate\", \"ian\", \"display\", \"pair\", \"mini\", \"enjoyed\", \"arrangement\", \"widespread\", \"fun\", \"paisley\", \"commission\", \"dan\", \"tom\", \"housing\", \"mckibbin\", \"hole\", \"dp\", \"lawyer\", \"legal\", \"continued\", \"working\", \"state\", \"rugby\", \"scotland\", \"low\", \"province\", \"bradley\", \"james\", \"reporter\", \"discus\", \"subscribe\", \"listen\", \"spotify\", \"craig\", \"debate\", \"mckendry\", \"wrong\", \"aviva\", \"enniskillen\", \"robert\", \"gareth\", \"itunes\", \"soundcloud\", \"hanna\", \"edinburgh\", \"leinster\", \"refugee\", \"heineken\", \"prop\", \"epcr\", \"pro\", \"developed\", \"podcast\", \"adam\", \"ulster\", \"jonathan\", \"round\", \"sure\", \"usual\", \"right\", \"stadium\", \"make\", \"leave\", \"look\", \"ukraine\", \"russia\", \"parent\", \"zelensky\", \"ukrainian\", \"invasion\", \"funding\", \"armagh\", \"arm\", \"bid\", \"biden\", \"russian\", \"putin\", \"hold\", \"ceremony\", \"volodymyr\", \"leg\", \"washington\", \"flight\", \"beginning\", \"portadown\", \"district\", \"sharing\", \"congress\", \"missed\", \"showed\", \"provincial\", \"looked\", \"fighting\", \"jeffrey\", \"war\", \"port\", \"council\", \"force\", \"airport\", \"used\", \"weapon\", \"operation\", \"track\", \"building\", \"air\", \"station\", \"risk\", \"tree\", \"reveals\", \"euro\", \"cliftonville\", \"fit\", \"reveal\", \"missile\", \"solitude\", \"assistance\", \"effect\", \"ruled\", \"intelligence\", \"clinic\", \"steal\", \"stroke\", \"anti\", \"source\", \"immediate\", \"secret\", \"tank\", \"survivor\", \"military\", \"august\", \"east\", \"glentoran\", \"recently\", \"wanted\", \"soldier\", \"founder\", \"rock\", \"native\", \"drama\", \"australia\", \"solution\", \"sporting\", \"legacy\", \"curran\", \"connor\", \"landed\", \"perhaps\", \"recall\", \"symptom\", \"buyer\", \"paddy\", \"study\", \"army\", \"established\", \"value\", \"newtownards\", \"sa\", \"paying\", \"mask\", \"elite\", \"typical\", \"identified\"], \"Freq\": [991.0, 798.0, 350.0, 1339.0, 843.0, 238.0, 243.0, 270.0, 262.0, 388.0, 751.0, 225.0, 229.0, 128.0, 666.0, 589.0, 177.0, 259.0, 316.0, 132.0, 164.0, 297.0, 135.0, 135.0, 88.0, 237.0, 421.0, 215.0, 85.0, 585.0, 315.3874900233933, 242.61998647738366, 181.2742132732262, 135.95659689068466, 130.9703637997404, 121.02172160995485, 117.23581248800593, 113.80286660203306, 106.54246859064988, 113.4399049702606, 104.81871866953081, 137.11108715391657, 96.00368267652559, 103.18141845405283, 86.81046895006565, 86.60208516588747, 86.06477402436967, 100.95397451423611, 76.57941511848342, 75.87082020050089, 73.69879783208549, 73.0367186296459, 71.29687195344003, 70.1289864884226, 69.65806866786549, 87.46466862204318, 68.78236148954522, 67.86801150468993, 105.20370987932625, 66.37938279968675, 129.04709622157654, 178.7977364420828, 125.7275228738992, 572.5076135865336, 169.73540237874337, 369.2390351836148, 500.6254779204779, 301.4242204417252, 319.1310748102888, 129.23020591518855, 898.9081710433265, 154.8725950051978, 195.32729625925367, 331.37051501338783, 173.8588467484527, 144.80701793477337, 229.27412776832557, 212.74048913538607, 204.64324526020525, 137.91450791706498, 251.76951184923118, 147.21734643876033, 154.5941628573572, 129.49475949508926, 138.03427678008856, 137.93470335228292, 179.27438270193457, 130.25087572977205, 125.3492900299925, 100.17988980926815, 99.16753335581714, 99.15876099138836, 97.97034682669668, 95.0159897374617, 94.0554306008006, 94.61486328229071, 90.22699748280846, 89.45939098147309, 90.86890614277208, 93.52417581717263, 83.46344543505813, 82.57148008400344, 82.50362471291125, 81.73967090203949, 79.85760983375542, 78.83727358078755, 77.675703245069, 70.0776689548133, 69.02541350377797, 68.24545578900164, 67.55191226344124, 66.1724899549779, 63.873884336466205, 63.556695920506854, 60.49899033586346, 60.05498168847076, 113.69162503734643, 88.25997936328315, 106.23547955737732, 172.15858723985377, 177.03058713143076, 193.31223334862196, 108.99376297927319, 213.07588797584677, 97.25968685269696, 230.02055166258103, 214.70603154846395, 114.06233866005893, 233.94135551353705, 184.2634262167768, 94.33825320526876, 205.71405279763218, 242.28809781632785, 203.0693473735482, 150.5332124028296, 219.87371230258313, 134.04365819501828, 229.61166693224746, 129.5409640158134, 116.36651684677118, 114.88032472231693, 113.85493279130846, 140.8818097997572, 118.70228932916463, 99.70736359333678, 158.60254059726668, 155.5397284717452, 150.69598479596527, 168.2463301066472, 127.29226462906698, 118.0621248642507, 117.31145100827243, 113.26353305190051, 110.94214308962263, 106.27761718353474, 99.84165590137225, 97.39004739879543, 84.20619867393121, 82.3104637821167, 79.8929347068108, 73.72787173778207, 102.24360893487658, 71.47494944871869, 73.12634443324698, 63.64283824869194, 62.92114831188593, 61.96913754878734, 60.43948145850493, 60.331742344085654, 59.96038789022918, 56.688428318658396, 55.783994932314286, 225.32619896032872, 51.37126561771256, 50.34480703647814, 81.7913074247875, 103.52099233821916, 205.4757593083368, 83.98712399430082, 115.6223286759026, 308.2429059654607, 67.6880797765676, 119.20683847908022, 354.2787113758732, 124.54045864178913, 131.32566810782455, 262.78580101269694, 140.2440296877156, 154.54721099275125, 125.88634188695795, 112.99915853322638, 122.29272193293727, 124.06281909476375, 90.69644770525589, 94.61004884019398, 163.97429266130763, 144.13011316748708, 124.4964909494713, 118.29765392605032, 112.69876760241853, 92.51873628041142, 86.04557783257378, 83.42315163372774, 81.71641938210735, 75.44321523783324, 73.3261469850417, 65.56274727800064, 73.4673411186132, 59.55161797888938, 59.49154097241844, 58.55527023591688, 56.0062406006673, 55.99477924612868, 54.390018909696984, 51.908738072701006, 51.18470723639395, 49.71249868449441, 49.368965310180926, 45.87094039630584, 45.17170510317935, 85.52522258217618, 43.37185300381178, 42.222235249039, 41.7619179877352, 41.09760812433256, 770.7178983041011, 846.089716618917, 245.93581432951638, 235.0643440073812, 117.54952498217929, 143.20910797979653, 168.0113231318593, 87.65204030208376, 262.7971933747639, 72.78978485566721, 108.37668592873318, 71.8260897801994, 94.36236587694437, 67.85679835355702, 124.41301174747899, 78.0146547342017, 67.27777911631719, 63.79513819662248, 56.33515535866017, 54.90126070074702, 53.61359969607953, 53.58411096477702, 52.34094817013864, 51.01497492719984, 115.78238473763885, 50.50487017917293, 49.22319801089953, 47.04448176337836, 46.98534455315101, 45.239269052375555, 44.303375710934645, 44.220215177419355, 41.40007823744151, 40.79186125822761, 40.78391466373876, 40.739885499919865, 39.90845010904606, 39.83851463932723, 39.38432495799669, 39.09002565217709, 38.281077288308516, 37.828675420793694, 37.6620518529464, 37.37369379912274, 229.3264809601748, 43.80244795397699, 69.61475087538474, 61.52388728915307, 58.54402312017219, 42.42191240080314, 87.20129184072847, 61.95095046466003, 49.26467801053253, 65.98855462428236, 64.21128415164262, 42.81680852316959, 134.97098465080333, 134.53426115978957, 107.94533659768989, 94.75511268809514, 94.24092695379426, 92.65974053649136, 82.52224363695156, 66.09007644336884, 61.89543418810638, 58.57460195942561, 57.98239349199967, 53.07400882791326, 53.03767252648645, 51.990859031455024, 51.25092646111187, 51.176228451798345, 45.789698186912126, 45.149223901394635, 43.719210510273214, 42.64526102712102, 42.24710942768319, 41.648382081289625, 41.36936960303308, 41.01870677895691, 40.47426414721028, 39.191439845978934, 38.812548715518254, 36.83158336748662, 36.60616136078225, 36.579837446006266, 215.40429540008495, 98.71322823173865, 69.14732558734372, 141.31592069258693, 71.22815684917407, 78.98303692435849, 50.21523677860312, 70.5051058505981, 52.56603306624887, 46.020979860104255, 43.389951391884125, 108.61113832931089, 100.35999741311717, 131.47041604088565, 71.04245284662571, 68.10580385289393, 67.9202677230287, 62.07377614295698, 57.92731207082233, 67.37965527085188, 56.07497519213347, 55.1108863869158, 54.73382284542395, 53.12354944757707, 52.760864982312576, 49.70335953893623, 47.548235314915395, 45.651170509155406, 42.113318629049324, 40.76697819861367, 40.05663979809308, 38.846803789448245, 38.04927784975796, 36.196980215272774, 31.89790590015814, 31.415333008939783, 30.871397880851625, 30.803848141202035, 30.384186324758613, 30.27751011404277, 29.848615444614204, 81.71567799049512, 68.49951740186593, 41.24921882224089, 51.103090400334715, 46.467481341005886, 56.16475546502612, 61.31002114867112, 62.55342403286126, 48.36803626461291, 45.16250168496585, 43.23999878638224, 127.66686068733766, 79.92343035995515, 79.23488953582347, 69.4361945312587, 64.12056921631749, 52.99834768810811, 47.31997944126941, 45.564334286589784, 44.8328258752333, 41.84482240848359, 38.00379340265938, 37.825468637241784, 35.75341874013823, 33.492095524767095, 31.848533860280504, 31.375421418112275, 30.788508131852502, 30.155739134719354, 27.453951758120777, 31.48862169443577, 25.806452663379662, 25.533413637375098, 25.509897023087156, 24.868846601309855, 24.333906044819305, 23.618091683873203, 23.308240890266255, 23.30121121080156, 23.121499741155503, 22.65050953003277, 36.56160413518307, 39.520878194377275, 56.384399373973224, 28.395974355069054, 25.007041293507825, 24.567250240537263, 84.56775794340591, 56.73614371447844, 54.84407790620676, 53.56766158997672, 46.637109697844004, 39.67781762571782, 34.83141966221799, 27.474200796310512, 27.245128498044487, 24.57461947571039, 24.155739269710722, 24.03367069943686, 23.272135103659842, 20.08040549885351, 18.38181335681051, 17.981804285525556, 16.963643822232587, 16.943452460241318, 16.2479311973191, 16.074902250040317, 15.81259664446781, 14.58349968863816, 14.0794222672488, 12.998489648430867, 15.535331102229287, 12.504890912501933, 11.583947274998813, 10.61927976862135, 10.564739734900298, 10.541983133703, 24.01946687494423, 11.643990894840513, 12.55037838333042, 12.399196525354512, 81.21817304761552, 31.312594257007888, 29.674092098066186, 28.413802768805002, 27.80484901883273, 25.23162095093345, 22.315600644558867, 21.667149991389685, 19.11775161016268, 18.821078804946172, 18.81298919641384, 18.39786703549637, 18.006324468679697, 17.966742888470396, 17.827730803389056, 16.90855395698534, 16.271825162333364, 14.66322088107961, 14.59534142486993, 13.096955106019882, 13.096955106019882, 12.663901110804602, 12.610358654331927, 11.87383504673136, 11.582212339149017, 9.970263315905934, 9.66648847242948, 9.53355343991162, 9.250702680042824, 8.849211548886979, 55.990976962887565, 31.67161297413616, 103.0678669853854, 22.88717835510962, 25.472135173841068, 18.470427358181546, 14.812296730621627, 17.634714476732604, 14.090953939032676, 15.53708075660937, 14.17405162667805, 14.157432286072261, 87.92350849922848, 48.68729127353485, 45.33771195187444, 43.78945152199282, 40.92733468010388, 28.033814621879845, 26.309338773787257, 25.742103457859155, 25.402386717911533, 25.049825286634622, 23.724010853629256, 20.868831004234817, 20.767503143591963, 20.32277611176153, 19.18762501197671, 17.571035979283348, 17.234656281551306, 16.341280935534133, 16.123294065614328, 15.925509876090299, 15.828622240516994, 15.714516704325703, 15.139127801727705, 14.086144063499823, 12.995469103604753, 12.589449699451045, 12.393886481638466, 12.301131485884149, 11.376379007603061, 10.76535832983395, 51.50480997244582, 15.87994086346671, 23.382113523274025, 15.65004924150285, 29.560574104903022, 29.042200402801246, 27.016490912940863, 25.88532099350513, 24.888299933010764, 20.996571652328615, 20.424899877001224, 17.327852217072, 14.35496210127389, 13.810141777107106, 12.67828055115566, 11.388788166537207, 10.202341378105292, 9.874333580802428, 8.66731793482468, 8.303994882428068, 8.277066557982915, 8.238498843994053, 8.069268115038641, 7.954921592978486, 7.49642498995103, 6.701619934025276, 6.64362650694496, 6.551983043905938, 6.327774090369131, 5.992229945954602, 5.93290865731891, 5.725928168244024, 5.342238119804167, 5.026960870249408, 17.177634076434252, 6.892378500925115, 7.231545091481965, 6.499217000174816, 18.684187374599595, 17.476619161199903, 15.88532664786896, 15.333092762575562, 13.748107064940651, 12.07618661559562, 11.558757186338623, 11.234927742712168, 9.493089644921634, 8.937165245977189, 7.8828870287625, 7.5613882264650485, 7.431027475939508, 6.940772417466667, 6.82178876141777, 6.798321614242977, 6.7341935684979966, 6.413490478501331, 5.5450524605599165, 5.483248292589383, 5.368519708068941, 5.367083049509872, 4.840694695458319, 4.680885030536822, 4.556850590658684, 4.168253348597416, 4.111287509271814, 4.051278468251855, 3.9311334700999603, 3.6628180887063224], \"Total\": [991.0, 798.0, 350.0, 1339.0, 843.0, 238.0, 243.0, 270.0, 262.0, 388.0, 751.0, 225.0, 229.0, 128.0, 666.0, 589.0, 177.0, 259.0, 316.0, 132.0, 164.0, 297.0, 135.0, 135.0, 88.0, 237.0, 421.0, 215.0, 85.0, 585.0, 316.282795089186, 243.50725253670942, 182.1614661020151, 136.84385370687792, 131.85860316804576, 121.90923390013226, 118.12387070243108, 114.69011885772832, 107.42973072346987, 114.39374861445877, 105.70652582290197, 138.2769894164928, 96.89589145459573, 104.16064350112381, 87.69772238840822, 87.48934791533546, 86.9520442825137, 102.01271379073613, 77.46667185413813, 76.758073401033, 74.58605371968042, 73.92397752303327, 72.18412470162556, 71.01623771388235, 70.54532509644199, 88.58700840720688, 69.66961451428588, 68.76542204942328, 106.60518031729615, 67.26663721984667, 130.85673255376037, 182.7226486927742, 131.60878673088393, 666.0659236578016, 181.95348039896749, 421.51736860317084, 589.332564328588, 348.0611292389016, 388.41966502613843, 141.15910751907822, 1339.4387873426383, 181.30904560551508, 266.027798819113, 585.1926395873965, 236.60992348315014, 198.31185675123328, 493.9985012916605, 437.20505333718427, 433.9901063413022, 194.05391203161565, 843.5353936204226, 237.92642538230905, 420.29764942067226, 186.76303288550403, 325.14028897350545, 751.1128938766764, 180.16415244280026, 131.1406410815592, 126.23905721684449, 101.06966076183463, 100.05729924212667, 100.04853677377282, 98.86018524834041, 95.90575094042794, 94.94519981557849, 95.5423103599911, 91.11682093687016, 90.3491550478826, 91.79843752752923, 94.50053526083488, 84.3532502183045, 83.46193372288118, 83.39346647852591, 82.62944627813329, 80.74902915409704, 79.72703093338012, 78.56560403429808, 70.96743645247952, 69.9151770407721, 69.13522249259921, 68.44168260491273, 67.06231321215418, 64.76364150566158, 64.44645813351116, 61.38877101753215, 60.94475198164171, 115.4171614373181, 89.82646397378433, 108.84627822957272, 181.7084501376635, 189.71091633220254, 208.66950941270184, 114.65095285095776, 239.8358432273884, 103.74511358080765, 297.0833625642516, 287.2804497425424, 130.61001565730774, 350.99778663207076, 264.39134376017523, 102.05768225465651, 332.9951908941239, 493.9985012916605, 414.1507168011912, 256.0522486489813, 585.1926395873965, 215.34859570171486, 751.1128938766764, 199.6202249993381, 162.3333439943206, 165.55661253493548, 173.72276955956374, 420.29764942067226, 433.9901063413022, 437.20505333718427, 159.49972451738796, 156.43432467641017, 151.6271549912557, 169.3137090215677, 128.18698188787133, 118.95672306198325, 118.20605077745967, 114.1581333796399, 111.83673750210141, 107.1722219344546, 100.75116253178523, 98.28464628190558, 85.10079704414512, 83.20505869900563, 80.80733001103904, 74.62246441840547, 103.54777317960237, 72.40272768608361, 74.12214556977126, 64.53744174640322, 63.81574541928429, 62.86375139932069, 61.3340890628142, 61.22634170899397, 60.85498539459176, 57.58807133393257, 56.67866509568007, 229.13802920179813, 52.2658628629217, 51.23940690371736, 84.57850091432884, 111.09922454887501, 259.5406262407605, 92.01039360599297, 135.25618788225387, 751.1128938766764, 74.48233852810776, 197.8282495339575, 1339.4387873426383, 214.28007125004223, 238.06838135359877, 843.5353936204226, 283.78165427875075, 414.1507168011912, 282.46401075914224, 222.81432762548897, 325.14028897350545, 437.20505333718427, 161.66170845698443, 242.19352619478306, 164.88149593337408, 145.0338757340222, 125.4003117452695, 119.20141774016113, 113.60253791907701, 93.46383566548097, 86.95084771857546, 84.32691680268775, 82.62018482153027, 76.34698383786454, 74.22990926416828, 66.46652897237216, 74.51430896598484, 60.45538566668885, 60.39531190450249, 59.45904070644664, 56.910005257660856, 56.89895324418057, 55.293786492229806, 52.8125076879395, 52.088471241866245, 50.6195272413401, 50.27272952833724, 46.77546983995587, 46.07558443543563, 87.2924065138243, 44.275631490996716, 43.126005415225414, 42.66627759369955, 42.001393436615196, 798.7801569842384, 991.6203143196291, 270.52881064502054, 262.24164787627245, 130.72498612962664, 178.07312773589294, 225.21917859930682, 120.78933290341054, 843.5353936204226, 97.02183366636615, 222.81432762548897, 97.30844956285056, 256.0522486489813, 162.4604303434793, 125.41996680604349, 78.91614613744466, 68.17928725465016, 64.69663630933094, 57.23665353878665, 55.802769639430124, 54.51510163446696, 54.48563617749922, 53.242443968716245, 51.91651231261331, 117.8370300335329, 51.40636128841499, 50.124698780893276, 47.94598054471894, 47.88683761865964, 46.14078953605482, 45.20487635259335, 45.121722518526056, 42.30159304756474, 41.693367152939025, 41.68541466499124, 41.64137806140895, 40.809962536461256, 40.740030855727035, 40.28585913627836, 39.991550988637094, 39.182580075021086, 38.7301737509094, 38.56357979174411, 38.27518640206721, 238.23632122228352, 44.93592692691309, 83.39853737518243, 74.68060611879193, 77.04123968890468, 46.797788495453965, 237.92642538230905, 236.60992348315014, 113.52118732910051, 751.1128938766764, 1339.4387873426383, 228.85772259206556, 135.87527032136563, 135.43869083171236, 108.84962583892614, 95.65939746468241, 95.1452223057383, 93.56502519319878, 83.42772183283978, 66.99436943509309, 62.79972247445275, 59.47889303551293, 58.8866891878996, 53.97848445084347, 53.94205207936626, 52.89515425970932, 52.15521300307393, 52.08051414694796, 46.693986926032444, 46.05351023602471, 44.62350340740414, 43.54955670928536, 43.151487340113746, 42.5526749731833, 42.27367501206128, 41.92300275967523, 41.37855590495447, 40.09573495830713, 39.71683850436877, 37.7358772076565, 37.510444834183616, 37.484131707945714, 243.07253641433397, 107.59681310586366, 75.19864140459349, 177.84928538395727, 94.26501715948024, 123.59659862517347, 69.9870578154153, 282.46401075914224, 154.64850293415796, 148.77778673129572, 332.9951908941239, 109.514362108466, 101.26349470811563, 132.68798131942006, 71.95312007948286, 69.00899603251187, 68.8235162691978, 62.976974014789484, 58.830504487486735, 68.45243675195516, 56.97818341293762, 56.01408849844482, 55.63701570953327, 54.02673991416953, 53.6640676738715, 50.60657104016632, 48.45143810631008, 46.554364904629956, 43.01651066335222, 41.67018277013108, 40.959840517145594, 39.74999741669044, 38.95247951466378, 37.100175075573084, 32.80110487458751, 32.31853763200775, 31.77461346101145, 31.70704147246714, 31.28751070309095, 31.180721609950183, 30.75182082441311, 92.69316437183721, 97.43112851684478, 58.2726702892909, 100.2495849497935, 86.81123996528294, 151.47535668586033, 215.34859570171486, 388.41966502613843, 165.55661253493548, 162.3333439943206, 128.4310201178035, 128.5751690422427, 80.83174691877787, 80.14321085428035, 70.34450293327417, 65.0288831170811, 53.90664684659809, 48.22835299543783, 46.47265290974698, 45.741125973369456, 42.75314056264288, 38.91209329738613, 38.733785765314906, 36.66173925779105, 34.40040517957065, 32.75694336691238, 32.283736886808605, 31.69684556579133, 31.064061447191257, 28.362275445869304, 32.576147525333184, 26.714780625864925, 26.441753517077867, 26.41821309702478, 25.777148868523756, 25.242241206874876, 24.52640645699887, 24.216554773657755, 24.209657741612784, 24.029811403602224, 23.55882575941383, 40.87250339965302, 86.81123996528294, 225.21917859930682, 52.29582898433598, 78.5033339131155, 97.30844956285056, 85.4908955997349, 57.6592930204188, 55.767221998237375, 54.49080069540923, 47.56027783993475, 40.600968495896794, 35.75455078242615, 28.39736397355934, 28.168263227784674, 25.4977603271055, 25.078889847317736, 24.956806820263836, 24.19527749237159, 21.00354425365938, 19.304951420979634, 18.904941648215733, 17.88679985813581, 17.866603203025708, 17.171066101631073, 16.99807253165568, 16.735729694276447, 15.506643471028017, 15.002552015493801, 13.921626518264539, 16.645149903214413, 13.428022518391062, 12.507069843874657, 11.542415347157736, 11.487864428867999, 11.465115803040172, 29.91491562555455, 29.166081468162865, 77.81070877982965, 77.04123968890468, 82.14524965504748, 32.2396796680992, 30.601194913104433, 29.34088799429216, 28.731919835200454, 26.158698256873887, 23.242696089776587, 22.594368181043016, 20.04482109179716, 19.748151390202636, 19.740058765007923, 19.3249609505606, 18.933408267826394, 18.893812961072566, 18.754819915565662, 17.83562686188437, 17.198902887760458, 15.590311079809544, 15.522418066170726, 14.024024673599845, 14.024024673599845, 13.590973979142168, 13.53743366172761, 12.800912680978682, 12.509302903436593, 10.89733443648085, 10.59362401996981, 10.460626043709144, 10.177783558308748, 9.776301868041736, 80.52227543851413, 57.014602620822004, 350.99778663207076, 60.16285224265855, 88.76636922357517, 46.107965190488194, 37.62738476478662, 121.43086250302206, 44.60930585824536, 151.2842831707755, 67.00745368116144, 124.32358067503566, 88.85829030673338, 49.6220725821224, 46.27250567243293, 44.724232117547906, 41.86211661670802, 28.968596682526513, 27.244151072292183, 26.67689490126596, 26.34159121080714, 25.984629946033408, 24.658796434274908, 21.8036130781019, 21.702290063115733, 21.25757507541503, 20.122451958531812, 18.505816058937103, 18.16946129864315, 17.276064089170223, 17.05808960513121, 16.860319695574788, 16.763404662798354, 16.649304638014613, 16.07392602083284, 15.020937447812635, 13.930273456920355, 13.524242373960053, 13.328733857927265, 13.235948124368134, 12.31116525396625, 11.700167733496976, 85.11866138191598, 20.074131169216646, 97.02183366636615, 56.447693910474435, 30.498785159286008, 29.987370511206816, 27.954711635402127, 26.82353589017064, 25.8265235127915, 21.93478070854082, 21.36311812686641, 18.266059497875897, 15.293178957934384, 14.748354442774689, 13.616502160215825, 12.326992912052896, 11.140557294746227, 10.812574306117881, 9.605537788752846, 9.242208197926571, 9.215276953264688, 9.176729968672603, 9.00749321827971, 8.893144634462583, 8.43463663263321, 7.639852105426844, 7.5818589786566415, 7.4902202609949, 7.26597612472295, 6.930436903062173, 6.871207240933901, 6.664143035697888, 6.280445411820206, 5.965196651981798, 25.47870955870902, 10.06490304598901, 59.27305561545739, 21.229753720036783, 19.631869819718982, 18.424301410915742, 16.83302297224916, 16.28078238658793, 14.695788791049036, 13.023874758615097, 12.506429738947803, 12.18261587108869, 10.440774803391045, 9.884856421487306, 8.83057033312576, 8.509060591679495, 8.3787138249302, 7.888483160573676, 7.769470853289865, 7.746010691844203, 7.681869958923037, 7.361183694812619, 6.492736094972216, 6.430925822203962, 6.3162068331606935, 6.314766672711038, 5.788373785150626, 5.628572646371548, 5.504526124542779, 5.1159473809164, 5.058971135157812, 4.998974992413236, 4.878847572993821, 4.6105255844152495], \"Category\": [\"Default\", \"Default\", \"Default\", \"Default\", \"Default\", \"Default\", \"Default\", \"Default\", \"Default\", \"Default\", \"Default\", \"Default\", \"Default\", \"Default\", \"Default\", \"Default\", \"Default\", \"Default\", \"Default\", \"Default\", \"Default\", \"Default\", \"Default\", \"Default\", \"Default\", \"Default\", \"Default\", \"Default\", \"Default\", \"Default\", \"Topic1\", \"Topic1\", \"Topic1\", \"Topic1\", \"Topic1\", \"Topic1\", \"Topic1\", \"Topic1\", \"Topic1\", \"Topic1\", \"Topic1\", \"Topic1\", \"Topic1\", \"Topic1\", \"Topic1\", \"Topic1\", \"Topic1\", \"Topic1\", \"Topic1\", \"Topic1\", \"Topic1\", \"Topic1\", \"Topic1\", \"Topic1\", \"Topic1\", \"Topic1\", \"Topic1\", \"Topic1\", \"Topic1\", \"Topic1\", \"Topic1\", \"Topic1\", \"Topic1\", \"Topic1\", \"Topic1\", \"Topic1\", \"Topic1\", \"Topic1\", \"Topic1\", \"Topic1\", \"Topic1\", \"Topic1\", \"Topic1\", \"Topic1\", \"Topic1\", \"Topic1\", \"Topic1\", \"Topic1\", \"Topic1\", \"Topic1\", \"Topic1\", \"Topic1\", \"Topic1\", \"Topic1\", \"Topic1\", \"Topic1\", \"Topic2\", \"Topic2\", \"Topic2\", \"Topic2\", \"Topic2\", \"Topic2\", \"Topic2\", \"Topic2\", \"Topic2\", \"Topic2\", \"Topic2\", \"Topic2\", \"Topic2\", \"Topic2\", \"Topic2\", \"Topic2\", \"Topic2\", \"Topic2\", \"Topic2\", \"Topic2\", \"Topic2\", \"Topic2\", \"Topic2\", \"Topic2\", \"Topic2\", \"Topic2\", \"Topic2\", \"Topic2\", \"Topic2\", \"Topic2\", \"Topic2\", \"Topic2\", \"Topic2\", \"Topic2\", \"Topic2\", \"Topic2\", \"Topic2\", \"Topic2\", \"Topic2\", \"Topic2\", \"Topic2\", \"Topic2\", \"Topic2\", \"Topic2\", \"Topic2\", \"Topic2\", \"Topic2\", \"Topic2\", \"Topic2\", \"Topic2\", \"Topic2\", \"Topic2\", \"Topic2\", \"Topic2\", \"Topic2\", \"Topic2\", \"Topic2\", \"Topic2\", \"Topic2\", \"Topic3\", \"Topic3\", \"Topic3\", \"Topic3\", \"Topic3\", \"Topic3\", \"Topic3\", \"Topic3\", \"Topic3\", \"Topic3\", \"Topic3\", \"Topic3\", \"Topic3\", \"Topic3\", \"Topic3\", \"Topic3\", \"Topic3\", \"Topic3\", \"Topic3\", \"Topic3\", \"Topic3\", \"Topic3\", \"Topic3\", \"Topic3\", \"Topic3\", \"Topic3\", \"Topic3\", \"Topic3\", \"Topic3\", \"Topic3\", \"Topic3\", \"Topic3\", \"Topic3\", \"Topic3\", \"Topic3\", \"Topic3\", \"Topic3\", \"Topic3\", \"Topic3\", \"Topic3\", \"Topic3\", \"Topic3\", \"Topic3\", \"Topic3\", \"Topic3\", \"Topic3\", \"Topic3\", \"Topic3\", \"Topic3\", \"Topic3\", \"Topic4\", \"Topic4\", \"Topic4\", \"Topic4\", \"Topic4\", \"Topic4\", \"Topic4\", \"Topic4\", \"Topic4\", \"Topic4\", \"Topic4\", \"Topic4\", \"Topic4\", \"Topic4\", \"Topic4\", \"Topic4\", \"Topic4\", \"Topic4\", \"Topic4\", \"Topic4\", \"Topic4\", \"Topic4\", \"Topic4\", \"Topic4\", \"Topic4\", \"Topic4\", \"Topic4\", \"Topic4\", \"Topic4\", \"Topic4\", \"Topic4\", \"Topic4\", \"Topic4\", \"Topic4\", \"Topic4\", \"Topic4\", \"Topic4\", \"Topic4\", \"Topic4\", \"Topic4\", \"Topic4\", \"Topic4\", \"Topic4\", \"Topic4\", \"Topic5\", \"Topic5\", \"Topic5\", \"Topic5\", \"Topic5\", \"Topic5\", \"Topic5\", \"Topic5\", \"Topic5\", \"Topic5\", \"Topic5\", \"Topic5\", \"Topic5\", \"Topic5\", \"Topic5\", \"Topic5\", \"Topic5\", \"Topic5\", \"Topic5\", \"Topic5\", \"Topic5\", \"Topic5\", \"Topic5\", \"Topic5\", \"Topic5\", \"Topic5\", \"Topic5\", \"Topic5\", \"Topic5\", \"Topic5\", \"Topic5\", \"Topic5\", \"Topic5\", \"Topic5\", \"Topic5\", \"Topic5\", \"Topic5\", \"Topic5\", \"Topic5\", \"Topic5\", \"Topic5\", \"Topic5\", \"Topic6\", \"Topic6\", \"Topic6\", \"Topic6\", \"Topic6\", \"Topic6\", \"Topic6\", \"Topic6\", \"Topic6\", \"Topic6\", \"Topic6\", \"Topic6\", \"Topic6\", \"Topic6\", \"Topic6\", \"Topic6\", \"Topic6\", \"Topic6\", \"Topic6\", \"Topic6\", \"Topic6\", \"Topic6\", \"Topic6\", \"Topic6\", \"Topic6\", \"Topic6\", \"Topic6\", \"Topic6\", \"Topic6\", \"Topic6\", \"Topic6\", \"Topic6\", \"Topic6\", \"Topic6\", \"Topic6\", \"Topic6\", \"Topic6\", \"Topic6\", \"Topic6\", \"Topic6\", \"Topic6\", \"Topic7\", \"Topic7\", \"Topic7\", \"Topic7\", \"Topic7\", \"Topic7\", \"Topic7\", \"Topic7\", \"Topic7\", \"Topic7\", \"Topic7\", \"Topic7\", \"Topic7\", \"Topic7\", \"Topic7\", \"Topic7\", \"Topic7\", \"Topic7\", \"Topic7\", \"Topic7\", \"Topic7\", \"Topic7\", \"Topic7\", \"Topic7\", \"Topic7\", \"Topic7\", \"Topic7\", \"Topic7\", \"Topic7\", \"Topic7\", \"Topic7\", \"Topic7\", \"Topic7\", \"Topic7\", \"Topic7\", \"Topic7\", \"Topic7\", \"Topic7\", \"Topic7\", \"Topic7\", \"Topic7\", \"Topic8\", \"Topic8\", \"Topic8\", \"Topic8\", \"Topic8\", \"Topic8\", \"Topic8\", \"Topic8\", \"Topic8\", \"Topic8\", \"Topic8\", \"Topic8\", \"Topic8\", \"Topic8\", \"Topic8\", \"Topic8\", \"Topic8\", \"Topic8\", \"Topic8\", \"Topic8\", \"Topic8\", \"Topic8\", \"Topic8\", \"Topic8\", \"Topic8\", \"Topic8\", \"Topic8\", \"Topic8\", \"Topic8\", \"Topic8\", \"Topic8\", \"Topic8\", \"Topic8\", \"Topic8\", \"Topic8\", \"Topic8\", \"Topic9\", \"Topic9\", \"Topic9\", \"Topic9\", \"Topic9\", \"Topic9\", \"Topic9\", \"Topic9\", \"Topic9\", \"Topic9\", \"Topic9\", \"Topic9\", \"Topic9\", \"Topic9\", \"Topic9\", \"Topic9\", \"Topic9\", \"Topic9\", \"Topic9\", \"Topic9\", \"Topic9\", \"Topic9\", \"Topic9\", \"Topic9\", \"Topic9\", \"Topic9\", \"Topic9\", \"Topic9\", \"Topic9\", \"Topic9\", \"Topic9\", \"Topic9\", \"Topic9\", \"Topic9\", \"Topic10\", \"Topic10\", \"Topic10\", \"Topic10\", \"Topic10\", \"Topic10\", \"Topic10\", \"Topic10\", \"Topic10\", \"Topic10\", \"Topic10\", \"Topic10\", \"Topic10\", \"Topic10\", \"Topic10\", \"Topic10\", \"Topic10\", \"Topic10\", \"Topic10\", \"Topic10\", \"Topic10\", \"Topic10\", \"Topic10\", \"Topic10\", \"Topic10\", \"Topic10\", \"Topic10\", \"Topic10\", \"Topic10\", \"Topic10\", \"Topic10\", \"Topic10\", \"Topic10\", \"Topic10\", \"Topic10\", \"Topic10\", \"Topic10\", \"Topic10\", \"Topic10\", \"Topic10\", \"Topic10\", \"Topic10\", \"Topic11\", \"Topic11\", \"Topic11\", \"Topic11\", \"Topic11\", \"Topic11\", \"Topic11\", \"Topic11\", \"Topic11\", \"Topic11\", \"Topic11\", \"Topic11\", \"Topic11\", \"Topic11\", \"Topic11\", \"Topic11\", \"Topic11\", \"Topic11\", \"Topic11\", \"Topic11\", \"Topic11\", \"Topic11\", \"Topic11\", \"Topic11\", \"Topic11\", \"Topic11\", \"Topic11\", \"Topic11\", \"Topic11\", \"Topic11\", \"Topic11\", \"Topic11\", \"Topic11\", \"Topic11\", \"Topic12\", \"Topic12\", \"Topic12\", \"Topic12\", \"Topic12\", \"Topic12\", \"Topic12\", \"Topic12\", \"Topic12\", \"Topic12\", \"Topic12\", \"Topic12\", \"Topic12\", \"Topic12\", \"Topic12\", \"Topic12\", \"Topic12\", \"Topic12\", \"Topic12\", \"Topic12\", \"Topic12\", \"Topic12\", \"Topic12\", \"Topic12\", \"Topic12\", \"Topic12\", \"Topic12\", \"Topic12\", \"Topic12\", \"Topic12\", \"Topic12\", \"Topic12\", \"Topic12\", \"Topic12\", \"Topic13\", \"Topic13\", \"Topic13\", \"Topic13\", \"Topic13\", \"Topic13\", \"Topic13\", \"Topic13\", \"Topic13\", \"Topic13\", \"Topic13\", \"Topic13\", \"Topic13\", \"Topic13\", \"Topic13\", \"Topic13\", \"Topic13\", \"Topic13\", \"Topic13\", \"Topic13\", \"Topic13\", \"Topic13\", \"Topic13\", \"Topic13\", \"Topic13\", \"Topic13\", \"Topic13\", \"Topic13\", \"Topic13\", \"Topic13\"], \"logprob\": [30.0, 29.0, 28.0, 27.0, 26.0, 25.0, 24.0, 23.0, 22.0, 21.0, 20.0, 19.0, 18.0, 17.0, 16.0, 15.0, 14.0, 13.0, 12.0, 11.0, 10.0, 9.0, 8.0, 7.0, 6.0, 5.0, 4.0, 3.0, 2.0, 1.0, -4.5017, -4.764, -5.0555, -5.3432, -5.3805, -5.4595, -5.4913, -5.521, -5.587, -5.5242, -5.6033, -5.3347, -5.6911, -5.619, -5.7918, -5.7942, -5.8004, -5.6408, -5.9172, -5.9265, -5.9555, -5.9646, -5.9887, -6.0052, -6.0119, -5.7843, -6.0246, -6.0379, -5.5996, -6.0601, -5.3953, -5.0693, -5.4214, -3.9055, -5.1213, -4.3441, -4.0397, -4.547, -4.4899, -5.3939, -3.4543, -5.2129, -4.9808, -4.4523, -5.0973, -5.2801, -4.8206, -4.8954, -4.9342, -5.3289, -4.727, -5.2636, -5.2147, -5.3919, -5.328, -5.3287, -4.7702, -5.0896, -5.128, -5.3521, -5.3623, -5.3623, -5.3744, -5.405, -5.4152, -5.4093, -5.4567, -5.4653, -5.4497, -5.4208, -5.5347, -5.5454, -5.5462, -5.5555, -5.5788, -5.5917, -5.6065, -5.7095, -5.7246, -5.736, -5.7462, -5.7668, -5.8022, -5.8071, -5.8564, -5.8638, -5.2256, -5.4788, -5.2934, -4.8107, -4.7827, -4.6948, -5.2678, -4.5974, -5.3817, -4.5209, -4.5898, -5.2223, -4.504, -4.7427, -5.4122, -4.6326, -4.4689, -4.6455, -4.9449, -4.566, -5.0609, -4.5227, -5.0951, -5.2023, -5.2152, -5.2241, -5.0111, -5.1825, -5.3568, -4.4672, -4.4867, -4.5183, -4.4082, -4.6871, -4.7624, -4.7688, -4.8039, -4.8246, -4.8676, -4.93, -4.9549, -5.1003, -5.1231, -5.1529, -5.2332, -4.9062, -5.2643, -5.2414, -5.3803, -5.3917, -5.407, -5.432, -5.4337, -5.4399, -5.496, -5.5121, -4.1161, -5.5945, -5.6147, -5.1294, -4.8938, -4.2083, -5.1029, -4.7833, -3.8027, -5.3187, -4.7527, -3.6635, -4.709, -4.6559, -3.9623, -4.5902, -4.4931, -4.6982, -4.8062, -4.7272, -4.7128, -5.0261, -4.9838, -4.1569, -4.2859, -4.4323, -4.4834, -4.5319, -4.7292, -4.8017, -4.8327, -4.8534, -4.9332, -4.9617, -5.0736, -4.9598, -5.1698, -5.1708, -5.1866, -5.2312, -5.2314, -5.2604, -5.3071, -5.3212, -5.3504, -5.3573, -5.4308, -5.4461, -4.8078, -5.4868, -5.5137, -5.5246, -5.5407, -2.6093, -2.516, -3.7515, -3.7968, -4.4898, -4.2923, -4.1326, -4.7832, -3.6852, -4.969, -4.571, -4.9824, -4.7095, -5.0392, -4.0719, -4.5386, -4.6867, -4.7398, -4.8642, -4.89, -4.9137, -4.9142, -4.9377, -4.9634, -4.1438, -4.9734, -4.9991, -5.0444, -5.0457, -5.0835, -5.1044, -5.1063, -5.1722, -5.187, -5.1872, -5.1883, -5.2089, -5.2107, -5.2221, -5.2296, -5.2505, -5.2624, -5.2668, -5.2745, -3.4604, -5.1158, -4.6525, -4.7761, -4.8257, -5.1478, -4.4273, -4.7692, -4.9983, -4.706, -4.7333, -5.1386, -3.9253, -3.9286, -4.1488, -4.2791, -4.2845, -4.3014, -4.4173, -4.6394, -4.7049, -4.7601, -4.7702, -4.8587, -4.8594, -4.8793, -4.8936, -4.8951, -5.0063, -5.0204, -5.0526, -5.0775, -5.0868, -5.1011, -5.1078, -5.1164, -5.1297, -5.1619, -5.1716, -5.224, -5.2302, -5.2309, -3.4579, -4.2382, -4.5941, -3.8794, -4.5645, -4.4611, -4.9141, -4.5747, -4.8683, -5.0013, -5.0602, -3.946, -4.025, -3.755, -4.3705, -4.4127, -4.4155, -4.5055, -4.5746, -4.4235, -4.6071, -4.6245, -4.6313, -4.6612, -4.668, -4.7277, -4.7721, -4.8128, -4.8934, -4.9259, -4.9435, -4.9742, -4.9949, -5.0448, -5.1713, -5.1865, -5.204, -5.2062, -5.2199, -5.2234, -5.2377, -4.2306, -4.407, -4.9142, -4.7, -4.7951, -4.6055, -4.5179, -4.4978, -4.755, -4.8235, -4.867, -3.3456, -3.8139, -3.8226, -3.9546, -4.0342, -4.2247, -4.3381, -4.3759, -4.3921, -4.461, -4.5573, -4.562, -4.6184, -4.6837, -4.734, -4.749, -4.7679, -4.7886, -4.8825, -4.7454, -4.9444, -4.955, -4.9559, -4.9814, -5.0031, -5.033, -5.0462, -5.0465, -5.0542, -5.0748, -4.596, -4.5182, -4.1628, -4.8487, -4.9758, -4.9936, -3.2241, -3.6233, -3.6572, -3.6807, -3.8193, -3.9809, -4.1112, -4.3484, -4.3568, -4.46, -4.4772, -4.4822, -4.5144, -4.6619, -4.7503, -4.7723, -4.8306, -4.8318, -4.8737, -4.8844, -4.9009, -4.9818, -5.017, -5.0968, -4.9186, -5.1356, -5.2121, -5.299, -5.3042, -5.3063, -4.4828, -5.2069, -5.1319, -5.144, -3.2594, -4.2125, -4.2663, -4.3097, -4.3313, -4.4285, -4.5513, -4.5808, -4.7059, -4.7216, -4.722, -4.7443, -4.7658, -4.768, -4.7758, -4.8287, -4.8671, -4.9712, -4.9758, -5.0842, -5.0842, -5.1178, -5.122, -5.1822, -5.2071, -5.3569, -5.3879, -5.4017, -5.4318, -5.4762, -3.6314, -4.2011, -3.0212, -4.526, -4.419, -4.7404, -4.9611, -4.7867, -5.011, -4.9133, -5.0051, -5.0063, -3.0438, -3.6349, -3.7061, -3.7409, -3.8085, -4.1869, -4.2503, -4.2721, -4.2854, -4.2994, -4.3538, -4.482, -4.4869, -4.5085, -4.566, -4.654, -4.6733, -4.7266, -4.74, -4.7523, -4.7585, -4.7657, -4.803, -4.8751, -4.9557, -4.9874, -5.0031, -5.0106, -5.0887, -5.1439, -3.5786, -4.7552, -4.3683, -4.7698, -3.6933, -3.711, -3.7833, -3.8261, -3.8653, -4.0354, -4.063, -4.2274, -4.4156, -4.4543, -4.5398, -4.6471, -4.7571, -4.7898, -4.9202, -4.963, -4.9662, -4.9709, -4.9917, -5.0059, -5.0653, -5.1774, -5.1861, -5.2, -5.2348, -5.2893, -5.2992, -5.3347, -5.4041, -5.4649, -4.2361, -5.1493, -5.1013, -5.2081, -3.8227, -3.8895, -3.985, -4.0204, -4.1295, -4.2592, -4.3029, -4.3314, -4.4998, -4.5602, -4.6857, -4.7273, -4.7447, -4.813, -4.8303, -4.8337, -4.8432, -4.892, -5.0375, -5.0487, -5.0698, -5.0701, -5.1733, -5.2069, -5.2338, -5.3229, -5.3367, -5.3514, -5.3815, -5.4522], \"loglift\": [30.0, 29.0, 28.0, 27.0, 26.0, 25.0, 24.0, 23.0, 22.0, 21.0, 20.0, 19.0, 18.0, 17.0, 16.0, 15.0, 14.0, 13.0, 12.0, 11.0, 10.0, 9.0, 8.0, 7.0, 6.0, 5.0, 4.0, 3.0, 2.0, 1.0, 1.307, 1.3061, 1.3049, 1.3033, 1.303, 1.3025, 1.3022, 1.302, 1.3015, 1.3014, 1.3014, 1.3013, 1.3005, 1.3003, 1.2996, 1.2996, 1.2995, 1.2994, 1.2983, 1.2982, 1.2978, 1.2977, 1.2974, 1.2972, 1.2971, 1.297, 1.297, 1.2967, 1.2966, 1.2965, 1.2959, 1.2881, 1.2641, 1.1584, 1.2403, 1.1774, 1.1467, 1.1659, 1.1133, 1.2215, 0.911, 1.1522, 1.0009, 0.7411, 1.0016, 0.9954, 0.5422, 0.5895, 0.558, 0.9683, 0.1007, 0.8297, 0.3096, 0.9436, 0.453, -0.385, 1.6013, 1.5994, 1.5992, 1.5974, 1.5973, 1.5973, 1.5972, 1.5969, 1.5968, 1.5965, 1.5964, 1.5963, 1.5961, 1.5959, 1.5956, 1.5955, 1.5955, 1.5954, 1.5951, 1.595, 1.5948, 1.5936, 1.5934, 1.5933, 1.5932, 1.5929, 1.5924, 1.5923, 1.5916, 1.5915, 1.5912, 1.5886, 1.582, 1.5523, 1.5371, 1.5298, 1.5556, 1.4879, 1.5417, 1.3504, 1.3151, 1.4708, 1.2005, 1.2452, 1.5276, 1.1246, 0.8938, 0.8936, 1.075, 0.6274, 1.1321, 0.4211, 1.1738, 1.2733, 1.2408, 1.1837, 0.5132, 0.3098, 0.1281, 2.0261, 2.026, 2.0255, 2.0254, 2.0247, 2.0242, 2.0241, 2.0238, 2.0237, 2.0233, 2.0226, 2.0226, 2.0211, 2.0209, 2.0203, 2.0196, 2.019, 2.0188, 2.0182, 2.0177, 2.0176, 2.0174, 2.017, 2.017, 2.0169, 2.016, 2.0158, 2.0149, 2.0144, 2.0141, 1.9982, 1.9611, 1.7981, 1.9405, 1.8749, 1.141, 1.9361, 1.5252, 0.7018, 1.4891, 1.4368, 0.8654, 1.3269, 1.046, 1.2235, 1.3527, 1.0539, 0.7721, 1.4537, 1.0917, 2.3032, 2.3024, 2.3015, 2.3011, 2.3007, 2.2985, 2.2982, 2.2979, 2.2977, 2.2968, 2.2964, 2.295, 2.2945, 2.2936, 2.2936, 2.2934, 2.2927, 2.2927, 2.2922, 2.2914, 2.2912, 2.2906, 2.2906, 2.2892, 2.2889, 2.2882, 2.2881, 2.2875, 2.2873, 2.2869, 2.2729, 2.15, 2.2134, 2.1993, 2.2025, 2.0908, 2.0156, 1.988, 1.1425, 2.0213, 1.588, 2.0051, 1.3105, 1.4357, 2.6617, 2.6583, 2.6565, 2.6558, 2.6539, 2.6535, 2.6531, 2.6531, 2.6527, 2.6523, 2.6522, 2.6521, 2.6517, 2.6508, 2.6508, 2.6501, 2.6497, 2.6496, 2.6483, 2.648, 2.6479, 2.6479, 2.6475, 2.6474, 2.6472, 2.647, 2.6465, 2.6463, 2.6462, 2.646, 2.6317, 2.6443, 2.4892, 2.476, 2.3952, 2.5716, 1.6661, 1.3297, 1.835, 0.2377, -0.368, 0.9936, 2.7283, 2.7282, 2.7266, 2.7254, 2.7254, 2.7252, 2.724, 2.7213, 2.7204, 2.7196, 2.7195, 2.718, 2.718, 2.7177, 2.7174, 2.7174, 2.7154, 2.7151, 2.7145, 2.7139, 2.7137, 2.7134, 2.7133, 2.7131, 2.7128, 2.7121, 2.7119, 2.7107, 2.7105, 2.7105, 2.6141, 2.6488, 2.651, 2.505, 2.4547, 2.2871, 2.4029, 1.3471, 1.6558, 1.5616, 0.697, 2.9232, 2.9225, 2.9223, 2.9188, 2.9183, 2.9183, 2.9171, 2.916, 2.9157, 2.9155, 2.9152, 2.9151, 2.9146, 2.9145, 2.9135, 2.9127, 2.9119, 2.9103, 2.9096, 2.9092, 2.9085, 2.908, 2.9069, 2.9036, 2.9032, 2.9027, 2.9026, 2.9022, 2.9021, 2.9017, 2.8055, 2.5792, 2.586, 2.2577, 2.3065, 1.9394, 1.6752, 1.1054, 1.701, 1.6521, 1.8429, 3.3632, 3.359, 3.3589, 3.3573, 3.3562, 3.3533, 3.3513, 3.3506, 3.3503, 3.3488, 3.3467, 3.3466, 3.3452, 3.3436, 3.3422, 3.3418, 3.3412, 3.3406, 3.3378, 3.3364, 3.3357, 3.3354, 3.3353, 3.3344, 3.3337, 3.3326, 3.3321, 3.3321, 3.3318, 3.331, 3.2589, 2.5834, 1.9854, 2.7596, 2.2263, 1.9938, 3.8928, 3.8875, 3.8869, 3.8865, 3.884, 3.8806, 3.8775, 3.8706, 3.8703, 3.8668, 3.8661, 3.8659, 3.8647, 3.8587, 3.8546, 3.8536, 3.8506, 3.8506, 3.8484, 3.8478, 3.8469, 3.8423, 3.8401, 3.835, 3.8346, 3.8324, 3.827, 3.8203, 3.8199, 3.8197, 3.6841, 2.9854, 2.0791, 2.0769, 3.8974, 3.8796, 3.878, 3.8767, 3.876, 3.8727, 3.8681, 3.8669, 3.8614, 3.8607, 3.8607, 3.8596, 3.8586, 3.8584, 3.8581, 3.8554, 3.8533, 3.8475, 3.8472, 3.8404, 3.8404, 3.8381, 3.8378, 3.8336, 3.8318, 3.8198, 3.8172, 3.816, 3.8133, 3.8091, 3.5454, 3.3209, 2.6834, 2.9423, 2.6603, 2.9939, 2.9765, 1.9793, 2.7564, 1.6328, 2.3554, 1.7361, 4.0345, 4.026, 4.0246, 4.0239, 4.0225, 4.0122, 4.0101, 4.0094, 4.0087, 4.0084, 4.0064, 4.0012, 4.001, 4.0001, 3.9975, 3.9932, 3.9922, 3.9894, 3.9887, 3.988, 3.9877, 3.9873, 3.9851, 3.9808, 3.9756, 3.9734, 3.9723, 3.9718, 3.9661, 3.9618, 3.5427, 3.8107, 2.6221, 2.7622, 4.4543, 4.4535, 4.4514, 4.45, 4.4486, 4.4419, 4.4407, 4.4328, 4.4223, 4.4198, 4.4142, 4.4064, 4.3976, 4.3948, 4.3828, 4.3785, 4.3782, 4.3777, 4.3756, 4.3741, 4.3677, 4.3545, 4.3535, 4.3517, 4.3473, 4.3401, 4.3387, 4.3338, 4.3238, 4.3144, 4.0913, 4.1069, 2.3819, 3.3019, 4.7654, 4.7621, 4.757, 4.7549, 4.7483, 4.7394, 4.7361, 4.7339, 4.7198, 4.7141, 4.7014, 4.6968, 4.6949, 4.6869, 4.6848, 4.6844, 4.6833, 4.6771, 4.6571, 4.6555, 4.6524, 4.6523, 4.6361, 4.6306, 4.626, 4.6101, 4.6075, 4.6047, 4.5989, 4.5848]}, \"token.table\": {\"Topic\": [5, 2, 3, 5, 1, 2, 3, 4, 6, 4, 7, 2, 7, 10, 6, 1, 9, 2, 12, 12, 1, 2, 3, 4, 5, 6, 10, 2, 9, 6, 2, 12, 1, 3, 6, 3, 2, 7, 11, 11, 13, 1, 2, 3, 4, 9, 5, 5, 12, 5, 11, 12, 13, 6, 8, 10, 1, 1, 2, 10, 8, 2, 11, 1, 2, 3, 4, 5, 6, 2, 11, 11, 3, 4, 1, 6, 5, 1, 7, 4, 4, 10, 7, 4, 5, 12, 1, 3, 4, 8, 13, 7, 2, 5, 6, 2, 7, 3, 6, 9, 1, 3, 11, 2, 7, 7, 7, 5, 6, 8, 1, 2, 3, 2, 3, 8, 6, 12, 12, 2, 7, 1, 3, 5, 6, 8, 9, 4, 6, 3, 6, 11, 13, 8, 6, 9, 3, 2, 3, 7, 4, 11, 5, 1, 5, 10, 7, 2, 13, 1, 6, 9, 1, 2, 5, 6, 2, 3, 4, 8, 1, 5, 10, 3, 5, 3, 6, 1, 10, 5, 1, 6, 10, 9, 11, 7, 9, 9, 13, 7, 5, 2, 4, 4, 3, 5, 12, 10, 12, 7, 7, 13, 8, 4, 9, 10, 10, 13, 9, 9, 12, 2, 9, 1, 2, 1, 6, 3, 8, 1, 2, 3, 5, 6, 6, 3, 8, 2, 11, 4, 1, 1, 2, 7, 3, 8, 3, 4, 1, 2, 7, 12, 1, 2, 5, 6, 11, 2, 3, 4, 5, 8, 9, 3, 2, 5, 11, 1, 2, 5, 13, 2, 1, 2, 9, 11, 1, 2, 10, 10, 3, 1, 4, 8, 2, 12, 3, 7, 1, 7, 1, 2, 4, 8, 1, 4, 1, 2, 3, 10, 8, 6, 10, 1, 6, 7, 1, 1, 11, 9, 1, 2, 3, 5, 6, 2, 7, 6, 5, 5, 6, 1, 2, 3, 9, 2, 9, 13, 8, 12, 6, 3, 8, 9, 7, 9, 12, 4, 2, 11, 6, 1, 2, 4, 6, 7, 10, 1, 2, 4, 5, 8, 9, 10, 10, 11, 1, 4, 6, 4, 5, 7, 10, 6, 6, 7, 5, 1, 6, 2, 13, 1, 2, 3, 4, 5, 7, 8, 9, 4, 8, 2, 2, 10, 11, 13, 5, 9, 11, 10, 8, 2, 1, 1, 2, 5, 2, 8, 7, 8, 10, 2, 7, 1, 2, 10, 11, 8, 10, 9, 1, 2, 4, 5, 8, 1, 2, 10, 1, 5, 3, 8, 13, 4, 6, 7, 10, 9, 6, 3, 9, 6, 12, 3, 9, 4, 11, 12, 2, 3, 3, 1, 2, 3, 4, 11, 3, 4, 4, 8, 5, 8, 13, 3, 1, 1, 2, 3, 4, 6, 13, 7, 1, 4, 2, 6, 7, 1, 3, 4, 6, 2, 3, 5, 4, 3, 5, 6, 8, 1, 5, 7, 1, 2, 3, 1, 1, 2, 6, 12, 8, 7, 13, 8, 9, 9, 11, 2, 1, 2, 3, 4, 8, 6, 3, 4, 7, 13, 4, 1, 2, 3, 4, 2, 13, 2, 3, 2, 6, 2, 5, 10, 2, 7, 3, 5, 4, 4, 8, 11, 11, 4, 1, 2, 4, 4, 8, 3, 5, 5, 10, 5, 10, 3, 4, 10, 11, 5, 11, 6, 7, 4, 6, 6, 2, 8, 13, 2, 4, 13, 1, 2, 10, 8, 1, 4, 3, 10, 3, 7, 12, 12, 2, 7, 8, 10, 8, 12, 3, 10, 13, 5, 1, 2, 7, 10, 6, 10, 12, 11, 11, 13, 1, 2, 3, 4, 5, 6, 3, 2, 8, 1, 2, 3, 6, 7, 6, 10, 7, 2, 1, 2, 7, 12, 4, 4, 5, 12, 7, 5, 7, 3, 6, 11, 9, 1, 11, 2, 8, 8, 2, 5, 7, 8, 7, 5, 13, 12, 13, 10, 12, 7, 7, 8, 7, 13, 10, 2, 10, 4, 1, 1, 2, 5, 9, 6, 12, 12, 4, 2, 3, 4, 6, 5, 1, 2, 12, 13, 10, 1, 2, 11, 2, 10, 12, 13, 12, 8, 1, 2, 7, 1, 3, 1, 2, 3, 5, 6, 7, 1, 2, 4, 5, 7, 8, 7, 9, 1, 3, 1, 12, 4, 12, 5, 6, 2, 3, 1, 4, 1, 2, 3, 4, 5, 7, 13, 1, 2, 1, 3, 4, 11, 11, 2, 7, 10, 4, 9, 2, 1, 5, 12, 5, 2, 5, 10, 13, 8, 5, 7, 5, 9, 11, 13, 1, 11, 11, 12, 3, 1, 2, 3, 4, 5, 6, 10, 2, 1, 2, 3, 1, 9, 2, 7, 10, 7, 1, 5, 4, 3, 5, 7, 9, 1, 2, 7, 9, 1, 2, 4, 7, 10, 1, 2, 3, 4, 5, 6, 7, 2, 8, 11], \"Freq\": [0.981147160464462, 0.9863678822169754, 0.9848608595832539, 0.973346319029933, 0.018667158250719556, 0.009333579125359778, 0.5833486953349861, 0.23333947813399444, 0.15400405556843633, 0.10788282035431601, 0.8846391269053914, 0.38586605867117796, 0.03507873260647072, 0.5612597217035316, 0.9666842915417112, 0.9934884554559438, 0.9885657109915426, 0.9912989719149362, 0.936192922832171, 0.9836457368160403, 0.4244321749103358, 0.10457024599240158, 0.3752226473844998, 0.03998274111474178, 0.02460476376291802, 0.018453572822188513, 0.01230238188145901, 0.9844982225553023, 0.986242420354709, 0.9879634281366408, 0.994703360574061, 0.8257665449222459, 0.3226288080672402, 0.3629574090756452, 0.30918594106443853, 0.9919573855318397, 0.9835796797685762, 0.981132139234416, 0.9490694696432489, 0.9746261735568843, 0.7916143552724586, 0.25274448981775693, 0.11120757551981306, 0.6015318857662616, 0.030329338778130835, 0.9318000353210547, 0.9920951166698008, 0.9751400776407527, 0.8717702304971696, 0.9827031448679492, 0.19871030956398783, 0.6954860834739574, 0.9029259492704496, 0.9873808885598097, 0.9497635074423924, 0.9531484444950938, 0.9888571780846257, 0.1884992801907196, 0.7741934722118841, 0.03366058574834278, 0.9762795580254874, 0.9894165988708004, 0.9489737020941192, 0.1837273745731463, 0.3062122909552438, 0.4100581983226743, 0.0026627155735238594, 0.08786961392628735, 0.009319504507333508, 0.9935465846527709, 0.962107216917141, 0.9732835121928659, 0.9782488158999489, 0.9840097491901328, 0.06649056294911435, 0.9175697686977781, 0.9698187288137521, 0.9939827522667022, 0.9876254689095283, 0.9877611017900985, 0.9834214419949352, 0.9745258987426327, 0.9839169707071345, 0.9834310822098502, 0.985385698247216, 0.95738363100312, 0.004488041728092195, 0.5071487152744181, 0.48470850663395704, 0.9592910265951662, 0.8150863025233515, 0.9592018163995797, 0.19379642265563607, 0.43163748682391667, 0.3699749887062143, 0.989519719052526, 0.9885505054250399, 0.9972235973319246, 0.9771242141885503, 0.994257919556332, 0.9811699042467823, 0.986929328938918, 0.9442189271543572, 0.714579008512622, 0.27720737399196543, 0.9875227029073255, 0.9867535962522543, 0.9833698451267889, 0.9860274662499788, 0.9955265931475951, 0.48718558574328436, 0.22872562710952318, 0.28361977761580875, 0.20420695121092539, 0.7898570754384849, 0.9768921245662694, 0.9726720320890361, 0.8976211634148588, 0.9162481031573458, 0.8881074535554498, 0.10840748259362298, 0.19471507131893923, 0.44607452702156986, 0.1062082207194214, 0.25135945570263063, 0.9698512479992415, 0.933174568269557, 0.9924674094513342, 0.9851574178027531, 0.9922409766512152, 0.9948731449997306, 0.9320323747196414, 0.8354504218979354, 0.9745304801191526, 0.5828688375075984, 0.41143682647595187, 0.9925182232530192, 0.6512366169331342, 0.34565635821835583, 0.005009512437947186, 0.7524079605733773, 0.23706004237243397, 0.9692306375766699, 0.9920440078783569, 0.9886783034455797, 0.9314378459055999, 0.9755476537942799, 0.9935383791558098, 0.9401742899589557, 0.27147876468976345, 0.714417801815167, 0.9337989338346775, 0.11138941069146213, 0.7483976030832612, 0.031328271756973725, 0.10790849160735394, 0.08278876751473181, 0.057952137260312266, 0.7285411541296399, 0.12418315127209771, 0.1558780334661902, 0.8393432571256395, 0.9507004626624707, 0.9898550077392343, 0.9801528233274509, 0.9799703579413136, 0.9921944992242472, 0.9938334555479161, 0.9205935047301035, 0.980269867589075, 0.9922698620256343, 0.9804992685447049, 0.973693967617041, 0.9324032786966001, 0.961001095713506, 0.9755768935939667, 0.9575321913059804, 0.9909929623139017, 0.9595064499206621, 0.975551989955136, 0.9814805557693775, 0.8728273970896014, 0.1148457101433686, 0.9842646114313354, 0.5398743099664826, 0.320550371542599, 0.11809750530516805, 0.9603001813226227, 0.8881494336032234, 0.9818958314661681, 0.9858830976425949, 0.8001640348412736, 0.9732440016680173, 0.9950372712378176, 0.9514959170930181, 0.9302918973620316, 0.9559657288402774, 0.7917948926929099, 0.9505987276753307, 0.9882196264323692, 0.8923506388362235, 0.9738504772430574, 0.01837453730647278, 0.9796267801533822, 0.01641832592435836, 0.9904856597083391, 0.9939611495638239, 0.9897883134421614, 0.9602358025866222, 0.32205650260556035, 0.12386788561752321, 0.3922483044554902, 0.10322323801460268, 0.061933942808761605, 0.9819512697545167, 0.07339897854227026, 0.9052540686879998, 0.9773774422502198, 0.8934978755529388, 0.9796776084083916, 0.9856900654470507, 0.0882290406310214, 0.622246918134572, 0.2832616567627529, 0.9880260924541112, 0.9507872063857569, 0.9695135183710497, 0.0236466711797817, 0.8754087671945678, 0.07354382597027534, 0.04744762965824216, 0.9248491355422994, 0.27804989498221894, 0.362111491139634, 0.01939882988248039, 0.3427126612571536, 0.9379713889641587, 0.16701543153111156, 0.5629038618270796, 0.14845816136098805, 0.10515786429736654, 0.012371513446749003, 0.0061857567233745015, 0.9968669255141348, 0.9877429773626109, 0.7086206225437599, 0.283448249017504, 0.6907148486878775, 0.14992260281597342, 0.15527698148797245, 0.9213316438869034, 0.9901848346766713, 0.9901238610162563, 0.9943238722410234, 0.9560383856744493, 0.9543332780312795, 0.9939758370539421, 0.9465712787142903, 0.04952989249086403, 0.9663442857972449, 0.9872171763578933, 0.9835957739112282, 0.43980562975470044, 0.5354155492665919, 0.6594518327731097, 0.28262221404561844, 0.9757803125485234, 0.9765663023823589, 0.9849427550094795, 0.009380407190566471, 0.5355150162784974, 0.018466035044086115, 0.4185634609992853, 0.02462138005878149, 0.9875009766250012, 0.9946537607001681, 0.9820853143622156, 0.9839573434953329, 0.9900091982877203, 0.9565171723491542, 0.9897101454504796, 0.9935582809197326, 0.9176556026878594, 0.3236335016087815, 0.6391761656773435, 0.03236335016087815, 0.9959998901553981, 0.9900726708161733, 0.9408410850742119, 0.9530067727729705, 0.2290493378270053, 0.24666851765985184, 0.4933370353197037, 0.02114301579941587, 0.007047671933138624, 0.9349837949181689, 0.057834049170196015, 0.9931068197985894, 0.9783940279117013, 0.07435164452434909, 0.92010160098882, 0.06521002426848871, 0.021736674756162904, 0.9129403397588419, 0.9681246797281698, 0.991302275408666, 0.9522202423772104, 0.8675800463012326, 0.9841695161028178, 0.8732089994689942, 0.9919485213817446, 0.9855170019966583, 0.9780153023636081, 0.9569801592540139, 0.9906826685862337, 0.9507924758487999, 0.8299112700264208, 0.9738903382220537, 0.9928008695248984, 0.9665639073531388, 0.9830768191862299, 0.03932956942976576, 0.07260843587033679, 0.8531491214764573, 0.018152108967584197, 0.004033801992796488, 0.012101405978389466, 0.4893870249667643, 0.07865148615537283, 0.19225918837980024, 0.18788966137116841, 0.04806479709495006, 0.004369527008631824, 0.9269806851147684, 0.9557050490243945, 0.9401574618889923, 0.02879798805434776, 0.08227996586956503, 0.884509633097824, 0.9761580901327378, 0.3822957047852831, 0.2327017333475636, 0.3822957047852831, 0.9851375525689896, 0.9698707289655351, 0.9809957084991492, 0.990551212067423, 0.9933161569978597, 0.9849424513395499, 0.9869101806001522, 0.8873695813899586, 0.09416861644289161, 0.49015972148479475, 0.3742598858627743, 0.026560378996713017, 0.007243739726376278, 0.007243739726376278, 0.9810556662402984, 0.9594320885169918, 0.739915190545667, 0.2569149967172455, 0.9930724178420132, 0.776033070103354, 0.20893198041244146, 0.9356358848828126, 0.9059437497473889, 0.06685628082773257, 0.8022753699327908, 0.10028442124159885, 0.9374331580146793, 0.9765601585497998, 0.9882087929599385, 0.9979168894091442, 0.9343047444173246, 0.06045501287406218, 0.9752059881618789, 0.9908809982653484, 0.9500340833181808, 0.988034376709602, 0.9657462225601068, 0.9621153709316911, 0.9923823006629555, 0.9621329607210438, 0.4906551087797689, 0.3941327922985029, 0.11260936922814369, 0.9066218669977496, 0.9516165156083151, 0.9803538745852378, 0.9788963707859806, 0.7311716121033104, 0.10085125684183592, 0.1311066338943867, 0.030255377052550776, 0.005042562842091796, 0.3371136705749483, 0.555246045652856, 0.10576115155292494, 0.033580102139571306, 0.9612304237452286, 0.9907402306350452, 0.9808868798952278, 0.7906746042098582, 0.8030408732534241, 0.016847011326994912, 0.17408578371228076, 0.9526928226232517, 0.9594573429104983, 0.9870119804799206, 0.936100143113493, 0.06300674040186972, 0.2747391889636456, 0.6672237446259963, 0.989797047024858, 0.950421547444528, 0.9899211119889528, 0.9332192968216134, 0.8655940040167833, 0.9210477636112604, 0.06858866324764705, 0.9859504461459004, 0.26462984980112586, 0.058806633289139085, 0.5502620686340871, 0.10081137135280986, 0.02100236903183539, 0.9916724039277065, 0.9791034135593639, 0.745940026266116, 0.24864667542203867, 0.9883908910624063, 0.984178059536581, 0.9213847815959825, 0.9758114510176455, 0.9903887150954657, 0.8602752064739838, 0.009008117345277317, 0.06455817430782078, 0.058552762744302565, 0.007506764454397764, 0.8883246808981391, 0.9703458252331147, 0.08871513515612964, 0.9093301353503288, 0.9913021541441923, 0.9778504786663254, 0.9880920960737921, 0.0062595445771678835, 0.0012519089154335767, 0.9652217737992876, 0.02754199613953869, 0.013092545180957059, 0.9819408885717794, 0.9666837311078819, 0.9888332674314717, 0.01339035730922341, 0.8302021531718514, 0.1472939304014575, 0.9785371551302553, 0.6178380554568284, 0.36565925731118415, 0.012608939907282212, 0.8501142314624628, 0.1069005919803097, 0.04242086983345623, 0.9944067714870957, 0.9573828855184807, 0.022794830607582875, 0.015196553738388583, 0.9692980115096451, 0.9857353998910902, 0.9763692905892009, 0.9241096376373936, 0.9823839710315698, 0.9521320052156235, 0.9673273283174009, 0.9724997457142022, 0.9850673196980361, 0.7330061026163333, 0.10525215832439656, 0.15787823748659485, 0.9026583478310063, 0.09179576418620403, 0.9863919279965871, 0.17955186556647262, 0.29925310927745435, 0.5087302857716725, 0.781868870450246, 0.9746835005722171, 0.4723609985679769, 0.27419979916872805, 0.21659479934336504, 0.036867199888232345, 0.9952818068951813, 0.9009622575565691, 0.08055600990207566, 0.9129681122235241, 0.2333845647402766, 0.7531956407527108, 0.9905558224449903, 0.2980541703435358, 0.6954597308015835, 0.6271647222261857, 0.36969709941754103, 0.008486296707541169, 0.9844104180747755, 0.9842008825659282, 0.9922797155656621, 0.14944606940700136, 0.7970457035040072, 0.9544600468607362, 0.9766560869793672, 0.46356415940783724, 0.48988002871919917, 0.04453454806538174, 0.985194513870807, 0.011455750161288454, 0.992544378517238, 0.9892322638537165, 0.9910868953439922, 0.8842789737508957, 0.9680816255667137, 0.9439640279048244, 0.9916584848375506, 0.9928714879279775, 0.9542996791864987, 0.9003105717249354, 0.9791719679348031, 0.9676398176840648, 0.9818726950043486, 0.9853787753695691, 0.9711888583394658, 0.9779833814632418, 0.9825358501752919, 0.9900447856509392, 0.9519687534073467, 0.9036909808774625, 0.9796667497195773, 0.011132576701358834, 0.9678140785609576, 0.04361062752352198, 0.9507116800127793, 0.9592860683470479, 0.9832933350357209, 0.9890509269750987, 0.9946960875160534, 0.9890622596667678, 0.9465339096214749, 0.9862599450383736, 0.9872785665842894, 0.9369595120991693, 0.9547238965659552, 0.716457070358327, 0.06588110991800708, 0.06588110991800708, 0.1482324973155159, 0.9571444242193324, 0.9154408013212022, 0.9958638346060646, 0.962136029435998, 0.9526538656112947, 0.9766644076397719, 0.2703726671477504, 0.1464518613716981, 0.2929037227433962, 0.2816381949455733, 0.9872655094172099, 0.9860582363574677, 0.8995693119617686, 0.987463792829433, 0.963143123333582, 0.9083434044770409, 0.29874265135268996, 0.002370973423434047, 0.3117830051815772, 0.3117830051815772, 0.034379114639793686, 0.04149203491009583, 0.9870647857319821, 0.9877213975836016, 0.008664222785821067, 0.864790620711341, 0.11779540016333882, 0.0028730585405692395, 0.005746117081138479, 0.005746117081138479, 0.9967609637318671, 0.9615480153381968, 0.9588490527319659, 0.9894330623539205, 0.031145123633924226, 0.6306887535869656, 0.33481007906468546, 0.9003408191960668, 0.9929809938989581, 0.9768970163328443, 0.8974783072084692, 0.08547412449604469, 0.9844868060100815, 0.9845975783879414, 0.9787818108328529, 0.20241858111647687, 0.7928061093728678, 0.9331883188064346, 0.9585255498950208, 0.995944151534312, 0.9612368397826525, 0.9944653364440974, 0.9898294398930721, 0.9819501400864276, 0.924907527425528, 0.014376800944438259, 0.038338135851835355, 0.019169067925917677, 0.988013986569355, 0.9775619842463374, 0.9505125743829568, 0.868123664711547, 0.8620049919165866, 0.9269806851147684, 0.865746284674915, 0.9777008058894079, 0.5298853007789782, 0.46076982676432887, 0.9828323166105799, 0.9104836343840219, 0.9625097992960495, 0.6725054206252562, 0.3138358629584529, 0.9890645376839456, 0.9888690852668198, 0.9936239747797997, 0.06490030560502637, 0.7658236061393111, 0.15576073345206326, 0.9870843558090718, 0.9306878695964435, 0.9232564229571393, 0.9843839764967466, 0.9329984980413859, 0.021084711820144313, 0.042169423640288625, 0.9792530053774194, 0.9856141613647992, 0.9858109512783566, 0.00764194535874695, 0.9345519565629188, 0.7774930295007563, 0.9478757586803941, 0.9138623944796841, 0.0637578414753268, 0.014168409216739288, 0.5855821198886899, 0.3903880799257933, 0.8381953339859912, 0.9112364616207806, 0.7961218786472812, 0.9837973823862373, 0.012080459785790575, 0.6946264376829581, 0.2899310348589738, 0.9878162169581826, 0.9806260381215828, 0.711142581745617, 0.14428979919476287, 0.05668527825508541, 0.005153207114098674, 0.015459621342296021, 0.061838485369184085, 0.5656257061493104, 0.3759445781052818, 0.0017088389913876446, 0.0017088389913876446, 0.04955633075024169, 0.003417677982775289, 0.9953032451765864, 0.96124096767132, 0.8548939159783718, 0.13788611548038257, 0.9907540821272538, 0.9679971052866587, 0.9924935435224461, 0.9492584446842263, 0.9835574463994267, 0.9733152340488779, 0.1404741646019204, 0.8576317417801456, 0.9921425830908951, 0.9766015935188013, 0.3687862642430861, 0.3354765371501622, 0.22127175854585165, 0.0023792662209231362, 0.0333097270929239, 0.03806825953477018, 0.8198657449643316, 0.29879949500789826, 0.6959380643221935, 0.01906638415557485, 0.08389209028452933, 0.8961200553120179, 0.9903409090612636, 0.9794058044269092, 0.6666708706208672, 0.03703727059004818, 0.2934491439057663, 0.9823570785621986, 0.9851981733894469, 0.9907239856386677, 0.9925417142652451, 0.9818352897584267, 0.9670737882523639, 0.9752758991008726, 0.425222217808066, 0.15945833167802476, 0.39864582919506186, 0.8638004706653354, 0.9831811678218804, 0.27457125133564386, 0.7035888315475874, 0.9823464198231467, 0.9804782725729697, 0.9726671843421448, 0.9226944143417077, 0.3876940668971924, 0.6109118629895153, 0.9261368745459712, 0.965847916878775, 0.9850525691468248, 0.06606702019007511, 0.6186275526888851, 0.12612794763559795, 0.01801827823365685, 0.012012185489104567, 0.1291309940078741, 0.030030463722761417, 0.9841593115227996, 0.17844523247351946, 0.6562179516768134, 0.16117633900834014, 0.9907649897363149, 0.941283193738763, 0.1847458843390898, 0.6979288963921171, 0.11290026265166599, 0.9756216244152921, 0.7353875840815746, 0.2620346563968829, 0.9846152412844988, 0.5269197600552914, 0.2313306263657377, 0.06425850732381604, 0.16707211904192168, 0.8212766466871164, 0.015447209655557048, 0.16219570138334902, 0.9616614887010725, 0.03514907620412264, 0.5897233896469465, 0.3671125736875031, 0.003905452911569182, 0.9597532837444526, 0.6711766215039652, 0.0037329066824469694, 0.26428979311724543, 0.008958976037872726, 0.04778120553532121, 0.0014931626729787878, 0.0022397440094681816, 0.6751305627179909, 0.31845781260282585, 0.9838067176727726], \"Term\": [\"abuse\", \"access\", \"according\", \"accused\", \"across\", \"across\", \"across\", \"across\", \"across\", \"action\", \"action\", \"adam\", \"adam\", \"adam\", \"agency\", \"ago\", \"agreement\", \"ahead\", \"air\", \"airport\", \"also\", \"also\", \"also\", \"also\", \"also\", \"also\", \"also\", \"always\", \"amid\", \"announced\", \"another\", \"anti\", \"antrim\", \"antrim\", \"antrim\", \"area\", \"arena\", \"argentina\", \"arm\", \"armagh\", \"army\", \"around\", \"around\", \"around\", \"around\", \"arrangement\", \"arrested\", \"asked\", \"assistance\", \"attack\", \"august\", \"august\", \"australia\", \"author\", \"authority\", \"aviva\", \"award\", \"back\", \"back\", \"back\", \"bad\", \"bank\", \"beginning\", \"belfast\", \"belfast\", \"belfast\", \"belfast\", \"belfast\", \"belfast\", \"benefit\", \"bid\", \"biden\", \"biggest\", \"bill\", \"body\", \"body\", \"bomb\", \"book\", \"boost\", \"border\", \"bos\", \"bradley\", \"brand\", \"brexit\", \"brother\", \"building\", \"business\", \"business\", \"business\", \"buy\", \"buyer\", \"calendar\", \"call\", \"call\", \"call\", \"came\", \"cancer\", \"car\", \"care\", \"case\", \"celebrity\", \"centre\", \"ceremony\", \"champion\", \"champion\", \"championship\", \"charge\", \"charged\", \"check\", \"child\", \"christmas\", \"christmas\", \"christmas\", \"city\", \"city\", \"civil\", \"clear\", \"cliftonville\", \"clinic\", \"club\", \"club\", \"co\", \"co\", \"co\", \"co\", \"coalition\", \"commission\", \"committee\", \"community\", \"company\", \"concern\", \"congress\", \"connor\", \"continue\", \"continued\", \"continued\", \"cost\", \"could\", \"could\", \"could\", \"council\", \"council\", \"councillor\", \"couple\", \"court\", \"craig\", \"crown\", \"cup\", \"curran\", \"currently\", \"currently\", \"dan\", \"day\", \"day\", \"day\", \"day\", \"deal\", \"deal\", \"deal\", \"deal\", \"death\", \"death\", \"debate\", \"december\", \"defence\", \"demand\", \"department\", \"derry\", \"developed\", \"died\", \"different\", \"director\", \"discus\", \"display\", \"district\", \"door\", \"dp\", \"dr\", \"drama\", \"driving\", \"drug\", \"due\", \"due\", \"dup\", \"east\", \"east\", \"east\", \"edinburgh\", \"effect\", \"election\", \"electric\", \"elite\", \"emma\", \"energy\", \"enjoyed\", \"enniskillen\", \"epcr\", \"established\", \"estate\", \"eu\", \"euro\", \"european\", \"european\", \"event\", \"event\", \"every\", \"executive\", \"expected\", \"f\", \"family\", \"family\", \"family\", \"family\", \"family\", \"farm\", \"farmer\", \"farmer\", \"february\", \"fighting\", \"figure\", \"film\", \"final\", \"final\", \"final\", \"financial\", \"fine\", \"firm\", \"firm\", \"first\", \"first\", \"first\", \"fit\", \"five\", \"five\", \"five\", \"five\", \"flight\", \"following\", \"following\", \"following\", \"following\", \"following\", \"following\", \"food\", \"football\", \"force\", \"force\", \"former\", \"former\", \"former\", \"founder\", \"friday\", \"friend\", \"full\", \"fun\", \"funding\", \"future\", \"game\", \"game\", \"gareth\", \"giant\", \"girl\", \"given\", \"given\", \"glentoran\", \"glentoran\", \"global\", \"goal\", \"going\", \"going\", \"good\", \"good\", \"good\", \"good\", \"got\", \"government\", \"great\", \"ground\", \"half\", \"hanna\", \"head\", \"health\", \"heineken\", \"high\", \"high\", \"high\", \"history\", \"hit\", \"hold\", \"hole\", \"home\", \"home\", \"home\", \"home\", \"home\", \"hope\", \"hope\", \"hospital\", \"hotel\", \"hour\", \"hour\", \"house\", \"house\", \"house\", \"housing\", \"however\", \"ian\", \"identified\", \"illness\", \"immediate\", \"include\", \"increase\", \"increasing\", \"individual\", \"injury\", \"instead\", \"intelligence\", \"interest\", \"international\", \"invasion\", \"investment\", \"ireland\", \"ireland\", \"ireland\", \"ireland\", \"ireland\", \"ireland\", \"irish\", \"irish\", \"irish\", \"irish\", \"irish\", \"irish\", \"itunes\", \"james\", \"jeffrey\", \"job\", \"job\", \"job\", \"joe\", \"jonathan\", \"jonathan\", \"jonathan\", \"judge\", \"june\", \"kilcoo\", \"killed\", \"know\", \"known\", \"la\", \"landed\", \"last\", \"last\", \"last\", \"last\", \"last\", \"last\", \"launch\", \"lawyer\", \"leader\", \"leader\", \"league\", \"leave\", \"leave\", \"leg\", \"legacy\", \"legal\", \"legal\", \"legal\", \"leinster\", \"leo\", \"liam\", \"life\", \"like\", \"like\", \"likely\", \"limelight\", \"limit\", \"line\", \"link\", \"listen\", \"little\", \"lived\", \"look\", \"look\", \"look\", \"looked\", \"loss\", \"low\", \"loyalist\", \"made\", \"made\", \"made\", \"made\", \"made\", \"make\", \"make\", \"make\", \"man\", \"man\", \"market\", \"martin\", \"mask\", \"may\", \"may\", \"may\", \"mckendry\", \"mckibbin\", \"medical\", \"member\", \"member\", \"military\", \"military\", \"million\", \"mini\", \"minister\", \"missed\", \"missile\", \"monday\", \"monday\", \"money\", \"month\", \"month\", \"month\", \"month\", \"month\", \"mother\", \"mp\", \"mr\", \"mr\", \"murder\", \"must\", \"native\", \"nearly\", \"never\", \"new\", \"new\", \"new\", \"new\", \"new\", \"newtownards\", \"nh\", \"ni\", \"ni\", \"night\", \"nijobfinder\", \"nine\", \"northern\", \"northern\", \"northern\", \"northern\", \"number\", \"number\", \"offence\", \"office\", \"officer\", \"officer\", \"officer\", \"often\", \"old\", \"old\", \"old\", \"one\", \"one\", \"one\", \"online\", \"open\", \"open\", \"open\", \"operation\", \"opportunity\", \"p\", \"paddy\", \"paid\", \"pair\", \"paisley\", \"parent\", \"park\", \"part\", \"part\", \"part\", \"party\", \"party\", \"patient\", \"pay\", \"pay\", \"pay\", \"paying\", \"payment\", \"people\", \"people\", \"people\", \"people\", \"performance\", \"perhaps\", \"period\", \"period\", \"plan\", \"plan\", \"player\", \"podcast\", \"podcast\", \"point\", \"point\", \"police\", \"police\", \"political\", \"poots\", \"port\", \"port\", \"portadown\", \"post\", \"premium\", \"premium\", \"premium\", \"president\", \"president\", \"price\", \"prison\", \"private\", \"pro\", \"process\", \"prop\", \"property\", \"protocol\", \"province\", \"provincial\", \"psni\", \"putin\", \"queen\", \"race\", \"radio\", \"raise\", \"raised\", \"rate\", \"ready\", \"recall\", \"recent\", \"recent\", \"recently\", \"record\", \"record\", \"refugee\", \"related\", \"released\", \"report\", \"reported\", \"reporter\", \"rest\", \"return\", \"reveal\", \"reveals\", \"right\", \"right\", \"right\", \"right\", \"rising\", \"risk\", \"road\", \"robert\", \"rock\", \"rooney\", \"round\", \"round\", \"round\", \"round\", \"royal\", \"rugby\", \"ruled\", \"russia\", \"russian\", \"sa\", \"said\", \"said\", \"said\", \"said\", \"said\", \"said\", \"sale\", \"saturday\", \"saturday\", \"say\", \"say\", \"say\", \"say\", \"say\", \"school\", \"scotland\", \"screen\", \"search\", \"season\", \"season\", \"season\", \"secret\", \"secretary\", \"sector\", \"security\", \"security\", \"senior\", \"sentence\", \"series\", \"service\", \"service\", \"sharing\", \"shortage\", \"show\", \"showed\", \"side\", \"sign\", \"simon\", \"since\", \"since\", \"since\", \"since\", \"single\", \"sinn\", \"soldier\", \"solitude\", \"solution\", \"soundcloud\", \"source\", \"spain\", \"special\", \"special\", \"spent\", \"sporting\", \"spotify\", \"stadium\", \"stadium\", \"staff\", \"stand\", \"star\", \"state\", \"state\", \"state\", \"statement\", \"station\", \"steal\", \"stephen\", \"still\", \"still\", \"still\", \"store\", \"stormont\", \"street\", \"street\", \"stroke\", \"study\", \"subscribe\", \"support\", \"support\", \"support\", \"sure\", \"sure\", \"survivor\", \"symptom\", \"tank\", \"taoiseach\", \"team\", \"team\", \"team\", \"think\", \"thousand\", \"three\", \"three\", \"three\", \"three\", \"three\", \"three\", \"time\", \"time\", \"time\", \"time\", \"time\", \"time\", \"title\", \"tom\", \"top\", \"top\", \"tour\", \"track\", \"trade\", \"tree\", \"trial\", \"trust\", \"tuesday\", \"tuesday\", \"tv\", \"twitter\", \"two\", \"two\", \"two\", \"two\", \"two\", \"two\", \"typical\", \"u\", \"u\", \"uk\", \"uk\", \"uk\", \"ukraine\", \"ukrainian\", \"ulster\", \"ulster\", \"ulster\", \"union\", \"unionist\", \"united\", \"university\", \"use\", \"used\", \"using\", \"usual\", \"usual\", \"usual\", \"value\", \"varadkar\", \"vehicle\", \"vehicle\", \"video\", \"visitor\", \"volodymyr\", \"wanted\", \"war\", \"war\", \"washington\", \"weapon\", \"wednesday\", \"week\", \"week\", \"week\", \"week\", \"week\", \"week\", \"week\", \"welcome\", \"well\", \"well\", \"well\", \"west\", \"widespread\", \"win\", \"win\", \"win\", \"winner\", \"woman\", \"woman\", \"worker\", \"working\", \"working\", \"working\", \"working\", \"world\", \"world\", \"world\", \"worst\", \"would\", \"would\", \"would\", \"would\", \"wrong\", \"year\", \"year\", \"year\", \"year\", \"year\", \"year\", \"year\", \"young\", \"young\", \"zelensky\"]}, \"R\": 30, \"lambda.step\": 0.01, \"plot.opts\": {\"xlab\": \"PC1\", \"ylab\": \"PC2\"}, \"topic.order\": [11, 3, 13, 1, 8, 10, 6, 5, 4, 9, 12, 2, 7]};\n",
       "\n",
       "function LDAvis_load_lib(url, callback){\n",
       "  var s = document.createElement('script');\n",
       "  s.src = url;\n",
       "  s.async = true;\n",
       "  s.onreadystatechange = s.onload = callback;\n",
       "  s.onerror = function(){console.warn(\"failed to load library \" + url);};\n",
       "  document.getElementsByTagName(\"head\")[0].appendChild(s);\n",
       "}\n",
       "\n",
       "if(typeof(LDAvis) !== \"undefined\"){\n",
       "   // already loaded: just create the visualization\n",
       "   !function(LDAvis){\n",
       "       new LDAvis(\"#\" + \"ldavis_el2821405384459895841878081756\", ldavis_el2821405384459895841878081756_data);\n",
       "   }(LDAvis);\n",
       "}else if(typeof define === \"function\" && define.amd){\n",
       "   // require.js is available: use it to load d3/LDAvis\n",
       "   require.config({paths: {d3: \"https://d3js.org/d3.v5\"}});\n",
       "   require([\"d3\"], function(d3){\n",
       "      window.d3 = d3;\n",
       "      LDAvis_load_lib(\"https://cdn.jsdelivr.net/gh/bmabey/pyLDAvis@3.4.0/pyLDAvis/js/ldavis.v3.0.0.js\", function(){\n",
       "        new LDAvis(\"#\" + \"ldavis_el2821405384459895841878081756\", ldavis_el2821405384459895841878081756_data);\n",
       "      });\n",
       "    });\n",
       "}else{\n",
       "    // require.js not available: dynamically load d3 & LDAvis\n",
       "    LDAvis_load_lib(\"https://d3js.org/d3.v5.js\", function(){\n",
       "         LDAvis_load_lib(\"https://cdn.jsdelivr.net/gh/bmabey/pyLDAvis@3.4.0/pyLDAvis/js/ldavis.v3.0.0.js\", function(){\n",
       "                 new LDAvis(\"#\" + \"ldavis_el2821405384459895841878081756\", ldavis_el2821405384459895841878081756_data);\n",
       "            })\n",
       "         });\n",
       "}\n",
       "</script>"
      ],
      "text/plain": [
       "PreparedData(topic_coordinates=              x         y  topics  cluster       Freq\n",
       "topic                                                \n",
       "10    -0.295676 -0.077806       1        1  26.987539\n",
       "2     -0.233617 -0.202562       2        1  20.064063\n",
       "12    -0.209096  0.139325       3        1  13.111194\n",
       "0     -0.095062  0.271787       4        1   9.939121\n",
       "7     -0.009140 -0.019793       5        1   6.926542\n",
       "9     -0.016133  0.116015       6        1   6.489855\n",
       "5      0.021194 -0.135273       7        1   5.331681\n",
       "4      0.120126  0.025767       8        1   3.437890\n",
       "3      0.148079 -0.011991       9        1   2.016846\n",
       "8      0.104361 -0.085410      10        1   2.006536\n",
       "11     0.148998  0.004133      11        1   1.750904\n",
       "1      0.157571 -0.011236      12        1   1.127043\n",
       "6      0.158395 -0.012956      13        1   0.810786, topic_info=            Term         Freq        Total Category  logprob  loglift\n",
       "75       ireland   991.000000   991.000000  Default  30.0000  30.0000\n",
       "89      northern   798.000000   798.000000  Default  29.0000  29.0000\n",
       "487       ulster   350.000000   350.000000  Default  28.0000  28.0000\n",
       "56          year  1339.000000  1339.000000  Default  27.0000  27.0000\n",
       "755         said   843.000000   843.000000  Default  26.0000  26.0000\n",
       "...          ...          ...          ...      ...      ...      ...\n",
       "795       paying     4.168253     5.115947  Topic13  -5.3229   4.6101\n",
       "2732        mask     4.111288     5.058971  Topic13  -5.3367   4.6075\n",
       "569        elite     4.051278     4.998975  Topic13  -5.3514   4.6047\n",
       "597      typical     3.931133     4.878848  Topic13  -5.3815   4.5989\n",
       "2399  identified     3.662818     4.610526  Topic13  -5.4522   4.5848\n",
       "\n",
       "[573 rows x 6 columns], token_table=      Topic      Freq       Term\n",
       "term                            \n",
       "3154      5  0.981147      abuse\n",
       "853       2  0.986368     access\n",
       "639       3  0.984861  according\n",
       "3155      5  0.973346    accused\n",
       "2         1  0.018667     across\n",
       "...     ...       ...        ...\n",
       "56        6  0.001493       year\n",
       "56        7  0.002240       year\n",
       "806       2  0.675131      young\n",
       "806       8  0.318458      young\n",
       "3224     11  0.983807   zelensky\n",
       "\n",
       "[772 rows x 3 columns], R=30, lambda_step=0.01, plot_opts={'xlab': 'PC1', 'ylab': 'PC2'}, topic_order=[11, 3, 13, 1, 8, 10, 6, 5, 4, 9, 12, 2, 7])"
      ]
     },
     "execution_count": 102,
     "metadata": {},
     "output_type": "execute_result"
    }
   ],
   "source": [
    "pyLDAvis.enable_notebook()\n",
    "pyLDAvis.gensim.prepare(optimal_model, corpus, id2word)"
   ]
  },
  {
   "cell_type": "code",
   "execution_count": 69,
   "metadata": {
    "id": "leJ_g2euXkEp"
   },
   "outputs": [],
   "source": []
  },
  {
   "cell_type": "code",
   "execution_count": 114,
   "metadata": {
    "id": "SLofViJxLxA3"
   },
   "outputs": [],
   "source": [
    "model_corpus =  optimal_model[corpus[0]]"
   ]
  },
  {
   "cell_type": "code",
   "execution_count": null,
   "metadata": {
    "id": "8txQq55ig_Lr"
   },
   "outputs": [],
   "source": []
  },
  {
   "cell_type": "code",
   "execution_count": 104,
   "metadata": {
    "id": "xoN129ByX0Oh"
   },
   "outputs": [],
   "source": [
    "import pyLDAvis.gensim"
   ]
  },
  {
   "cell_type": "code",
   "execution_count": 192,
   "metadata": {
    "id": "ipR4J8TircGP"
   },
   "outputs": [],
   "source": [
    "#appply the model on all documents\n",
    "#topic distribution per topic\n",
    "td = []\n",
    "for i in range(0, len(corpus)):\n",
    "  td.append(optimal_model.get_document_topics(corpus[i]))"
   ]
  },
  {
   "cell_type": "code",
   "execution_count": 202,
   "metadata": {
    "colab": {
     "base_uri": "https://localhost:8080/"
    },
    "id": "R1i7dh6os8FU",
    "outputId": "39c36950-6146-4d57-a4c9-05a769bf8200"
   },
   "outputs": [
    {
     "data": {
      "text/plain": [
       "[(0, 0.070644714),\n",
       " (2, 0.043895364),\n",
       " (3, 0.15391311),\n",
       " (4, 0.021151911),\n",
       " (7, 0.013101622),\n",
       " (8, 0.01711651),\n",
       " (9, 0.010327547),\n",
       " (10, 0.6307997),\n",
       " (12, 0.02445142)]"
      ]
     },
     "execution_count": 202,
     "metadata": {},
     "output_type": "execute_result"
    }
   ],
   "source": [
    "#topic distribution for first topic\n",
    "td[1]"
   ]
  },
  {
   "cell_type": "markdown",
   "metadata": {
    "id": "Lbq-ArPkslMx"
   },
   "source": []
  },
  {
   "cell_type": "code",
   "execution_count": 195,
   "metadata": {
    "colab": {
     "base_uri": "https://localhost:8080/"
    },
    "id": "7INMFQ93LxC9",
    "outputId": "2b055754-de6c-49f1-95e0-856aa9eeefdf"
   },
   "outputs": [
    {
     "data": {
      "text/plain": [
       "1575"
      ]
     },
     "execution_count": 195,
     "metadata": {},
     "output_type": "execute_result"
    }
   ],
   "source": [
    "len(td)"
   ]
  },
  {
   "cell_type": "code",
   "execution_count": null,
   "metadata": {
    "id": "3nNPq_4zsyMh"
   },
   "outputs": [],
   "source": [
    "#for each topic dsitribution per document get the topic with the maximum score"
   ]
  },
  {
   "cell_type": "code",
   "execution_count": 198,
   "metadata": {
    "id": "nbMvvuc4s5oC"
   },
   "outputs": [],
   "source": [
    "#store list of topics documents wise\n",
    "tpl = []\n",
    "\n",
    "#this algo can be changed to add instead of 1 topic to n topics based on theri prevalence in the document\n",
    "for i in range(0, len(td)):\n",
    "\n",
    "  first_elements = [x[0] for x in td[i]]\n",
    "  second_elements = [x[1] for x in td[i]]\n",
    "  #find index corresponding to\n",
    "  max_index = second_elements.index(max(second_elements))\n",
    "  tpl.append( first_elements[max_index] )"
   ]
  },
  {
   "cell_type": "code",
   "execution_count": 203,
   "metadata": {
    "colab": {
     "base_uri": "https://localhost:8080/"
    },
    "id": "7LI0sc7ou6vm",
    "outputId": "36f194f4-07d7-4afe-f6d1-885aeee84abd"
   },
   "outputs": [
    {
     "data": {
      "text/plain": [
       "10"
      ]
     },
     "execution_count": 203,
     "metadata": {},
     "output_type": "execute_result"
    }
   ],
   "source": [
    "tpl[1]"
   ]
  },
  {
   "cell_type": "code",
   "execution_count": 208,
   "metadata": {
    "colab": {
     "base_uri": "https://localhost:8080/"
    },
    "id": "DlRevHiG1_Uf",
    "outputId": "7f2aadfb-2b9d-4acb-8f89-58008f9901aa"
   },
   "outputs": [
    {
     "data": {
      "text/plain": [
       "10    687\n",
       "2     296\n",
       "12    187\n",
       "0     142\n",
       "7     114\n",
       "9      48\n",
       "5      27\n",
       "8      26\n",
       "4      23\n",
       "11     16\n",
       "3       4\n",
       "1       3\n",
       "6       2\n",
       "Name: count, dtype: int64"
      ]
     },
     "execution_count": 208,
     "metadata": {},
     "output_type": "execute_result"
    }
   ],
   "source": [
    "pd.Series(tpl).value_counts()"
   ]
  },
  {
   "cell_type": "code",
   "execution_count": 211,
   "metadata": {
    "colab": {
     "base_uri": "https://localhost:8080/",
     "height": 448
    },
    "id": "tvuBqslm2obo",
    "outputId": "35541a91-8811-4424-d2bb-fd892e4e4b65"
   },
   "outputs": [
    {
     "data": {
      "text/plain": [
       "<Axes: >"
      ]
     },
     "execution_count": 211,
     "metadata": {},
     "output_type": "execute_result"
    },
    {
     "data": {
      "image/png": "[encoded data removed]",
      "text/plain": [
       "<Figure size 640x480 with 1 Axes>"
      ]
     },
     "metadata": {},
     "output_type": "display_data"
    }
   ],
   "source": [
    "#distribution of topics\n",
    "#10 is the most common topic\n",
    "pd.Series(tpl).hist(bins = 13)"
   ]
  },
  {
   "cell_type": "code",
   "execution_count": 212,
   "metadata": {
    "colab": {
     "base_uri": "https://localhost:8080/"
    },
    "id": "6wV_pQHKjuZE",
    "outputId": "dd33aff0-74cc-4fae-8e07-41626e5d465d"
   },
   "outputs": [
    {
     "name": "stdout",
     "output_type": "stream",
     "text": [
      "0 ['ireland', 'northern', 'said', 'ni', 'uk', 'mr', 'government', 'protocol', 'may', 'office']\n",
      "1 ['airport', 'used', 'weapon', 'operation', 'track', 'building', 'air', 'station', 'military', 'risk']\n",
      "2 ['premium', 'ulster', 'back', 'belfast', 'time', 'day', 'club', 'week', 'last', 'since']\n",
      "3 ['case', 'agreement', 'amid', 'dr', 'eu', 'unionist', 'loyalist', 'instead', 'shortage', 'visitor']\n",
      "4 ['child', 'head', 'opportunity', 'martin', 'must', 'mr', 'varadkar', 'continue', 'sign', 'taoiseach']\n",
      "5 ['return', 'title', 'championship', 'action', 'charge', 'win', 'race', 'line', 'series', 'world']\n",
      "6 ['recently', 'wanted', 'soldier', 'founder', 'rock', 'native', 'drama', 'australia', 'solution', 'sporting']\n",
      "7 ['man', 'court', 'police', 'old', 'murder', 'death', 'attack', 'belfast', 'year', 'prison']\n",
      "8 ['ulster', 'rugby', 'podcast', 'adam', 'scotland', 'low', 'province', 'bradley', 'round', 'james']\n",
      "9 ['job', 'service', 'health', 'school', 'department', 'hour', 'hospital', 'announced', 'executive', 'concern']\n",
      "10 ['year', 'new', 'one', 'first', 'time', 'world', 'show', 'say', 'said', 'life']\n",
      "11 ['ukraine', 'war', 'russia', 'parent', 'zelensky', 'ukrainian', 'invasion', 'funding', 'armagh', 'arm']\n",
      "12 ['year', 'belfast', 'said', 'number', 'city', 'company', 'food', 'car', 'last', 'road']\n"
     ]
    }
   ],
   "source": [
    "#need to get the words realted to each topic. lets create a dictionary for it\n",
    "#topic word dictionary\n",
    "tw_d = {}\n",
    "\n",
    "for i in range(0,13):\n",
    "  ttt = i\n",
    "\n",
    "  #take only top 10 words\n",
    "  wt = optimal_model.get_topic_terms(i, topn=10)\n",
    "\n",
    "  #convert from word index to actal word\n",
    "  rwt = []\n",
    "  # Iterate over each element in model_corpus\n",
    "  for element in wt:\n",
    "      # Extract the second element of each tuple and append it to the new list\n",
    "      new_element = element[0]\n",
    "      rwt.append(new_element)\n",
    "\n",
    "  wl = []\n",
    "  for i in range(0, len(rwt)):\n",
    "    wl.append(vocabulary.get(rwt[i]))\n",
    "\n",
    "  tw_d[ttt] = wl\n",
    "  print(ttt, wl)\n"
   ]
  },
  {
   "cell_type": "code",
   "execution_count": 184,
   "metadata": {
    "colab": {
     "base_uri": "https://localhost:8080/",
     "height": 293
    },
    "id": "wxrJAoZvvZxp",
    "outputId": "c6557841-d276-4594-c749-4a67a1e0a0cf"
   },
   "outputs": [
    {
     "data": {
      "application/vnd.google.colaboratory.intrinsic+json": {
       "summary": "{\n  \"name\": \"df\",\n  \"rows\": 1575,\n  \"fields\": [\n    {\n      \"column\": \"title\",\n      \"properties\": {\n        \"dtype\": \"string\",\n        \"num_unique_values\": 1574,\n        \"samples\": [\n          \"Aisling Bea praises \\u2018heart and patience\\u2019 of food bank volunteers\",\n          \"Man accused of directing New IRA activities fails in bid to be released from custody\",\n          \"Strictly Come Dancing finalists join show\\u2019s UK arena tour\"\n        ],\n        \"semantic_type\": \"\",\n        \"description\": \"\"\n      }\n    },\n    {\n      \"column\": \"Content\",\n      \"properties\": {\n        \"dtype\": \"string\",\n        \"num_unique_values\": 1575,\n        \"samples\": [\n          \"Technology retailer Currys has sunk to a loss and downgraded its full-year profit expectations, as shoppers opt for cheaper items and hunt for deals amid cost pressures. Shares in the company were down more than 7% on Thursday after it said it has had a tough time over the past six months, having suffered significant disruption in its stores across the Nordic countries. Low demand left competitors with excess stock, leading rival stores to slash prices while Currys kept its prices the same, meaning it made virtually no money across the region. As a result, Currys saw its profits plunge by \\u00a362 \",\n          \"A painting by a noted Scottish artist, actor and writer will go on sale with an array of items to raise money for charity. The Angelo Pensivo (1992) by John Byrne will be among hundreds of artworks available to buy at St Andrew's and St George's West Church in George Street, Edinburgh, from 10am on Tuesday. More than 3,000 books will also be available, including signed first editions, antiquarian and collectable books, art books, as well as books of general interest by Scottish authors and about Scotland. This year's sale looks like being one of the best we have ever heldJames Holloway, the sa\",\n          \"Odeon owner AMC Entertainment has revealed it was in talks to buy cinemas from lenders for troubled rival Cineworld before backing out. Shares in Cineworld slipped lower on Wednesday afternoon after the collapsed talks were confirmed in regulatory filings. Cineworld, the world's second largest cinema chain, filed for bankruptcy protection in the US in September after being hit hard by weaker-than-expected summer audience numbers. A definitive agreement with the lenders has not been reached regarding the terms of any proposal to be presented to the debtors in the Cineworld cases, and at this ti\"\n        ],\n        \"semantic_type\": \"\",\n        \"description\": \"\"\n      }\n    },\n    {\n      \"column\": \"append_topic\",\n      \"properties\": {\n        \"dtype\": \"number\",\n        \"std\": null,\n        \"min\": null,\n        \"max\": null,\n        \"num_unique_values\": 0,\n        \"samples\": [],\n        \"semantic_type\": \"\",\n        \"description\": \"\"\n      }\n    },\n    {\n      \"column\": \"topic_keyword\",\n      \"properties\": {\n        \"dtype\": \"number\",\n        \"std\": null,\n        \"min\": null,\n        \"max\": null,\n        \"num_unique_values\": 0,\n        \"samples\": [],\n        \"semantic_type\": \"\",\n        \"description\": \"\"\n      }\n    },\n    {\n      \"column\": \"t_content\",\n      \"properties\": {\n        \"dtype\": \"string\",\n        \"num_unique_values\": 1574,\n        \"samples\": [],\n        \"semantic_type\": \"\",\n        \"description\": \"\"\n      }\n    }\n  ]\n}",
       "type": "dataframe",
       "variable_name": "df"
      },
      "text/html": [
       "\n",
       "  <div id=\"df-83a3c19c-e1f8-4bc8-9f26-3a7a959149d5\" class=\"colab-df-container\">\n",
       "    <div>\n",
       "<style scoped>\n",
       "    .dataframe tbody tr th:only-of-type {\n",
       "        vertical-align: middle;\n",
       "    }\n",
       "\n",
       "    .dataframe tbody tr th {\n",
       "        vertical-align: top;\n",
       "    }\n",
       "\n",
       "    .dataframe thead th {\n",
       "        text-align: right;\n",
       "    }\n",
       "</style>\n",
       "<table border=\"1\" class=\"dataframe\">\n",
       "  <thead>\n",
       "    <tr style=\"text-align: right;\">\n",
       "      <th></th>\n",
       "      <th>title</th>\n",
       "      <th>Content</th>\n",
       "      <th>append_topic</th>\n",
       "      <th>topic_keyword</th>\n",
       "      <th>t_content</th>\n",
       "    </tr>\n",
       "  </thead>\n",
       "  <tbody>\n",
       "    <tr>\n",
       "      <th>0</th>\n",
       "      <td>Hilltop Lisburn property with spa complex and ...</td>\n",
       "      <td>It's the kind of property that you'd see in a ...</td>\n",
       "      <td>NaN</td>\n",
       "      <td>NaN</td>\n",
       "      <td>hilltop lisburn property spa complex annexed a...</td>\n",
       "    </tr>\n",
       "    <tr>\n",
       "      <th>1</th>\n",
       "      <td>‘Life in the tough cul de sacs of Bangor’: NI ...</td>\n",
       "      <td>Northern Ireland writer Colin Bateman has reve...</td>\n",
       "      <td>NaN</td>\n",
       "      <td>NaN</td>\n",
       "      <td>life tough cul de sac bangor ni writer colin b...</td>\n",
       "    </tr>\n",
       "    <tr>\n",
       "      <th>2</th>\n",
       "      <td>Diarmuid Gavin: How to prepare your garden for...</td>\n",
       "      <td>Premium Clear dead leaves, fill planting gaps ...</td>\n",
       "      <td>NaN</td>\n",
       "      <td>NaN</td>\n",
       "      <td>diarmuid gavin prepare garden winter premium c...</td>\n",
       "    </tr>\n",
       "    <tr>\n",
       "      <th>3</th>\n",
       "      <td>Period property in exclusive Co Down residenti...</td>\n",
       "      <td>Nestled in what has long been regarded as one ...</td>\n",
       "      <td>NaN</td>\n",
       "      <td>NaN</td>\n",
       "      <td>period property exclusive co residential area ...</td>\n",
       "    </tr>\n",
       "    <tr>\n",
       "      <th>4</th>\n",
       "      <td>How to Bury a Dead Mule: ‘WW2 gave my grandfat...</td>\n",
       "      <td>Bangor actor Richard Clements on bringing his ...</td>\n",
       "      <td>NaN</td>\n",
       "      <td>NaN</td>\n",
       "      <td>bury dead mule ww gave grandfather ptsd want k...</td>\n",
       "    </tr>\n",
       "  </tbody>\n",
       "</table>\n",
       "</div>\n",
       "    <div class=\"colab-df-buttons\">\n",
       "\n",
       "  <div class=\"colab-df-container\">\n",
       "    <button class=\"colab-df-convert\" onclick=\"convertToInteractive('df-83a3c19c-e1f8-4bc8-9f26-3a7a959149d5')\"\n",
       "            title=\"Convert this dataframe to an interactive table.\"\n",
       "            style=\"display:none;\">\n",
       "\n",
       "  <svg xmlns=\"http://www.w3.org/2000/svg\" height=\"24px\" viewBox=\"0 -960 960 960\">\n",
       "    <path d=\"M120-120v-720h720v720H120Zm60-500h600v-160H180v160Zm220 220h160v-160H400v160Zm0 220h160v-160H400v160ZM180-400h160v-160H180v160Zm440 0h160v-160H620v160ZM180-180h160v-160H180v160Zm440 0h160v-160H620v160Z\"/>\n",
       "  </svg>\n",
       "    </button>\n",
       "\n",
       "  <style>\n",
       "    .colab-df-container {\n",
       "      display:flex;\n",
       "      gap: 12px;\n",
       "    }\n",
       "\n",
       "    .colab-df-convert {\n",
       "      background-color: #E8F0FE;\n",
       "      border: none;\n",
       "      border-radius: 50%;\n",
       "      cursor: pointer;\n",
       "      display: none;\n",
       "      fill: #1967D2;\n",
       "      height: 32px;\n",
       "      padding: 0 0 0 0;\n",
       "      width: 32px;\n",
       "    }\n",
       "\n",
       "    .colab-df-convert:hover {\n",
       "      background-color: #E2EBFA;\n",
       "      box-shadow: 0px 1px 2px rgba(60, 64, 67, 0.3), 0px 1px 3px 1px rgba(60, 64, 67, 0.15);\n",
       "      fill: #174EA6;\n",
       "    }\n",
       "\n",
       "    .colab-df-buttons div {\n",
       "      margin-bottom: 4px;\n",
       "    }\n",
       "\n",
       "    [theme=dark] .colab-df-convert {\n",
       "      background-color: #3B4455;\n",
       "      fill: #D2E3FC;\n",
       "    }\n",
       "\n",
       "    [theme=dark] .colab-df-convert:hover {\n",
       "      background-color: #434B5C;\n",
       "      box-shadow: 0px 1px 3px 1px rgba(0, 0, 0, 0.15);\n",
       "      filter: drop-shadow(0px 1px 2px rgba(0, 0, 0, 0.3));\n",
       "      fill: #FFFFFF;\n",
       "    }\n",
       "  </style>\n",
       "\n",
       "    <script>\n",
       "      const buttonEl =\n",
       "        document.querySelector('#df-83a3c19c-e1f8-4bc8-9f26-3a7a959149d5 button.colab-df-convert');\n",
       "      buttonEl.style.display =\n",
       "        google.colab.kernel.accessAllowed ? 'block' : 'none';\n",
       "\n",
       "      async function convertToInteractive(key) {\n",
       "        const element = document.querySelector('#df-83a3c19c-e1f8-4bc8-9f26-3a7a959149d5');\n",
       "        const dataTable =\n",
       "          await google.colab.kernel.invokeFunction('convertToInteractive',\n",
       "                                                    [key], {});\n",
       "        if (!dataTable) return;\n",
       "\n",
       "        const docLinkHtml = 'Like what you see? Visit the ' +\n",
       "          '<a target=\"_blank\" href=https://colab.research.google.com/notebooks/data_table.ipynb>data table notebook</a>'\n",
       "          + ' to learn more about interactive tables.';\n",
       "        element.innerHTML = '';\n",
       "        dataTable['output_type'] = 'display_data';\n",
       "        await google.colab.output.renderOutput(dataTable, element);\n",
       "        const docLink = document.createElement('div');\n",
       "        docLink.innerHTML = docLinkHtml;\n",
       "        element.appendChild(docLink);\n",
       "      }\n",
       "    </script>\n",
       "  </div>\n",
       "\n",
       "\n",
       "<div id=\"df-00b64aee-e1a2-452e-b03a-5a9c8f691b18\">\n",
       "  <button class=\"colab-df-quickchart\" onclick=\"quickchart('df-00b64aee-e1a2-452e-b03a-5a9c8f691b18')\"\n",
       "            title=\"Suggest charts\"\n",
       "            style=\"display:none;\">\n",
       "\n",
       "<svg xmlns=\"http://www.w3.org/2000/svg\" height=\"24px\"viewBox=\"0 0 24 24\"\n",
       "     width=\"24px\">\n",
       "    <g>\n",
       "        <path d=\"M19 3H5c-1.1 0-2 .9-2 2v14c0 1.1.9 2 2 2h14c1.1 0 2-.9 2-2V5c0-1.1-.9-2-2-2zM9 17H7v-7h2v7zm4 0h-2V7h2v10zm4 0h-2v-4h2v4z\"/>\n",
       "    </g>\n",
       "</svg>\n",
       "  </button>\n",
       "\n",
       "<style>\n",
       "  .colab-df-quickchart {\n",
       "      --bg-color: #E8F0FE;\n",
       "      --fill-color: #1967D2;\n",
       "      --hover-bg-color: #E2EBFA;\n",
       "      --hover-fill-color: #174EA6;\n",
       "      --disabled-fill-color: #AAA;\n",
       "      --disabled-bg-color: #DDD;\n",
       "  }\n",
       "\n",
       "  [theme=dark] .colab-df-quickchart {\n",
       "      --bg-color: #3B4455;\n",
       "      --fill-color: #D2E3FC;\n",
       "      --hover-bg-color: #434B5C;\n",
       "      --hover-fill-color: #FFFFFF;\n",
       "      --disabled-bg-color: #3B4455;\n",
       "      --disabled-fill-color: #666;\n",
       "  }\n",
       "\n",
       "  .colab-df-quickchart {\n",
       "    background-color: var(--bg-color);\n",
       "    border: none;\n",
       "    border-radius: 50%;\n",
       "    cursor: pointer;\n",
       "    display: none;\n",
       "    fill: var(--fill-color);\n",
       "    height: 32px;\n",
       "    padding: 0;\n",
       "    width: 32px;\n",
       "  }\n",
       "\n",
       "  .colab-df-quickchart:hover {\n",
       "    background-color: var(--hover-bg-color);\n",
       "    box-shadow: 0 1px 2px rgba(60, 64, 67, 0.3), 0 1px 3px 1px rgba(60, 64, 67, 0.15);\n",
       "    fill: var(--button-hover-fill-color);\n",
       "  }\n",
       "\n",
       "  .colab-df-quickchart-complete:disabled,\n",
       "  .colab-df-quickchart-complete:disabled:hover {\n",
       "    background-color: var(--disabled-bg-color);\n",
       "    fill: var(--disabled-fill-color);\n",
       "    box-shadow: none;\n",
       "  }\n",
       "\n",
       "  .colab-df-spinner {\n",
       "    border: 2px solid var(--fill-color);\n",
       "    border-color: transparent;\n",
       "    border-bottom-color: var(--fill-color);\n",
       "    animation:\n",
       "      spin 1s steps(1) infinite;\n",
       "  }\n",
       "\n",
       "  @keyframes spin {\n",
       "    0% {\n",
       "      border-color: transparent;\n",
       "      border-bottom-color: var(--fill-color);\n",
       "      border-left-color: var(--fill-color);\n",
       "    }\n",
       "    20% {\n",
       "      border-color: transparent;\n",
       "      border-left-color: var(--fill-color);\n",
       "      border-top-color: var(--fill-color);\n",
       "    }\n",
       "    30% {\n",
       "      border-color: transparent;\n",
       "      border-left-color: var(--fill-color);\n",
       "      border-top-color: var(--fill-color);\n",
       "      border-right-color: var(--fill-color);\n",
       "    }\n",
       "    40% {\n",
       "      border-color: transparent;\n",
       "      border-right-color: var(--fill-color);\n",
       "      border-top-color: var(--fill-color);\n",
       "    }\n",
       "    60% {\n",
       "      border-color: transparent;\n",
       "      border-right-color: var(--fill-color);\n",
       "    }\n",
       "    80% {\n",
       "      border-color: transparent;\n",
       "      border-right-color: var(--fill-color);\n",
       "      border-bottom-color: var(--fill-color);\n",
       "    }\n",
       "    90% {\n",
       "      border-color: transparent;\n",
       "      border-bottom-color: var(--fill-color);\n",
       "    }\n",
       "  }\n",
       "</style>\n",
       "\n",
       "  <script>\n",
       "    async function quickchart(key) {\n",
       "      const quickchartButtonEl =\n",
       "        document.querySelector('#' + key + ' button');\n",
       "      quickchartButtonEl.disabled = true;  // To prevent multiple clicks.\n",
       "      quickchartButtonEl.classList.add('colab-df-spinner');\n",
       "      try {\n",
       "        const charts = await google.colab.kernel.invokeFunction(\n",
       "            'suggestCharts', [key], {});\n",
       "      } catch (error) {\n",
       "        console.error('Error during call to suggestCharts:', error);\n",
       "      }\n",
       "      quickchartButtonEl.classList.remove('colab-df-spinner');\n",
       "      quickchartButtonEl.classList.add('colab-df-quickchart-complete');\n",
       "    }\n",
       "    (() => {\n",
       "      let quickchartButtonEl =\n",
       "        document.querySelector('#df-00b64aee-e1a2-452e-b03a-5a9c8f691b18 button');\n",
       "      quickchartButtonEl.style.display =\n",
       "        google.colab.kernel.accessAllowed ? 'block' : 'none';\n",
       "    })();\n",
       "  </script>\n",
       "</div>\n",
       "\n",
       "    </div>\n",
       "  </div>\n"
      ],
      "text/plain": [
       "                                               title  \\\n",
       "0  Hilltop Lisburn property with spa complex and ...   \n",
       "1  ‘Life in the tough cul de sacs of Bangor’: NI ...   \n",
       "2  Diarmuid Gavin: How to prepare your garden for...   \n",
       "3  Period property in exclusive Co Down residenti...   \n",
       "4  How to Bury a Dead Mule: ‘WW2 gave my grandfat...   \n",
       "\n",
       "                                             Content  append_topic  \\\n",
       "0  It's the kind of property that you'd see in a ...           NaN   \n",
       "1  Northern Ireland writer Colin Bateman has reve...           NaN   \n",
       "2  Premium Clear dead leaves, fill planting gaps ...           NaN   \n",
       "3  Nestled in what has long been regarded as one ...           NaN   \n",
       "4  Bangor actor Richard Clements on bringing his ...           NaN   \n",
       "\n",
       "   topic_keyword                                          t_content  \n",
       "0            NaN  hilltop lisburn property spa complex annexed a...  \n",
       "1            NaN  life tough cul de sac bangor ni writer colin b...  \n",
       "2            NaN  diarmuid gavin prepare garden winter premium c...  \n",
       "3            NaN  period property exclusive co residential area ...  \n",
       "4            NaN  bury dead mule ww gave grandfather ptsd want k...  "
      ]
     },
     "execution_count": 184,
     "metadata": {},
     "output_type": "execute_result"
    }
   ],
   "source": [
    "df.head(5)"
   ]
  },
  {
   "cell_type": "code",
   "execution_count": 213,
   "metadata": {
    "id": "nPN7V0NavZz7"
   },
   "outputs": [],
   "source": [
    "df[\"append_topic\"] = tpl"
   ]
  },
  {
   "cell_type": "code",
   "execution_count": 214,
   "metadata": {
    "colab": {
     "base_uri": "https://localhost:8080/",
     "height": 293
    },
    "id": "lUcLjwd0vZ2F",
    "outputId": "ec775440-1a31-4836-ecfa-3dd98a5ea82b"
   },
   "outputs": [
    {
     "data": {
      "application/vnd.google.colaboratory.intrinsic+json": {
       "summary": "{\n  \"name\": \"df\",\n  \"rows\": 1575,\n  \"fields\": [\n    {\n      \"column\": \"title\",\n      \"properties\": {\n        \"dtype\": \"string\",\n        \"num_unique_values\": 1574,\n        \"samples\": [\n          \"Aisling Bea praises \\u2018heart and patience\\u2019 of food bank volunteers\",\n          \"Man accused of directing New IRA activities fails in bid to be released from custody\",\n          \"Strictly Come Dancing finalists join show\\u2019s UK arena tour\"\n        ],\n        \"semantic_type\": \"\",\n        \"description\": \"\"\n      }\n    },\n    {\n      \"column\": \"Content\",\n      \"properties\": {\n        \"dtype\": \"string\",\n        \"num_unique_values\": 1575,\n        \"samples\": [\n          \"Technology retailer Currys has sunk to a loss and downgraded its full-year profit expectations, as shoppers opt for cheaper items and hunt for deals amid cost pressures. Shares in the company were down more than 7% on Thursday after it said it has had a tough time over the past six months, having suffered significant disruption in its stores across the Nordic countries. Low demand left competitors with excess stock, leading rival stores to slash prices while Currys kept its prices the same, meaning it made virtually no money across the region. As a result, Currys saw its profits plunge by \\u00a362 \",\n          \"A painting by a noted Scottish artist, actor and writer will go on sale with an array of items to raise money for charity. The Angelo Pensivo (1992) by John Byrne will be among hundreds of artworks available to buy at St Andrew's and St George's West Church in George Street, Edinburgh, from 10am on Tuesday. More than 3,000 books will also be available, including signed first editions, antiquarian and collectable books, art books, as well as books of general interest by Scottish authors and about Scotland. This year's sale looks like being one of the best we have ever heldJames Holloway, the sa\",\n          \"Odeon owner AMC Entertainment has revealed it was in talks to buy cinemas from lenders for troubled rival Cineworld before backing out. Shares in Cineworld slipped lower on Wednesday afternoon after the collapsed talks were confirmed in regulatory filings. Cineworld, the world's second largest cinema chain, filed for bankruptcy protection in the US in September after being hit hard by weaker-than-expected summer audience numbers. A definitive agreement with the lenders has not been reached regarding the terms of any proposal to be presented to the debtors in the Cineworld cases, and at this ti\"\n        ],\n        \"semantic_type\": \"\",\n        \"description\": \"\"\n      }\n    },\n    {\n      \"column\": \"append_topic\",\n      \"properties\": {\n        \"dtype\": \"number\",\n        \"std\": 4,\n        \"min\": 0,\n        \"max\": 12,\n        \"num_unique_values\": 13,\n        \"samples\": [\n          0,\n          5,\n          12\n        ],\n        \"semantic_type\": \"\",\n        \"description\": \"\"\n      }\n    },\n    {\n      \"column\": \"topic_keyword\",\n      \"properties\": {\n        \"dtype\": \"number\",\n        \"std\": null,\n        \"min\": null,\n        \"max\": null,\n        \"num_unique_values\": 0,\n        \"samples\": [],\n        \"semantic_type\": \"\",\n        \"description\": \"\"\n      }\n    },\n    {\n      \"column\": \"t_content\",\n      \"properties\": {\n        \"dtype\": \"string\",\n        \"num_unique_values\": 1574,\n        \"samples\": [],\n        \"semantic_type\": \"\",\n        \"description\": \"\"\n      }\n    }\n  ]\n}",
       "type": "dataframe",
       "variable_name": "df"
      },
      "text/html": [
       "\n",
       "  <div id=\"df-d17c283e-9177-4bcf-bb48-fafcfda91a6b\" class=\"colab-df-container\">\n",
       "    <div>\n",
       "<style scoped>\n",
       "    .dataframe tbody tr th:only-of-type {\n",
       "        vertical-align: middle;\n",
       "    }\n",
       "\n",
       "    .dataframe tbody tr th {\n",
       "        vertical-align: top;\n",
       "    }\n",
       "\n",
       "    .dataframe thead th {\n",
       "        text-align: right;\n",
       "    }\n",
       "</style>\n",
       "<table border=\"1\" class=\"dataframe\">\n",
       "  <thead>\n",
       "    <tr style=\"text-align: right;\">\n",
       "      <th></th>\n",
       "      <th>title</th>\n",
       "      <th>Content</th>\n",
       "      <th>append_topic</th>\n",
       "      <th>topic_keyword</th>\n",
       "      <th>t_content</th>\n",
       "    </tr>\n",
       "  </thead>\n",
       "  <tbody>\n",
       "    <tr>\n",
       "      <th>0</th>\n",
       "      <td>Hilltop Lisburn property with spa complex and ...</td>\n",
       "      <td>It's the kind of property that you'd see in a ...</td>\n",
       "      <td>12</td>\n",
       "      <td>NaN</td>\n",
       "      <td>hilltop lisburn property spa complex annexed a...</td>\n",
       "    </tr>\n",
       "    <tr>\n",
       "      <th>1</th>\n",
       "      <td>‘Life in the tough cul de sacs of Bangor’: NI ...</td>\n",
       "      <td>Northern Ireland writer Colin Bateman has reve...</td>\n",
       "      <td>10</td>\n",
       "      <td>NaN</td>\n",
       "      <td>life tough cul de sac bangor ni writer colin b...</td>\n",
       "    </tr>\n",
       "    <tr>\n",
       "      <th>2</th>\n",
       "      <td>Diarmuid Gavin: How to prepare your garden for...</td>\n",
       "      <td>Premium Clear dead leaves, fill planting gaps ...</td>\n",
       "      <td>9</td>\n",
       "      <td>NaN</td>\n",
       "      <td>diarmuid gavin prepare garden winter premium c...</td>\n",
       "    </tr>\n",
       "    <tr>\n",
       "      <th>3</th>\n",
       "      <td>Period property in exclusive Co Down residenti...</td>\n",
       "      <td>Nestled in what has long been regarded as one ...</td>\n",
       "      <td>12</td>\n",
       "      <td>NaN</td>\n",
       "      <td>period property exclusive co residential area ...</td>\n",
       "    </tr>\n",
       "    <tr>\n",
       "      <th>4</th>\n",
       "      <td>How to Bury a Dead Mule: ‘WW2 gave my grandfat...</td>\n",
       "      <td>Bangor actor Richard Clements on bringing his ...</td>\n",
       "      <td>10</td>\n",
       "      <td>NaN</td>\n",
       "      <td>bury dead mule ww gave grandfather ptsd want k...</td>\n",
       "    </tr>\n",
       "  </tbody>\n",
       "</table>\n",
       "</div>\n",
       "    <div class=\"colab-df-buttons\">\n",
       "\n",
       "  <div class=\"colab-df-container\">\n",
       "    <button class=\"colab-df-convert\" onclick=\"convertToInteractive('df-d17c283e-9177-4bcf-bb48-fafcfda91a6b')\"\n",
       "            title=\"Convert this dataframe to an interactive table.\"\n",
       "            style=\"display:none;\">\n",
       "\n",
       "  <svg xmlns=\"http://www.w3.org/2000/svg\" height=\"24px\" viewBox=\"0 -960 960 960\">\n",
       "    <path d=\"M120-120v-720h720v720H120Zm60-500h600v-160H180v160Zm220 220h160v-160H400v160Zm0 220h160v-160H400v160ZM180-400h160v-160H180v160Zm440 0h160v-160H620v160ZM180-180h160v-160H180v160Zm440 0h160v-160H620v160Z\"/>\n",
       "  </svg>\n",
       "    </button>\n",
       "\n",
       "  <style>\n",
       "    .colab-df-container {\n",
       "      display:flex;\n",
       "      gap: 12px;\n",
       "    }\n",
       "\n",
       "    .colab-df-convert {\n",
       "      background-color: #E8F0FE;\n",
       "      border: none;\n",
       "      border-radius: 50%;\n",
       "      cursor: pointer;\n",
       "      display: none;\n",
       "      fill: #1967D2;\n",
       "      height: 32px;\n",
       "      padding: 0 0 0 0;\n",
       "      width: 32px;\n",
       "    }\n",
       "\n",
       "    .colab-df-convert:hover {\n",
       "      background-color: #E2EBFA;\n",
       "      box-shadow: 0px 1px 2px rgba(60, 64, 67, 0.3), 0px 1px 3px 1px rgba(60, 64, 67, 0.15);\n",
       "      fill: #174EA6;\n",
       "    }\n",
       "\n",
       "    .colab-df-buttons div {\n",
       "      margin-bottom: 4px;\n",
       "    }\n",
       "\n",
       "    [theme=dark] .colab-df-convert {\n",
       "      background-color: #3B4455;\n",
       "      fill: #D2E3FC;\n",
       "    }\n",
       "\n",
       "    [theme=dark] .colab-df-convert:hover {\n",
       "      background-color: #434B5C;\n",
       "      box-shadow: 0px 1px 3px 1px rgba(0, 0, 0, 0.15);\n",
       "      filter: drop-shadow(0px 1px 2px rgba(0, 0, 0, 0.3));\n",
       "      fill: #FFFFFF;\n",
       "    }\n",
       "  </style>\n",
       "\n",
       "    <script>\n",
       "      const buttonEl =\n",
       "        document.querySelector('#df-d17c283e-9177-4bcf-bb48-fafcfda91a6b button.colab-df-convert');\n",
       "      buttonEl.style.display =\n",
       "        google.colab.kernel.accessAllowed ? 'block' : 'none';\n",
       "\n",
       "      async function convertToInteractive(key) {\n",
       "        const element = document.querySelector('#df-d17c283e-9177-4bcf-bb48-fafcfda91a6b');\n",
       "        const dataTable =\n",
       "          await google.colab.kernel.invokeFunction('convertToInteractive',\n",
       "                                                    [key], {});\n",
       "        if (!dataTable) return;\n",
       "\n",
       "        const docLinkHtml = 'Like what you see? Visit the ' +\n",
       "          '<a target=\"_blank\" href=https://colab.research.google.com/notebooks/data_table.ipynb>data table notebook</a>'\n",
       "          + ' to learn more about interactive tables.';\n",
       "        element.innerHTML = '';\n",
       "        dataTable['output_type'] = 'display_data';\n",
       "        await google.colab.output.renderOutput(dataTable, element);\n",
       "        const docLink = document.createElement('div');\n",
       "        docLink.innerHTML = docLinkHtml;\n",
       "        element.appendChild(docLink);\n",
       "      }\n",
       "    </script>\n",
       "  </div>\n",
       "\n",
       "\n",
       "<div id=\"df-78f42110-796d-46c9-b503-da15c0561a9f\">\n",
       "  <button class=\"colab-df-quickchart\" onclick=\"quickchart('df-78f42110-796d-46c9-b503-da15c0561a9f')\"\n",
       "            title=\"Suggest charts\"\n",
       "            style=\"display:none;\">\n",
       "\n",
       "<svg xmlns=\"http://www.w3.org/2000/svg\" height=\"24px\"viewBox=\"0 0 24 24\"\n",
       "     width=\"24px\">\n",
       "    <g>\n",
       "        <path d=\"M19 3H5c-1.1 0-2 .9-2 2v14c0 1.1.9 2 2 2h14c1.1 0 2-.9 2-2V5c0-1.1-.9-2-2-2zM9 17H7v-7h2v7zm4 0h-2V7h2v10zm4 0h-2v-4h2v4z\"/>\n",
       "    </g>\n",
       "</svg>\n",
       "  </button>\n",
       "\n",
       "<style>\n",
       "  .colab-df-quickchart {\n",
       "      --bg-color: #E8F0FE;\n",
       "      --fill-color: #1967D2;\n",
       "      --hover-bg-color: #E2EBFA;\n",
       "      --hover-fill-color: #174EA6;\n",
       "      --disabled-fill-color: #AAA;\n",
       "      --disabled-bg-color: #DDD;\n",
       "  }\n",
       "\n",
       "  [theme=dark] .colab-df-quickchart {\n",
       "      --bg-color: #3B4455;\n",
       "      --fill-color: #D2E3FC;\n",
       "      --hover-bg-color: #434B5C;\n",
       "      --hover-fill-color: #FFFFFF;\n",
       "      --disabled-bg-color: #3B4455;\n",
       "      --disabled-fill-color: #666;\n",
       "  }\n",
       "\n",
       "  .colab-df-quickchart {\n",
       "    background-color: var(--bg-color);\n",
       "    border: none;\n",
       "    border-radius: 50%;\n",
       "    cursor: pointer;\n",
       "    display: none;\n",
       "    fill: var(--fill-color);\n",
       "    height: 32px;\n",
       "    padding: 0;\n",
       "    width: 32px;\n",
       "  }\n",
       "\n",
       "  .colab-df-quickchart:hover {\n",
       "    background-color: var(--hover-bg-color);\n",
       "    box-shadow: 0 1px 2px rgba(60, 64, 67, 0.3), 0 1px 3px 1px rgba(60, 64, 67, 0.15);\n",
       "    fill: var(--button-hover-fill-color);\n",
       "  }\n",
       "\n",
       "  .colab-df-quickchart-complete:disabled,\n",
       "  .colab-df-quickchart-complete:disabled:hover {\n",
       "    background-color: var(--disabled-bg-color);\n",
       "    fill: var(--disabled-fill-color);\n",
       "    box-shadow: none;\n",
       "  }\n",
       "\n",
       "  .colab-df-spinner {\n",
       "    border: 2px solid var(--fill-color);\n",
       "    border-color: transparent;\n",
       "    border-bottom-color: var(--fill-color);\n",
       "    animation:\n",
       "      spin 1s steps(1) infinite;\n",
       "  }\n",
       "\n",
       "  @keyframes spin {\n",
       "    0% {\n",
       "      border-color: transparent;\n",
       "      border-bottom-color: var(--fill-color);\n",
       "      border-left-color: var(--fill-color);\n",
       "    }\n",
       "    20% {\n",
       "      border-color: transparent;\n",
       "      border-left-color: var(--fill-color);\n",
       "      border-top-color: var(--fill-color);\n",
       "    }\n",
       "    30% {\n",
       "      border-color: transparent;\n",
       "      border-left-color: var(--fill-color);\n",
       "      border-top-color: var(--fill-color);\n",
       "      border-right-color: var(--fill-color);\n",
       "    }\n",
       "    40% {\n",
       "      border-color: transparent;\n",
       "      border-right-color: var(--fill-color);\n",
       "      border-top-color: var(--fill-color);\n",
       "    }\n",
       "    60% {\n",
       "      border-color: transparent;\n",
       "      border-right-color: var(--fill-color);\n",
       "    }\n",
       "    80% {\n",
       "      border-color: transparent;\n",
       "      border-right-color: var(--fill-color);\n",
       "      border-bottom-color: var(--fill-color);\n",
       "    }\n",
       "    90% {\n",
       "      border-color: transparent;\n",
       "      border-bottom-color: var(--fill-color);\n",
       "    }\n",
       "  }\n",
       "</style>\n",
       "\n",
       "  <script>\n",
       "    async function quickchart(key) {\n",
       "      const quickchartButtonEl =\n",
       "        document.querySelector('#' + key + ' button');\n",
       "      quickchartButtonEl.disabled = true;  // To prevent multiple clicks.\n",
       "      quickchartButtonEl.classList.add('colab-df-spinner');\n",
       "      try {\n",
       "        const charts = await google.colab.kernel.invokeFunction(\n",
       "            'suggestCharts', [key], {});\n",
       "      } catch (error) {\n",
       "        console.error('Error during call to suggestCharts:', error);\n",
       "      }\n",
       "      quickchartButtonEl.classList.remove('colab-df-spinner');\n",
       "      quickchartButtonEl.classList.add('colab-df-quickchart-complete');\n",
       "    }\n",
       "    (() => {\n",
       "      let quickchartButtonEl =\n",
       "        document.querySelector('#df-78f42110-796d-46c9-b503-da15c0561a9f button');\n",
       "      quickchartButtonEl.style.display =\n",
       "        google.colab.kernel.accessAllowed ? 'block' : 'none';\n",
       "    })();\n",
       "  </script>\n",
       "</div>\n",
       "\n",
       "    </div>\n",
       "  </div>\n"
      ],
      "text/plain": [
       "                                               title  \\\n",
       "0  Hilltop Lisburn property with spa complex and ...   \n",
       "1  ‘Life in the tough cul de sacs of Bangor’: NI ...   \n",
       "2  Diarmuid Gavin: How to prepare your garden for...   \n",
       "3  Period property in exclusive Co Down residenti...   \n",
       "4  How to Bury a Dead Mule: ‘WW2 gave my grandfat...   \n",
       "\n",
       "                                             Content  append_topic  \\\n",
       "0  It's the kind of property that you'd see in a ...            12   \n",
       "1  Northern Ireland writer Colin Bateman has reve...            10   \n",
       "2  Premium Clear dead leaves, fill planting gaps ...             9   \n",
       "3  Nestled in what has long been regarded as one ...            12   \n",
       "4  Bangor actor Richard Clements on bringing his ...            10   \n",
       "\n",
       "   topic_keyword                                          t_content  \n",
       "0            NaN  hilltop lisburn property spa complex annexed a...  \n",
       "1            NaN  life tough cul de sac bangor ni writer colin b...  \n",
       "2            NaN  diarmuid gavin prepare garden winter premium c...  \n",
       "3            NaN  period property exclusive co residential area ...  \n",
       "4            NaN  bury dead mule ww gave grandfather ptsd want k...  "
      ]
     },
     "execution_count": 214,
     "metadata": {},
     "output_type": "execute_result"
    }
   ],
   "source": [
    "df.head(5)"
   ]
  },
  {
   "cell_type": "code",
   "execution_count": 224,
   "metadata": {
    "id": "dV-TyEnZLxFB"
   },
   "outputs": [],
   "source": [
    "for i in range(0, len(df)):\n",
    "\n",
    "  df[\"topic_keyword\"][i] = tw_d[ df[\"append_topic\"][i] ]"
   ]
  },
  {
   "cell_type": "code",
   "execution_count": 225,
   "metadata": {
    "colab": {
     "base_uri": "https://localhost:8080/",
     "height": 363
    },
    "id": "479fCOkBlrRF",
    "outputId": "d5b67aa8-7808-4e9a-9a4c-83e0a9524472"
   },
   "outputs": [
    {
     "data": {
      "application/vnd.google.colaboratory.intrinsic+json": {
       "summary": "{\n  \"name\": \"df\",\n  \"rows\": 1575,\n  \"fields\": [\n    {\n      \"column\": \"title\",\n      \"properties\": {\n        \"dtype\": \"string\",\n        \"num_unique_values\": 1574,\n        \"samples\": [\n          \"Aisling Bea praises \\u2018heart and patience\\u2019 of food bank volunteers\",\n          \"Man accused of directing New IRA activities fails in bid to be released from custody\",\n          \"Strictly Come Dancing finalists join show\\u2019s UK arena tour\"\n        ],\n        \"semantic_type\": \"\",\n        \"description\": \"\"\n      }\n    },\n    {\n      \"column\": \"Content\",\n      \"properties\": {\n        \"dtype\": \"string\",\n        \"num_unique_values\": 1575,\n        \"samples\": [\n          \"Technology retailer Currys has sunk to a loss and downgraded its full-year profit expectations, as shoppers opt for cheaper items and hunt for deals amid cost pressures. Shares in the company were down more than 7% on Thursday after it said it has had a tough time over the past six months, having suffered significant disruption in its stores across the Nordic countries. Low demand left competitors with excess stock, leading rival stores to slash prices while Currys kept its prices the same, meaning it made virtually no money across the region. As a result, Currys saw its profits plunge by \\u00a362 \",\n          \"A painting by a noted Scottish artist, actor and writer will go on sale with an array of items to raise money for charity. The Angelo Pensivo (1992) by John Byrne will be among hundreds of artworks available to buy at St Andrew's and St George's West Church in George Street, Edinburgh, from 10am on Tuesday. More than 3,000 books will also be available, including signed first editions, antiquarian and collectable books, art books, as well as books of general interest by Scottish authors and about Scotland. This year's sale looks like being one of the best we have ever heldJames Holloway, the sa\",\n          \"Odeon owner AMC Entertainment has revealed it was in talks to buy cinemas from lenders for troubled rival Cineworld before backing out. Shares in Cineworld slipped lower on Wednesday afternoon after the collapsed talks were confirmed in regulatory filings. Cineworld, the world's second largest cinema chain, filed for bankruptcy protection in the US in September after being hit hard by weaker-than-expected summer audience numbers. A definitive agreement with the lenders has not been reached regarding the terms of any proposal to be presented to the debtors in the Cineworld cases, and at this ti\"\n        ],\n        \"semantic_type\": \"\",\n        \"description\": \"\"\n      }\n    },\n    {\n      \"column\": \"append_topic\",\n      \"properties\": {\n        \"dtype\": \"number\",\n        \"std\": 4,\n        \"min\": 0,\n        \"max\": 12,\n        \"num_unique_values\": 13,\n        \"samples\": [\n          0,\n          5,\n          12\n        ],\n        \"semantic_type\": \"\",\n        \"description\": \"\"\n      }\n    },\n    {\n      \"column\": \"topic_keyword\",\n      \"properties\": {\n        \"dtype\": \"object\",\n        \"semantic_type\": \"\",\n        \"description\": \"\"\n      }\n    },\n    {\n      \"column\": \"t_content\",\n      \"properties\": {\n        \"dtype\": \"string\",\n        \"num_unique_values\": 1574,\n        \"samples\": [\n          \"channel christmas message ai generated delivered robot channel alternative christmas message year generated entirely artificial intelligence broadcaster announced message delivered ameca one world advanced robot broadcast run king annual christmas message pm see robot speak high low address ameca also respond question human due say human kind neither happy sad past year take learning opportunity chance change way think th\",\n          \"kevin sinfield joined steve cram second leg ultra challenge kevin sinfield accompanied former world champion athlete steve cram day two ultra challenge aid motor neurone disease cram held world record metre mile teamed sinfield closing stage second leg melrose scottish border otterburn castle northumberland sinfield set latest fundraising challenge murrayfield edinburgh sunday bidding run around mile seven consecutive day raise five mnd charity former leeds rhino captain si\",\n          \"odeon owner amc pull talk buy cineworld cinema odeon owner amc entertainment revealed talk buy cinema lender troubled rival cineworld backing share cineworld slipped lower wednesday afternoon collapsed talk confirmed regulatory filing cineworld world second largest cinema chain filed bankruptcy protection u september hit hard weaker expected summer audience number definitive agreement lender reached regarding term proposal presented debtor cineworld case ti\"\n        ],\n        \"semantic_type\": \"\",\n        \"description\": \"\"\n      }\n    }\n  ]\n}",
       "type": "dataframe",
       "variable_name": "df"
      },
      "text/html": [
       "\n",
       "  <div id=\"df-c70d616c-5315-4cae-99e2-f4a9ce9f1a4d\" class=\"colab-df-container\">\n",
       "    <div>\n",
       "<style scoped>\n",
       "    .dataframe tbody tr th:only-of-type {\n",
       "        vertical-align: middle;\n",
       "    }\n",
       "\n",
       "    .dataframe tbody tr th {\n",
       "        vertical-align: top;\n",
       "    }\n",
       "\n",
       "    .dataframe thead th {\n",
       "        text-align: right;\n",
       "    }\n",
       "</style>\n",
       "<table border=\"1\" class=\"dataframe\">\n",
       "  <thead>\n",
       "    <tr style=\"text-align: right;\">\n",
       "      <th></th>\n",
       "      <th>title</th>\n",
       "      <th>Content</th>\n",
       "      <th>append_topic</th>\n",
       "      <th>topic_keyword</th>\n",
       "      <th>t_content</th>\n",
       "    </tr>\n",
       "  </thead>\n",
       "  <tbody>\n",
       "    <tr>\n",
       "      <th>0</th>\n",
       "      <td>Hilltop Lisburn property with spa complex and ...</td>\n",
       "      <td>It's the kind of property that you'd see in a ...</td>\n",
       "      <td>12</td>\n",
       "      <td>[year, belfast, said, number, city, company, f...</td>\n",
       "      <td>hilltop lisburn property spa complex annexed a...</td>\n",
       "    </tr>\n",
       "    <tr>\n",
       "      <th>1</th>\n",
       "      <td>‘Life in the tough cul de sacs of Bangor’: NI ...</td>\n",
       "      <td>Northern Ireland writer Colin Bateman has reve...</td>\n",
       "      <td>10</td>\n",
       "      <td>[year, new, one, first, time, world, show, say...</td>\n",
       "      <td>life tough cul de sac bangor ni writer colin b...</td>\n",
       "    </tr>\n",
       "    <tr>\n",
       "      <th>2</th>\n",
       "      <td>Diarmuid Gavin: How to prepare your garden for...</td>\n",
       "      <td>Premium Clear dead leaves, fill planting gaps ...</td>\n",
       "      <td>9</td>\n",
       "      <td>[job, service, health, school, department, hou...</td>\n",
       "      <td>diarmuid gavin prepare garden winter premium c...</td>\n",
       "    </tr>\n",
       "    <tr>\n",
       "      <th>3</th>\n",
       "      <td>Period property in exclusive Co Down residenti...</td>\n",
       "      <td>Nestled in what has long been regarded as one ...</td>\n",
       "      <td>12</td>\n",
       "      <td>[year, belfast, said, number, city, company, f...</td>\n",
       "      <td>period property exclusive co residential area ...</td>\n",
       "    </tr>\n",
       "    <tr>\n",
       "      <th>4</th>\n",
       "      <td>How to Bury a Dead Mule: ‘WW2 gave my grandfat...</td>\n",
       "      <td>Bangor actor Richard Clements on bringing his ...</td>\n",
       "      <td>10</td>\n",
       "      <td>[year, new, one, first, time, world, show, say...</td>\n",
       "      <td>bury dead mule ww gave grandfather ptsd want k...</td>\n",
       "    </tr>\n",
       "  </tbody>\n",
       "</table>\n",
       "</div>\n",
       "    <div class=\"colab-df-buttons\">\n",
       "\n",
       "  <div class=\"colab-df-container\">\n",
       "    <button class=\"colab-df-convert\" onclick=\"convertToInteractive('df-c70d616c-5315-4cae-99e2-f4a9ce9f1a4d')\"\n",
       "            title=\"Convert this dataframe to an interactive table.\"\n",
       "            style=\"display:none;\">\n",
       "\n",
       "  <svg xmlns=\"http://www.w3.org/2000/svg\" height=\"24px\" viewBox=\"0 -960 960 960\">\n",
       "    <path d=\"M120-120v-720h720v720H120Zm60-500h600v-160H180v160Zm220 220h160v-160H400v160Zm0 220h160v-160H400v160ZM180-400h160v-160H180v160Zm440 0h160v-160H620v160ZM180-180h160v-160H180v160Zm440 0h160v-160H620v160Z\"/>\n",
       "  </svg>\n",
       "    </button>\n",
       "\n",
       "  <style>\n",
       "    .colab-df-container {\n",
       "      display:flex;\n",
       "      gap: 12px;\n",
       "    }\n",
       "\n",
       "    .colab-df-convert {\n",
       "      background-color: #E8F0FE;\n",
       "      border: none;\n",
       "      border-radius: 50%;\n",
       "      cursor: pointer;\n",
       "      display: none;\n",
       "      fill: #1967D2;\n",
       "      height: 32px;\n",
       "      padding: 0 0 0 0;\n",
       "      width: 32px;\n",
       "    }\n",
       "\n",
       "    .colab-df-convert:hover {\n",
       "      background-color: #E2EBFA;\n",
       "      box-shadow: 0px 1px 2px rgba(60, 64, 67, 0.3), 0px 1px 3px 1px rgba(60, 64, 67, 0.15);\n",
       "      fill: #174EA6;\n",
       "    }\n",
       "\n",
       "    .colab-df-buttons div {\n",
       "      margin-bottom: 4px;\n",
       "    }\n",
       "\n",
       "    [theme=dark] .colab-df-convert {\n",
       "      background-color: #3B4455;\n",
       "      fill: #D2E3FC;\n",
       "    }\n",
       "\n",
       "    [theme=dark] .colab-df-convert:hover {\n",
       "      background-color: #434B5C;\n",
       "      box-shadow: 0px 1px 3px 1px rgba(0, 0, 0, 0.15);\n",
       "      filter: drop-shadow(0px 1px 2px rgba(0, 0, 0, 0.3));\n",
       "      fill: #FFFFFF;\n",
       "    }\n",
       "  </style>\n",
       "\n",
       "    <script>\n",
       "      const buttonEl =\n",
       "        document.querySelector('#df-c70d616c-5315-4cae-99e2-f4a9ce9f1a4d button.colab-df-convert');\n",
       "      buttonEl.style.display =\n",
       "        google.colab.kernel.accessAllowed ? 'block' : 'none';\n",
       "\n",
       "      async function convertToInteractive(key) {\n",
       "        const element = document.querySelector('#df-c70d616c-5315-4cae-99e2-f4a9ce9f1a4d');\n",
       "        const dataTable =\n",
       "          await google.colab.kernel.invokeFunction('convertToInteractive',\n",
       "                                                    [key], {});\n",
       "        if (!dataTable) return;\n",
       "\n",
       "        const docLinkHtml = 'Like what you see? Visit the ' +\n",
       "          '<a target=\"_blank\" href=https://colab.research.google.com/notebooks/data_table.ipynb>data table notebook</a>'\n",
       "          + ' to learn more about interactive tables.';\n",
       "        element.innerHTML = '';\n",
       "        dataTable['output_type'] = 'display_data';\n",
       "        await google.colab.output.renderOutput(dataTable, element);\n",
       "        const docLink = document.createElement('div');\n",
       "        docLink.innerHTML = docLinkHtml;\n",
       "        element.appendChild(docLink);\n",
       "      }\n",
       "    </script>\n",
       "  </div>\n",
       "\n",
       "\n",
       "<div id=\"df-90460c56-3780-4edf-8bb2-eb0c8163f248\">\n",
       "  <button class=\"colab-df-quickchart\" onclick=\"quickchart('df-90460c56-3780-4edf-8bb2-eb0c8163f248')\"\n",
       "            title=\"Suggest charts\"\n",
       "            style=\"display:none;\">\n",
       "\n",
       "<svg xmlns=\"http://www.w3.org/2000/svg\" height=\"24px\"viewBox=\"0 0 24 24\"\n",
       "     width=\"24px\">\n",
       "    <g>\n",
       "        <path d=\"M19 3H5c-1.1 0-2 .9-2 2v14c0 1.1.9 2 2 2h14c1.1 0 2-.9 2-2V5c0-1.1-.9-2-2-2zM9 17H7v-7h2v7zm4 0h-2V7h2v10zm4 0h-2v-4h2v4z\"/>\n",
       "    </g>\n",
       "</svg>\n",
       "  </button>\n",
       "\n",
       "<style>\n",
       "  .colab-df-quickchart {\n",
       "      --bg-color: #E8F0FE;\n",
       "      --fill-color: #1967D2;\n",
       "      --hover-bg-color: #E2EBFA;\n",
       "      --hover-fill-color: #174EA6;\n",
       "      --disabled-fill-color: #AAA;\n",
       "      --disabled-bg-color: #DDD;\n",
       "  }\n",
       "\n",
       "  [theme=dark] .colab-df-quickchart {\n",
       "      --bg-color: #3B4455;\n",
       "      --fill-color: #D2E3FC;\n",
       "      --hover-bg-color: #434B5C;\n",
       "      --hover-fill-color: #FFFFFF;\n",
       "      --disabled-bg-color: #3B4455;\n",
       "      --disabled-fill-color: #666;\n",
       "  }\n",
       "\n",
       "  .colab-df-quickchart {\n",
       "    background-color: var(--bg-color);\n",
       "    border: none;\n",
       "    border-radius: 50%;\n",
       "    cursor: pointer;\n",
       "    display: none;\n",
       "    fill: var(--fill-color);\n",
       "    height: 32px;\n",
       "    padding: 0;\n",
       "    width: 32px;\n",
       "  }\n",
       "\n",
       "  .colab-df-quickchart:hover {\n",
       "    background-color: var(--hover-bg-color);\n",
       "    box-shadow: 0 1px 2px rgba(60, 64, 67, 0.3), 0 1px 3px 1px rgba(60, 64, 67, 0.15);\n",
       "    fill: var(--button-hover-fill-color);\n",
       "  }\n",
       "\n",
       "  .colab-df-quickchart-complete:disabled,\n",
       "  .colab-df-quickchart-complete:disabled:hover {\n",
       "    background-color: var(--disabled-bg-color);\n",
       "    fill: var(--disabled-fill-color);\n",
       "    box-shadow: none;\n",
       "  }\n",
       "\n",
       "  .colab-df-spinner {\n",
       "    border: 2px solid var(--fill-color);\n",
       "    border-color: transparent;\n",
       "    border-bottom-color: var(--fill-color);\n",
       "    animation:\n",
       "      spin 1s steps(1) infinite;\n",
       "  }\n",
       "\n",
       "  @keyframes spin {\n",
       "    0% {\n",
       "      border-color: transparent;\n",
       "      border-bottom-color: var(--fill-color);\n",
       "      border-left-color: var(--fill-color);\n",
       "    }\n",
       "    20% {\n",
       "      border-color: transparent;\n",
       "      border-left-color: var(--fill-color);\n",
       "      border-top-color: var(--fill-color);\n",
       "    }\n",
       "    30% {\n",
       "      border-color: transparent;\n",
       "      border-left-color: var(--fill-color);\n",
       "      border-top-color: var(--fill-color);\n",
       "      border-right-color: var(--fill-color);\n",
       "    }\n",
       "    40% {\n",
       "      border-color: transparent;\n",
       "      border-right-color: var(--fill-color);\n",
       "      border-top-color: var(--fill-color);\n",
       "    }\n",
       "    60% {\n",
       "      border-color: transparent;\n",
       "      border-right-color: var(--fill-color);\n",
       "    }\n",
       "    80% {\n",
       "      border-color: transparent;\n",
       "      border-right-color: var(--fill-color);\n",
       "      border-bottom-color: var(--fill-color);\n",
       "    }\n",
       "    90% {\n",
       "      border-color: transparent;\n",
       "      border-bottom-color: var(--fill-color);\n",
       "    }\n",
       "  }\n",
       "</style>\n",
       "\n",
       "  <script>\n",
       "    async function quickchart(key) {\n",
       "      const quickchartButtonEl =\n",
       "        document.querySelector('#' + key + ' button');\n",
       "      quickchartButtonEl.disabled = true;  // To prevent multiple clicks.\n",
       "      quickchartButtonEl.classList.add('colab-df-spinner');\n",
       "      try {\n",
       "        const charts = await google.colab.kernel.invokeFunction(\n",
       "            'suggestCharts', [key], {});\n",
       "      } catch (error) {\n",
       "        console.error('Error during call to suggestCharts:', error);\n",
       "      }\n",
       "      quickchartButtonEl.classList.remove('colab-df-spinner');\n",
       "      quickchartButtonEl.classList.add('colab-df-quickchart-complete');\n",
       "    }\n",
       "    (() => {\n",
       "      let quickchartButtonEl =\n",
       "        document.querySelector('#df-90460c56-3780-4edf-8bb2-eb0c8163f248 button');\n",
       "      quickchartButtonEl.style.display =\n",
       "        google.colab.kernel.accessAllowed ? 'block' : 'none';\n",
       "    })();\n",
       "  </script>\n",
       "</div>\n",
       "\n",
       "    </div>\n",
       "  </div>\n"
      ],
      "text/plain": [
       "                                               title  \\\n",
       "0  Hilltop Lisburn property with spa complex and ...   \n",
       "1  ‘Life in the tough cul de sacs of Bangor’: NI ...   \n",
       "2  Diarmuid Gavin: How to prepare your garden for...   \n",
       "3  Period property in exclusive Co Down residenti...   \n",
       "4  How to Bury a Dead Mule: ‘WW2 gave my grandfat...   \n",
       "\n",
       "                                             Content  append_topic  \\\n",
       "0  It's the kind of property that you'd see in a ...            12   \n",
       "1  Northern Ireland writer Colin Bateman has reve...            10   \n",
       "2  Premium Clear dead leaves, fill planting gaps ...             9   \n",
       "3  Nestled in what has long been regarded as one ...            12   \n",
       "4  Bangor actor Richard Clements on bringing his ...            10   \n",
       "\n",
       "                                       topic_keyword  \\\n",
       "0  [year, belfast, said, number, city, company, f...   \n",
       "1  [year, new, one, first, time, world, show, say...   \n",
       "2  [job, service, health, school, department, hou...   \n",
       "3  [year, belfast, said, number, city, company, f...   \n",
       "4  [year, new, one, first, time, world, show, say...   \n",
       "\n",
       "                                           t_content  \n",
       "0  hilltop lisburn property spa complex annexed a...  \n",
       "1  life tough cul de sac bangor ni writer colin b...  \n",
       "2  diarmuid gavin prepare garden winter premium c...  \n",
       "3  period property exclusive co residential area ...  \n",
       "4  bury dead mule ww gave grandfather ptsd want k...  "
      ]
     },
     "execution_count": 225,
     "metadata": {},
     "output_type": "execute_result"
    }
   ],
   "source": [
    "df.head(5)"
   ]
  },
  {
   "cell_type": "code",
   "execution_count": 142,
   "metadata": {
    "id": "QzOYpNqkpViz"
   },
   "outputs": [],
   "source": [
    "#depending on domain knowledge we can give these topics names"
   ]
  },
  {
   "cell_type": "code",
   "execution_count": 230,
   "metadata": {
    "colab": {
     "base_uri": "https://localhost:8080/"
    },
    "id": "po0jUNteafvR",
    "outputId": "8316c55c-7dbf-4ba7-f0d9-5e82a6db49ae"
   },
   "outputs": [
    {
     "name": "stdout",
     "output_type": "stream",
     "text": [
      "Drive already mounted at drive; to attempt to forcibly remount, call drive.mount(\"drive\", force_remount=True).\n"
     ]
    }
   ],
   "source": [
    "from google.colab import drive\n",
    "drive.mount('drive')"
   ]
  },
  {
   "cell_type": "code",
   "execution_count": 231,
   "metadata": {
    "id": "EVuONUAJLxHG"
   },
   "outputs": [],
   "source": [
    "df.to_excel(\"Result.xlsx\")"
   ]
  },
  {
   "cell_type": "code",
   "execution_count": 147,
   "metadata": {
    "colab": {
     "base_uri": "https://localhost:8080/"
    },
    "id": "3SyYjcLhqo2F",
    "outputId": "9f5bf187-8b77-4694-ae46-60ee62582f4e"
   },
   "outputs": [
    {
     "name": "stdout",
     "output_type": "stream",
     "text": [
      "['year', 'belfast', 'said', 'number', 'city', 'company', 'food', 'car', 'last', 'road']\n"
     ]
    }
   ],
   "source": []
  },
  {
   "cell_type": "code",
   "execution_count": 76,
   "metadata": {
    "id": "rn_z9Vwla6P6"
   },
   "outputs": [],
   "source": []
  },
  {
   "cell_type": "code",
   "execution_count": 147,
   "metadata": {
    "id": "UgP42fMGa6SQ"
   },
   "outputs": [],
   "source": []
  },
  {
   "cell_type": "code",
   "execution_count": null,
   "metadata": {
    "id": "3J-_KwAVa6Ud"
   },
   "outputs": [],
   "source": []
  },
  {
   "cell_type": "code",
   "execution_count": 77,
   "metadata": {
    "id": "Znw8adY_a6Wl"
   },
   "outputs": [],
   "source": []
  }
 ],
 "metadata": {
  "colab": {
   "provenance": []
  },
  "kernelspec": {
   "display_name": "Python 3 (ipykernel)",
   "language": "python",
   "name": "python3"
  },
  "language_info": {
   "codemirror_mode": {
    "name": "ipython",
    "version": 3
   },
   "file_extension": ".py",
   "mimetype": "text/x-python",
   "name": "python",
   "nbconvert_exporter": "python",
   "pygments_lexer": "ipython3",
   "version": "3.11.5"
  }
 },
 "nbformat": 4,
 "nbformat_minor": 4
}
